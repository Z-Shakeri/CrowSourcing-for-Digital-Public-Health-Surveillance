{
 "cells": [
  {
   "cell_type": "code",
   "execution_count": 1022,
   "metadata": {},
   "outputs": [],
   "source": [
    "import os\n",
    "import sys\n",
    "import pandas as pd\n",
    "import numpy as np\n",
    "sys.path.append(os.getcwd() + '/ML')"
   ]
  },
  {
   "cell_type": "code",
   "execution_count": 1023,
   "metadata": {},
   "outputs": [],
   "source": [
    "df= pd.read_csv(r\"./timezone-PA-B.csv\", sep=',')\n",
    "df = df.drop_duplicates(subset=['iid'])\n",
    "dfg= pd.read_csv(r\"./PA-AgeGender-Predicted.csv\", sep=',')\n",
    "dfg = dfg.drop_duplicates(subset=['iid'])\n",
    "dfg['user.id']=dfg['user.id'].astype(\"category\")\n",
    "main= pd.read_csv(r\"./PA-All.csv\", sep=',')\n",
    "main = main.drop_duplicates('iid', keep='first')\n",
    "#main['user.id']=main['user.id'].astype('str')"
   ]
  },
  {
   "cell_type": "code",
   "execution_count": 1024,
   "metadata": {},
   "outputs": [
    {
     "data": {
      "text/plain": [
       "(47079, 31)"
      ]
     },
     "execution_count": 1024,
     "metadata": {},
     "output_type": "execute_result"
    }
   ],
   "source": [
    "main.shape"
   ]
  },
  {
   "cell_type": "code",
   "execution_count": 1025,
   "metadata": {},
   "outputs": [],
   "source": [
    "R1= df[['iid', 'A1', 'A2', 'A3', 'truth', 'text', 'hour', 'weekday', 'month']]\n",
    "R2= main[['iid', 'user.id']]"
   ]
  },
  {
   "cell_type": "code",
   "execution_count": 1026,
   "metadata": {},
   "outputs": [],
   "source": [
    "M=pd.merge(R2, R1, on='iid', how='inner')"
   ]
  },
  {
   "cell_type": "code",
   "execution_count": 1027,
   "metadata": {},
   "outputs": [
    {
     "name": "stdout",
     "output_type": "stream",
     "text": [
      "(3998, 10)\n"
     ]
    },
    {
     "data": {
      "text/html": [
       "<div>\n",
       "<style scoped>\n",
       "    .dataframe tbody tr th:only-of-type {\n",
       "        vertical-align: middle;\n",
       "    }\n",
       "\n",
       "    .dataframe tbody tr th {\n",
       "        vertical-align: top;\n",
       "    }\n",
       "\n",
       "    .dataframe thead th {\n",
       "        text-align: right;\n",
       "    }\n",
       "</style>\n",
       "<table border=\"1\" class=\"dataframe\">\n",
       "  <thead>\n",
       "    <tr style=\"text-align: right;\">\n",
       "      <th></th>\n",
       "      <th>iid</th>\n",
       "      <th>user.id</th>\n",
       "      <th>A1</th>\n",
       "      <th>A2</th>\n",
       "      <th>A3</th>\n",
       "      <th>truth</th>\n",
       "      <th>text</th>\n",
       "      <th>hour</th>\n",
       "      <th>weekday</th>\n",
       "      <th>month</th>\n",
       "    </tr>\n",
       "  </thead>\n",
       "  <tbody>\n",
       "    <tr>\n",
       "      <th>0</th>\n",
       "      <td>5ece812df46b2b34fcc352ac</td>\n",
       "      <td>1.280033e+09</td>\n",
       "      <td>0</td>\n",
       "      <td>0</td>\n",
       "      <td>0</td>\n",
       "      <td>0</td>\n",
       "      <td>@murphdog47 Sad to see hockey hat guy go but y...</td>\n",
       "      <td>22</td>\n",
       "      <td>Sat</td>\n",
       "      <td>02</td>\n",
       "    </tr>\n",
       "    <tr>\n",
       "      <th>1</th>\n",
       "      <td>5ece812ef46b2b34fcc3a0be</td>\n",
       "      <td>2.660984e+08</td>\n",
       "      <td>0</td>\n",
       "      <td>0</td>\n",
       "      <td>0</td>\n",
       "      <td>0</td>\n",
       "      <td>You’re very welcome! Thank you for bringing ho...</td>\n",
       "      <td>22</td>\n",
       "      <td>Sun</td>\n",
       "      <td>02</td>\n",
       "    </tr>\n",
       "    <tr>\n",
       "      <th>2</th>\n",
       "      <td>5ece814af46b2b34fcc9528a</td>\n",
       "      <td>1.255151e+06</td>\n",
       "      <td>0</td>\n",
       "      <td>1</td>\n",
       "      <td>0</td>\n",
       "      <td>0</td>\n",
       "      <td>Random #productivity hacks continued:\\n\\n🎽 On ...</td>\n",
       "      <td>21</td>\n",
       "      <td>Sat</td>\n",
       "      <td>02</td>\n",
       "    </tr>\n",
       "    <tr>\n",
       "      <th>3</th>\n",
       "      <td>5ece815ef46b2b34fccd1ae2</td>\n",
       "      <td>1.038975e+09</td>\n",
       "      <td>0</td>\n",
       "      <td>0</td>\n",
       "      <td>0</td>\n",
       "      <td>0</td>\n",
       "      <td>Now they’ll say a few useless scripted platitu...</td>\n",
       "      <td>22</td>\n",
       "      <td>Sat</td>\n",
       "      <td>02</td>\n",
       "    </tr>\n",
       "    <tr>\n",
       "      <th>4</th>\n",
       "      <td>5ece8169f46b2b34fccf47ef</td>\n",
       "      <td>2.293366e+09</td>\n",
       "      <td>0</td>\n",
       "      <td>0</td>\n",
       "      <td>0</td>\n",
       "      <td>0</td>\n",
       "      <td>A simple exercise you must do everyday to keep...</td>\n",
       "      <td>22</td>\n",
       "      <td>Sat</td>\n",
       "      <td>02</td>\n",
       "    </tr>\n",
       "  </tbody>\n",
       "</table>\n",
       "</div>"
      ],
      "text/plain": [
       "                        iid       user.id  A1  A2  A3  truth  \\\n",
       "0  5ece812df46b2b34fcc352ac  1.280033e+09   0   0   0      0   \n",
       "1  5ece812ef46b2b34fcc3a0be  2.660984e+08   0   0   0      0   \n",
       "2  5ece814af46b2b34fcc9528a  1.255151e+06   0   1   0      0   \n",
       "3  5ece815ef46b2b34fccd1ae2  1.038975e+09   0   0   0      0   \n",
       "4  5ece8169f46b2b34fccf47ef  2.293366e+09   0   0   0      0   \n",
       "\n",
       "                                                text hour weekday month  \n",
       "0  @murphdog47 Sad to see hockey hat guy go but y...   22     Sat    02  \n",
       "1  You’re very welcome! Thank you for bringing ho...   22     Sun    02  \n",
       "2  Random #productivity hacks continued:\\n\\n🎽 On ...   21     Sat    02  \n",
       "3  Now they’ll say a few useless scripted platitu...   22     Sat    02  \n",
       "4  A simple exercise you must do everyday to keep...   22     Sat    02  "
      ]
     },
     "execution_count": 1027,
     "metadata": {},
     "output_type": "execute_result"
    }
   ],
   "source": [
    "print(M.shape)\n",
    "M.head()"
   ]
  },
  {
   "cell_type": "code",
   "execution_count": 1028,
   "metadata": {},
   "outputs": [],
   "source": [
    "del dfg['iid']\n",
    "M2=pd.merge(M, dfg, on='user.id', how='inner')"
   ]
  },
  {
   "cell_type": "code",
   "execution_count": 1029,
   "metadata": {},
   "outputs": [
    {
     "data": {
      "text/html": [
       "<div>\n",
       "<style scoped>\n",
       "    .dataframe tbody tr th:only-of-type {\n",
       "        vertical-align: middle;\n",
       "    }\n",
       "\n",
       "    .dataframe tbody tr th {\n",
       "        vertical-align: top;\n",
       "    }\n",
       "\n",
       "    .dataframe thead th {\n",
       "        text-align: right;\n",
       "    }\n",
       "</style>\n",
       "<table border=\"1\" class=\"dataframe\">\n",
       "  <thead>\n",
       "    <tr style=\"text-align: right;\">\n",
       "      <th></th>\n",
       "      <th>iid</th>\n",
       "      <th>user.id</th>\n",
       "      <th>A1</th>\n",
       "      <th>A2</th>\n",
       "      <th>A3</th>\n",
       "      <th>truth</th>\n",
       "      <th>text</th>\n",
       "      <th>hour</th>\n",
       "      <th>weekday</th>\n",
       "      <th>month</th>\n",
       "      <th>...</th>\n",
       "      <th>30-39</th>\n",
       "      <th>&lt;=18</th>\n",
       "      <th>&gt;=40</th>\n",
       "      <th>female</th>\n",
       "      <th>male</th>\n",
       "      <th>is-org</th>\n",
       "      <th>non-org</th>\n",
       "      <th>age</th>\n",
       "      <th>sex</th>\n",
       "      <th>org</th>\n",
       "    </tr>\n",
       "  </thead>\n",
       "  <tbody>\n",
       "    <tr>\n",
       "      <th>0</th>\n",
       "      <td>5ece812df46b2b34fcc352ac</td>\n",
       "      <td>1.28003e+09</td>\n",
       "      <td>0</td>\n",
       "      <td>0</td>\n",
       "      <td>0</td>\n",
       "      <td>0</td>\n",
       "      <td>@murphdog47 Sad to see hockey hat guy go but y...</td>\n",
       "      <td>22</td>\n",
       "      <td>Sat</td>\n",
       "      <td>02</td>\n",
       "      <td>...</td>\n",
       "      <td>0.5846</td>\n",
       "      <td>0.0242</td>\n",
       "      <td>0.2901</td>\n",
       "      <td>0.0182</td>\n",
       "      <td>0.9818</td>\n",
       "      <td>0.8298</td>\n",
       "      <td>0.1702</td>\n",
       "      <td>30-39</td>\n",
       "      <td>male</td>\n",
       "      <td>is-org</td>\n",
       "    </tr>\n",
       "    <tr>\n",
       "      <th>1</th>\n",
       "      <td>5ece812ef46b2b34fcc3a0be</td>\n",
       "      <td>2.66098e+08</td>\n",
       "      <td>0</td>\n",
       "      <td>0</td>\n",
       "      <td>0</td>\n",
       "      <td>0</td>\n",
       "      <td>You’re very welcome! Thank you for bringing ho...</td>\n",
       "      <td>22</td>\n",
       "      <td>Sun</td>\n",
       "      <td>02</td>\n",
       "      <td>...</td>\n",
       "      <td>0.2499</td>\n",
       "      <td>0.0388</td>\n",
       "      <td>0.0740</td>\n",
       "      <td>0.0011</td>\n",
       "      <td>0.9989</td>\n",
       "      <td>0.0000</td>\n",
       "      <td>1.0000</td>\n",
       "      <td>19-29</td>\n",
       "      <td>male</td>\n",
       "      <td>non-org</td>\n",
       "    </tr>\n",
       "    <tr>\n",
       "      <th>2</th>\n",
       "      <td>5ece814af46b2b34fcc9528a</td>\n",
       "      <td>1.25515e+06</td>\n",
       "      <td>0</td>\n",
       "      <td>1</td>\n",
       "      <td>0</td>\n",
       "      <td>0</td>\n",
       "      <td>Random #productivity hacks continued:\\n\\n🎽 On ...</td>\n",
       "      <td>21</td>\n",
       "      <td>Sat</td>\n",
       "      <td>02</td>\n",
       "      <td>...</td>\n",
       "      <td>0.9023</td>\n",
       "      <td>0.0002</td>\n",
       "      <td>0.0010</td>\n",
       "      <td>0.9998</td>\n",
       "      <td>0.0002</td>\n",
       "      <td>0.0000</td>\n",
       "      <td>1.0000</td>\n",
       "      <td>30-39</td>\n",
       "      <td>female</td>\n",
       "      <td>non-org</td>\n",
       "    </tr>\n",
       "    <tr>\n",
       "      <th>3</th>\n",
       "      <td>5ece815ef46b2b34fccd1ae2</td>\n",
       "      <td>1.03898e+09</td>\n",
       "      <td>0</td>\n",
       "      <td>0</td>\n",
       "      <td>0</td>\n",
       "      <td>0</td>\n",
       "      <td>Now they’ll say a few useless scripted platitu...</td>\n",
       "      <td>22</td>\n",
       "      <td>Sat</td>\n",
       "      <td>02</td>\n",
       "      <td>...</td>\n",
       "      <td>0.0112</td>\n",
       "      <td>0.0073</td>\n",
       "      <td>0.9664</td>\n",
       "      <td>0.0017</td>\n",
       "      <td>0.9983</td>\n",
       "      <td>0.0028</td>\n",
       "      <td>0.9972</td>\n",
       "      <td>&gt;=40</td>\n",
       "      <td>male</td>\n",
       "      <td>non-org</td>\n",
       "    </tr>\n",
       "    <tr>\n",
       "      <th>4</th>\n",
       "      <td>5ece8169f46b2b34fccf47ef</td>\n",
       "      <td>2.29337e+09</td>\n",
       "      <td>0</td>\n",
       "      <td>0</td>\n",
       "      <td>0</td>\n",
       "      <td>0</td>\n",
       "      <td>A simple exercise you must do everyday to keep...</td>\n",
       "      <td>22</td>\n",
       "      <td>Sat</td>\n",
       "      <td>02</td>\n",
       "      <td>...</td>\n",
       "      <td>0.0677</td>\n",
       "      <td>0.0077</td>\n",
       "      <td>0.9071</td>\n",
       "      <td>0.1231</td>\n",
       "      <td>0.8769</td>\n",
       "      <td>0.7731</td>\n",
       "      <td>0.2269</td>\n",
       "      <td>&gt;=40</td>\n",
       "      <td>male</td>\n",
       "      <td>is-org</td>\n",
       "    </tr>\n",
       "  </tbody>\n",
       "</table>\n",
       "<p>5 rows × 26 columns</p>\n",
       "</div>"
      ],
      "text/plain": [
       "                        iid      user.id  A1  A2  A3  truth  \\\n",
       "0  5ece812df46b2b34fcc352ac  1.28003e+09   0   0   0      0   \n",
       "1  5ece812ef46b2b34fcc3a0be  2.66098e+08   0   0   0      0   \n",
       "2  5ece814af46b2b34fcc9528a  1.25515e+06   0   1   0      0   \n",
       "3  5ece815ef46b2b34fccd1ae2  1.03898e+09   0   0   0      0   \n",
       "4  5ece8169f46b2b34fccf47ef  2.29337e+09   0   0   0      0   \n",
       "\n",
       "                                                text hour weekday month  ...  \\\n",
       "0  @murphdog47 Sad to see hockey hat guy go but y...   22     Sat    02  ...   \n",
       "1  You’re very welcome! Thank you for bringing ho...   22     Sun    02  ...   \n",
       "2  Random #productivity hacks continued:\\n\\n🎽 On ...   21     Sat    02  ...   \n",
       "3  Now they’ll say a few useless scripted platitu...   22     Sat    02  ...   \n",
       "4  A simple exercise you must do everyday to keep...   22     Sat    02  ...   \n",
       "\n",
       "    30-39    <=18    >=40  female    male  is-org  non-org    age     sex  \\\n",
       "0  0.5846  0.0242  0.2901  0.0182  0.9818  0.8298   0.1702  30-39    male   \n",
       "1  0.2499  0.0388  0.0740  0.0011  0.9989  0.0000   1.0000  19-29    male   \n",
       "2  0.9023  0.0002  0.0010  0.9998  0.0002  0.0000   1.0000  30-39  female   \n",
       "3  0.0112  0.0073  0.9664  0.0017  0.9983  0.0028   0.9972   >=40    male   \n",
       "4  0.0677  0.0077  0.9071  0.1231  0.8769  0.7731   0.2269   >=40    male   \n",
       "\n",
       "       org  \n",
       "0   is-org  \n",
       "1  non-org  \n",
       "2  non-org  \n",
       "3  non-org  \n",
       "4   is-org  \n",
       "\n",
       "[5 rows x 26 columns]"
      ]
     },
     "execution_count": 1029,
     "metadata": {},
     "output_type": "execute_result"
    }
   ],
   "source": [
    "M2.head()"
   ]
  },
  {
   "cell_type": "code",
   "execution_count": 1030,
   "metadata": {},
   "outputs": [
    {
     "data": {
      "text/plain": [
       "(3457, 26)"
      ]
     },
     "execution_count": 1030,
     "metadata": {},
     "output_type": "execute_result"
    }
   ],
   "source": [
    "M2.shape"
   ]
  },
  {
   "cell_type": "code",
   "execution_count": 1031,
   "metadata": {},
   "outputs": [],
   "source": [
    "# M2=M2[['iid','A1', 'A2', 'A3', 'age', 'sex', 'org','hour','weekday','text', 'month']]\n",
    "M2=M2[['iid','A1', 'A2', 'A3', 'age', 'sex', 'org','hour','weekday', 'month']]"
   ]
  },
  {
   "cell_type": "code",
   "execution_count": 1032,
   "metadata": {},
   "outputs": [
    {
     "data": {
      "text/html": [
       "<div>\n",
       "<style scoped>\n",
       "    .dataframe tbody tr th:only-of-type {\n",
       "        vertical-align: middle;\n",
       "    }\n",
       "\n",
       "    .dataframe tbody tr th {\n",
       "        vertical-align: top;\n",
       "    }\n",
       "\n",
       "    .dataframe thead th {\n",
       "        text-align: right;\n",
       "    }\n",
       "</style>\n",
       "<table border=\"1\" class=\"dataframe\">\n",
       "  <thead>\n",
       "    <tr style=\"text-align: right;\">\n",
       "      <th></th>\n",
       "      <th>iid</th>\n",
       "      <th>A1</th>\n",
       "      <th>A2</th>\n",
       "      <th>A3</th>\n",
       "      <th>age</th>\n",
       "      <th>sex</th>\n",
       "      <th>org</th>\n",
       "      <th>hour</th>\n",
       "      <th>weekday</th>\n",
       "      <th>month</th>\n",
       "    </tr>\n",
       "  </thead>\n",
       "  <tbody>\n",
       "    <tr>\n",
       "      <th>0</th>\n",
       "      <td>5ece812df46b2b34fcc352ac</td>\n",
       "      <td>0</td>\n",
       "      <td>0</td>\n",
       "      <td>0</td>\n",
       "      <td>30-39</td>\n",
       "      <td>male</td>\n",
       "      <td>is-org</td>\n",
       "      <td>22</td>\n",
       "      <td>Sat</td>\n",
       "      <td>02</td>\n",
       "    </tr>\n",
       "    <tr>\n",
       "      <th>1</th>\n",
       "      <td>5ece812ef46b2b34fcc3a0be</td>\n",
       "      <td>0</td>\n",
       "      <td>0</td>\n",
       "      <td>0</td>\n",
       "      <td>19-29</td>\n",
       "      <td>male</td>\n",
       "      <td>non-org</td>\n",
       "      <td>22</td>\n",
       "      <td>Sun</td>\n",
       "      <td>02</td>\n",
       "    </tr>\n",
       "    <tr>\n",
       "      <th>2</th>\n",
       "      <td>5ece814af46b2b34fcc9528a</td>\n",
       "      <td>0</td>\n",
       "      <td>1</td>\n",
       "      <td>0</td>\n",
       "      <td>30-39</td>\n",
       "      <td>female</td>\n",
       "      <td>non-org</td>\n",
       "      <td>21</td>\n",
       "      <td>Sat</td>\n",
       "      <td>02</td>\n",
       "    </tr>\n",
       "    <tr>\n",
       "      <th>3</th>\n",
       "      <td>5ece815ef46b2b34fccd1ae2</td>\n",
       "      <td>0</td>\n",
       "      <td>0</td>\n",
       "      <td>0</td>\n",
       "      <td>&gt;=40</td>\n",
       "      <td>male</td>\n",
       "      <td>non-org</td>\n",
       "      <td>22</td>\n",
       "      <td>Sat</td>\n",
       "      <td>02</td>\n",
       "    </tr>\n",
       "    <tr>\n",
       "      <th>4</th>\n",
       "      <td>5ece8169f46b2b34fccf47ef</td>\n",
       "      <td>0</td>\n",
       "      <td>0</td>\n",
       "      <td>0</td>\n",
       "      <td>&gt;=40</td>\n",
       "      <td>male</td>\n",
       "      <td>is-org</td>\n",
       "      <td>22</td>\n",
       "      <td>Sat</td>\n",
       "      <td>02</td>\n",
       "    </tr>\n",
       "  </tbody>\n",
       "</table>\n",
       "</div>"
      ],
      "text/plain": [
       "                        iid  A1  A2  A3    age     sex      org hour weekday  \\\n",
       "0  5ece812df46b2b34fcc352ac   0   0   0  30-39    male   is-org   22     Sat   \n",
       "1  5ece812ef46b2b34fcc3a0be   0   0   0  19-29    male  non-org   22     Sun   \n",
       "2  5ece814af46b2b34fcc9528a   0   1   0  30-39  female  non-org   21     Sat   \n",
       "3  5ece815ef46b2b34fccd1ae2   0   0   0   >=40    male  non-org   22     Sat   \n",
       "4  5ece8169f46b2b34fccf47ef   0   0   0   >=40    male   is-org   22     Sat   \n",
       "\n",
       "  month  \n",
       "0    02  \n",
       "1    02  \n",
       "2    02  \n",
       "3    02  \n",
       "4    02  "
      ]
     },
     "execution_count": 1032,
     "metadata": {},
     "output_type": "execute_result"
    }
   ],
   "source": [
    "M2.head()"
   ]
  },
  {
   "cell_type": "code",
   "execution_count": 1033,
   "metadata": {},
   "outputs": [],
   "source": [
    "M2.to_csv(\"PA.csv\", index=False)"
   ]
  },
  {
   "cell_type": "code",
   "execution_count": null,
   "metadata": {},
   "outputs": [],
   "source": []
  },
  {
   "cell_type": "code",
   "execution_count": null,
   "metadata": {},
   "outputs": [],
   "source": []
  },
  {
   "cell_type": "code",
   "execution_count": 1034,
   "metadata": {},
   "outputs": [
    {
     "name": "stdout",
     "output_type": "stream",
     "text": [
      "(3457, 12)\n"
     ]
    },
    {
     "data": {
      "text/html": [
       "<div>\n",
       "<style scoped>\n",
       "    .dataframe tbody tr th:only-of-type {\n",
       "        vertical-align: middle;\n",
       "    }\n",
       "\n",
       "    .dataframe tbody tr th {\n",
       "        vertical-align: top;\n",
       "    }\n",
       "\n",
       "    .dataframe thead th {\n",
       "        text-align: right;\n",
       "    }\n",
       "</style>\n",
       "<table border=\"1\" class=\"dataframe\">\n",
       "  <thead>\n",
       "    <tr style=\"text-align: right;\">\n",
       "      <th></th>\n",
       "      <th>iid</th>\n",
       "      <th>A1</th>\n",
       "      <th>A2</th>\n",
       "      <th>A3</th>\n",
       "      <th>age</th>\n",
       "      <th>sex</th>\n",
       "      <th>org</th>\n",
       "      <th>hour</th>\n",
       "      <th>weekday</th>\n",
       "      <th>month</th>\n",
       "      <th>result</th>\n",
       "      <th>truth</th>\n",
       "    </tr>\n",
       "  </thead>\n",
       "  <tbody>\n",
       "    <tr>\n",
       "      <th>0</th>\n",
       "      <td>5ece812df46b2b34fcc352ac</td>\n",
       "      <td>0</td>\n",
       "      <td>0</td>\n",
       "      <td>0</td>\n",
       "      <td>30-39</td>\n",
       "      <td>male</td>\n",
       "      <td>is-org</td>\n",
       "      <td>22</td>\n",
       "      <td>Sat</td>\n",
       "      <td>02</td>\n",
       "      <td>0</td>\n",
       "      <td>0</td>\n",
       "    </tr>\n",
       "    <tr>\n",
       "      <th>1</th>\n",
       "      <td>5ece812ef46b2b34fcc3a0be</td>\n",
       "      <td>0</td>\n",
       "      <td>0</td>\n",
       "      <td>0</td>\n",
       "      <td>19-29</td>\n",
       "      <td>male</td>\n",
       "      <td>non-org</td>\n",
       "      <td>22</td>\n",
       "      <td>Sun</td>\n",
       "      <td>02</td>\n",
       "      <td>0</td>\n",
       "      <td>0</td>\n",
       "    </tr>\n",
       "    <tr>\n",
       "      <th>2</th>\n",
       "      <td>5ece814af46b2b34fcc9528a</td>\n",
       "      <td>0</td>\n",
       "      <td>1</td>\n",
       "      <td>0</td>\n",
       "      <td>30-39</td>\n",
       "      <td>female</td>\n",
       "      <td>non-org</td>\n",
       "      <td>21</td>\n",
       "      <td>Sat</td>\n",
       "      <td>02</td>\n",
       "      <td>0</td>\n",
       "      <td>0</td>\n",
       "    </tr>\n",
       "    <tr>\n",
       "      <th>3</th>\n",
       "      <td>5ece815ef46b2b34fccd1ae2</td>\n",
       "      <td>0</td>\n",
       "      <td>0</td>\n",
       "      <td>0</td>\n",
       "      <td>&gt;=40</td>\n",
       "      <td>male</td>\n",
       "      <td>non-org</td>\n",
       "      <td>22</td>\n",
       "      <td>Sat</td>\n",
       "      <td>02</td>\n",
       "      <td>0</td>\n",
       "      <td>0</td>\n",
       "    </tr>\n",
       "    <tr>\n",
       "      <th>4</th>\n",
       "      <td>5ece8169f46b2b34fccf47ef</td>\n",
       "      <td>0</td>\n",
       "      <td>0</td>\n",
       "      <td>0</td>\n",
       "      <td>&gt;=40</td>\n",
       "      <td>male</td>\n",
       "      <td>is-org</td>\n",
       "      <td>22</td>\n",
       "      <td>Sat</td>\n",
       "      <td>02</td>\n",
       "      <td>0</td>\n",
       "      <td>0</td>\n",
       "    </tr>\n",
       "  </tbody>\n",
       "</table>\n",
       "</div>"
      ],
      "text/plain": [
       "                        iid  A1  A2  A3    age     sex      org hour weekday  \\\n",
       "0  5ece812df46b2b34fcc352ac   0   0   0  30-39    male   is-org   22     Sat   \n",
       "1  5ece812ef46b2b34fcc3a0be   0   0   0  19-29    male  non-org   22     Sun   \n",
       "2  5ece814af46b2b34fcc9528a   0   1   0  30-39  female  non-org   21     Sat   \n",
       "3  5ece815ef46b2b34fccd1ae2   0   0   0   >=40    male  non-org   22     Sat   \n",
       "4  5ece8169f46b2b34fccf47ef   0   0   0   >=40    male   is-org   22     Sat   \n",
       "\n",
       "  month  result  truth  \n",
       "0    02       0      0  \n",
       "1    02       0      0  \n",
       "2    02       0      0  \n",
       "3    02       0      0  \n",
       "4    02       0      0  "
      ]
     },
     "execution_count": 1034,
     "metadata": {},
     "output_type": "execute_result"
    }
   ],
   "source": [
    "PAMVB= pd.read_csv('PA-MV-B.csv')\n",
    "final=pd.merge(M2, PAMVB, on='iid', how='inner')\n",
    "\n",
    "print(final.shape)\n",
    "final.head()\n"
   ]
  },
  {
   "cell_type": "code",
   "execution_count": 1035,
   "metadata": {},
   "outputs": [],
   "source": [
    "final.to_csv('PA-MV-LSTM.csv')"
   ]
  },
  {
   "cell_type": "markdown",
   "metadata": {},
   "source": [
    "------------------------------------\n",
    "\n",
    "### I need to generate a separate CSV file to be able to test the number of FN's between inference methods and ML models."
   ]
  },
  {
   "cell_type": "code",
   "execution_count": null,
   "metadata": {},
   "outputs": [],
   "source": []
  },
  {
   "cell_type": "code",
   "execution_count": null,
   "metadata": {},
   "outputs": [],
   "source": []
  },
  {
   "cell_type": "code",
   "execution_count": 1036,
   "metadata": {},
   "outputs": [
    {
     "data": {
      "text/html": [
       "        <script type=\"text/javascript\">\n",
       "        window.PlotlyConfig = {MathJaxConfig: 'local'};\n",
       "        if (window.MathJax) {MathJax.Hub.Config({SVG: {font: \"STIX-Web\"}});}\n",
       "        if (typeof require !== 'undefined') {\n",
       "        require.undef(\"plotly\");\n",
       "        requirejs.config({\n",
       "            paths: {\n",
       "                'plotly': ['https://cdn.plot.ly/plotly-latest.min']\n",
       "            }\n",
       "        });\n",
       "        require(['plotly'], function(Plotly) {\n",
       "            window._Plotly = Plotly;\n",
       "        });\n",
       "        }\n",
       "        </script>\n",
       "        "
      ]
     },
     "metadata": {},
     "output_type": "display_data"
    }
   ],
   "source": [
    "# Import libraries\n",
    "import numpy as np\n",
    "import pandas as pd\n",
    "import matplotlib.pyplot as plt\n",
    "import getpass\n",
    "import plotly.graph_objs as go\n",
    "from plotly.offline import iplot, init_notebook_mode\n",
    "import plotly.io as pio\n",
    "from plotly.graph_objs import *\n",
    "\n",
    "# for configuring connection \n",
    "import os\n",
    "\n",
    "%matplotlib inline\n",
    "\n",
    "\n",
    "import os\n",
    "\n",
    "\n",
    "from sklearn import linear_model\n",
    "from sklearn import metrics\n",
    "from sklearn.model_selection import train_test_split\n",
    "\n",
    "#configure the notebook for use in offline mode\n",
    "init_notebook_mode(connected=True)"
   ]
  },
  {
   "cell_type": "code",
   "execution_count": 1037,
   "metadata": {},
   "outputs": [
    {
     "data": {
      "text/plain": [
       "iid        0\n",
       "A1         0\n",
       "A2         0\n",
       "A3         0\n",
       "age        0\n",
       "sex        0\n",
       "org        0\n",
       "hour       0\n",
       "weekday    0\n",
       "month      0\n",
       "result     0\n",
       "truth      0\n",
       "dtype: int64"
      ]
     },
     "execution_count": 1037,
     "metadata": {},
     "output_type": "execute_result"
    }
   ],
   "source": [
    "df=final #we have the MV results too\n",
    "missing_values_count = df.isnull().sum()\n",
    "missing_values_count"
   ]
  },
  {
   "cell_type": "code",
   "execution_count": 1038,
   "metadata": {},
   "outputs": [
    {
     "name": "stderr",
     "output_type": "stream",
     "text": [
      "<ipython-input-1038-29ca79868650>:2: SettingWithCopyWarning:\n",
      "\n",
      "\n",
      "A value is trying to be set on a copy of a slice from a DataFrame.\n",
      "Try using .loc[row_indexer,col_indexer] = value instead\n",
      "\n",
      "See the caveats in the documentation: https://pandas.pydata.org/pandas-docs/stable/user_guide/indexing.html#returning-a-view-versus-a-copy\n",
      "\n",
      "<ipython-input-1038-29ca79868650>:3: SettingWithCopyWarning:\n",
      "\n",
      "\n",
      "A value is trying to be set on a copy of a slice from a DataFrame.\n",
      "Try using .loc[row_indexer,col_indexer] = value instead\n",
      "\n",
      "See the caveats in the documentation: https://pandas.pydata.org/pandas-docs/stable/user_guide/indexing.html#returning-a-view-versus-a-copy\n",
      "\n",
      "<ipython-input-1038-29ca79868650>:4: SettingWithCopyWarning:\n",
      "\n",
      "\n",
      "A value is trying to be set on a copy of a slice from a DataFrame.\n",
      "Try using .loc[row_indexer,col_indexer] = value instead\n",
      "\n",
      "See the caveats in the documentation: https://pandas.pydata.org/pandas-docs/stable/user_guide/indexing.html#returning-a-view-versus-a-copy\n",
      "\n",
      "<ipython-input-1038-29ca79868650>:5: SettingWithCopyWarning:\n",
      "\n",
      "\n",
      "A value is trying to be set on a copy of a slice from a DataFrame.\n",
      "Try using .loc[row_indexer,col_indexer] = value instead\n",
      "\n",
      "See the caveats in the documentation: https://pandas.pydata.org/pandas-docs/stable/user_guide/indexing.html#returning-a-view-versus-a-copy\n",
      "\n",
      "<ipython-input-1038-29ca79868650>:6: SettingWithCopyWarning:\n",
      "\n",
      "\n",
      "A value is trying to be set on a copy of a slice from a DataFrame.\n",
      "Try using .loc[row_indexer,col_indexer] = value instead\n",
      "\n",
      "See the caveats in the documentation: https://pandas.pydata.org/pandas-docs/stable/user_guide/indexing.html#returning-a-view-versus-a-copy\n",
      "\n",
      "<ipython-input-1038-29ca79868650>:7: SettingWithCopyWarning:\n",
      "\n",
      "\n",
      "A value is trying to be set on a copy of a slice from a DataFrame.\n",
      "Try using .loc[row_indexer,col_indexer] = value instead\n",
      "\n",
      "See the caveats in the documentation: https://pandas.pydata.org/pandas-docs/stable/user_guide/indexing.html#returning-a-view-versus-a-copy\n",
      "\n",
      "<ipython-input-1038-29ca79868650>:8: SettingWithCopyWarning:\n",
      "\n",
      "\n",
      "A value is trying to be set on a copy of a slice from a DataFrame.\n",
      "Try using .loc[row_indexer,col_indexer] = value instead\n",
      "\n",
      "See the caveats in the documentation: https://pandas.pydata.org/pandas-docs/stable/user_guide/indexing.html#returning-a-view-versus-a-copy\n",
      "\n",
      "<ipython-input-1038-29ca79868650>:9: SettingWithCopyWarning:\n",
      "\n",
      "\n",
      "A value is trying to be set on a copy of a slice from a DataFrame.\n",
      "Try using .loc[row_indexer,col_indexer] = value instead\n",
      "\n",
      "See the caveats in the documentation: https://pandas.pydata.org/pandas-docs/stable/user_guide/indexing.html#returning-a-view-versus-a-copy\n",
      "\n",
      "<ipython-input-1038-29ca79868650>:10: SettingWithCopyWarning:\n",
      "\n",
      "\n",
      "A value is trying to be set on a copy of a slice from a DataFrame.\n",
      "Try using .loc[row_indexer,col_indexer] = value instead\n",
      "\n",
      "See the caveats in the documentation: https://pandas.pydata.org/pandas-docs/stable/user_guide/indexing.html#returning-a-view-versus-a-copy\n",
      "\n",
      "<ipython-input-1038-29ca79868650>:11: SettingWithCopyWarning:\n",
      "\n",
      "\n",
      "A value is trying to be set on a copy of a slice from a DataFrame.\n",
      "Try using .loc[row_indexer,col_indexer] = value instead\n",
      "\n",
      "See the caveats in the documentation: https://pandas.pydata.org/pandas-docs/stable/user_guide/indexing.html#returning-a-view-versus-a-copy\n",
      "\n",
      "<ipython-input-1038-29ca79868650>:12: SettingWithCopyWarning:\n",
      "\n",
      "\n",
      "A value is trying to be set on a copy of a slice from a DataFrame.\n",
      "Try using .loc[row_indexer,col_indexer] = value instead\n",
      "\n",
      "See the caveats in the documentation: https://pandas.pydata.org/pandas-docs/stable/user_guide/indexing.html#returning-a-view-versus-a-copy\n",
      "\n"
     ]
    },
    {
     "data": {
      "text/html": [
       "<div>\n",
       "<style scoped>\n",
       "    .dataframe tbody tr th:only-of-type {\n",
       "        vertical-align: middle;\n",
       "    }\n",
       "\n",
       "    .dataframe tbody tr th {\n",
       "        vertical-align: top;\n",
       "    }\n",
       "\n",
       "    .dataframe thead th {\n",
       "        text-align: right;\n",
       "    }\n",
       "</style>\n",
       "<table border=\"1\" class=\"dataframe\">\n",
       "  <thead>\n",
       "    <tr style=\"text-align: right;\">\n",
       "      <th></th>\n",
       "      <th>iid</th>\n",
       "      <th>A1</th>\n",
       "      <th>A2</th>\n",
       "      <th>A3</th>\n",
       "      <th>age</th>\n",
       "      <th>sex</th>\n",
       "      <th>org</th>\n",
       "      <th>hour</th>\n",
       "      <th>weekday</th>\n",
       "      <th>month</th>\n",
       "      <th>result</th>\n",
       "      <th>truth</th>\n",
       "    </tr>\n",
       "  </thead>\n",
       "  <tbody>\n",
       "    <tr>\n",
       "      <th>0</th>\n",
       "      <td>5ece812df46b2b34fcc352ac</td>\n",
       "      <td>0</td>\n",
       "      <td>0</td>\n",
       "      <td>0</td>\n",
       "      <td>30-39</td>\n",
       "      <td>male</td>\n",
       "      <td>is-org</td>\n",
       "      <td>22</td>\n",
       "      <td>Sat</td>\n",
       "      <td>2</td>\n",
       "      <td>0</td>\n",
       "      <td>0</td>\n",
       "    </tr>\n",
       "    <tr>\n",
       "      <th>1</th>\n",
       "      <td>5ece812ef46b2b34fcc3a0be</td>\n",
       "      <td>0</td>\n",
       "      <td>0</td>\n",
       "      <td>0</td>\n",
       "      <td>19-29</td>\n",
       "      <td>male</td>\n",
       "      <td>non-org</td>\n",
       "      <td>22</td>\n",
       "      <td>Sun</td>\n",
       "      <td>2</td>\n",
       "      <td>0</td>\n",
       "      <td>0</td>\n",
       "    </tr>\n",
       "    <tr>\n",
       "      <th>2</th>\n",
       "      <td>5ece814af46b2b34fcc9528a</td>\n",
       "      <td>0</td>\n",
       "      <td>1</td>\n",
       "      <td>0</td>\n",
       "      <td>30-39</td>\n",
       "      <td>female</td>\n",
       "      <td>non-org</td>\n",
       "      <td>21</td>\n",
       "      <td>Sat</td>\n",
       "      <td>2</td>\n",
       "      <td>0</td>\n",
       "      <td>0</td>\n",
       "    </tr>\n",
       "    <tr>\n",
       "      <th>3</th>\n",
       "      <td>5ece815ef46b2b34fccd1ae2</td>\n",
       "      <td>0</td>\n",
       "      <td>0</td>\n",
       "      <td>0</td>\n",
       "      <td>&gt;=40</td>\n",
       "      <td>male</td>\n",
       "      <td>non-org</td>\n",
       "      <td>22</td>\n",
       "      <td>Sat</td>\n",
       "      <td>2</td>\n",
       "      <td>0</td>\n",
       "      <td>0</td>\n",
       "    </tr>\n",
       "    <tr>\n",
       "      <th>4</th>\n",
       "      <td>5ece8169f46b2b34fccf47ef</td>\n",
       "      <td>0</td>\n",
       "      <td>0</td>\n",
       "      <td>0</td>\n",
       "      <td>&gt;=40</td>\n",
       "      <td>male</td>\n",
       "      <td>is-org</td>\n",
       "      <td>22</td>\n",
       "      <td>Sat</td>\n",
       "      <td>2</td>\n",
       "      <td>0</td>\n",
       "      <td>0</td>\n",
       "    </tr>\n",
       "  </tbody>\n",
       "</table>\n",
       "</div>"
      ],
      "text/plain": [
       "                        iid A1 A2 A3    age     sex      org  hour weekday  \\\n",
       "0  5ece812df46b2b34fcc352ac  0  0  0  30-39    male   is-org    22     Sat   \n",
       "1  5ece812ef46b2b34fcc3a0be  0  0  0  19-29    male  non-org    22     Sun   \n",
       "2  5ece814af46b2b34fcc9528a  0  1  0  30-39  female  non-org    21     Sat   \n",
       "3  5ece815ef46b2b34fccd1ae2  0  0  0   >=40    male  non-org    22     Sat   \n",
       "4  5ece8169f46b2b34fccf47ef  0  0  0   >=40    male   is-org    22     Sat   \n",
       "\n",
       "   month result truth  \n",
       "0      2      0     0  \n",
       "1      2      0     0  \n",
       "2      2      0     0  \n",
       "3      2      0     0  \n",
       "4      2      0     0  "
      ]
     },
     "execution_count": 1038,
     "metadata": {},
     "output_type": "execute_result"
    }
   ],
   "source": [
    "df= df[df['hour']!='dummy']\n",
    "df['weekday']=df['weekday'].astype(\"category\")\n",
    "df['hour']=df['hour'].astype(\"int\")\n",
    "df['month']=df['month'].astype(\"int\")\n",
    "df['A1']=df['A1'].astype(\"category\")\n",
    "df['A2']=df['A2'].astype(\"category\")\n",
    "df['A3']=df['A3'].astype(\"category\")\n",
    "df['sex']=df['sex'].astype(\"category\")\n",
    "df['age']=df['age'].astype(\"category\")\n",
    "df['org']=df['org'].astype(\"category\")\n",
    "df['truth']=df['truth'].astype(\"category\")\n",
    "df['result']=df['result'].astype(\"category\")\n",
    "\n",
    "df.head()"
   ]
  },
  {
   "cell_type": "code",
   "execution_count": 1039,
   "metadata": {},
   "outputs": [],
   "source": [
    "df= df[df['truth']!=5]\n",
    "df= df[df['A1']!=5]\n",
    "df= df[df['A2']!=5]\n",
    "df= df[df['A3']!=5]\n"
   ]
  },
  {
   "cell_type": "code",
   "execution_count": 1040,
   "metadata": {},
   "outputs": [
    {
     "data": {
      "text/plain": [
       "[0, 1]\n",
       "Categories (2, int64): [0, 1]"
      ]
     },
     "execution_count": 1040,
     "metadata": {},
     "output_type": "execute_result"
    }
   ],
   "source": [
    "df['truth'].unique()"
   ]
  },
  {
   "cell_type": "code",
   "execution_count": 1041,
   "metadata": {},
   "outputs": [],
   "source": [
    "# df['truth']=np.where(df['truth'] ==1, 'YY', df['truth'])\n",
    "# df['truth']=np.where(df['truth'] =='2', 'YN', df['truth'])\n",
    "# df['truth']=np.where(df['truth'] =='3', 'NY', df['truth'])\n",
    "# df['truth']=np.where(df['truth'] =='4', 'NN', df['truth'])\n",
    "# #df['truth']=np.where(df['truth'] =='5', 'NC', df['truth'])"
   ]
  },
  {
   "cell_type": "code",
   "execution_count": 1042,
   "metadata": {},
   "outputs": [
    {
     "data": {
      "text/html": [
       "<div>\n",
       "<style scoped>\n",
       "    .dataframe tbody tr th:only-of-type {\n",
       "        vertical-align: middle;\n",
       "    }\n",
       "\n",
       "    .dataframe tbody tr th {\n",
       "        vertical-align: top;\n",
       "    }\n",
       "\n",
       "    .dataframe thead th {\n",
       "        text-align: right;\n",
       "    }\n",
       "</style>\n",
       "<table border=\"1\" class=\"dataframe\">\n",
       "  <thead>\n",
       "    <tr style=\"text-align: right;\">\n",
       "      <th></th>\n",
       "      <th>iid</th>\n",
       "      <th>hour</th>\n",
       "      <th>month</th>\n",
       "      <th>truth</th>\n",
       "      <th>A1_1</th>\n",
       "      <th>A2_1</th>\n",
       "      <th>A3_1</th>\n",
       "      <th>age_30-39</th>\n",
       "      <th>age_&lt;=18</th>\n",
       "      <th>age_&gt;=40</th>\n",
       "      <th>sex_male</th>\n",
       "      <th>org_non-org</th>\n",
       "      <th>weekday_Mon</th>\n",
       "      <th>weekday_Sat</th>\n",
       "      <th>weekday_Sun</th>\n",
       "      <th>weekday_Thu</th>\n",
       "      <th>weekday_Tue</th>\n",
       "      <th>weekday_Wed</th>\n",
       "      <th>result_1</th>\n",
       "    </tr>\n",
       "  </thead>\n",
       "  <tbody>\n",
       "    <tr>\n",
       "      <th>0</th>\n",
       "      <td>5ece812df46b2b34fcc352ac</td>\n",
       "      <td>22</td>\n",
       "      <td>2</td>\n",
       "      <td>0</td>\n",
       "      <td>0</td>\n",
       "      <td>0</td>\n",
       "      <td>0</td>\n",
       "      <td>1</td>\n",
       "      <td>0</td>\n",
       "      <td>0</td>\n",
       "      <td>1</td>\n",
       "      <td>0</td>\n",
       "      <td>0</td>\n",
       "      <td>1</td>\n",
       "      <td>0</td>\n",
       "      <td>0</td>\n",
       "      <td>0</td>\n",
       "      <td>0</td>\n",
       "      <td>0</td>\n",
       "    </tr>\n",
       "    <tr>\n",
       "      <th>1</th>\n",
       "      <td>5ece812ef46b2b34fcc3a0be</td>\n",
       "      <td>22</td>\n",
       "      <td>2</td>\n",
       "      <td>0</td>\n",
       "      <td>0</td>\n",
       "      <td>0</td>\n",
       "      <td>0</td>\n",
       "      <td>0</td>\n",
       "      <td>0</td>\n",
       "      <td>0</td>\n",
       "      <td>1</td>\n",
       "      <td>1</td>\n",
       "      <td>0</td>\n",
       "      <td>0</td>\n",
       "      <td>1</td>\n",
       "      <td>0</td>\n",
       "      <td>0</td>\n",
       "      <td>0</td>\n",
       "      <td>0</td>\n",
       "    </tr>\n",
       "    <tr>\n",
       "      <th>2</th>\n",
       "      <td>5ece814af46b2b34fcc9528a</td>\n",
       "      <td>21</td>\n",
       "      <td>2</td>\n",
       "      <td>0</td>\n",
       "      <td>0</td>\n",
       "      <td>1</td>\n",
       "      <td>0</td>\n",
       "      <td>1</td>\n",
       "      <td>0</td>\n",
       "      <td>0</td>\n",
       "      <td>0</td>\n",
       "      <td>1</td>\n",
       "      <td>0</td>\n",
       "      <td>1</td>\n",
       "      <td>0</td>\n",
       "      <td>0</td>\n",
       "      <td>0</td>\n",
       "      <td>0</td>\n",
       "      <td>0</td>\n",
       "    </tr>\n",
       "    <tr>\n",
       "      <th>3</th>\n",
       "      <td>5ece815ef46b2b34fccd1ae2</td>\n",
       "      <td>22</td>\n",
       "      <td>2</td>\n",
       "      <td>0</td>\n",
       "      <td>0</td>\n",
       "      <td>0</td>\n",
       "      <td>0</td>\n",
       "      <td>0</td>\n",
       "      <td>0</td>\n",
       "      <td>1</td>\n",
       "      <td>1</td>\n",
       "      <td>1</td>\n",
       "      <td>0</td>\n",
       "      <td>1</td>\n",
       "      <td>0</td>\n",
       "      <td>0</td>\n",
       "      <td>0</td>\n",
       "      <td>0</td>\n",
       "      <td>0</td>\n",
       "    </tr>\n",
       "    <tr>\n",
       "      <th>4</th>\n",
       "      <td>5ece8169f46b2b34fccf47ef</td>\n",
       "      <td>22</td>\n",
       "      <td>2</td>\n",
       "      <td>0</td>\n",
       "      <td>0</td>\n",
       "      <td>0</td>\n",
       "      <td>0</td>\n",
       "      <td>0</td>\n",
       "      <td>0</td>\n",
       "      <td>1</td>\n",
       "      <td>1</td>\n",
       "      <td>0</td>\n",
       "      <td>0</td>\n",
       "      <td>1</td>\n",
       "      <td>0</td>\n",
       "      <td>0</td>\n",
       "      <td>0</td>\n",
       "      <td>0</td>\n",
       "      <td>0</td>\n",
       "    </tr>\n",
       "  </tbody>\n",
       "</table>\n",
       "</div>"
      ],
      "text/plain": [
       "                        iid  hour  month truth  A1_1  A2_1  A3_1  age_30-39  \\\n",
       "0  5ece812df46b2b34fcc352ac    22      2     0     0     0     0          1   \n",
       "1  5ece812ef46b2b34fcc3a0be    22      2     0     0     0     0          0   \n",
       "2  5ece814af46b2b34fcc9528a    21      2     0     0     1     0          1   \n",
       "3  5ece815ef46b2b34fccd1ae2    22      2     0     0     0     0          0   \n",
       "4  5ece8169f46b2b34fccf47ef    22      2     0     0     0     0          0   \n",
       "\n",
       "   age_<=18  age_>=40  sex_male  org_non-org  weekday_Mon  weekday_Sat  \\\n",
       "0         0         0         1            0            0            1   \n",
       "1         0         0         1            1            0            0   \n",
       "2         0         0         0            1            0            1   \n",
       "3         0         1         1            1            0            1   \n",
       "4         0         1         1            0            0            1   \n",
       "\n",
       "   weekday_Sun  weekday_Thu  weekday_Tue  weekday_Wed  result_1  \n",
       "0            0            0            0            0         0  \n",
       "1            1            0            0            0         0  \n",
       "2            0            0            0            0         0  \n",
       "3            0            0            0            0         0  \n",
       "4            0            0            0            0         0  "
      ]
     },
     "execution_count": 1042,
     "metadata": {},
     "output_type": "execute_result"
    }
   ],
   "source": [
    "df = pd.get_dummies(df, prefix=['A1', 'A2', 'A3',  'age', 'sex', 'org', 'weekday', 'result'], columns=['A1', 'A2', 'A3', 'age', 'sex', 'org', 'weekday', 'result'], drop_first=True)\n",
    "\n",
    "df.head()"
   ]
  },
  {
   "cell_type": "code",
   "execution_count": 1043,
   "metadata": {},
   "outputs": [
    {
     "data": {
      "text/plain": [
       "Index(['iid', 'hour', 'month', 'truth', 'A1_1', 'A2_1', 'A3_1', 'age_30-39',\n",
       "       'age_<=18', 'age_>=40', 'sex_male', 'org_non-org', 'weekday_Mon',\n",
       "       'weekday_Sat', 'weekday_Sun', 'weekday_Thu', 'weekday_Tue',\n",
       "       'weekday_Wed', 'result_1'],\n",
       "      dtype='object')"
      ]
     },
     "execution_count": 1043,
     "metadata": {},
     "output_type": "execute_result"
    }
   ],
   "source": [
    "df.columns"
   ]
  },
  {
   "cell_type": "code",
   "execution_count": 1044,
   "metadata": {},
   "outputs": [],
   "source": [
    "import re\n",
    "regex = re.compile(r\"\\[|\\]|<|>\", re.IGNORECASE)\n",
    "df=df[['iid','hour', 'month', 'truth', 'A1_1', 'A2_1', 'A3_1', 'age_30-39',\n",
    "       'age_<=18', 'age_>=40', 'sex_male', 'org_non-org', 'weekday_Mon',\n",
    "       'weekday_Sat', 'weekday_Sun', 'weekday_Thu', 'weekday_Tue',\n",
    "       'weekday_Wed', 'result_1']]\n",
    " \n",
    "df.columns = [regex.sub(\"_\", col) if any(x in str(col) for x in set(('[', ']', '<', '>'))) else col for col in df.columns.values]\n"
   ]
  },
  {
   "cell_type": "code",
   "execution_count": 1045,
   "metadata": {},
   "outputs": [
    {
     "data": {
      "text/plain": [
       "Index(['iid', 'hour', 'month', 'truth', 'A1_1', 'A2_1', 'A3_1', 'age_30-39',\n",
       "       'age__=18', 'age__=40', 'sex_male', 'org_non-org', 'weekday_Mon',\n",
       "       'weekday_Sat', 'weekday_Sun', 'weekday_Thu', 'weekday_Tue',\n",
       "       'weekday_Wed', 'result_1'],\n",
       "      dtype='object')"
      ]
     },
     "execution_count": 1045,
     "metadata": {},
     "output_type": "execute_result"
    }
   ],
   "source": [
    "df.columns"
   ]
  },
  {
   "cell_type": "code",
   "execution_count": 1046,
   "metadata": {},
   "outputs": [
    {
     "name": "stdout",
     "output_type": "stream",
     "text": [
      "(3442, 19)\n",
      "                           iid  hour  month truth  A1_1  A2_1  A3_1  \\\n",
      "172   5ecea647f46b2b34fc1b2558    15      3     1     0     0     0   \n",
      "2565  5d0ef5c644578a1480caae35    18      6     0     0     0     0   \n",
      "2750  5d21373344578a14a8d02947    15      7     0     1     0     0   \n",
      "2511  5d0ec98344578a1480ea52c7    14      5     0     0     0     0   \n",
      "576   5ec2d5b5388f6a36d4a5e2ce    17      4     1     1     1     1   \n",
      "\n",
      "      age_30-39  age__=18  age__=40  sex_male  org_non-org  weekday_Mon  \\\n",
      "172           0         0         1         0            1            0   \n",
      "2565          1         0         0         1            0            0   \n",
      "2750          0         0         0         0            0            0   \n",
      "2511          0         0         0         1            1            0   \n",
      "576           1         0         0         0            1            0   \n",
      "\n",
      "      weekday_Sat  weekday_Sun  weekday_Thu  weekday_Tue  weekday_Wed  \\\n",
      "172             0            0            0            0            0   \n",
      "2565            0            0            0            0            0   \n",
      "2750            0            0            0            0            0   \n",
      "2511            1            0            0            0            0   \n",
      "576             1            0            0            0            0   \n",
      "\n",
      "      result_1  \n",
      "172          0  \n",
      "2565         0  \n",
      "2750         0  \n",
      "2511         0  \n",
      "576          1  \n",
      "(850, 19)\n"
     ]
    }
   ],
   "source": [
    "\n",
    "\n",
    "#df= pd.read_csv(\"PA-MV-LSTM.csv\", sep=',')\n",
    "print(df.shape)\n",
    "train= df.sample(n=2592)\n",
    "train.to_csv(\"PA-Truth-train.csv\", sep=',', encoding='utf-8')\n",
    "print(train.head())\n",
    "test=df[~df.iid.isin(train.iid)]\n",
    "test.shape\n",
    "test.to_csv(\"PA-Truth-test.csv\", sep=',', encoding='utf-8')\n",
    "print(test.shape)"
   ]
  },
  {
   "cell_type": "code",
   "execution_count": 1047,
   "metadata": {},
   "outputs": [
    {
     "data": {
      "text/plain": [
       "0"
      ]
     },
     "execution_count": 1047,
     "metadata": {},
     "output_type": "execute_result"
    }
   ],
   "source": [
    "df.isnull().values.sum()"
   ]
  },
  {
   "cell_type": "code",
   "execution_count": 1048,
   "metadata": {},
   "outputs": [
    {
     "data": {
      "text/plain": [
       "Index(['iid', 'hour', 'month', 'truth', 'A1_1', 'A2_1', 'A3_1', 'age_30-39',\n",
       "       'age__=18', 'age__=40', 'sex_male', 'org_non-org', 'weekday_Mon',\n",
       "       'weekday_Sat', 'weekday_Sun', 'weekday_Thu', 'weekday_Tue',\n",
       "       'weekday_Wed', 'result_1'],\n",
       "      dtype='object')"
      ]
     },
     "execution_count": 1048,
     "metadata": {},
     "output_type": "execute_result"
    }
   ],
   "source": [
    "train.columns"
   ]
  },
  {
   "cell_type": "code",
   "execution_count": 1049,
   "metadata": {},
   "outputs": [],
   "source": [
    "del train['iid']\n",
    "del test ['iid']\n",
    "X=df.drop('truth', 1)\n",
    "y=df['truth']\n",
    "df_cols = list(X)"
   ]
  },
  {
   "cell_type": "code",
   "execution_count": 1050,
   "metadata": {},
   "outputs": [
    {
     "data": {
      "text/plain": [
       "Index(['hour', 'month', 'truth', 'A1_1', 'A2_1', 'A3_1', 'age_30-39',\n",
       "       'age__=18', 'age__=40', 'sex_male', 'org_non-org', 'weekday_Mon',\n",
       "       'weekday_Sat', 'weekday_Sun', 'weekday_Thu', 'weekday_Tue',\n",
       "       'weekday_Wed', 'result_1'],\n",
       "      dtype='object')"
      ]
     },
     "execution_count": 1050,
     "metadata": {},
     "output_type": "execute_result"
    }
   ],
   "source": [
    "test.columns"
   ]
  },
  {
   "cell_type": "code",
   "execution_count": 1051,
   "metadata": {},
   "outputs": [
    {
     "data": {
      "text/plain": [
       "0    502\n",
       "1    348\n",
       "Name: truth, dtype: int64"
      ]
     },
     "execution_count": 1051,
     "metadata": {},
     "output_type": "execute_result"
    }
   ],
   "source": [
    "test.truth.value_counts()"
   ]
  },
  {
   "cell_type": "code",
   "execution_count": 1053,
   "metadata": {},
   "outputs": [],
   "source": [
    "# drop_indices = np.random.choice(train.index, 154, replace=False)\n",
    "# train = train.drop(train[train['truth']==0].sample(544).index)\n",
    "#test = test.drop(test[test['truth']==0].sample(120).index)\n"
   ]
  },
  {
   "cell_type": "code",
   "execution_count": 1055,
   "metadata": {},
   "outputs": [
    {
     "data": {
      "text/plain": [
       "0    1560\n",
       "1    1032\n",
       "Name: truth, dtype: int64"
      ]
     },
     "execution_count": 1055,
     "metadata": {},
     "output_type": "execute_result"
    }
   ],
   "source": [
    "train.truth.value_counts()"
   ]
  },
  {
   "cell_type": "markdown",
   "metadata": {},
   "source": [
    "----------------------------\n",
    "\n",
    "## Logistic Regression"
   ]
  },
  {
   "cell_type": "code",
   "execution_count": 1056,
   "metadata": {},
   "outputs": [
    {
     "name": "stderr",
     "output_type": "stream",
     "text": [
      "/Users/zahrashakeri/opt/anaconda3/lib/python3.8/site-packages/sklearn/linear_model/_logistic.py:762: ConvergenceWarning:\n",
      "\n",
      "lbfgs failed to converge (status=1):\n",
      "STOP: TOTAL NO. of ITERATIONS REACHED LIMIT.\n",
      "\n",
      "Increase the number of iterations (max_iter) or scale the data as shown in:\n",
      "    https://scikit-learn.org/stable/modules/preprocessing.html\n",
      "Please also refer to the documentation for alternative solver options:\n",
      "    https://scikit-learn.org/stable/modules/linear_model.html#logistic-regression\n",
      "\n",
      "/Users/zahrashakeri/opt/anaconda3/lib/python3.8/site-packages/sklearn/base.py:209: FutureWarning:\n",
      "\n",
      "From version 0.24, get_params will raise an AttributeError if a parameter cannot be retrieved as an instance attribute. Previously it would return None.\n",
      "\n"
     ]
    },
    {
     "data": {
      "image/png": "[encoded data removed]",
      "text/plain": [
       "<Figure size 432x288 with 1 Axes>"
      ]
     },
     "metadata": {
      "needs_background": "light"
     },
     "output_type": "display_data"
    },
    {
     "name": "stdout",
     "output_type": "stream",
     "text": [
      "Accuracy: 0.8246575342465754\n",
      "f-score: 0.8041095890410959\n",
      "                   pre       rec       spe        f1       geo       iba       sup\n",
      "\n",
      "          0       0.90      0.70      0.91      0.79      0.80      0.63       382\n",
      "          1       0.74      0.91      0.70      0.82      0.80      0.66       348\n",
      "\n",
      "avg / total       0.82      0.80      0.81      0.80      0.80      0.64       730\n",
      "\n"
     ]
    },
    {
     "ename": "ValueError",
     "evalue": "Length of values does not match length of index",
     "output_type": "error",
     "traceback": [
      "\u001b[0;31m---------------------------------------------------------------------------\u001b[0m",
      "\u001b[0;31mValueError\u001b[0m                                Traceback (most recent call last)",
      "\u001b[0;32m<ipython-input-1056-9e096cc85d67>\u001b[0m in \u001b[0;36m<module>\u001b[0;34m\u001b[0m\n\u001b[1;32m     70\u001b[0m \u001b[0my_test1\u001b[0m\u001b[0;34m=\u001b[0m \u001b[0my_test\u001b[0m\u001b[0;34m.\u001b[0m\u001b[0mto_frame\u001b[0m\u001b[0;34m(\u001b[0m\u001b[0;34m)\u001b[0m\u001b[0;34m\u001b[0m\u001b[0;34m\u001b[0m\u001b[0m\n\u001b[1;32m     71\u001b[0m \u001b[0mpredictions\u001b[0m\u001b[0;34m=\u001b[0m\u001b[0my_test1\u001b[0m\u001b[0;34m.\u001b[0m\u001b[0mcopy\u001b[0m\u001b[0;34m(\u001b[0m\u001b[0;34m)\u001b[0m\u001b[0;34m\u001b[0m\u001b[0;34m\u001b[0m\u001b[0m\n\u001b[0;32m---> 72\u001b[0;31m \u001b[0mpredictions\u001b[0m\u001b[0;34m[\u001b[0m\u001b[0;34m'prob'\u001b[0m\u001b[0;34m]\u001b[0m\u001b[0;34m=\u001b[0m\u001b[0my_prob\u001b[0m\u001b[0;34m.\u001b[0m\u001b[0mmax\u001b[0m\u001b[0;34m(\u001b[0m\u001b[0maxis\u001b[0m\u001b[0;34m=\u001b[0m\u001b[0;36m1\u001b[0m\u001b[0;34m)\u001b[0m\u001b[0;34m\u001b[0m\u001b[0;34m\u001b[0m\u001b[0m\n\u001b[0m\u001b[1;32m     73\u001b[0m \u001b[0mpredictions\u001b[0m\u001b[0;34m[\u001b[0m\u001b[0;34m'y_pred'\u001b[0m\u001b[0;34m]\u001b[0m\u001b[0;34m=\u001b[0m \u001b[0my_pred\u001b[0m\u001b[0;34m\u001b[0m\u001b[0;34m\u001b[0m\u001b[0m\n",
      "\u001b[0;32m~/.local/lib/python3.8/site-packages/pandas/core/frame.py\u001b[0m in \u001b[0;36m__setitem__\u001b[0;34m(self, key, value)\u001b[0m\n\u001b[1;32m   2936\u001b[0m         \u001b[0;32melse\u001b[0m\u001b[0;34m:\u001b[0m\u001b[0;34m\u001b[0m\u001b[0;34m\u001b[0m\u001b[0m\n\u001b[1;32m   2937\u001b[0m             \u001b[0;31m# set column\u001b[0m\u001b[0;34m\u001b[0m\u001b[0;34m\u001b[0m\u001b[0;34m\u001b[0m\u001b[0m\n\u001b[0;32m-> 2938\u001b[0;31m             \u001b[0mself\u001b[0m\u001b[0;34m.\u001b[0m\u001b[0m_set_item\u001b[0m\u001b[0;34m(\u001b[0m\u001b[0mkey\u001b[0m\u001b[0;34m,\u001b[0m \u001b[0mvalue\u001b[0m\u001b[0;34m)\u001b[0m\u001b[0;34m\u001b[0m\u001b[0;34m\u001b[0m\u001b[0m\n\u001b[0m\u001b[1;32m   2939\u001b[0m \u001b[0;34m\u001b[0m\u001b[0m\n\u001b[1;32m   2940\u001b[0m     \u001b[0;32mdef\u001b[0m \u001b[0m_setitem_slice\u001b[0m\u001b[0;34m(\u001b[0m\u001b[0mself\u001b[0m\u001b[0;34m,\u001b[0m \u001b[0mkey\u001b[0m\u001b[0;34m,\u001b[0m \u001b[0mvalue\u001b[0m\u001b[0;34m)\u001b[0m\u001b[0;34m:\u001b[0m\u001b[0;34m\u001b[0m\u001b[0;34m\u001b[0m\u001b[0m\n",
      "\u001b[0;32m~/.local/lib/python3.8/site-packages/pandas/core/frame.py\u001b[0m in \u001b[0;36m_set_item\u001b[0;34m(self, key, value)\u001b[0m\n\u001b[1;32m   2998\u001b[0m \u001b[0;34m\u001b[0m\u001b[0m\n\u001b[1;32m   2999\u001b[0m         \u001b[0mself\u001b[0m\u001b[0;34m.\u001b[0m\u001b[0m_ensure_valid_index\u001b[0m\u001b[0;34m(\u001b[0m\u001b[0mvalue\u001b[0m\u001b[0;34m)\u001b[0m\u001b[0;34m\u001b[0m\u001b[0;34m\u001b[0m\u001b[0m\n\u001b[0;32m-> 3000\u001b[0;31m         \u001b[0mvalue\u001b[0m \u001b[0;34m=\u001b[0m \u001b[0mself\u001b[0m\u001b[0;34m.\u001b[0m\u001b[0m_sanitize_column\u001b[0m\u001b[0;34m(\u001b[0m\u001b[0mkey\u001b[0m\u001b[0;34m,\u001b[0m \u001b[0mvalue\u001b[0m\u001b[0;34m)\u001b[0m\u001b[0;34m\u001b[0m\u001b[0;34m\u001b[0m\u001b[0m\n\u001b[0m\u001b[1;32m   3001\u001b[0m         \u001b[0mNDFrame\u001b[0m\u001b[0;34m.\u001b[0m\u001b[0m_set_item\u001b[0m\u001b[0;34m(\u001b[0m\u001b[0mself\u001b[0m\u001b[0;34m,\u001b[0m \u001b[0mkey\u001b[0m\u001b[0;34m,\u001b[0m \u001b[0mvalue\u001b[0m\u001b[0;34m)\u001b[0m\u001b[0;34m\u001b[0m\u001b[0;34m\u001b[0m\u001b[0m\n\u001b[1;32m   3002\u001b[0m \u001b[0;34m\u001b[0m\u001b[0m\n",
      "\u001b[0;32m~/.local/lib/python3.8/site-packages/pandas/core/frame.py\u001b[0m in \u001b[0;36m_sanitize_column\u001b[0;34m(self, key, value, broadcast)\u001b[0m\n\u001b[1;32m   3634\u001b[0m \u001b[0;34m\u001b[0m\u001b[0m\n\u001b[1;32m   3635\u001b[0m             \u001b[0;31m# turn me into an ndarray\u001b[0m\u001b[0;34m\u001b[0m\u001b[0;34m\u001b[0m\u001b[0;34m\u001b[0m\u001b[0m\n\u001b[0;32m-> 3636\u001b[0;31m             \u001b[0mvalue\u001b[0m \u001b[0;34m=\u001b[0m \u001b[0msanitize_index\u001b[0m\u001b[0;34m(\u001b[0m\u001b[0mvalue\u001b[0m\u001b[0;34m,\u001b[0m \u001b[0mself\u001b[0m\u001b[0;34m.\u001b[0m\u001b[0mindex\u001b[0m\u001b[0;34m,\u001b[0m \u001b[0mcopy\u001b[0m\u001b[0;34m=\u001b[0m\u001b[0;32mFalse\u001b[0m\u001b[0;34m)\u001b[0m\u001b[0;34m\u001b[0m\u001b[0;34m\u001b[0m\u001b[0m\n\u001b[0m\u001b[1;32m   3637\u001b[0m             \u001b[0;32mif\u001b[0m \u001b[0;32mnot\u001b[0m \u001b[0misinstance\u001b[0m\u001b[0;34m(\u001b[0m\u001b[0mvalue\u001b[0m\u001b[0;34m,\u001b[0m \u001b[0;34m(\u001b[0m\u001b[0mnp\u001b[0m\u001b[0;34m.\u001b[0m\u001b[0mndarray\u001b[0m\u001b[0;34m,\u001b[0m \u001b[0mIndex\u001b[0m\u001b[0;34m)\u001b[0m\u001b[0;34m)\u001b[0m\u001b[0;34m:\u001b[0m\u001b[0;34m\u001b[0m\u001b[0;34m\u001b[0m\u001b[0m\n\u001b[1;32m   3638\u001b[0m                 \u001b[0;32mif\u001b[0m \u001b[0misinstance\u001b[0m\u001b[0;34m(\u001b[0m\u001b[0mvalue\u001b[0m\u001b[0;34m,\u001b[0m \u001b[0mlist\u001b[0m\u001b[0;34m)\u001b[0m \u001b[0;32mand\u001b[0m \u001b[0mlen\u001b[0m\u001b[0;34m(\u001b[0m\u001b[0mvalue\u001b[0m\u001b[0;34m)\u001b[0m \u001b[0;34m>\u001b[0m \u001b[0;36m0\u001b[0m\u001b[0;34m:\u001b[0m\u001b[0;34m\u001b[0m\u001b[0;34m\u001b[0m\u001b[0m\n",
      "\u001b[0;32m~/.local/lib/python3.8/site-packages/pandas/core/internals/construction.py\u001b[0m in \u001b[0;36msanitize_index\u001b[0;34m(data, index, copy)\u001b[0m\n\u001b[1;32m    609\u001b[0m \u001b[0;34m\u001b[0m\u001b[0m\n\u001b[1;32m    610\u001b[0m     \u001b[0;32mif\u001b[0m \u001b[0mlen\u001b[0m\u001b[0;34m(\u001b[0m\u001b[0mdata\u001b[0m\u001b[0;34m)\u001b[0m \u001b[0;34m!=\u001b[0m \u001b[0mlen\u001b[0m\u001b[0;34m(\u001b[0m\u001b[0mindex\u001b[0m\u001b[0;34m)\u001b[0m\u001b[0;34m:\u001b[0m\u001b[0;34m\u001b[0m\u001b[0;34m\u001b[0m\u001b[0m\n\u001b[0;32m--> 611\u001b[0;31m         \u001b[0;32mraise\u001b[0m \u001b[0mValueError\u001b[0m\u001b[0;34m(\u001b[0m\u001b[0;34m\"Length of values does not match length of index\"\u001b[0m\u001b[0;34m)\u001b[0m\u001b[0;34m\u001b[0m\u001b[0;34m\u001b[0m\u001b[0m\n\u001b[0m\u001b[1;32m    612\u001b[0m \u001b[0;34m\u001b[0m\u001b[0m\n\u001b[1;32m    613\u001b[0m     \u001b[0;32mif\u001b[0m \u001b[0misinstance\u001b[0m\u001b[0;34m(\u001b[0m\u001b[0mdata\u001b[0m\u001b[0;34m,\u001b[0m \u001b[0mABCIndexClass\u001b[0m\u001b[0;34m)\u001b[0m \u001b[0;32mand\u001b[0m \u001b[0;32mnot\u001b[0m \u001b[0mcopy\u001b[0m\u001b[0;34m:\u001b[0m\u001b[0;34m\u001b[0m\u001b[0;34m\u001b[0m\u001b[0m\n",
      "\u001b[0;31mValueError\u001b[0m: Length of values does not match length of index"
     ]
    }
   ],
   "source": [
    "# from sklearn.model_selection import KFold\n",
    "# from sklearn import preprocessing\n",
    "# from sklearn.metrics import f1_score\n",
    "# from yellowbrick.classifier import ROCAUC\n",
    "# from sklearn.linear_model import LogisticRegression\n",
    "# from imblearn.metrics import classification_report_imbalanced\n",
    "# # classes=['YY','YN','NY','NN', 'NC']\n",
    "# classes=['N', 'Y']\n",
    "\n",
    "# kf = KFold(n_splits=2)\n",
    "\n",
    "# for fold, (train_index, test_index) in enumerate(kf.split(X), 1):\n",
    "#     X_train = X.iloc[train_index]\n",
    "#     y_train = y.iloc[train_index]  # Based on your code, you might need a ravel call here, but I would look into how you're generating your y\n",
    "#     X_test = X.iloc[test_index]\n",
    "#     y_test = y.iloc[test_index]  # See comment on ravel and  y_train\n",
    "    \n",
    "    \n",
    "#     model = linear_model.LogisticRegression(C= 2.5,max_iter= 66,tol= 6.75e-05) \n",
    "#     model.fit(X_train, y_train)  \n",
    "#     y_pred = model.predict(X_test)\n",
    "#     visualizer = ROCAUC(model, classes=classes)\n",
    "#     visualizer.fit(X_train, y_train)  # Fit the training data to the visualizer\n",
    "#     visualizer.score(X_test, y_test)  # Evaluate the model on the test data\n",
    "#     visualizer.poof() \n",
    "#     print(f'For fold {fold}:')\n",
    "#     print(f'Accuracy: {model.score(X_test, y_test)}')\n",
    "#     f1=f1_score(y_test, y_pred, average='micro')\n",
    "#     print(f'f-score: {f1}')\n",
    "#     print(classification_report_imbalanced(y_test, y_pred))\n",
    "       \n",
    "from sklearn.model_selection import KFold\n",
    "from sklearn import preprocessing\n",
    "from sklearn.metrics import f1_score\n",
    "from yellowbrick.classifier import ROCAUC\n",
    "from sklearn.linear_model import LogisticRegression\n",
    "from imblearn.metrics import classification_report_imbalanced\n",
    "# classes=['YY','YN','NY','NN', 'NC']\n",
    "classes=['N', 'Y']\n",
    "\n",
    "\n",
    "X_train = train.drop('truth', 1)\n",
    "y_train = train['truth']  # Based on your code, you might need a ravel call here, but I would look into how you're generating your y\n",
    "X_test = test.drop('truth', 1)\n",
    "y_test = test['truth']  # See comment on ravel and  y_train\n",
    "\n",
    "\n",
    "model = linear_model.LogisticRegression(C= 3,max_iter= 66,tol= 6.75e-05, class_weight='balanced') \n",
    "model.fit(X_train, y_train)  \n",
    "\n",
    "threshold = 0.32\n",
    "\n",
    "y_proba = model.predict_proba(X_test)\n",
    "y_pred = (y_proba [:,1] >= threshold).astype('int')\n",
    "\n",
    "\n",
    "\n",
    "\n",
    "# y_pred = model.predict(X_test)\n",
    "# y_prob = model.predict_proba(X_test.values)\n",
    "visualizer = ROCAUC(model, classes=classes)\n",
    "visualizer.fit(X_train, y_train)  # Fit the training data to the visualizer\n",
    "visualizer.score(X_test, y_test)  # Evaluate the model on the test data\n",
    "visualizer.poof() \n",
    "\n",
    "print(f'Accuracy: {model.score(X_test, y_test)}')\n",
    "f1=f1_score(y_test, y_pred, average='micro')\n",
    "print(f'f-score: {f1}')\n",
    "print(classification_report_imbalanced(y_test, y_pred))\n",
    "y_test1= y_test.to_frame()\n",
    "predictions=y_test1.copy()\n",
    "predictions['prob']=y_prob.max(axis=1)\n",
    "predictions['y_pred']= y_pred"
   ]
  },
  {
   "cell_type": "code",
   "execution_count": null,
   "metadata": {},
   "outputs": [],
   "source": [
    "df_out = pd.merge(predictions[['prob', 'y_pred']],test,how = 'left',left_index = True, right_index = True)\n",
    "df_out.head()"
   ]
  },
  {
   "cell_type": "code",
   "execution_count": 1057,
   "metadata": {},
   "outputs": [],
   "source": [
    "\n",
    "con1=(df_out.truth == 0) & (df_out.y_pred== 1)\n",
    "\n",
    "test1=df_out[~(con1)]"
   ]
  },
  {
   "cell_type": "code",
   "execution_count": 1058,
   "metadata": {},
   "outputs": [],
   "source": [
    "test1.shape\n",
    "del test1['prob']\n",
    "del test1['y_pred']"
   ]
  },
  {
   "cell_type": "code",
   "execution_count": null,
   "metadata": {},
   "outputs": [],
   "source": []
  },
  {
   "cell_type": "code",
   "execution_count": 1059,
   "metadata": {},
   "outputs": [
    {
     "name": "stdout",
     "output_type": "stream",
     "text": [
      "Best Threshold=0.042359,recall=1.000\n",
      "Best Threshold=0.163693, F-Score=0.861\n"
     ]
    },
    {
     "data": {
      "image/png": "[encoded data removed]",
      "text/plain": [
       "<Figure size 432x288 with 1 Axes>"
      ]
     },
     "metadata": {
      "needs_background": "light"
     },
     "output_type": "display_data"
    }
   ],
   "source": [
    "\n",
    "#------------------Only the positive class----------\n",
    "y_pred1 = y_proba[:, 1]\n",
    "precision, recall, thresholds = precision_recall_curve(y_test, y_pred1)\n",
    "# plot the roc curve for the model\n",
    "b=1.5\n",
    "fscore = (1+b*b) * ((precision * recall) / (((b*b)*precision) + recall))\n",
    "# locate the index of the largest f score\n",
    "ix = argmax(fscore)\n",
    "iy = argmax(recall)\n",
    "print('Best Threshold=%f,recall=%.3f' % (thresholds[iy], recall[iy]))\n",
    "print('Best Threshold=%f, F-Score=%.3f' % (thresholds[ix], fscore[ix]))\n",
    "# plot the roc curve for the model\n",
    "no_skill = len(y_test[y_test==1]) / len(y_test)\n",
    "pyplot.plot([0,1], [no_skill,no_skill], linestyle='--', label='No Skill')\n",
    "pyplot.plot(recall, precision, marker='.', label='Logistic')\n",
    "pyplot.scatter(recall[ix], precision[ix], marker='o', color='black', label='Best')\n",
    "# axis labels\n",
    "pyplot.xlabel('Recall')\n",
    "pyplot.ylabel('Precision')\n",
    "pyplot.legend()\n",
    "# show the plot\n",
    "pyplot.show()"
   ]
  },
  {
   "cell_type": "code",
   "execution_count": 1060,
   "metadata": {},
   "outputs": [],
   "source": [
    "df_out.to_csv(\"Predictions-LR.csv\")\n"
   ]
  },
  {
   "cell_type": "code",
   "execution_count": 1061,
   "metadata": {},
   "outputs": [
    {
     "data": {
      "text/plain": [
       "0.8463540096906383"
      ]
     },
     "execution_count": 1061,
     "metadata": {},
     "output_type": "execute_result"
    }
   ],
   "source": [
    "precision, recall, _ = precision_recall_curve(y_test, y_pred)\n",
    "auc_score = auc(recall, precision)\n",
    "auc_score"
   ]
  },
  {
   "cell_type": "code",
   "execution_count": 1062,
   "metadata": {},
   "outputs": [
    {
     "data": {
      "text/plain": [
       "array([1.       , 0.9137931, 0.       ])"
      ]
     },
     "execution_count": 1062,
     "metadata": {},
     "output_type": "execute_result"
    }
   ],
   "source": [
    "recall"
   ]
  },
  {
   "cell_type": "code",
   "execution_count": 1063,
   "metadata": {},
   "outputs": [],
   "source": [
    "# from sklearn import metrics\n",
    "# preds = model.predict_proba(X_test)\n",
    "# tpr, tpr, thresholds = metrics.roc_curve(y_test,preds[:,1])\n",
    "# print (thresholds)\n",
    "\n",
    "# accuracy_ls = []\n",
    "# for thres in thresholds:\n",
    "#     y_pred = np.where(preds[:,1]>thres,1,0)\n",
    "#     # Apply desired utility function to y_preds, for example accuracy.\n",
    "#     accuracy_ls.append(metrics.accuracy_score(y_test, y_pred, normalize=True))\n",
    "#     #print(thres,\"******\",metrics.accuracy_score(y_test, y_pred) )\n",
    "\n",
    "from sklearn.linear_model import LogisticRegression\n",
    "\n",
    "from yellowbrick.classifier import DiscriminationThreshold\n",
    "from yellowbrick.datasets import load_spam"
   ]
  },
  {
   "cell_type": "code",
   "execution_count": 1064,
   "metadata": {},
   "outputs": [],
   "source": [
    "\n",
    "# visualizer = DiscriminationThreshold(model, fbetafloat=1)\n",
    "\n",
    "# visualizer.fit(X_train, y_train)        # Fit the data to the visualizer\n",
    "# visualizer.show()           # Finalize and render the figure"
   ]
  },
  {
   "cell_type": "code",
   "execution_count": 1065,
   "metadata": {},
   "outputs": [
    {
     "data": {
      "text/plain": [
       "0.8089907925618344"
      ]
     },
     "execution_count": 1065,
     "metadata": {},
     "output_type": "execute_result"
    }
   ],
   "source": [
    "lr_auc = roc_auc_score(y_test, y_pred)\n",
    "lr_auc"
   ]
  },
  {
   "cell_type": "code",
   "execution_count": 1066,
   "metadata": {},
   "outputs": [
    {
     "data": {
      "text/plain": [
       "0.8029787886824624"
      ]
     },
     "execution_count": 1066,
     "metadata": {},
     "output_type": "execute_result"
    }
   ],
   "source": [
    "from sklearn.metrics import fbeta_score\n",
    "fbeta_score(y_test, y_pred, average='macro', beta=1.5)"
   ]
  },
  {
   "cell_type": "code",
   "execution_count": 1067,
   "metadata": {},
   "outputs": [
    {
     "data": {
      "image/png": "[encoded data removed]",
      "text/plain": [
       "<Figure size 432x288 with 2 Axes>"
      ]
     },
     "metadata": {
      "needs_background": "light"
     },
     "output_type": "display_data"
    }
   ],
   "source": [
    "from sklearn.metrics import confusion_matrix\n",
    "import matplotlib.pyplot as plt\n",
    "import itertools\n",
    "matrix = confusion_matrix(y_test,y_pred)\n",
    "class_names=['0','1']\n",
    "# class_names = ['NN', 'NY', 'YN', 'YY']\n",
    "plt.clf()\n",
    "\n",
    "# place labels at the top\n",
    "plt.gca().xaxis.tick_top()\n",
    "plt.gca().xaxis.set_label_position('top')\n",
    "\n",
    "# plot the matrix per se\n",
    "plt.imshow(matrix, interpolation='nearest', cmap=plt.cm.Blues)\n",
    "\n",
    "# plot colorbar to the right\n",
    "plt.colorbar()\n",
    "\n",
    "fmt = 'd'\n",
    "\n",
    "# write the number of predictions in each bucket\n",
    "thresh = matrix.max() / 2.\n",
    "for i, j in itertools.product(range(matrix.shape[0]), range(matrix.shape[1])):\n",
    "\n",
    "    # if background is dark, use a white number, and vice-versa\n",
    "    plt.text(j, i, format(matrix[i, j], fmt),\n",
    "         horizontalalignment=\"center\",\n",
    "         color=\"white\" if matrix[i, j] > thresh else \"black\")\n",
    "\n",
    "tick_marks = np.arange(len(class_names))\n",
    "plt.xticks(tick_marks, class_names, rotation=45)\n",
    "plt.yticks(tick_marks, class_names)\n",
    "plt.tight_layout()\n",
    "plt.ylabel('True label',size=14)\n",
    "plt.xlabel('Predicted label',size=14)\n",
    "plt.show()"
   ]
  },
  {
   "cell_type": "markdown",
   "metadata": {},
   "source": [
    "---------------------------------------"
   ]
  },
  {
   "cell_type": "markdown",
   "metadata": {},
   "source": [
    "## Random Forest"
   ]
  },
  {
   "cell_type": "code",
   "execution_count": 1019,
   "metadata": {},
   "outputs": [
    {
     "name": "stderr",
     "output_type": "stream",
     "text": [
      "/Users/zahrashakeri/opt/anaconda3/lib/python3.8/site-packages/sklearn/base.py:209: FutureWarning:\n",
      "\n",
      "From version 0.24, get_params will raise an AttributeError if a parameter cannot be retrieved as an instance attribute. Previously it would return None.\n",
      "\n"
     ]
    },
    {
     "data": {
      "image/png": "[encoded data removed]",
      "text/plain": [
       "<Figure size 432x288 with 1 Axes>"
      ]
     },
     "metadata": {
      "needs_background": "light"
     },
     "output_type": "display_data"
    },
    {
     "name": "stdout",
     "output_type": "stream",
     "text": [
      "Accuracy: 0.8411764705882353\n",
      "f-score: 0.8447058823529412\n",
      "                   pre       rec       spe        f1       geo       iba       sup\n",
      "\n",
      "          0       0.86      0.89      0.78      0.87      0.83      0.70       509\n",
      "          1       0.83      0.78      0.89      0.80      0.83      0.68       341\n",
      "\n",
      "avg / total       0.84      0.84      0.82      0.84      0.83      0.69       850\n",
      "\n"
     ]
    }
   ],
   "source": [
    "# from sklearn.model_selection import KFold\n",
    "# from sklearn import preprocessing\n",
    "# from sklearn.metrics import f1_score\n",
    "# from yellowbrick.classifier import ROCAUC\n",
    "# from sklearn.linear_model import LogisticRegression\n",
    "# from imblearn.metrics import classification_report_imbalanced\n",
    "# from sklearn.ensemble import RandomForestClassifier\n",
    "# classes=['YY','YN','NY','NN', 'NC']\n",
    "\n",
    "\n",
    "# kf = KFold(n_splits=2)\n",
    "\n",
    "# for fold, (train_index, test_index) in enumerate(kf.split(X), 1):\n",
    "#     X_train = X.iloc[train_index]\n",
    "#     y_train = y.iloc[train_index]  # Based on your code, you might need a ravel call here, but I would look into how you're generating your y\n",
    "#     X_test = X.iloc[test_index]\n",
    "#     y_test = y.iloc[test_index]  # See comment on ravel and  y_train\n",
    "\n",
    "\n",
    "\n",
    "#     model = RandomForestClassifier(n_estimators=400, max_depth= 30, max_features=0.5, criterion='gini', min_samples_split=20) \n",
    "#     model.fit(X_train, y_train)  \n",
    "#     y_pred = model.predict(X_test)\n",
    "#     visualizer = ROCAUC(model, classes=classes)\n",
    "#     visualizer.fit(X_train, y_train)  # Fit the training data to the visualizer\n",
    "#     visualizer.score(X_test, y_test)  # Evaluate the model on the test data\n",
    "#     visualizer.poof(\"RF_Unbalanced_{}.pdf\".format(fold), clear_figure=True) \n",
    "#     print(f'For fold {fold}:')\n",
    "#     print(f'Accuracy: {model.score(X_test, y_test)}')\n",
    "#     f1=f1_score(y_test, y_pred, average='micro')\n",
    "#     print(f'f-score: {f1}')\n",
    "#     print(classification_report_imbalanced(y_test, y_pred))\n",
    "\n",
    "from sklearn.model_selection import KFold\n",
    "from sklearn import preprocessing\n",
    "from sklearn.metrics import f1_score\n",
    "from yellowbrick.classifier import ROCAUC\n",
    "from sklearn.linear_model import LogisticRegression\n",
    "from imblearn.metrics import classification_report_imbalanced\n",
    "from sklearn.ensemble import RandomForestClassifier\n",
    "classes=['N', 'Y']\n",
    "\n",
    "\n",
    "X_train = train.drop('truth', 1)\n",
    "y_train = train['truth']  # Based on your code, you might need a ravel call here, but I would look into how you're generating your y\n",
    "X_test = test.drop('truth', 1)\n",
    "y_test = test['truth']  # See comment on ravel and  y_train\n",
    "\n",
    "\n",
    "model = RandomForestClassifier(n_estimators=100, max_depth= 30, max_features=.75, criterion='entropy', min_samples_split=15, class_weight='balanced')  \n",
    "model.fit(X_train, y_train)  \n",
    "\n",
    "threshold = .52\n",
    "\n",
    "y_proba = model.predict_proba(X_test)\n",
    "y_pred = (y_proba [:,1] >= threshold).astype('int')\n",
    "\n",
    "\n",
    "\n",
    "\n",
    "# y_pred = model.predict(X_test)\n",
    "# y_prob = model.predict_proba(X_test.values)\n",
    "visualizer = ROCAUC(model, classes=classes)\n",
    "visualizer.fit(X_train, y_train)  # Fit the training data to the visualizer\n",
    "visualizer.score(X_test, y_test)  # Evaluate the model on the test data\n",
    "visualizer.poof() \n",
    "\n",
    "print(f'Accuracy: {model.score(X_test, y_test)}')\n",
    "f1=f1_score(y_test, y_pred, average='micro')\n",
    "print(f'f-score: {f1}')\n",
    "print(classification_report_imbalanced(y_test, y_pred))\n",
    "y_test1= y_test.to_frame()\n",
    "predictions=y_test1.copy()\n",
    "predictions['prob']=y_prob.max(axis=1)\n",
    "predictions['y_pred']= y_pred"
   ]
  },
  {
   "cell_type": "code",
   "execution_count": 1020,
   "metadata": {},
   "outputs": [
    {
     "name": "stdout",
     "output_type": "stream",
     "text": [
      "Best Threshold=0.000000,recall=1.000\n",
      "Best Threshold=0.339008, F-Score=0.808\n"
     ]
    },
    {
     "data": {
      "image/png": "[encoded data removed]",
      "text/plain": [
       "<Figure size 432x288 with 1 Axes>"
      ]
     },
     "metadata": {
      "needs_background": "light"
     },
     "output_type": "display_data"
    }
   ],
   "source": [
    "\n",
    "#------------------Only the positive class----------\n",
    "y_pred1 = y_proba[:, 1]\n",
    "precision, recall, thresholds = precision_recall_curve(y_test, y_pred1)\n",
    "# plot the roc curve for the model\n",
    "b=1.1\n",
    "fscore = (1+b*b) * ((precision * recall) / (((b*b)*precision) + recall))\n",
    "# locate the index of the largest f score\n",
    "ix = argmax(fscore)\n",
    "iy = argmax(recall)\n",
    "print('Best Threshold=%f,recall=%.3f' % (thresholds[iy], recall[iy]))\n",
    "print('Best Threshold=%f, F-Score=%.3f' % (thresholds[ix], fscore[ix]))\n",
    "# plot the roc curve for the model\n",
    "no_skill = len(y_test[y_test==1]) / len(y_test)\n",
    "pyplot.plot([0,1], [no_skill,no_skill], linestyle='--', label='No Skill')\n",
    "pyplot.plot(recall, precision, marker='.', label='Logistic')\n",
    "pyplot.scatter(recall[ix], precision[ix], marker='o', color='black', label='Best')\n",
    "# axis labels\n",
    "pyplot.xlabel('Recall')\n",
    "pyplot.ylabel('Precision')\n",
    "pyplot.legend()\n",
    "# show the plot\n",
    "pyplot.show()"
   ]
  },
  {
   "cell_type": "code",
   "execution_count": 1021,
   "metadata": {},
   "outputs": [
    {
     "data": {
      "image/png": "[encoded data removed]",
      "text/plain": [
       "<Figure size 432x288 with 2 Axes>"
      ]
     },
     "metadata": {
      "needs_background": "light"
     },
     "output_type": "display_data"
    }
   ],
   "source": [
    "from sklearn.metrics import confusion_matrix\n",
    "import matplotlib.pyplot as plt\n",
    "import itertools\n",
    "matrix = confusion_matrix(y_test,y_pred)\n",
    "class_names=['0','1']\n",
    "# class_names = ['NN', 'NY', 'YN', 'YY']\n",
    "plt.clf()\n",
    "\n",
    "# place labels at the top\n",
    "plt.gca().xaxis.tick_top()\n",
    "plt.gca().xaxis.set_label_position('top')\n",
    "\n",
    "# plot the matrix per se\n",
    "plt.imshow(matrix, interpolation='nearest', cmap=plt.cm.Blues)\n",
    "\n",
    "# plot colorbar to the right\n",
    "plt.colorbar()\n",
    "\n",
    "fmt = 'd'\n",
    "\n",
    "# write the number of predictions in each bucket\n",
    "thresh = matrix.max() / 2.\n",
    "for i, j in itertools.product(range(matrix.shape[0]), range(matrix.shape[1])):\n",
    "\n",
    "    # if background is dark, use a white number, and vice-versa\n",
    "    plt.text(j, i, format(matrix[i, j], fmt),\n",
    "         horizontalalignment=\"center\",\n",
    "         color=\"white\" if matrix[i, j] > thresh else \"black\")\n",
    "\n",
    "tick_marks = np.arange(len(class_names))\n",
    "plt.xticks(tick_marks, class_names, rotation=45)\n",
    "plt.yticks(tick_marks, class_names)\n",
    "plt.tight_layout()\n",
    "plt.ylabel('True label',size=14)\n",
    "plt.xlabel('Predicted label',size=14)\n",
    "plt.show()\n",
    "\n"
   ]
  },
  {
   "cell_type": "markdown",
   "metadata": {},
   "source": [
    "------------------\n",
    "\n",
    "## XGBoost"
   ]
  },
  {
   "cell_type": "code",
   "execution_count": 1001,
   "metadata": {},
   "outputs": [
    {
     "name": "stdout",
     "output_type": "stream",
     "text": [
      "[01:38:39] WARNING: /Users/travis/build/dmlc/xgboost/src/learner.cc:516: \n",
      "Parameters: { class_weight } might not be used.\n",
      "\n",
      "  This may not be accurate due to some parameters are only used in language bindings but\n",
      "  passed down to XGBoost core.  Or some parameters are not used but slip through this\n",
      "  verification. Please open an issue if you find above cases.\n",
      "\n",
      "\n"
     ]
    },
    {
     "name": "stderr",
     "output_type": "stream",
     "text": [
      "/Users/zahrashakeri/opt/anaconda3/lib/python3.8/site-packages/sklearn/base.py:209: FutureWarning:\n",
      "\n",
      "From version 0.24, get_params will raise an AttributeError if a parameter cannot be retrieved as an instance attribute. Previously it would return None.\n",
      "\n"
     ]
    },
    {
     "data": {
      "image/png": "[encoded data removed]",
      "text/plain": [
       "<Figure size 432x288 with 1 Axes>"
      ]
     },
     "metadata": {
      "needs_background": "light"
     },
     "output_type": "display_data"
    },
    {
     "name": "stdout",
     "output_type": "stream",
     "text": [
      "Accuracy: 0.8105882352941176\n",
      "f-score: 0.7823529411764706\n",
      "                   pre       rec       spe        f1       geo       iba       sup\n",
      "\n",
      "          0       0.86      0.76      0.82      0.81      0.79      0.62       509\n",
      "          1       0.69      0.82      0.76      0.75      0.79      0.62       341\n",
      "\n",
      "avg / total       0.79      0.78      0.79      0.78      0.79      0.62       850\n",
      "\n"
     ]
    }
   ],
   "source": [
    "# from sklearn.model_selection import KFold\n",
    "# from sklearn import preprocessing\n",
    "# from sklearn.metrics import f1_score\n",
    "# from yellowbrick.classifier import ROCAUC\n",
    "# from xgboost import XGBClassifier\n",
    "# from imblearn.metrics import classification_report_imbalanced\n",
    "# from sklearn.ensemble import RandomForestClassifier\n",
    "# classes=['YY','YN','NY','NN', 'NC']\n",
    "\n",
    "\n",
    "# kf = KFold(n_splits=2)\n",
    "\n",
    "# for fold, (train_index, test_index) in enumerate(kf.split(X), 1):\n",
    "#     X_train = X.iloc[train_index]\n",
    "#     y_train = y.iloc[train_index]  # Based on your code, you might need a ravel call here, but I would look into how you're generating your y\n",
    "#     X_test = X.iloc[test_index]\n",
    "#     y_test = y.iloc[test_index]  # See comment on ravel and  y_train\n",
    "\n",
    "#     model = XGBClassifier(max_depth=8, gamma=0.063, colsample_bytree=0.71)\n",
    "#     model.fit(X_train, y_train)  \n",
    "#     y_pred = model.predict(X_test)\n",
    "#     visualizer = ROCAUC(model, classes=classes)\n",
    "#     visualizer.fit(X_train, y_train)  # Fit the training data to the visualizer\n",
    "#     visualizer.score(X_test, y_test)  # Evaluate the model on the test data\n",
    "#     visualizer.poof(\"XGB_Unbalanced_{}.pdf\".format(fold), clear_figure=True) \n",
    "#     print(f'For fold {fold}:')\n",
    "#     print(f'Accuracy: {model.score(X_test, y_test)}')\n",
    "#     f1=f1_score(y_test, y_pred, average='micro')\n",
    "#     print(f'f-score: {f1}')\n",
    "#     print(classification_report_imbalanced(y_test, y_pred))\n",
    "from sklearn.datasets import make_classification\n",
    "from sklearn.dummy import DummyClassifier\n",
    "from sklearn.linear_model import LogisticRegression\n",
    "from sklearn.model_selection import train_test_split\n",
    "from sklearn.metrics import precision_recall_curve\n",
    "from sklearn.metrics import auc\n",
    "\n",
    "from sklearn.model_selection import KFold\n",
    "from sklearn import preprocessing\n",
    "from sklearn.metrics import auc\n",
    "from sklearn.metrics import f1_score\n",
    "from yellowbrick.classifier import ROCAUC\n",
    "from sklearn.linear_model import LogisticRegression\n",
    "from imblearn.metrics import classification_report_imbalanced\n",
    "from sklearn.ensemble import RandomForestClassifier\n",
    "classes=['N', 'Y']\n",
    "\n",
    "\n",
    "X_train = train.drop('truth', 1)\n",
    "y_train = train['truth']  # Based on your code, you might need a ravel call here, but I would look into how you're generating your y\n",
    "X_test = test.drop('truth', 1)\n",
    "y_test = test['truth']  # See comment on ravel and  y_train\n",
    "\n",
    "\n",
    "model = XGBClassifier(max_depth=8, gamma=0.03, colsample_bytree=0.71, class_weight='balanced') \n",
    "model.fit(X_train, y_train)  \n",
    "threshold = 0.2\n",
    "\n",
    "y_proba = model.predict_proba(X_test)\n",
    "y_pred = (y_proba [:,1] >= threshold).astype('int')\n",
    "\n",
    "\n",
    "\n",
    "\n",
    "# y_pred = model.predict(X_test)\n",
    "# y_prob = model.predict_proba(X_test.values)\n",
    "visualizer = ROCAUC(model, classes=classes)\n",
    "visualizer.fit(X_train, y_train)  # Fit the training data to the visualizer\n",
    "visualizer.score(X_test, y_test)  # Evaluate the model on the test data\n",
    "visualizer.poof() \n",
    "\n",
    "print(f'Accuracy: {model.score(X_test, y_test)}')\n",
    "f1=f1_score(y_test, y_pred, average='micro')\n",
    "print(f'f-score: {f1}')\n",
    "print(classification_report_imbalanced(y_test, y_pred))\n",
    "y_test1= y_test.to_frame()\n",
    "predictions=y_test1.copy()\n",
    "predictions['prob']=y_prob.max(axis=1)\n",
    "predictions['y_pred']= y_pred"
   ]
  },
  {
   "cell_type": "code",
   "execution_count": 1002,
   "metadata": {},
   "outputs": [
    {
     "data": {
      "image/png": "[encoded data removed]",
      "text/plain": [
       "<Figure size 432x288 with 2 Axes>"
      ]
     },
     "metadata": {
      "needs_background": "light"
     },
     "output_type": "display_data"
    }
   ],
   "source": [
    "from sklearn.metrics import confusion_matrix\n",
    "import matplotlib.pyplot as plt\n",
    "import itertools\n",
    "matrix = confusion_matrix(y_test,y_pred)\n",
    "class_names=['0','1']\n",
    "# class_names = ['NN', 'NY', 'YN', 'YY']\n",
    "plt.clf()\n",
    "\n",
    "# place labels at the top\n",
    "plt.gca().xaxis.tick_top()\n",
    "plt.gca().xaxis.set_label_position('top')\n",
    "\n",
    "# plot the matrix per se\n",
    "plt.imshow(matrix, interpolation='nearest', cmap=plt.cm.Blues)\n",
    "\n",
    "# plot colorbar to the right\n",
    "plt.colorbar()\n",
    "\n",
    "fmt = 'd'\n",
    "\n",
    "# write the number of predictions in each bucket\n",
    "thresh = matrix.max() / 2.\n",
    "for i, j in itertools.product(range(matrix.shape[0]), range(matrix.shape[1])):\n",
    "\n",
    "    # if background is dark, use a white number, and vice-versa\n",
    "    plt.text(j, i, format(matrix[i, j], fmt),\n",
    "         horizontalalignment=\"center\",\n",
    "         color=\"white\" if matrix[i, j] > thresh else \"black\")\n",
    "\n",
    "tick_marks = np.arange(len(class_names))\n",
    "plt.xticks(tick_marks, class_names, rotation=45)\n",
    "plt.yticks(tick_marks, class_names)\n",
    "plt.tight_layout()\n",
    "plt.ylabel('True label',size=14)\n",
    "plt.xlabel('Predicted label',size=14)\n",
    "plt.show()"
   ]
  },
  {
   "cell_type": "code",
   "execution_count": 456,
   "metadata": {},
   "outputs": [],
   "source": [
    "precision, recall, thresholds = precision_recall_curve(y_test, y_pred)"
   ]
  },
  {
   "cell_type": "code",
   "execution_count": 560,
   "metadata": {},
   "outputs": [
    {
     "name": "stdout",
     "output_type": "stream",
     "text": [
      "Best Threshold=0.390996, F-Score=0.807\n"
     ]
    },
    {
     "data": {
      "image/png": "[encoded data removed]",
      "text/plain": [
       "<Figure size 576x396 with 1 Axes>"
      ]
     },
     "metadata": {},
     "output_type": "display_data"
    }
   ],
   "source": [
    "model = RandomForestClassifier(n_estimators=100, max_depth= 30, max_features=.75, criterion='entropy', min_samples_split=15, class_weight='balanced')  \n",
    "clf=model.fit(X_train, y_train)  \n",
    "y_pred = clf.predict_proba(X_test)\n",
    "# keep probabilities for the positive outcome only\n",
    "y_pred = y_pred[:, 1]\n",
    "# calculate pr-curve\n",
    "precision, recall, thresholds = precision_recall_curve(y_test, y_pred)\n",
    "# plot the roc curve for the model\n",
    "b=1\n",
    "fscore = (1+b*b) * ((precision * recall) / (((b*b)*precision) + recall))\n",
    "# locate the index of the largest f score\n",
    "ix = argmax(fscore)\n",
    "print('Best Threshold=%f, F-Score=%.3f' % (thresholds[ix], fscore[ix]))\n",
    "# plot the roc curve for the model\n",
    "no_skill = len(y_test[y_test==1]) / len(y_test)\n",
    "pyplot.plot([0,1], [no_skill,no_skill], linestyle='--', label='No Skill')\n",
    "pyplot.plot(recall, precision, marker='.', label='Logistic')\n",
    "pyplot.scatter(recall[ix], precision[ix], marker='o', color='black', label='Best')\n",
    "# axis labels\n",
    "pyplot.xlabel('Recall')\n",
    "pyplot.ylabel('Precision')\n",
    "pyplot.legend()\n",
    "# show the plot\n",
    "pyplot.show()\n"
   ]
  },
  {
   "cell_type": "code",
   "execution_count": 445,
   "metadata": {},
   "outputs": [
    {
     "name": "stdout",
     "output_type": "stream",
     "text": [
      "Best Threshold=0.474505, F-Score=0.787\n"
     ]
    }
   ],
   "source": [
    "from numpy import argmax\n",
    "fscore = (2 * precision * recall) / (precision + recall)\n",
    "# locate the index of the largest f score\n",
    "ix = argmax(fscore)\n",
    "print('Best Threshold=%f, F-Score=%.3f' % (thresholds[ix], fscore[ix]))"
   ]
  },
  {
   "cell_type": "code",
   "execution_count": 538,
   "metadata": {},
   "outputs": [
    {
     "name": "stdout",
     "output_type": "stream",
     "text": [
      "1       0\n",
      "13      0\n",
      "14      0\n",
      "20      0\n",
      "22      0\n",
      "       ..\n",
      "3435    0\n",
      "3445    1\n",
      "3448    0\n",
      "3451    1\n",
      "3454    0\n",
      "Name: truth, Length: 850, dtype: category\n",
      "Categories (2, int64): [0, 1]\n"
     ]
    }
   ],
   "source": [
    "print(y_test)"
   ]
  },
  {
   "cell_type": "code",
   "execution_count": 542,
   "metadata": {},
   "outputs": [
    {
     "data": {
      "text/plain": [
       "numpy.ndarray"
      ]
     },
     "execution_count": 542,
     "metadata": {},
     "output_type": "execute_result"
    }
   ],
   "source": [
    "type(y_pred)"
   ]
  },
  {
   "cell_type": "markdown",
   "metadata": {},
   "source": [
    "-------------------------------------------\n",
    "\n",
    "## Other Truth Inference Techniques"
   ]
  },
  {
   "cell_type": "code",
   "execution_count": 724,
   "metadata": {},
   "outputs": [
    {
     "data": {
      "text/plain": [
       "(850, 4)"
      ]
     },
     "execution_count": 724,
     "metadata": {},
     "output_type": "execute_result"
    }
   ],
   "source": [
    "from sklearn import preprocessing\n",
    "from sklearn.metrics import f1_score\n",
    "from yellowbrick.classifier import ROCAUC\n",
    "from imblearn.metrics import classification_report_imbalanced\n",
    "\n",
    "df= pd.read_csv(\"Inference Methods/PA-MV-test.csv\", sep=',')\n",
    "df = df.drop_duplicates(subset=['question'])\n",
    "df.shape"
   ]
  },
  {
   "cell_type": "code",
   "execution_count": 725,
   "metadata": {},
   "outputs": [
    {
     "data": {
      "text/html": [
       "<div>\n",
       "<style scoped>\n",
       "    .dataframe tbody tr th:only-of-type {\n",
       "        vertical-align: middle;\n",
       "    }\n",
       "\n",
       "    .dataframe tbody tr th {\n",
       "        vertical-align: top;\n",
       "    }\n",
       "\n",
       "    .dataframe thead th {\n",
       "        text-align: right;\n",
       "    }\n",
       "</style>\n",
       "<table border=\"1\" class=\"dataframe\">\n",
       "  <thead>\n",
       "    <tr style=\"text-align: right;\">\n",
       "      <th></th>\n",
       "      <th>question</th>\n",
       "      <th>result</th>\n",
       "      <th>truth</th>\n",
       "      <th>dif</th>\n",
       "    </tr>\n",
       "  </thead>\n",
       "  <tbody>\n",
       "    <tr>\n",
       "      <th>0</th>\n",
       "      <td>5cf83c1d44578a0664ea03ba</td>\n",
       "      <td>0</td>\n",
       "      <td>0</td>\n",
       "      <td>0</td>\n",
       "    </tr>\n",
       "    <tr>\n",
       "      <th>1</th>\n",
       "      <td>5cf83d3e44578a066414a4bc</td>\n",
       "      <td>0</td>\n",
       "      <td>0</td>\n",
       "      <td>0</td>\n",
       "    </tr>\n",
       "    <tr>\n",
       "      <th>2</th>\n",
       "      <td>5cf83fdf44578a06646846b3</td>\n",
       "      <td>1</td>\n",
       "      <td>1</td>\n",
       "      <td>0</td>\n",
       "    </tr>\n",
       "    <tr>\n",
       "      <th>3</th>\n",
       "      <td>5cf845e544578a0664750f34</td>\n",
       "      <td>1</td>\n",
       "      <td>1</td>\n",
       "      <td>0</td>\n",
       "    </tr>\n",
       "    <tr>\n",
       "      <th>4</th>\n",
       "      <td>5cf8476344578a0664a2ac0e</td>\n",
       "      <td>1</td>\n",
       "      <td>1</td>\n",
       "      <td>0</td>\n",
       "    </tr>\n",
       "  </tbody>\n",
       "</table>\n",
       "</div>"
      ],
      "text/plain": [
       "                   question  result  truth  dif\n",
       "0  5cf83c1d44578a0664ea03ba       0      0    0\n",
       "1  5cf83d3e44578a066414a4bc       0      0    0\n",
       "2  5cf83fdf44578a06646846b3       1      1    0\n",
       "3  5cf845e544578a0664750f34       1      1    0\n",
       "4  5cf8476344578a0664a2ac0e       1      1    0"
      ]
     },
     "execution_count": 725,
     "metadata": {},
     "output_type": "execute_result"
    }
   ],
   "source": [
    "df.head()"
   ]
  },
  {
   "cell_type": "code",
   "execution_count": 726,
   "metadata": {},
   "outputs": [],
   "source": [
    "y_test= df['truth']\n",
    "y_pred= df['result']\n",
    "\n",
    "f1=f1_score(y_test, y_pred, average='micro')"
   ]
  },
  {
   "cell_type": "code",
   "execution_count": 727,
   "metadata": {},
   "outputs": [
    {
     "name": "stdout",
     "output_type": "stream",
     "text": [
      "f-score: 0.8494117647058823\n",
      "                   pre       rec       spe        f1       geo       iba       sup\n",
      "\n",
      "          0       0.84      0.93      0.72      0.88      0.82      0.69       517\n",
      "          1       0.88      0.72      0.93      0.79      0.82      0.66       333\n",
      "\n",
      "avg / total       0.85      0.85      0.80      0.85      0.82      0.67       850\n",
      "\n"
     ]
    }
   ],
   "source": [
    "print(f'f-score: {f1}')\n",
    "print(classification_report_imbalanced(y_test, y_pred))"
   ]
  },
  {
   "cell_type": "code",
   "execution_count": 728,
   "metadata": {},
   "outputs": [
    {
     "data": {
      "text/html": [
       "<div>\n",
       "<style scoped>\n",
       "    .dataframe tbody tr th:only-of-type {\n",
       "        vertical-align: middle;\n",
       "    }\n",
       "\n",
       "    .dataframe tbody tr th {\n",
       "        vertical-align: top;\n",
       "    }\n",
       "\n",
       "    .dataframe thead th {\n",
       "        text-align: right;\n",
       "    }\n",
       "</style>\n",
       "<table border=\"1\" class=\"dataframe\">\n",
       "  <thead>\n",
       "    <tr style=\"text-align: right;\">\n",
       "      <th>result</th>\n",
       "      <th>0</th>\n",
       "      <th>1</th>\n",
       "    </tr>\n",
       "    <tr>\n",
       "      <th>truth</th>\n",
       "      <th></th>\n",
       "      <th></th>\n",
       "    </tr>\n",
       "  </thead>\n",
       "  <tbody>\n",
       "    <tr>\n",
       "      <th>0</th>\n",
       "      <td>483</td>\n",
       "      <td>34</td>\n",
       "    </tr>\n",
       "    <tr>\n",
       "      <th>1</th>\n",
       "      <td>94</td>\n",
       "      <td>239</td>\n",
       "    </tr>\n",
       "  </tbody>\n",
       "</table>\n",
       "</div>"
      ],
      "text/plain": [
       "result    0    1\n",
       "truth           \n",
       "0       483   34\n",
       "1        94  239"
      ]
     },
     "execution_count": 728,
     "metadata": {},
     "output_type": "execute_result"
    }
   ],
   "source": [
    "df_confusion = pd.crosstab(y_test, y_pred)\n",
    "df_confusion"
   ]
  },
  {
   "cell_type": "code",
   "execution_count": 729,
   "metadata": {},
   "outputs": [],
   "source": [
    "precision, recall, _ = precision_recall_curve(y_test, y_pred)\n",
    "auc_score = auc(recall, precision)"
   ]
  },
  {
   "cell_type": "code",
   "execution_count": 730,
   "metadata": {},
   "outputs": [
    {
     "data": {
      "text/plain": [
       "0.8518819142348555"
      ]
     },
     "execution_count": 730,
     "metadata": {},
     "output_type": "execute_result"
    }
   ],
   "source": [
    "auc_score"
   ]
  },
  {
   "cell_type": "code",
   "execution_count": 731,
   "metadata": {},
   "outputs": [
    {
     "data": {
      "text/plain": [
       "array([0.39176471, 0.87545788, 1.        ])"
      ]
     },
     "execution_count": 731,
     "metadata": {},
     "output_type": "execute_result"
    }
   ],
   "source": [
    "precision"
   ]
  },
  {
   "cell_type": "code",
   "execution_count": 732,
   "metadata": {},
   "outputs": [],
   "source": [
    "precision, recall, thresholds = precision_recall_curve(y_test, y_pred)\n",
    "b=2\n",
    "fscore = (1+b*b) * ((precision * recall) / (((b*b)*precision) + recall))"
   ]
  },
  {
   "cell_type": "code",
   "execution_count": 734,
   "metadata": {},
   "outputs": [
    {
     "data": {
      "text/plain": [
       "array([0.76306141, 0.74454829, 0.        ])"
      ]
     },
     "execution_count": 734,
     "metadata": {},
     "output_type": "execute_result"
    }
   ],
   "source": [
    "fscore"
   ]
  },
  {
   "cell_type": "code",
   "execution_count": 274,
   "metadata": {},
   "outputs": [],
   "source": [
    "f1 = f1_score(y_test, y_pred)"
   ]
  },
  {
   "cell_type": "code",
   "execution_count": 275,
   "metadata": {},
   "outputs": [
    {
     "data": {
      "text/plain": [
       "0.7887788778877889"
      ]
     },
     "execution_count": 275,
     "metadata": {},
     "output_type": "execute_result"
    }
   ],
   "source": [
    "f1"
   ]
  },
  {
   "cell_type": "code",
   "execution_count": 276,
   "metadata": {},
   "outputs": [
    {
     "data": {
      "image/png": "[encoded data removed]",
      "text/plain": [
       "<Figure size 576x396 with 1 Axes>"
      ]
     },
     "metadata": {},
     "output_type": "display_data"
    }
   ],
   "source": [
    "from matplotlib import pyplot\n",
    "pyplot.plot(recall, precision, marker='.', label='Logistic')\n",
    "# axis labels\n",
    "pyplot.xlabel('Recall')\n",
    "pyplot.ylabel('Precision')\n",
    "# show the legend\n",
    "pyplot.legend()\n",
    "# show the plot\n",
    "pyplot.show()"
   ]
  },
  {
   "cell_type": "code",
   "execution_count": 277,
   "metadata": {},
   "outputs": [],
   "source": [
    "from sklearn.metrics import roc_curve\n",
    "from sklearn.metrics import roc_auc_score"
   ]
  },
  {
   "cell_type": "code",
   "execution_count": 278,
   "metadata": {},
   "outputs": [
    {
     "data": {
      "text/plain": [
       "0.8259768472534429"
      ]
     },
     "execution_count": 278,
     "metadata": {},
     "output_type": "execute_result"
    }
   ],
   "source": [
    "\n",
    "lr_auc = roc_auc_score(y_test, y_pred)\n",
    "lr_auc"
   ]
  },
  {
   "cell_type": "code",
   "execution_count": 279,
   "metadata": {},
   "outputs": [],
   "source": [
    "lr_fpr, lr_tpr, _ = roc_curve(y_test, y_pred)"
   ]
  },
  {
   "cell_type": "code",
   "execution_count": 280,
   "metadata": {},
   "outputs": [
    {
     "data": {
      "image/png": "[encoded data removed]",
      "text/plain": [
       "<Figure size 576x396 with 1 Axes>"
      ]
     },
     "metadata": {},
     "output_type": "display_data"
    }
   ],
   "source": [
    "pyplot.plot(lr_fpr, lr_tpr, marker='.', label='Logistic')\n",
    "# axis labels\n",
    "pyplot.xlabel('False Positive Rate')\n",
    "pyplot.ylabel('True Positive Rate')\n",
    "# show the legend\n",
    "pyplot.legend()\n",
    "# show the plot\n",
    "pyplot.show()"
   ]
  },
  {
   "cell_type": "code",
   "execution_count": null,
   "metadata": {},
   "outputs": [],
   "source": []
  },
  {
   "cell_type": "code",
   "execution_count": null,
   "metadata": {},
   "outputs": [],
   "source": []
  }
 ],
 "metadata": {
  "kernelspec": {
   "display_name": "Python 3",
   "language": "python",
   "name": "python3"
  },
  "language_info": {
   "codemirror_mode": {
    "name": "ipython",
    "version": 3
   },
   "file_extension": ".py",
   "mimetype": "text/x-python",
   "name": "python",
   "nbconvert_exporter": "python",
   "pygments_lexer": "ipython3",
   "version": "3.8.10"
  }
 },
 "nbformat": 4,
 "nbformat_minor": 4
}
