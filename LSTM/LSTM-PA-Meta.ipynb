{
 "cells": [
  {
   "cell_type": "code",
   "execution_count": 142,
   "metadata": {},
   "outputs": [
    {
     "name": "stdout",
     "output_type": "stream",
     "text": [
      "['model_1b.h5', 'model_plot3.png', 'model_1c.h5', 'text.csv', 'LSTM-PA-Meta.ipynb', 'Sentiment.csv', 'LSTM-B-OnlyText.ipynb', 'LearnPipeline.ipynb', 'model_1.h5', 'PA-multi-LSTM.csv', 'glove.840B.300d.txt', 'LSTM-PA-MetaText.ipynb', 'PA-all.csv', 'model_2.h5', 'LSTM-B.ipynb', 'dfout.csv', 'model.hdf5', 'timezone-PA-B.csv', 'LSTM-MultipleFeatures-CleanLab.ipynb', 'glove.twitter.27B.200d.txt', '.ipynb_checkpoints', 'LSTM-B-AllFeatures.ipynb', 'PA-Truth.csv', 'model_1d.h5', 'LSTM-MultipleFeatures-NoV.ipynb', 'PA-MV-LSTM.csv']\n"
     ]
    }
   ],
   "source": [
    "import os\n",
    "import re\n",
    "\n",
    "import numpy as np\n",
    "import tensorflow as tf\n",
    "\n",
    "np.random.seed(1)\n",
    "tf.random.set_seed(2)\n",
    "\n",
    "import pandas as pd\n",
    "import keras\n",
    "# from tqdm import tqdm\n",
    "from tqdm import tqdm_notebook as tqdm\n",
    "from sklearn.model_selection import train_test_split\n",
    "from sklearn.preprocessing import LabelEncoder\n",
    "from sklearn.utils import class_weight\n",
    "from sklearn.metrics import f1_score, classification_report, log_loss\n",
    "\n",
    "from keras.preprocessing.text import Tokenizer\n",
    "from keras.preprocessing.sequence import pad_sequences\n",
    "from keras.utils import to_categorical\n",
    "\n",
    "from keras.models import Sequential\n",
    "from keras.layers import Embedding, LSTM, Dense, SpatialDropout1D, Bidirectional, Flatten\n",
    "from keras.layers import Dropout, Conv1D, GlobalMaxPool1D, GRU, GlobalAvgPool1D\n",
    "from keras.optimizers import Adam\n",
    "from keras.callbacks import ModelCheckpoint, EarlyStopping\n",
    "\n",
    "print(os.listdir('../LSTM'))"
   ]
  },
  {
   "cell_type": "code",
   "execution_count": 143,
   "metadata": {},
   "outputs": [
    {
     "data": {
      "text/plain": [
       "Index(['A1', 'A2', 'A3', 'hour', 'weekday', 'truth', 'month', 'age', 'sex',\n",
       "       'org', 'RMV', 'REM', 'RGLAD', 'RLFC', 'text'],\n",
       "      dtype='object')"
      ]
     },
     "execution_count": 143,
     "metadata": {},
     "output_type": "execute_result"
    }
   ],
   "source": [
    "data = pd.read_csv('PA-multi-LSTM.csv')\n",
    "data= data[data['hour']!='dummy']\n",
    "data['A1']=data['A1'].astype(\"category\")\n",
    "data['A2']=data['A2'].astype(\"category\")\n",
    "data['A3']=data['A3'].astype(\"category\")\n",
    "data['sex']=data['sex'].astype(\"category\")\n",
    "data['age']=data['age'].astype(\"category\")\n",
    "data['org']=data['org'].astype(\"category\")\n",
    "data['weekday']=data['weekday'].astype(\"category\")\n",
    "data['RMV']=data['RMV'].astype(\"category\")\n",
    "data['hour']=data['hour'].astype(\"int\")\n",
    "data['month']=data['month'].astype(\"int\")\n",
    "data['truth']=data['truth'].astype(\"category\")\n",
    "data.head()\n",
    "\n",
    "\n",
    "\n",
    "# #data['truth']=np.where(data['truth'] ==1, 'YY', data['truth'])\n",
    "# data['truth']=np.where(data['truth'] ==2, '0', data['truth'])\n",
    "# data['truth']=np.where(data['truth'] =='3', '0', data['truth'])\n",
    "# data['truth']=np.where(data['truth'] =='4', '0', data['truth'])\n",
    "# data['truth']=np.where(data['truth'] =='5', '0', data['truth'])\n",
    "\n",
    "# #data['A1']=np.where(data['A1'] ==1, 'YY', data['A1'])\n",
    "# data['A1']=np.where(data['A1'] ==2, '0', data['A1'])\n",
    "# data['A1']=np.where(data['A1'] =='3', '0', data['A1'])\n",
    "# data['A1']=np.where(data['A1'] =='4', '0', data['A1'])\n",
    "# data['A1']=np.where(data['A1'] =='5', '0', data['A1'])\n",
    "# #data['A2']=np.where(data['A2'] ==1, 'YY', data['A2'])\n",
    "# data['A2']=np.where(data['A2'] ==2, '0', data['A2'])\n",
    "# data['A2']=np.where(data['A2'] =='3', '0', data['A2'])\n",
    "# data['A2']=np.where(data['A2'] =='4', '0', data['A2'])\n",
    "# data['A2']=np.where(data['A2'] =='5', '0', data['A2'])\n",
    "# #data['A3']=np.where(data['A3'] ==1, 'YY', data['A3'])\n",
    "# data['A3']=np.where(data['A3'] ==2, '0', data['A3'])\n",
    "# data['A3']=np.where(data['A3'] =='3', '0', data['A3'])\n",
    "# data['A3']=np.where(data['A3'] =='4', '0', data['A3'])\n",
    "# data['A3']=np.where(data['A3'] =='5', '0', data['A3'])\n",
    "\n",
    "data.columns"
   ]
  },
  {
   "cell_type": "code",
   "execution_count": 144,
   "metadata": {},
   "outputs": [],
   "source": [
    "data= data[data['truth']!=5]\n",
    "data= data[data['A1']!=5]\n",
    "data= data[data['A2']!=5]\n",
    "data= data[data['A3']!='5']\n",
    "data= data[data['RMV']!=5]\n",
    "data= data[data['REM']!=5]\n",
    "data= data[data['RGLAD']!=5]\n",
    "data= data[data['RLFC']!=5]"
   ]
  },
  {
   "cell_type": "code",
   "execution_count": 145,
   "metadata": {},
   "outputs": [
    {
     "data": {
      "text/html": [
       "<div>\n",
       "<style scoped>\n",
       "    .dataframe tbody tr th:only-of-type {\n",
       "        vertical-align: middle;\n",
       "    }\n",
       "\n",
       "    .dataframe tbody tr th {\n",
       "        vertical-align: top;\n",
       "    }\n",
       "\n",
       "    .dataframe thead th {\n",
       "        text-align: right;\n",
       "    }\n",
       "</style>\n",
       "<table border=\"1\" class=\"dataframe\">\n",
       "  <thead>\n",
       "    <tr style=\"text-align: right;\">\n",
       "      <th></th>\n",
       "      <th>hour</th>\n",
       "      <th>truth</th>\n",
       "      <th>text</th>\n",
       "      <th>A1_1</th>\n",
       "      <th>A1_2</th>\n",
       "      <th>A1_3</th>\n",
       "      <th>A1_4</th>\n",
       "      <th>A1_5</th>\n",
       "      <th>A2_1</th>\n",
       "      <th>A2_2</th>\n",
       "      <th>...</th>\n",
       "      <th>REM_3</th>\n",
       "      <th>REM_4</th>\n",
       "      <th>RGLAD_1</th>\n",
       "      <th>RGLAD_2</th>\n",
       "      <th>RGLAD_3</th>\n",
       "      <th>RGLAD_4</th>\n",
       "      <th>RLFC_1</th>\n",
       "      <th>RLFC_2</th>\n",
       "      <th>RLFC_3</th>\n",
       "      <th>RLFC_4</th>\n",
       "    </tr>\n",
       "  </thead>\n",
       "  <tbody>\n",
       "    <tr>\n",
       "      <th>0</th>\n",
       "      <td>19</td>\n",
       "      <td>1</td>\n",
       "      <td>A lovely hike up Mt. McIntyre today...December...</td>\n",
       "      <td>1</td>\n",
       "      <td>0</td>\n",
       "      <td>0</td>\n",
       "      <td>0</td>\n",
       "      <td>0</td>\n",
       "      <td>0</td>\n",
       "      <td>1</td>\n",
       "      <td>...</td>\n",
       "      <td>0</td>\n",
       "      <td>0</td>\n",
       "      <td>1</td>\n",
       "      <td>0</td>\n",
       "      <td>0</td>\n",
       "      <td>0</td>\n",
       "      <td>1</td>\n",
       "      <td>0</td>\n",
       "      <td>0</td>\n",
       "      <td>0</td>\n",
       "    </tr>\n",
       "    <tr>\n",
       "      <th>1</th>\n",
       "      <td>17</td>\n",
       "      <td>1</td>\n",
       "      <td>A lovely hike at the Research Forest Near Whit...</td>\n",
       "      <td>1</td>\n",
       "      <td>0</td>\n",
       "      <td>0</td>\n",
       "      <td>0</td>\n",
       "      <td>0</td>\n",
       "      <td>0</td>\n",
       "      <td>0</td>\n",
       "      <td>...</td>\n",
       "      <td>0</td>\n",
       "      <td>1</td>\n",
       "      <td>0</td>\n",
       "      <td>0</td>\n",
       "      <td>0</td>\n",
       "      <td>1</td>\n",
       "      <td>0</td>\n",
       "      <td>0</td>\n",
       "      <td>0</td>\n",
       "      <td>1</td>\n",
       "    </tr>\n",
       "    <tr>\n",
       "      <th>2</th>\n",
       "      <td>19</td>\n",
       "      <td>1</td>\n",
       "      <td>A Lovely day for a hike in the Yukon! The leav...</td>\n",
       "      <td>1</td>\n",
       "      <td>0</td>\n",
       "      <td>0</td>\n",
       "      <td>0</td>\n",
       "      <td>0</td>\n",
       "      <td>0</td>\n",
       "      <td>0</td>\n",
       "      <td>...</td>\n",
       "      <td>0</td>\n",
       "      <td>0</td>\n",
       "      <td>1</td>\n",
       "      <td>0</td>\n",
       "      <td>0</td>\n",
       "      <td>0</td>\n",
       "      <td>1</td>\n",
       "      <td>0</td>\n",
       "      <td>0</td>\n",
       "      <td>0</td>\n",
       "    </tr>\n",
       "    <tr>\n",
       "      <th>3</th>\n",
       "      <td>21</td>\n",
       "      <td>4</td>\n",
       "      <td>After yesterday’s massive snowstorm and Bully ...</td>\n",
       "      <td>0</td>\n",
       "      <td>0</td>\n",
       "      <td>0</td>\n",
       "      <td>1</td>\n",
       "      <td>0</td>\n",
       "      <td>0</td>\n",
       "      <td>0</td>\n",
       "      <td>...</td>\n",
       "      <td>0</td>\n",
       "      <td>1</td>\n",
       "      <td>0</td>\n",
       "      <td>0</td>\n",
       "      <td>0</td>\n",
       "      <td>1</td>\n",
       "      <td>0</td>\n",
       "      <td>0</td>\n",
       "      <td>0</td>\n",
       "      <td>1</td>\n",
       "    </tr>\n",
       "    <tr>\n",
       "      <th>4</th>\n",
       "      <td>22</td>\n",
       "      <td>2</td>\n",
       "      <td>Me when my lil cousins try to wrestle me on Tu...</td>\n",
       "      <td>0</td>\n",
       "      <td>1</td>\n",
       "      <td>0</td>\n",
       "      <td>0</td>\n",
       "      <td>0</td>\n",
       "      <td>0</td>\n",
       "      <td>1</td>\n",
       "      <td>...</td>\n",
       "      <td>0</td>\n",
       "      <td>0</td>\n",
       "      <td>0</td>\n",
       "      <td>1</td>\n",
       "      <td>0</td>\n",
       "      <td>0</td>\n",
       "      <td>0</td>\n",
       "      <td>1</td>\n",
       "      <td>0</td>\n",
       "      <td>0</td>\n",
       "    </tr>\n",
       "  </tbody>\n",
       "</table>\n",
       "<p>5 rows × 62 columns</p>\n",
       "</div>"
      ],
      "text/plain": [
       "   hour truth                                               text  A1_1  A1_2  \\\n",
       "0    19     1  A lovely hike up Mt. McIntyre today...December...     1     0   \n",
       "1    17     1  A lovely hike at the Research Forest Near Whit...     1     0   \n",
       "2    19     1  A Lovely day for a hike in the Yukon! The leav...     1     0   \n",
       "3    21     4  After yesterday’s massive snowstorm and Bully ...     0     0   \n",
       "4    22     2  Me when my lil cousins try to wrestle me on Tu...     0     1   \n",
       "\n",
       "   A1_3  A1_4  A1_5  A2_1  A2_2  ...  REM_3  REM_4  RGLAD_1  RGLAD_2  RGLAD_3  \\\n",
       "0     0     0     0     0     1  ...      0      0        1        0        0   \n",
       "1     0     0     0     0     0  ...      0      1        0        0        0   \n",
       "2     0     0     0     0     0  ...      0      0        1        0        0   \n",
       "3     0     1     0     0     0  ...      0      1        0        0        0   \n",
       "4     0     0     0     0     1  ...      0      0        0        1        0   \n",
       "\n",
       "   RGLAD_4  RLFC_1  RLFC_2  RLFC_3  RLFC_4  \n",
       "0        0       1       0       0       0  \n",
       "1        1       0       0       0       1  \n",
       "2        0       1       0       0       0  \n",
       "3        1       0       0       0       1  \n",
       "4        0       0       1       0       0  \n",
       "\n",
       "[5 rows x 62 columns]"
      ]
     },
     "execution_count": 145,
     "metadata": {},
     "output_type": "execute_result"
    }
   ],
   "source": [
    "\n",
    "data = pd.get_dummies(data, prefix=['A1', 'A2', 'A3', 'weekday', 'month', 'age', 'sex',\n",
    "       'org', 'RMV', 'REM', 'RGLAD', 'RLFC'], columns=['A1', 'A2', 'A3', 'weekday', 'month', 'age', 'sex',\n",
    "       'org', 'RMV', 'REM', 'RGLAD', 'RLFC'], drop_first=False)\n",
    "data.head()\n"
   ]
  },
  {
   "cell_type": "code",
   "execution_count": 146,
   "metadata": {},
   "outputs": [
    {
     "data": {
      "text/plain": [
       "Index(['hour', 'truth', 'text', 'A1_1', 'A1_2', 'A1_3', 'A1_4', 'A1_5', 'A2_1',\n",
       "       'A2_2', 'A2_3', 'A2_4', 'A2_5', 'A3_1', 'A3_2', 'A3_3', 'A3_4', 'A3_5',\n",
       "       'weekday_Fri', 'weekday_Mon', 'weekday_Sat', 'weekday_Sun',\n",
       "       'weekday_Thu', 'weekday_Tue', 'weekday_Wed', 'month_1', 'month_2',\n",
       "       'month_3', 'month_4', 'month_5', 'month_6', 'month_7', 'month_8',\n",
       "       'month_9', 'month_10', 'month_11', 'month_12', 'age_19-29', 'age_30-39',\n",
       "       'age_<=18', 'age_>=40', 'sex_female', 'sex_male', 'org_is-org',\n",
       "       'org_non-org', 'RMV_1', 'RMV_2', 'RMV_3', 'RMV_4', 'RMV_5', 'REM_1',\n",
       "       'REM_2', 'REM_3', 'REM_4', 'RGLAD_1', 'RGLAD_2', 'RGLAD_3', 'RGLAD_4',\n",
       "       'RLFC_1', 'RLFC_2', 'RLFC_3', 'RLFC_4'],\n",
       "      dtype='object')"
      ]
     },
     "execution_count": 146,
     "metadata": {},
     "output_type": "execute_result"
    }
   ],
   "source": [
    "data.columns"
   ]
  },
  {
   "cell_type": "code",
   "execution_count": null,
   "metadata": {},
   "outputs": [],
   "source": []
  },
  {
   "cell_type": "code",
   "execution_count": 147,
   "metadata": {},
   "outputs": [],
   "source": [
    "X = data.drop('truth', axis=1)\n",
    "\n",
    "y = data['truth']"
   ]
  },
  {
   "cell_type": "code",
   "execution_count": 148,
   "metadata": {},
   "outputs": [],
   "source": [
    "from sklearn import preprocessing\n",
    "from keras.utils import np_utils\n",
    "from keras.utils import to_categorical\n",
    "\n",
    "# label_encoder object knows how to understand word labels.\n",
    "# label_encoder = preprocessing.LabelEncoder()\n",
    "\n",
    "# # Encode labels in column 'species'.\n",
    "# y = label_encoder.fit_transform(y)\n",
    "# encode class values as integers\n",
    "# encoder = LabelEncoder()\n",
    "# encoder.fit(y)\n",
    "# encoded_Y = encoder.transform(y)\n",
    "# # convert integers to dummy variables (i.e. one hot encoded)\n",
    "# dummy_y = np_utils.to_categorical(encoded_Y)\n",
    "\n",
    "# label_encoder object knows how to understand word labels.\n",
    "label_encoder = preprocessing.LabelEncoder()\n",
    "\n",
    "# Encode labels in column 'species'.\n",
    "y = label_encoder.fit_transform(y)\n",
    "X_train, X_test, y_train, y_test = train_test_split(X, y, test_size=0.30, random_state=42)\n",
    "\n",
    "from keras.utils import to_categorical\n",
    "y_train = to_categorical(y_train)\n",
    "y_test = to_categorical(y_test)\n",
    "\n",
    "\n",
    "# make the model and load the training dataset.\n",
    "\n",
    "#y_train = to_categorical(y_train)"
   ]
  },
  {
   "cell_type": "code",
   "execution_count": 149,
   "metadata": {},
   "outputs": [
    {
     "data": {
      "text/plain": [
       "array([[1., 0., 0., 0.],\n",
       "       [0., 0., 0., 1.],\n",
       "       [0., 0., 0., 1.],\n",
       "       ...,\n",
       "       [0., 0., 0., 1.],\n",
       "       [1., 0., 0., 0.],\n",
       "       [0., 0., 0., 1.]], dtype=float32)"
      ]
     },
     "execution_count": 149,
     "metadata": {},
     "output_type": "execute_result"
    }
   ],
   "source": [
    "y_train"
   ]
  },
  {
   "cell_type": "code",
   "execution_count": 150,
   "metadata": {},
   "outputs": [],
   "source": [
    "dic = {\"`\":\"'\", \"’\":\"'\", \"‘\":\"'\", \"´\":\"'\",\"ain't\": \"is not\", \"aren't\": \"are not\",\"can't\": \"cannot\", \"'cause\": \"because\", \"could've\": \"could have\",\n",
    "                       \"couldn't\": \"could not\", \"didn't\": \"did not\",  \"doesn't\": \"does not\", \"don't\": \"do not\", \"hadn't\": \"had not\",\n",
    "                       \"hasn't\": \"has not\", \"haven't\": \"have not\", \"he'd\": \"he would\",\"he'll\": \"he will\", \"he's\": \"he is\", \"how'd\": \"how did\",\n",
    "                       \"how'd'y\": \"how do you\", \"how'll\": \"how will\", \"how's\": \"how is\",  \"I'd\": \"I would\", \"I'd've\": \"I would have\",\n",
    "                       \"I'll\": \"I will\", \"I'll've\": \"I will have\",\"I'm\": \"I am\", \"I've\": \"I have\", \"i'd\": \"i would\", \"i'd've\": \"i would have\",\n",
    "                       \"i'll\": \"i will\",  \"i'll've\": \"i will have\",\"i'm\": \"i am\", \"i've\": \"i have\", \"isn't\": \"is not\", \"it'd\": \"it would\",\n",
    "                       \"it'd've\": \"it would have\", \"it'll\": \"it will\", \"it'll've\": \"it will have\",\"it's\": \"it is\", \"let's\": \"let us\",\n",
    "                       \"ma'am\": \"madam\", \"mayn't\": \"may not\", \"might've\": \"might have\",\"mightn't\": \"might not\",\"mightn't've\": \"might not have\",\n",
    "                       \"must've\": \"must have\", \"mustn't\": \"must not\", \"mustn't've\": \"must not have\", \"needn't\": \"need not\",\n",
    "                       \"needn't've\": \"need not have\",\"o'clock\": \"of the clock\", \"oughtn't\": \"ought not\", \"oughtn't've\": \"ought not have\",\n",
    "                       \"shan't\": \"shall not\", \"sha'n't\": \"shall not\", \"shan't've\": \"shall not have\", \"she'd\": \"she would\",\n",
    "                       \"she'd've\": \"she would have\", \"she'll\": \"she will\", \"she'll've\": \"she will have\", \"she's\": \"she is\",\n",
    "                       \"should've\": \"should have\", \"shouldn't\": \"should not\", \"shouldn't've\": \"should not have\", \"so've\": \"so have\",\n",
    "                       \"so's\": \"so as\", \"this's\": \"this is\",\"that'd\": \"that would\", \"that'd've\": \"that would have\", \"that's\": \"that is\",\n",
    "                       \"there'd\": \"there would\", \"there'd've\": \"there would have\", \"there's\": \"there is\", \"here's\": \"here is\",\"they'd\": \"they would\",\n",
    "                       \"they'd've\": \"they would have\", \"they'll\": \"they will\", \"they'll've\": \"they will have\", \"they're\": \"they are\",\n",
    "                       \"they've\": \"they have\", \"to've\": \"to have\", \"wasn't\": \"was not\", \"we'd\": \"we would\", \"we'd've\": \"we would have\",\n",
    "                       \"we'll\": \"we will\", \"we'll've\": \"we will have\", \"we're\": \"we are\", \"we've\": \"we have\", \"weren't\": \"were not\",\n",
    "                       \"what'll\": \"what will\", \"what'll've\": \"what will have\", \"what're\": \"what are\",  \"what's\": \"what is\", \"what've\": \"what have\",\n",
    "                       \"when's\": \"when is\", \"when've\": \"when have\", \"where'd\": \"where did\", \"where's\": \"where is\", \"where've\": \"where have\",\n",
    "                       \"who'll\": \"who will\", \"who'll've\": \"who will have\", \"who's\": \"who is\", \"who've\": \"who have\", \"why's\": \"why is\",\n",
    "                       \"why've\": \"why have\", \"will've\": \"will have\", \"won't\": \"will not\", \"won't've\": \"will not have\", \"would've\": \"would have\",\n",
    "                       \"wouldn't\": \"would not\", \"wouldn't've\": \"would not have\", \"y'all\": \"you all\", \"y'all'd\": \"you all would\",\n",
    "                       \"y'all'd've\": \"you all would have\",\"y'all're\": \"you all are\",\"y'all've\": \"you all have\",\"you'd\": \"you would\",\n",
    "                       \"you'd've\": \"you would have\", \"you'll\": \"you will\", \"you'll've\": \"you will have\", \"you're\": \"you are\", \"you've\": \"you have\",\n",
    "                       \"It's\": 'It is', \"Can't\": 'Can not', \"I've\": 'I have', \"\\n\":\" \", \"—\":\"\", \".\":\"\", \"…\":\"\", \"!\":\"\", \":\":\" \",\n",
    "                       \"-\":\" \",\"•\":\"\"}\n",
    "\n",
    "#\"😍\":\"lovely\" "
   ]
  },
  {
   "cell_type": "code",
   "execution_count": 151,
   "metadata": {},
   "outputs": [],
   "source": [
    "def preprocess_text(sen):\n",
    "\n",
    "    # Remove punctuations and numbers\n",
    "    sentence = re.sub('[^a-zA-Z]', ' ', sen)\n",
    "\n",
    "    # Single character removal\n",
    "    sentence = re.sub(r\"\\s+[a-zA-Z]\\s+\", ' ', sentence)\n",
    "\n",
    "    # Removing multiple spaces\n",
    "    sentence = re.sub(r'\\s+', ' ', sentence)\n",
    "    for i, j in dic.items():\n",
    "        sentence = sentence.lower().replace(i, j)\n",
    "    sentence = re.sub(r\"http[s]?://t.co/[A-Za-z0-9]*\",\" \",sentence) #URLs\n",
    "\n",
    "    return sentence"
   ]
  },
  {
   "cell_type": "code",
   "execution_count": 152,
   "metadata": {},
   "outputs": [],
   "source": [
    "X1_train = []\n",
    "sentences = list(X_train[\"text\"])\n",
    "for sen in sentences:\n",
    "    X1_train.append(preprocess_text(sen))"
   ]
  },
  {
   "cell_type": "code",
   "execution_count": null,
   "metadata": {},
   "outputs": [],
   "source": []
  },
  {
   "cell_type": "code",
   "execution_count": 153,
   "metadata": {},
   "outputs": [],
   "source": [
    "X1_test = []\n",
    "sentences = list(X_test[\"text\"])\n",
    "for sen in sentences:\n",
    "    X1_test.append(preprocess_text(sen))"
   ]
  },
  {
   "cell_type": "code",
   "execution_count": null,
   "metadata": {},
   "outputs": [],
   "source": []
  },
  {
   "cell_type": "code",
   "execution_count": 154,
   "metadata": {},
   "outputs": [],
   "source": [
    "tokenizer = Tokenizer()\n",
    "tokenizer.fit_on_texts(X1_train)\n",
    "\n",
    "X1_train = tokenizer.texts_to_sequences(X1_train)\n",
    "X1_test = tokenizer.texts_to_sequences(X1_test)\n",
    "\n",
    "vocab_size = len(tokenizer.word_index) + 1\n",
    "\n",
    "maxlen = 27\n",
    "\n",
    "X1_train = pad_sequences(X1_train, padding='post', maxlen=maxlen)\n",
    "X1_test = pad_sequences(X1_test, padding='post', maxlen=maxlen)"
   ]
  },
  {
   "cell_type": "code",
   "execution_count": 155,
   "metadata": {},
   "outputs": [],
   "source": [
    "from numpy import array\n",
    "from numpy import asarray\n",
    "from numpy import zeros\n",
    "\n",
    "embeddings_dictionary = dict()\n",
    "\n",
    "# glove_file = open('glove.twitter.27B.200d.txt', encoding=\"utf8\")\n",
    "\n",
    "# for line in glove_file:\n",
    "#     records = line.split()\n",
    "#     word = records[0]\n",
    "#     vector_dimensions = asarray(records[1:], dtype='float32')\n",
    "#     embeddings_dictionary[word] = vector_dimensions\n",
    "\n",
    "# glove_file.close()\n",
    "\n",
    "embedding_matrix = zeros((vocab_size, 200))\n",
    "for word, index in tokenizer.word_index.items():\n",
    "    embedding_vector = embeddings_dictionary.get(word)\n",
    "    if embedding_vector is not None:\n",
    "        embedding_matrix[index] = embedding_vector"
   ]
  },
  {
   "cell_type": "code",
   "execution_count": 156,
   "metadata": {},
   "outputs": [
    {
     "data": {
      "text/plain": [
       "Index(['hour', 'text', 'A1_1', 'A1_2', 'A1_3', 'A1_4', 'A1_5', 'A2_1', 'A2_2',\n",
       "       'A2_3', 'A2_4', 'A2_5', 'A3_1', 'A3_2', 'A3_3', 'A3_4', 'A3_5',\n",
       "       'weekday_Fri', 'weekday_Mon', 'weekday_Sat', 'weekday_Sun',\n",
       "       'weekday_Thu', 'weekday_Tue', 'weekday_Wed', 'month_1', 'month_2',\n",
       "       'month_3', 'month_4', 'month_5', 'month_6', 'month_7', 'month_8',\n",
       "       'month_9', 'month_10', 'month_11', 'month_12', 'age_19-29', 'age_30-39',\n",
       "       'age_<=18', 'age_>=40', 'sex_female', 'sex_male', 'org_is-org',\n",
       "       'org_non-org', 'RMV_1', 'RMV_2', 'RMV_3', 'RMV_4', 'RMV_5', 'REM_1',\n",
       "       'REM_2', 'REM_3', 'REM_4', 'RGLAD_1', 'RGLAD_2', 'RGLAD_3', 'RGLAD_4',\n",
       "       'RLFC_1', 'RLFC_2', 'RLFC_3', 'RLFC_4'],\n",
       "      dtype='object')"
      ]
     },
     "execution_count": 156,
     "metadata": {},
     "output_type": "execute_result"
    }
   ],
   "source": [
    "X.columns"
   ]
  },
  {
   "cell_type": "code",
   "execution_count": 157,
   "metadata": {},
   "outputs": [],
   "source": [
    "X2_train = X_train[['hour', 'A1_1', 'A1_2', 'A1_3', 'A1_4', 'A1_5', 'A2_1', 'A2_2',\n",
    "       'A2_3', 'A2_4', 'A2_5', 'A3_1', 'A3_2', 'A3_3', 'A3_4', 'A3_5',\n",
    "       'RMV_1', 'RMV_2', 'RMV_3', 'RMV_4', 'RMV_5', 'REM_1',\n",
    "       'REM_2', 'REM_3', 'REM_4', 'RGLAD_1', 'RGLAD_2', 'RGLAD_3', 'RGLAD_4',\n",
    "       'RLFC_1', 'RLFC_2', 'RLFC_3', 'RLFC_4']].values\n",
    "X2_test = X_test[['hour', 'A1_1', 'A1_2', 'A1_3', 'A1_4', 'A1_5', 'A2_1', 'A2_2',\n",
    "       'A2_3', 'A2_4', 'A2_5', 'A3_1', 'A3_2', 'A3_3', 'A3_4', 'A3_5',\n",
    "       'RMV_1', 'RMV_2', 'RMV_3', 'RMV_4', 'RMV_5', 'REM_1',\n",
    "       'REM_2', 'REM_3', 'REM_4', 'RGLAD_1', 'RGLAD_2', 'RGLAD_3', 'RGLAD_4',\n",
    "       'RLFC_1', 'RLFC_2', 'RLFC_3', 'RLFC_4']].values\n",
    "\n",
    "ncols=X2_train.shape[1]"
   ]
  },
  {
   "cell_type": "code",
   "execution_count": 158,
   "metadata": {},
   "outputs": [
    {
     "data": {
      "text/plain": [
       "33"
      ]
     },
     "execution_count": 158,
     "metadata": {},
     "output_type": "execute_result"
    }
   ],
   "source": [
    "ncols"
   ]
  },
  {
   "cell_type": "code",
   "execution_count": 159,
   "metadata": {},
   "outputs": [],
   "source": [
    "from keras.layers import Input\n",
    "from keras.layers import Dropout, Conv1D, GlobalMaxPool1D, GRU, GlobalAvgPool1D\n",
    "input_1 = Input(shape=(maxlen,))\n",
    "\n",
    "input_2 = Input(shape=(ncols,))"
   ]
  },
  {
   "cell_type": "code",
   "execution_count": 160,
   "metadata": {},
   "outputs": [],
   "source": [
    "embedding_layer = Embedding(vocab_size, 200, weights=[embedding_matrix], trainable=False)(input_1)\n",
    "#LSTM_Layer_1 = Bidirectional(LSTM(128, dropout=0.25, recurrent_dropout=0.25))(embedding_layer)\n",
    "LSTM_Layer_1 = LSTM(128, dropout=0.25, recurrent_dropout=0.25)(embedding_layer)\n",
    "LSTM_Layer_2 = Dense(64, activation='relu')(LSTM_Layer_1)\n"
   ]
  },
  {
   "cell_type": "code",
   "execution_count": 161,
   "metadata": {},
   "outputs": [],
   "source": [
    "dense_layer_1 = Dense(10, activation='relu')(input_2)\n",
    "dense_layer_2 = Dense(64, activation='relu')(dense_layer_1)"
   ]
  },
  {
   "cell_type": "code",
   "execution_count": 162,
   "metadata": {},
   "outputs": [],
   "source": [
    "from keras.layers import concatenate\n",
    "from keras.models import Model\n",
    "from keras.layers import Dropout, Conv1D, GlobalMaxPool1D, GRU, GlobalAvgPool1D\n",
    "\n",
    "# concat_layer = concatenate([LSTM_Layer_2, dense_layer_2])\n",
    "dense_layer_3 = Dense(10, activation='relu')(dense_layer_2)\n",
    "output = Dense(4, activation='softmax')(dense_layer_3)\n",
    "model = Model(inputs=input_2, outputs=output)"
   ]
  },
  {
   "cell_type": "code",
   "execution_count": 163,
   "metadata": {},
   "outputs": [
    {
     "name": "stdout",
     "output_type": "stream",
     "text": [
      "Model: \"functional_9\"\n",
      "_________________________________________________________________\n",
      "Layer (type)                 Output Shape              Param #   \n",
      "=================================================================\n",
      "input_11 (InputLayer)        [(None, 27)]              0         \n",
      "_________________________________________________________________\n",
      "embedding_4 (Embedding)      (None, 27, 200)           1812800   \n",
      "_________________________________________________________________\n",
      "lstm_4 (LSTM)                (None, 128)               168448    \n",
      "_________________________________________________________________\n",
      "dense_21 (Dense)             (None, 64)                8256      \n",
      "_________________________________________________________________\n",
      "dense_25 (Dense)             (None, 4)                 260       \n",
      "=================================================================\n",
      "Total params: 1,989,764\n",
      "Trainable params: 176,964\n",
      "Non-trainable params: 1,812,800\n",
      "_________________________________________________________________\n",
      "None\n"
     ]
    }
   ],
   "source": [
    "from keras import backend as K\n",
    "import tensorflow as tf\n",
    "from sklearn.metrics import roc_auc_score\n",
    "\n",
    "\n",
    "def recall_m(y_true, y_pred):\n",
    "    true_positives = K.sum(K.round(K.clip(y_true * y_pred, 0, 1)))\n",
    "    possible_positives = K.sum(K.round(K.clip(y_true, 0, 1)))\n",
    "    recall = true_positives / (possible_positives + K.epsilon())\n",
    "    return recall\n",
    "\n",
    "def precision_m(y_true, y_pred):\n",
    "    true_positives = K.sum(K.round(K.clip(y_true * y_pred, 0, 1)))\n",
    "    predicted_positives = K.sum(K.round(K.clip(y_pred, 0, 1)))\n",
    "    precision = true_positives / (predicted_positives + K.epsilon())\n",
    "    return precision\n",
    "\n",
    "def f1_m(y_true, y_pred):\n",
    "    precision = precision_m(y_true, y_pred)\n",
    "    recall = recall_m(y_true, y_pred)\n",
    "    return 2*((precision*recall)/(precision+recall+K.epsilon()))\n",
    "\n",
    "def auroc(y_true, y_pred):\n",
    "    return tf.py_function(roc_auc_score, (y_true, y_pred), tf.double)\n",
    "\n",
    "\n",
    "\n",
    "\n",
    "model.compile(loss='categorical_crossentropy', optimizer='adam', metrics=['acc', f1_m,precision_m, recall_m])\n",
    "print(model.summary())"
   ]
  },
  {
   "cell_type": "code",
   "execution_count": 164,
   "metadata": {},
   "outputs": [
    {
     "data": {
      "image/png": "[encoded data removed]",
      "text/plain": [
       "<IPython.core.display.Image object>"
      ]
     },
     "execution_count": 164,
     "metadata": {},
     "output_type": "execute_result"
    }
   ],
   "source": [
    "from keras.utils import plot_model\n",
    "plot_model(model, to_file='model_plot3.png', show_shapes=True, show_layer_names=True)"
   ]
  },
  {
   "cell_type": "code",
   "execution_count": 165,
   "metadata": {},
   "outputs": [
    {
     "name": "stdout",
     "output_type": "stream",
     "text": [
      "Epoch 1/100\n",
      "13/13 [==============================] - 1s 103ms/step - loss: 1.3828 - acc: 0.3819 - f1_m: 0.0000e+00 - precision_m: 0.0000e+00 - recall_m: 0.0000e+00 - val_loss: 1.3776 - val_acc: 0.4261 - val_f1_m: 0.0000e+00 - val_precision_m: 0.0000e+00 - val_recall_m: 0.0000e+00\n",
      "Epoch 2/100\n",
      "13/13 [==============================] - 1s 80ms/step - loss: 1.3752 - acc: 0.4109 - f1_m: 0.0000e+00 - precision_m: 0.0000e+00 - recall_m: 0.0000e+00 - val_loss: 1.3693 - val_acc: 0.4261 - val_f1_m: 0.0000e+00 - val_precision_m: 0.0000e+00 - val_recall_m: 0.0000e+00\n",
      "Epoch 3/100\n",
      "13/13 [==============================] - 1s 84ms/step - loss: 1.3677 - acc: 0.4109 - f1_m: 0.0000e+00 - precision_m: 0.0000e+00 - recall_m: 0.0000e+00 - val_loss: 1.3611 - val_acc: 0.4261 - val_f1_m: 0.0000e+00 - val_precision_m: 0.0000e+00 - val_recall_m: 0.0000e+00\n",
      "Epoch 4/100\n",
      "13/13 [==============================] - 1s 83ms/step - loss: 1.3604 - acc: 0.4109 - f1_m: 0.0000e+00 - precision_m: 0.0000e+00 - recall_m: 0.0000e+00 - val_loss: 1.3531 - val_acc: 0.4261 - val_f1_m: 0.0000e+00 - val_precision_m: 0.0000e+00 - val_recall_m: 0.0000e+00\n",
      "Epoch 5/100\n",
      "13/13 [==============================] - 1s 86ms/step - loss: 1.3534 - acc: 0.4109 - f1_m: 0.0000e+00 - precision_m: 0.0000e+00 - recall_m: 0.0000e+00 - val_loss: 1.3453 - val_acc: 0.4261 - val_f1_m: 0.0000e+00 - val_precision_m: 0.0000e+00 - val_recall_m: 0.0000e+00\n",
      "Epoch 6/100\n",
      "13/13 [==============================] - 1s 86ms/step - loss: 1.3464 - acc: 0.4109 - f1_m: 0.0000e+00 - precision_m: 0.0000e+00 - recall_m: 0.0000e+00 - val_loss: 1.3378 - val_acc: 0.4261 - val_f1_m: 0.0000e+00 - val_precision_m: 0.0000e+00 - val_recall_m: 0.0000e+00\n",
      "Epoch 7/100\n",
      "13/13 [==============================] - 1s 82ms/step - loss: 1.3399 - acc: 0.4109 - f1_m: 0.0000e+00 - precision_m: 0.0000e+00 - recall_m: 0.0000e+00 - val_loss: 1.3304 - val_acc: 0.4261 - val_f1_m: 0.0000e+00 - val_precision_m: 0.0000e+00 - val_recall_m: 0.0000e+00\n",
      "Epoch 8/100\n",
      "13/13 [==============================] - 1s 84ms/step - loss: 1.3334 - acc: 0.4109 - f1_m: 0.0000e+00 - precision_m: 0.0000e+00 - recall_m: 0.0000e+00 - val_loss: 1.3233 - val_acc: 0.4261 - val_f1_m: 0.0000e+00 - val_precision_m: 0.0000e+00 - val_recall_m: 0.0000e+00\n",
      "Epoch 9/100\n",
      "13/13 [==============================] - 1s 84ms/step - loss: 1.3272 - acc: 0.3917 - f1_m: 0.0000e+00 - precision_m: 0.0000e+00 - recall_m: 0.0000e+00 - val_loss: 1.3164 - val_acc: 0.4212 - val_f1_m: 0.0000e+00 - val_precision_m: 0.0000e+00 - val_recall_m: 0.0000e+00\n",
      "Epoch 10/100\n",
      "13/13 [==============================] - 1s 82ms/step - loss: 1.3212 - acc: 0.4016 - f1_m: 0.0000e+00 - precision_m: 0.0000e+00 - recall_m: 0.0000e+00 - val_loss: 1.3097 - val_acc: 0.4212 - val_f1_m: 0.0000e+00 - val_precision_m: 0.0000e+00 - val_recall_m: 0.0000e+00\n",
      "Epoch 11/100\n",
      "13/13 [==============================] - 1s 82ms/step - loss: 1.3153 - acc: 0.4053 - f1_m: 0.0000e+00 - precision_m: 0.0000e+00 - recall_m: 0.0000e+00 - val_loss: 1.3033 - val_acc: 0.4261 - val_f1_m: 0.0000e+00 - val_precision_m: 0.0000e+00 - val_recall_m: 0.0000e+00\n",
      "Epoch 12/100\n",
      "13/13 [==============================] - 1s 84ms/step - loss: 1.3098 - acc: 0.4109 - f1_m: 0.0000e+00 - precision_m: 0.0000e+00 - recall_m: 0.0000e+00 - val_loss: 1.2970 - val_acc: 0.4261 - val_f1_m: 0.0000e+00 - val_precision_m: 0.0000e+00 - val_recall_m: 0.0000e+00\n",
      "Epoch 13/100\n",
      "13/13 [==============================] - 1s 85ms/step - loss: 1.3044 - acc: 0.4109 - f1_m: 0.0000e+00 - precision_m: 0.0000e+00 - recall_m: 0.0000e+00 - val_loss: 1.2910 - val_acc: 0.4261 - val_f1_m: 0.0000e+00 - val_precision_m: 0.0000e+00 - val_recall_m: 0.0000e+00\n",
      "Epoch 14/100\n",
      "13/13 [==============================] - 1s 83ms/step - loss: 1.2990 - acc: 0.4109 - f1_m: 0.0000e+00 - precision_m: 0.0000e+00 - recall_m: 0.0000e+00 - val_loss: 1.2852 - val_acc: 0.4261 - val_f1_m: 0.0000e+00 - val_precision_m: 0.0000e+00 - val_recall_m: 0.0000e+00\n",
      "Epoch 15/100\n",
      "13/13 [==============================] - 1s 82ms/step - loss: 1.2941 - acc: 0.4109 - f1_m: 0.0000e+00 - precision_m: 0.0000e+00 - recall_m: 0.0000e+00 - val_loss: 1.2794 - val_acc: 0.4261 - val_f1_m: 0.0000e+00 - val_precision_m: 0.0000e+00 - val_recall_m: 0.0000e+00\n",
      "Epoch 16/100\n",
      "13/13 [==============================] - 1s 89ms/step - loss: 1.2892 - acc: 0.4109 - f1_m: 0.0000e+00 - precision_m: 0.0000e+00 - recall_m: 0.0000e+00 - val_loss: 1.2738 - val_acc: 0.4261 - val_f1_m: 0.0000e+00 - val_precision_m: 0.0000e+00 - val_recall_m: 0.0000e+00\n",
      "Epoch 17/100\n",
      "13/13 [==============================] - 1s 84ms/step - loss: 1.2844 - acc: 0.4109 - f1_m: 0.0000e+00 - precision_m: 0.0000e+00 - recall_m: 0.0000e+00 - val_loss: 1.2685 - val_acc: 0.4261 - val_f1_m: 0.0000e+00 - val_precision_m: 0.0000e+00 - val_recall_m: 0.0000e+00\n",
      "Epoch 18/100\n",
      "13/13 [==============================] - 1s 79ms/step - loss: 1.2798 - acc: 0.4109 - f1_m: 0.0000e+00 - precision_m: 0.0000e+00 - recall_m: 0.0000e+00 - val_loss: 1.2634 - val_acc: 0.4261 - val_f1_m: 0.0000e+00 - val_precision_m: 0.0000e+00 - val_recall_m: 0.0000e+00\n",
      "Epoch 19/100\n",
      "13/13 [==============================] - 1s 82ms/step - loss: 1.2754 - acc: 0.4109 - f1_m: 0.0000e+00 - precision_m: 0.0000e+00 - recall_m: 0.0000e+00 - val_loss: 1.2585 - val_acc: 0.4261 - val_f1_m: 0.0000e+00 - val_precision_m: 0.0000e+00 - val_recall_m: 0.0000e+00\n",
      "Epoch 20/100\n",
      "13/13 [==============================] - 1s 81ms/step - loss: 1.2712 - acc: 0.4109 - f1_m: 0.0000e+00 - precision_m: 0.0000e+00 - recall_m: 0.0000e+00 - val_loss: 1.2537 - val_acc: 0.4261 - val_f1_m: 0.0000e+00 - val_precision_m: 0.0000e+00 - val_recall_m: 0.0000e+00\n",
      "Epoch 21/100\n",
      "13/13 [==============================] - 1s 85ms/step - loss: 1.2671 - acc: 0.4109 - f1_m: 0.0000e+00 - precision_m: 0.0000e+00 - recall_m: 0.0000e+00 - val_loss: 1.2490 - val_acc: 0.4261 - val_f1_m: 0.0000e+00 - val_precision_m: 0.0000e+00 - val_recall_m: 0.0000e+00\n",
      "Epoch 22/100\n",
      "13/13 [==============================] - 1s 84ms/step - loss: 1.2631 - acc: 0.4109 - f1_m: 0.0000e+00 - precision_m: 0.0000e+00 - recall_m: 0.0000e+00 - val_loss: 1.2445 - val_acc: 0.4261 - val_f1_m: 0.0000e+00 - val_precision_m: 0.0000e+00 - val_recall_m: 0.0000e+00\n",
      "Epoch 23/100\n",
      "13/13 [==============================] - 1s 85ms/step - loss: 1.2593 - acc: 0.4109 - f1_m: 0.0000e+00 - precision_m: 0.0000e+00 - recall_m: 0.0000e+00 - val_loss: 1.2401 - val_acc: 0.4261 - val_f1_m: 0.0000e+00 - val_precision_m: 0.0000e+00 - val_recall_m: 0.0000e+00\n",
      "Epoch 24/100\n",
      "13/13 [==============================] - 1s 85ms/step - loss: 1.2556 - acc: 0.4109 - f1_m: 0.0000e+00 - precision_m: 0.0000e+00 - recall_m: 0.0000e+00 - val_loss: 1.2358 - val_acc: 0.4261 - val_f1_m: 0.0000e+00 - val_precision_m: 0.0000e+00 - val_recall_m: 0.0000e+00\n",
      "Epoch 25/100\n",
      "13/13 [==============================] - 1s 86ms/step - loss: 1.2521 - acc: 0.4109 - f1_m: 0.0000e+00 - precision_m: 0.0000e+00 - recall_m: 0.0000e+00 - val_loss: 1.2317 - val_acc: 0.4261 - val_f1_m: 0.0000e+00 - val_precision_m: 0.0000e+00 - val_recall_m: 0.0000e+00\n",
      "Epoch 26/100\n",
      "13/13 [==============================] - 1s 88ms/step - loss: 1.2486 - acc: 0.4109 - f1_m: 0.0000e+00 - precision_m: 0.0000e+00 - recall_m: 0.0000e+00 - val_loss: 1.2279 - val_acc: 0.4261 - val_f1_m: 0.0000e+00 - val_precision_m: 0.0000e+00 - val_recall_m: 0.0000e+00\n",
      "Epoch 27/100\n",
      "13/13 [==============================] - 1s 86ms/step - loss: 1.2453 - acc: 0.4109 - f1_m: 0.0000e+00 - precision_m: 0.0000e+00 - recall_m: 0.0000e+00 - val_loss: 1.2241 - val_acc: 0.4261 - val_f1_m: 0.0000e+00 - val_precision_m: 0.0000e+00 - val_recall_m: 0.0000e+00\n",
      "Epoch 28/100\n",
      "13/13 [==============================] - 1s 82ms/step - loss: 1.2421 - acc: 0.4109 - f1_m: 0.0000e+00 - precision_m: 0.0000e+00 - recall_m: 0.0000e+00 - val_loss: 1.2205 - val_acc: 0.4261 - val_f1_m: 0.0000e+00 - val_precision_m: 0.0000e+00 - val_recall_m: 0.0000e+00\n",
      "Epoch 29/100\n",
      "13/13 [==============================] - 1s 86ms/step - loss: 1.2391 - acc: 0.4109 - f1_m: 0.0000e+00 - precision_m: 0.0000e+00 - recall_m: 0.0000e+00 - val_loss: 1.2168 - val_acc: 0.4261 - val_f1_m: 0.0000e+00 - val_precision_m: 0.0000e+00 - val_recall_m: 0.0000e+00\n",
      "Epoch 30/100\n",
      "13/13 [==============================] - 1s 85ms/step - loss: 1.2361 - acc: 0.4109 - f1_m: 0.0000e+00 - precision_m: 0.0000e+00 - recall_m: 0.0000e+00 - val_loss: 1.2135 - val_acc: 0.4261 - val_f1_m: 0.0000e+00 - val_precision_m: 0.0000e+00 - val_recall_m: 0.0000e+00\n",
      "Epoch 31/100\n",
      "13/13 [==============================] - 1s 83ms/step - loss: 1.2333 - acc: 0.4109 - f1_m: 0.0000e+00 - precision_m: 0.0000e+00 - recall_m: 0.0000e+00 - val_loss: 1.2101 - val_acc: 0.4261 - val_f1_m: 0.0000e+00 - val_precision_m: 0.0000e+00 - val_recall_m: 0.0000e+00\n",
      "Epoch 32/100\n",
      "13/13 [==============================] - 1s 85ms/step - loss: 1.2306 - acc: 0.4109 - f1_m: 0.0000e+00 - precision_m: 0.0000e+00 - recall_m: 0.0000e+00 - val_loss: 1.2069 - val_acc: 0.4261 - val_f1_m: 0.0000e+00 - val_precision_m: 0.0000e+00 - val_recall_m: 0.0000e+00\n",
      "Epoch 33/100\n",
      "13/13 [==============================] - 1s 84ms/step - loss: 1.2279 - acc: 0.4109 - f1_m: 0.0000e+00 - precision_m: 0.0000e+00 - recall_m: 0.0000e+00 - val_loss: 1.2039 - val_acc: 0.4261 - val_f1_m: 0.0000e+00 - val_precision_m: 0.0000e+00 - val_recall_m: 0.0000e+00\n",
      "Epoch 34/100\n",
      "13/13 [==============================] - 1s 84ms/step - loss: 1.2254 - acc: 0.4109 - f1_m: 0.0000e+00 - precision_m: 0.0000e+00 - recall_m: 0.0000e+00 - val_loss: 1.2010 - val_acc: 0.4261 - val_f1_m: 0.0000e+00 - val_precision_m: 0.0000e+00 - val_recall_m: 0.0000e+00\n",
      "Epoch 35/100\n",
      "13/13 [==============================] - 1s 88ms/step - loss: 1.2230 - acc: 0.4109 - f1_m: 0.0000e+00 - precision_m: 0.0000e+00 - recall_m: 0.0000e+00 - val_loss: 1.1981 - val_acc: 0.4261 - val_f1_m: 0.0000e+00 - val_precision_m: 0.0000e+00 - val_recall_m: 0.0000e+00\n",
      "Epoch 36/100\n",
      "13/13 [==============================] - 1s 87ms/step - loss: 1.2206 - acc: 0.4109 - f1_m: 0.0000e+00 - precision_m: 0.0000e+00 - recall_m: 0.0000e+00 - val_loss: 1.1952 - val_acc: 0.4261 - val_f1_m: 0.0000e+00 - val_precision_m: 0.0000e+00 - val_recall_m: 0.0000e+00\n",
      "Epoch 37/100\n",
      "13/13 [==============================] - 1s 86ms/step - loss: 1.2183 - acc: 0.4109 - f1_m: 0.0000e+00 - precision_m: 0.0000e+00 - recall_m: 0.0000e+00 - val_loss: 1.1926 - val_acc: 0.4261 - val_f1_m: 0.0000e+00 - val_precision_m: 0.0000e+00 - val_recall_m: 0.0000e+00\n",
      "Epoch 38/100\n",
      "13/13 [==============================] - 1s 86ms/step - loss: 1.2161 - acc: 0.4109 - f1_m: 0.0000e+00 - precision_m: 0.0000e+00 - recall_m: 0.0000e+00 - val_loss: 1.1900 - val_acc: 0.4261 - val_f1_m: 0.0000e+00 - val_precision_m: 0.0000e+00 - val_recall_m: 0.0000e+00\n",
      "Epoch 39/100\n",
      "13/13 [==============================] - 1s 81ms/step - loss: 1.2141 - acc: 0.4109 - f1_m: 0.0000e+00 - precision_m: 0.0000e+00 - recall_m: 0.0000e+00 - val_loss: 1.1874 - val_acc: 0.4261 - val_f1_m: 0.0000e+00 - val_precision_m: 0.0000e+00 - val_recall_m: 0.0000e+00\n",
      "Epoch 40/100\n",
      "13/13 [==============================] - 1s 83ms/step - loss: 1.2120 - acc: 0.4109 - f1_m: 0.0000e+00 - precision_m: 0.0000e+00 - recall_m: 0.0000e+00 - val_loss: 1.1850 - val_acc: 0.4261 - val_f1_m: 0.0000e+00 - val_precision_m: 0.0000e+00 - val_recall_m: 0.0000e+00\n",
      "Epoch 41/100\n",
      "13/13 [==============================] - 1s 82ms/step - loss: 1.2100 - acc: 0.4109 - f1_m: 0.0000e+00 - precision_m: 0.0000e+00 - recall_m: 0.0000e+00 - val_loss: 1.1827 - val_acc: 0.4261 - val_f1_m: 0.0000e+00 - val_precision_m: 0.0000e+00 - val_recall_m: 0.0000e+00\n",
      "Epoch 42/100\n",
      "13/13 [==============================] - 1s 83ms/step - loss: 1.2081 - acc: 0.4109 - f1_m: 0.0000e+00 - precision_m: 0.0000e+00 - recall_m: 0.0000e+00 - val_loss: 1.1805 - val_acc: 0.4261 - val_f1_m: 0.0000e+00 - val_precision_m: 0.0000e+00 - val_recall_m: 0.0000e+00\n",
      "Epoch 43/100\n",
      "13/13 [==============================] - 1s 85ms/step - loss: 1.2064 - acc: 0.4109 - f1_m: 0.0000e+00 - precision_m: 0.0000e+00 - recall_m: 0.0000e+00 - val_loss: 1.1783 - val_acc: 0.4261 - val_f1_m: 0.0000e+00 - val_precision_m: 0.0000e+00 - val_recall_m: 0.0000e+00\n",
      "Epoch 44/100\n",
      "13/13 [==============================] - 1s 83ms/step - loss: 1.2045 - acc: 0.4109 - f1_m: 0.0000e+00 - precision_m: 0.0000e+00 - recall_m: 0.0000e+00 - val_loss: 1.1763 - val_acc: 0.4261 - val_f1_m: 0.0000e+00 - val_precision_m: 0.0000e+00 - val_recall_m: 0.0000e+00\n",
      "Epoch 45/100\n",
      "13/13 [==============================] - 1s 81ms/step - loss: 1.2029 - acc: 0.4109 - f1_m: 0.0000e+00 - precision_m: 0.0000e+00 - recall_m: 0.0000e+00 - val_loss: 1.1742 - val_acc: 0.4261 - val_f1_m: 0.0000e+00 - val_precision_m: 0.0000e+00 - val_recall_m: 0.0000e+00\n",
      "Epoch 46/100\n",
      "13/13 [==============================] - 1s 90ms/step - loss: 1.2012 - acc: 0.4109 - f1_m: 0.0000e+00 - precision_m: 0.0000e+00 - recall_m: 0.0000e+00 - val_loss: 1.1722 - val_acc: 0.4261 - val_f1_m: 0.0000e+00 - val_precision_m: 0.0000e+00 - val_recall_m: 0.0000e+00\n",
      "Epoch 47/100\n",
      "13/13 [==============================] - 1s 82ms/step - loss: 1.1996 - acc: 0.4109 - f1_m: 0.0000e+00 - precision_m: 0.0000e+00 - recall_m: 0.0000e+00 - val_loss: 1.1703 - val_acc: 0.4261 - val_f1_m: 0.0000e+00 - val_precision_m: 0.0000e+00 - val_recall_m: 0.0000e+00\n",
      "Epoch 48/100\n",
      "13/13 [==============================] - 1s 84ms/step - loss: 1.1981 - acc: 0.4109 - f1_m: 0.0000e+00 - precision_m: 0.0000e+00 - recall_m: 0.0000e+00 - val_loss: 1.1685 - val_acc: 0.4261 - val_f1_m: 0.0000e+00 - val_precision_m: 0.0000e+00 - val_recall_m: 0.0000e+00\n",
      "Epoch 49/100\n",
      "13/13 [==============================] - 1s 83ms/step - loss: 1.1966 - acc: 0.4109 - f1_m: 0.0000e+00 - precision_m: 0.0000e+00 - recall_m: 0.0000e+00 - val_loss: 1.1667 - val_acc: 0.4261 - val_f1_m: 0.0000e+00 - val_precision_m: 0.0000e+00 - val_recall_m: 0.0000e+00\n",
      "Epoch 50/100\n",
      "13/13 [==============================] - 1s 83ms/step - loss: 1.1952 - acc: 0.4109 - f1_m: 0.0000e+00 - precision_m: 0.0000e+00 - recall_m: 0.0000e+00 - val_loss: 1.1650 - val_acc: 0.4261 - val_f1_m: 0.0000e+00 - val_precision_m: 0.0000e+00 - val_recall_m: 0.0000e+00\n",
      "Epoch 51/100\n",
      "13/13 [==============================] - 1s 84ms/step - loss: 1.1938 - acc: 0.4109 - f1_m: 0.0000e+00 - precision_m: 0.0000e+00 - recall_m: 0.0000e+00 - val_loss: 1.1634 - val_acc: 0.4261 - val_f1_m: 0.0000e+00 - val_precision_m: 0.0000e+00 - val_recall_m: 0.0000e+00\n",
      "Epoch 52/100\n",
      "13/13 [==============================] - 1s 84ms/step - loss: 1.1925 - acc: 0.4109 - f1_m: 0.0000e+00 - precision_m: 0.0000e+00 - recall_m: 0.0000e+00 - val_loss: 1.1617 - val_acc: 0.4261 - val_f1_m: 0.0000e+00 - val_precision_m: 0.0000e+00 - val_recall_m: 0.0000e+00\n",
      "Epoch 53/100\n",
      "13/13 [==============================] - 1s 84ms/step - loss: 1.1912 - acc: 0.4109 - f1_m: 0.0000e+00 - precision_m: 0.0000e+00 - recall_m: 0.0000e+00 - val_loss: 1.1602 - val_acc: 0.4261 - val_f1_m: 0.0000e+00 - val_precision_m: 0.0000e+00 - val_recall_m: 0.0000e+00\n",
      "Epoch 54/100\n",
      "13/13 [==============================] - 1s 85ms/step - loss: 1.1900 - acc: 0.4109 - f1_m: 0.0000e+00 - precision_m: 0.0000e+00 - recall_m: 0.0000e+00 - val_loss: 1.1587 - val_acc: 0.4261 - val_f1_m: 0.0000e+00 - val_precision_m: 0.0000e+00 - val_recall_m: 0.0000e+00\n",
      "Epoch 55/100\n",
      "13/13 [==============================] - 1s 85ms/step - loss: 1.1888 - acc: 0.4109 - f1_m: 0.0000e+00 - precision_m: 0.0000e+00 - recall_m: 0.0000e+00 - val_loss: 1.1573 - val_acc: 0.4261 - val_f1_m: 0.0000e+00 - val_precision_m: 0.0000e+00 - val_recall_m: 0.0000e+00\n",
      "Epoch 56/100\n",
      "13/13 [==============================] - 1s 86ms/step - loss: 1.1876 - acc: 0.4109 - f1_m: 0.0000e+00 - precision_m: 0.0000e+00 - recall_m: 0.0000e+00 - val_loss: 1.1559 - val_acc: 0.4261 - val_f1_m: 0.0000e+00 - val_precision_m: 0.0000e+00 - val_recall_m: 0.0000e+00\n",
      "Epoch 57/100\n",
      "13/13 [==============================] - 1s 84ms/step - loss: 1.1865 - acc: 0.4109 - f1_m: 0.0000e+00 - precision_m: 0.0000e+00 - recall_m: 0.0000e+00 - val_loss: 1.1545 - val_acc: 0.4261 - val_f1_m: 0.0000e+00 - val_precision_m: 0.0000e+00 - val_recall_m: 0.0000e+00\n",
      "Epoch 58/100\n",
      "13/13 [==============================] - 1s 83ms/step - loss: 1.1854 - acc: 0.4109 - f1_m: 0.0000e+00 - precision_m: 0.0000e+00 - recall_m: 0.0000e+00 - val_loss: 1.1532 - val_acc: 0.4261 - val_f1_m: 0.0000e+00 - val_precision_m: 0.0000e+00 - val_recall_m: 0.0000e+00\n",
      "Epoch 59/100\n",
      "13/13 [==============================] - 1s 85ms/step - loss: 1.1844 - acc: 0.4109 - f1_m: 0.0000e+00 - precision_m: 0.0000e+00 - recall_m: 0.0000e+00 - val_loss: 1.1519 - val_acc: 0.4261 - val_f1_m: 0.0000e+00 - val_precision_m: 0.0000e+00 - val_recall_m: 0.0000e+00\n",
      "Epoch 60/100\n",
      "13/13 [==============================] - 1s 85ms/step - loss: 1.1834 - acc: 0.4109 - f1_m: 0.0000e+00 - precision_m: 0.0000e+00 - recall_m: 0.0000e+00 - val_loss: 1.1506 - val_acc: 0.4261 - val_f1_m: 0.0000e+00 - val_precision_m: 0.0000e+00 - val_recall_m: 0.0000e+00\n",
      "Epoch 61/100\n",
      "13/13 [==============================] - 1s 83ms/step - loss: 1.1824 - acc: 0.4109 - f1_m: 0.0000e+00 - precision_m: 0.0000e+00 - recall_m: 0.0000e+00 - val_loss: 1.1495 - val_acc: 0.4261 - val_f1_m: 0.0000e+00 - val_precision_m: 0.0000e+00 - val_recall_m: 0.0000e+00\n",
      "Epoch 62/100\n",
      "13/13 [==============================] - 1s 82ms/step - loss: 1.1814 - acc: 0.4109 - f1_m: 0.0000e+00 - precision_m: 0.0000e+00 - recall_m: 0.0000e+00 - val_loss: 1.1484 - val_acc: 0.4261 - val_f1_m: 0.0000e+00 - val_precision_m: 0.0000e+00 - val_recall_m: 0.0000e+00\n",
      "Epoch 63/100\n",
      "13/13 [==============================] - 1s 86ms/step - loss: 1.1805 - acc: 0.4109 - f1_m: 0.0000e+00 - precision_m: 0.0000e+00 - recall_m: 0.0000e+00 - val_loss: 1.1473 - val_acc: 0.4261 - val_f1_m: 0.0000e+00 - val_precision_m: 0.0000e+00 - val_recall_m: 0.0000e+00\n",
      "Epoch 64/100\n",
      "13/13 [==============================] - 1s 85ms/step - loss: 1.1797 - acc: 0.4109 - f1_m: 0.0000e+00 - precision_m: 0.0000e+00 - recall_m: 0.0000e+00 - val_loss: 1.1462 - val_acc: 0.4261 - val_f1_m: 0.0000e+00 - val_precision_m: 0.0000e+00 - val_recall_m: 0.0000e+00\n",
      "Epoch 65/100\n",
      "13/13 [==============================] - 1s 85ms/step - loss: 1.1788 - acc: 0.4109 - f1_m: 0.0000e+00 - precision_m: 0.0000e+00 - recall_m: 0.0000e+00 - val_loss: 1.1451 - val_acc: 0.4261 - val_f1_m: 0.0000e+00 - val_precision_m: 0.0000e+00 - val_recall_m: 0.0000e+00\n",
      "Epoch 66/100\n",
      "13/13 [==============================] - 1s 89ms/step - loss: 1.1779 - acc: 0.4109 - f1_m: 0.0000e+00 - precision_m: 0.0000e+00 - recall_m: 0.0000e+00 - val_loss: 1.1441 - val_acc: 0.4261 - val_f1_m: 0.0000e+00 - val_precision_m: 0.0000e+00 - val_recall_m: 0.0000e+00\n",
      "Epoch 67/100\n",
      "13/13 [==============================] - 1s 86ms/step - loss: 1.1772 - acc: 0.4109 - f1_m: 0.0000e+00 - precision_m: 0.0000e+00 - recall_m: 0.0000e+00 - val_loss: 1.1432 - val_acc: 0.4261 - val_f1_m: 0.0000e+00 - val_precision_m: 0.0000e+00 - val_recall_m: 0.0000e+00\n",
      "Epoch 68/100\n",
      "13/13 [==============================] - 1s 89ms/step - loss: 1.1764 - acc: 0.4109 - f1_m: 0.0000e+00 - precision_m: 0.0000e+00 - recall_m: 0.0000e+00 - val_loss: 1.1422 - val_acc: 0.4261 - val_f1_m: 0.0000e+00 - val_precision_m: 0.0000e+00 - val_recall_m: 0.0000e+00\n",
      "Epoch 69/100\n",
      "13/13 [==============================] - 1s 89ms/step - loss: 1.1756 - acc: 0.4109 - f1_m: 0.0000e+00 - precision_m: 0.0000e+00 - recall_m: 0.0000e+00 - val_loss: 1.1413 - val_acc: 0.4261 - val_f1_m: 0.0000e+00 - val_precision_m: 0.0000e+00 - val_recall_m: 0.0000e+00\n",
      "Epoch 70/100\n",
      "13/13 [==============================] - 1s 86ms/step - loss: 1.1749 - acc: 0.4109 - f1_m: 0.0000e+00 - precision_m: 0.0000e+00 - recall_m: 0.0000e+00 - val_loss: 1.1404 - val_acc: 0.4261 - val_f1_m: 0.0000e+00 - val_precision_m: 0.0000e+00 - val_recall_m: 0.0000e+00\n",
      "Epoch 71/100\n",
      "13/13 [==============================] - 1s 88ms/step - loss: 1.1742 - acc: 0.4109 - f1_m: 0.0000e+00 - precision_m: 0.0000e+00 - recall_m: 0.0000e+00 - val_loss: 1.1396 - val_acc: 0.4261 - val_f1_m: 0.0000e+00 - val_precision_m: 0.0000e+00 - val_recall_m: 0.0000e+00\n",
      "Epoch 72/100\n",
      "13/13 [==============================] - 1s 88ms/step - loss: 1.1735 - acc: 0.4109 - f1_m: 0.0000e+00 - precision_m: 0.0000e+00 - recall_m: 0.0000e+00 - val_loss: 1.1387 - val_acc: 0.4261 - val_f1_m: 0.0000e+00 - val_precision_m: 0.0000e+00 - val_recall_m: 0.0000e+00\n",
      "Epoch 73/100\n",
      "13/13 [==============================] - 1s 88ms/step - loss: 1.1728 - acc: 0.4109 - f1_m: 0.0000e+00 - precision_m: 0.0000e+00 - recall_m: 0.0000e+00 - val_loss: 1.1379 - val_acc: 0.4261 - val_f1_m: 0.0000e+00 - val_precision_m: 0.0000e+00 - val_recall_m: 0.0000e+00\n",
      "Epoch 74/100\n",
      "13/13 [==============================] - 1s 88ms/step - loss: 1.1722 - acc: 0.4109 - f1_m: 0.0000e+00 - precision_m: 0.0000e+00 - recall_m: 0.0000e+00 - val_loss: 1.1371 - val_acc: 0.4261 - val_f1_m: 0.0000e+00 - val_precision_m: 0.0000e+00 - val_recall_m: 0.0000e+00\n",
      "Epoch 75/100\n",
      "13/13 [==============================] - 1s 89ms/step - loss: 1.1715 - acc: 0.4109 - f1_m: 0.0000e+00 - precision_m: 0.0000e+00 - recall_m: 0.0000e+00 - val_loss: 1.1364 - val_acc: 0.4261 - val_f1_m: 0.0000e+00 - val_precision_m: 0.0000e+00 - val_recall_m: 0.0000e+00\n",
      "Epoch 76/100\n",
      "13/13 [==============================] - 1s 88ms/step - loss: 1.1709 - acc: 0.4109 - f1_m: 0.0000e+00 - precision_m: 0.0000e+00 - recall_m: 0.0000e+00 - val_loss: 1.1356 - val_acc: 0.4261 - val_f1_m: 0.0000e+00 - val_precision_m: 0.0000e+00 - val_recall_m: 0.0000e+00\n",
      "Epoch 77/100\n",
      "13/13 [==============================] - 1s 84ms/step - loss: 1.1703 - acc: 0.4109 - f1_m: 0.0000e+00 - precision_m: 0.0000e+00 - recall_m: 0.0000e+00 - val_loss: 1.1349 - val_acc: 0.4261 - val_f1_m: 0.0000e+00 - val_precision_m: 0.0000e+00 - val_recall_m: 0.0000e+00\n",
      "Epoch 78/100\n",
      "13/13 [==============================] - 1s 82ms/step - loss: 1.1697 - acc: 0.4109 - f1_m: 0.0000e+00 - precision_m: 0.0000e+00 - recall_m: 0.0000e+00 - val_loss: 1.1342 - val_acc: 0.4261 - val_f1_m: 0.0000e+00 - val_precision_m: 0.0000e+00 - val_recall_m: 0.0000e+00\n",
      "Epoch 79/100\n",
      "13/13 [==============================] - 1s 81ms/step - loss: 1.1692 - acc: 0.4109 - f1_m: 0.0000e+00 - precision_m: 0.0000e+00 - recall_m: 0.0000e+00 - val_loss: 1.1335 - val_acc: 0.4261 - val_f1_m: 0.0000e+00 - val_precision_m: 0.0000e+00 - val_recall_m: 0.0000e+00\n",
      "Epoch 80/100\n",
      "13/13 [==============================] - 1s 83ms/step - loss: 1.1686 - acc: 0.4109 - f1_m: 0.0000e+00 - precision_m: 0.0000e+00 - recall_m: 0.0000e+00 - val_loss: 1.1330 - val_acc: 0.4261 - val_f1_m: 0.0000e+00 - val_precision_m: 0.0000e+00 - val_recall_m: 0.0000e+00\n",
      "Epoch 81/100\n",
      "13/13 [==============================] - 1s 83ms/step - loss: 1.1681 - acc: 0.4109 - f1_m: 0.0000e+00 - precision_m: 0.0000e+00 - recall_m: 0.0000e+00 - val_loss: 1.1323 - val_acc: 0.4261 - val_f1_m: 0.0000e+00 - val_precision_m: 0.0000e+00 - val_recall_m: 0.0000e+00\n",
      "Epoch 82/100\n",
      "13/13 [==============================] - 1s 82ms/step - loss: 1.1676 - acc: 0.4109 - f1_m: 0.0000e+00 - precision_m: 0.0000e+00 - recall_m: 0.0000e+00 - val_loss: 1.1317 - val_acc: 0.4261 - val_f1_m: 0.0000e+00 - val_precision_m: 0.0000e+00 - val_recall_m: 0.0000e+00\n",
      "Epoch 83/100\n",
      "13/13 [==============================] - 1s 81ms/step - loss: 1.1671 - acc: 0.4109 - f1_m: 0.0000e+00 - precision_m: 0.0000e+00 - recall_m: 0.0000e+00 - val_loss: 1.1311 - val_acc: 0.4261 - val_f1_m: 0.0000e+00 - val_precision_m: 0.0000e+00 - val_recall_m: 0.0000e+00\n",
      "Epoch 84/100\n",
      "13/13 [==============================] - 1s 83ms/step - loss: 1.1666 - acc: 0.4109 - f1_m: 0.0000e+00 - precision_m: 0.0000e+00 - recall_m: 0.0000e+00 - val_loss: 1.1306 - val_acc: 0.4261 - val_f1_m: 0.0000e+00 - val_precision_m: 0.0000e+00 - val_recall_m: 0.0000e+00\n",
      "Epoch 85/100\n",
      "13/13 [==============================] - 1s 87ms/step - loss: 1.1661 - acc: 0.4109 - f1_m: 0.0000e+00 - precision_m: 0.0000e+00 - recall_m: 0.0000e+00 - val_loss: 1.1300 - val_acc: 0.4261 - val_f1_m: 0.0000e+00 - val_precision_m: 0.0000e+00 - val_recall_m: 0.0000e+00\n",
      "Epoch 86/100\n",
      "13/13 [==============================] - 1s 86ms/step - loss: 1.1657 - acc: 0.4109 - f1_m: 0.0000e+00 - precision_m: 0.0000e+00 - recall_m: 0.0000e+00 - val_loss: 1.1295 - val_acc: 0.4261 - val_f1_m: 0.0000e+00 - val_precision_m: 0.0000e+00 - val_recall_m: 0.0000e+00\n",
      "Epoch 87/100\n",
      "13/13 [==============================] - 1s 85ms/step - loss: 1.1652 - acc: 0.4109 - f1_m: 0.0000e+00 - precision_m: 0.0000e+00 - recall_m: 0.0000e+00 - val_loss: 1.1290 - val_acc: 0.4261 - val_f1_m: 0.0000e+00 - val_precision_m: 0.0000e+00 - val_recall_m: 0.0000e+00\n",
      "Epoch 88/100\n",
      "13/13 [==============================] - 1s 85ms/step - loss: 1.1648 - acc: 0.4109 - f1_m: 0.0000e+00 - precision_m: 0.0000e+00 - recall_m: 0.0000e+00 - val_loss: 1.1284 - val_acc: 0.4261 - val_f1_m: 0.0000e+00 - val_precision_m: 0.0000e+00 - val_recall_m: 0.0000e+00\n",
      "Epoch 89/100\n",
      "13/13 [==============================] - 1s 87ms/step - loss: 1.1644 - acc: 0.4109 - f1_m: 0.0000e+00 - precision_m: 0.0000e+00 - recall_m: 0.0000e+00 - val_loss: 1.1279 - val_acc: 0.4261 - val_f1_m: 0.0000e+00 - val_precision_m: 0.0000e+00 - val_recall_m: 0.0000e+00\n",
      "Epoch 90/100\n",
      "13/13 [==============================] - 1s 84ms/step - loss: 1.1640 - acc: 0.4109 - f1_m: 0.0000e+00 - precision_m: 0.0000e+00 - recall_m: 0.0000e+00 - val_loss: 1.1275 - val_acc: 0.4261 - val_f1_m: 0.0000e+00 - val_precision_m: 0.0000e+00 - val_recall_m: 0.0000e+00\n",
      "Epoch 91/100\n",
      "13/13 [==============================] - 1s 85ms/step - loss: 1.1636 - acc: 0.4109 - f1_m: 0.0000e+00 - precision_m: 0.0000e+00 - recall_m: 0.0000e+00 - val_loss: 1.1270 - val_acc: 0.4261 - val_f1_m: 0.0000e+00 - val_precision_m: 0.0000e+00 - val_recall_m: 0.0000e+00\n",
      "Epoch 92/100\n",
      "13/13 [==============================] - 1s 80ms/step - loss: 1.1632 - acc: 0.4109 - f1_m: 0.0000e+00 - precision_m: 0.0000e+00 - recall_m: 0.0000e+00 - val_loss: 1.1265 - val_acc: 0.4261 - val_f1_m: 0.0000e+00 - val_precision_m: 0.0000e+00 - val_recall_m: 0.0000e+00\n",
      "Epoch 93/100\n",
      "13/13 [==============================] - 1s 84ms/step - loss: 1.1628 - acc: 0.4109 - f1_m: 0.0000e+00 - precision_m: 0.0000e+00 - recall_m: 0.0000e+00 - val_loss: 1.1261 - val_acc: 0.4261 - val_f1_m: 0.0000e+00 - val_precision_m: 0.0000e+00 - val_recall_m: 0.0000e+00\n",
      "Epoch 94/100\n",
      "13/13 [==============================] - 1s 87ms/step - loss: 1.1624 - acc: 0.4109 - f1_m: 0.0000e+00 - precision_m: 0.0000e+00 - recall_m: 0.0000e+00 - val_loss: 1.1257 - val_acc: 0.4261 - val_f1_m: 0.0000e+00 - val_precision_m: 0.0000e+00 - val_recall_m: 0.0000e+00\n",
      "Epoch 95/100\n",
      "13/13 [==============================] - 1s 88ms/step - loss: 1.1621 - acc: 0.4109 - f1_m: 0.0000e+00 - precision_m: 0.0000e+00 - recall_m: 0.0000e+00 - val_loss: 1.1252 - val_acc: 0.4261 - val_f1_m: 0.0000e+00 - val_precision_m: 0.0000e+00 - val_recall_m: 0.0000e+00\n",
      "Epoch 96/100\n",
      "13/13 [==============================] - 1s 86ms/step - loss: 1.1617 - acc: 0.4109 - f1_m: 0.0000e+00 - precision_m: 0.0000e+00 - recall_m: 0.0000e+00 - val_loss: 1.1248 - val_acc: 0.4261 - val_f1_m: 0.0000e+00 - val_precision_m: 0.0000e+00 - val_recall_m: 0.0000e+00\n",
      "Epoch 97/100\n",
      "13/13 [==============================] - 1s 87ms/step - loss: 1.1614 - acc: 0.4109 - f1_m: 0.0000e+00 - precision_m: 0.0000e+00 - recall_m: 0.0000e+00 - val_loss: 1.1245 - val_acc: 0.4261 - val_f1_m: 0.0000e+00 - val_precision_m: 0.0000e+00 - val_recall_m: 0.0000e+00\n",
      "Epoch 98/100\n",
      "13/13 [==============================] - 1s 85ms/step - loss: 1.1611 - acc: 0.4109 - f1_m: 0.0000e+00 - precision_m: 0.0000e+00 - recall_m: 0.0000e+00 - val_loss: 1.1241 - val_acc: 0.4261 - val_f1_m: 0.0000e+00 - val_precision_m: 0.0000e+00 - val_recall_m: 0.0000e+00\n",
      "Epoch 99/100\n",
      "13/13 [==============================] - 1s 85ms/step - loss: 1.1608 - acc: 0.4109 - f1_m: 0.0000e+00 - precision_m: 0.0000e+00 - recall_m: 0.0000e+00 - val_loss: 1.1237 - val_acc: 0.4261 - val_f1_m: 0.0000e+00 - val_precision_m: 0.0000e+00 - val_recall_m: 0.0000e+00\n",
      "Epoch 100/100\n",
      "13/13 [==============================] - 1s 82ms/step - loss: 1.1604 - acc: 0.4109 - f1_m: 0.0000e+00 - precision_m: 0.0000e+00 - recall_m: 0.0000e+00 - val_loss: 1.1234 - val_acc: 0.4261 - val_f1_m: 0.0000e+00 - val_precision_m: 0.0000e+00 - val_recall_m: 0.0000e+00\n"
     ]
    }
   ],
   "source": [
    "history = model.fit(x=X2_train, y=y_train, batch_size=128, epochs=100, verbose=1, validation_split=0.2)"
   ]
  },
  {
   "cell_type": "code",
   "execution_count": 138,
   "metadata": {},
   "outputs": [
    {
     "name": "stdout",
     "output_type": "stream",
     "text": [
      "28/28 [==============================] - 0s 7ms/step - loss: 1.1645 - acc: 0.4051 - f1_m: 0.0000e+00 - precision_m: 0.0000e+00 - recall_m: 0.0000e+00\n"
     ]
    }
   ],
   "source": [
    "loss, accuracy, f1_score, precision, recall  = model.evaluate(x=X2_test, y=y_test, verbose=1)\n",
    "\n"
   ]
  },
  {
   "cell_type": "code",
   "execution_count": 139,
   "metadata": {},
   "outputs": [
    {
     "data": {
      "image/png": "[encoded data removed]",
      "text/plain": [
       "<Figure size 432x288 with 1 Axes>"
      ]
     },
     "metadata": {
      "needs_background": "light"
     },
     "output_type": "display_data"
    },
    {
     "data": {
      "image/png": "[encoded data removed]",
      "text/plain": [
       "<Figure size 432x288 with 1 Axes>"
      ]
     },
     "metadata": {
      "needs_background": "light"
     },
     "output_type": "display_data"
    }
   ],
   "source": [
    "import matplotlib.pyplot as plt\n",
    "\n",
    "plt.plot(history.history['acc'])\n",
    "plt.plot(history.history['val_acc'])\n",
    "\n",
    "plt.title('model accuracy')\n",
    "plt.ylabel('accuracy')\n",
    "plt.xlabel('epoch')\n",
    "plt.legend(['train','test'], loc='upper left')\n",
    "plt.show()\n",
    "\n",
    "plt.plot(history.history['loss'])\n",
    "plt.plot(history.history['val_loss'])\n",
    "\n",
    "plt.title('model loss')\n",
    "plt.ylabel('loss')\n",
    "plt.xlabel('epoch')\n",
    "plt.legend(['train','test'], loc='upper left')\n",
    "plt.show()"
   ]
  },
  {
   "cell_type": "code",
   "execution_count": 140,
   "metadata": {},
   "outputs": [
    {
     "name": "stdout",
     "output_type": "stream",
     "text": [
      "Automatically created module for IPython interactive environment\n",
      "WARNING:tensorflow:Model was constructed with shape (None, 27) for input Tensor(\"input_9:0\", shape=(None, 27), dtype=float32), but it was called on an input with incompatible shape (None, 33).\n"
     ]
    },
    {
     "data": {
      "image/png": "[encoded data removed]",
      "text/plain": [
       "<Figure size 432x288 with 1 Axes>"
      ]
     },
     "metadata": {
      "needs_background": "light"
     },
     "output_type": "display_data"
    },
    {
     "data": {
      "image/png": "[encoded data removed]",
      "text/plain": [
       "<Figure size 432x288 with 1 Axes>"
      ]
     },
     "metadata": {
      "needs_background": "light"
     },
     "output_type": "display_data"
    }
   ],
   "source": [
    "print(__doc__)\n",
    "\n",
    "import matplotlib.pyplot as plt\n",
    "import numpy as np\n",
    "from sklearn import svm, datasets\n",
    "from sklearn.metrics import precision_recall_curve\n",
    "from sklearn.metrics import average_precision_score\n",
    "from sklearn.preprocessing import label_binarize\n",
    "from sklearn.multiclass import OneVsRestClassifier\n",
    "from sklearn.model_selection import train_test_split\n",
    "\n",
    "predictions = model.predict(X2_test)\n",
    "y_pred = (predictions > 0.4)\n",
    "y_test = label_binarize(y_test, classes=['YY','YN','NY','NN'])\n",
    "y_pred = label_binarize(y_pred, classes=['YY','YN','NY','NN'])\n",
    "n_classes = 4\n",
    "\n",
    "\n",
    "\n",
    "# Compute Precision-Recall and plot curve\n",
    "precision = dict()\n",
    "recall = dict()\n",
    "average_precision = dict()\n",
    "for i in range(n_classes):\n",
    "    precision[i], recall[i], _ = precision_recall_curve(y_test[:, i],\n",
    "                                                        y_pred[:, i])\n",
    "    average_precision[i] = average_precision_score(y_test[:, i], y_pred[:, i])\n",
    "    \n",
    "\n",
    "# Compute micro-average ROC curve and ROC area\n",
    "precision[\"micro\"], recall[\"micro\"], _ = precision_recall_curve(y_test.ravel(),\n",
    "    y_pred.ravel())\n",
    "average_precision[\"micro\"] = average_precision_score(y_test, y_pred,\n",
    "                                                     average=\"micro\")\n",
    "\n",
    "  \n",
    "# Plot Precision-Recall curve\n",
    "plt.clf()\n",
    "plt.plot(recall[0], precision[0], label='Precision-Recall curve')\n",
    "plt.xlabel('Recall')\n",
    "plt.ylabel('Precision')\n",
    "plt.ylim([0.0, 1.05])\n",
    "plt.xlim([0.0, 1.0])\n",
    "plt.title('Precision-Recall example: AUC={0:0.2f}'.format(average_precision[0]))\n",
    "plt.legend(loc=\"lower left\")\n",
    "plt.show()\n",
    "\n",
    "# Plot Precision-Recall curve for each class\n",
    "plt.clf()\n",
    "plt.plot(recall[\"micro\"], precision[\"micro\"],\n",
    "         label='micro-average Precision-recall curve (area = {0:0.2f})'\n",
    "               ''.format(average_precision[\"micro\"]))\n",
    "for i in range(n_classes):\n",
    "    plt.plot(recall[i], precision[i],\n",
    "             label='Precision-recall curve of class {0} (area = {1:0.2f})'\n",
    "                   ''.format(i, average_precision[i]))\n",
    "\n",
    "plt.xlim([0.0, 1.0])\n",
    "plt.ylim([0.0, 1.05])\n",
    "plt.xlabel('Recall')\n",
    "plt.ylabel('Precision')\n",
    "plt.title('Extension of Precision-Recall curve to multi-class')\n",
    "plt.legend(loc=\"lower right\")\n",
    "plt.show()"
   ]
  },
  {
   "cell_type": "code",
   "execution_count": 141,
   "metadata": {},
   "outputs": [
    {
     "ename": "NameError",
     "evalue": "name 'metrics' is not defined",
     "output_type": "error",
     "traceback": [
      "\u001b[0;31m---------------------------------------------------------------------------\u001b[0m",
      "\u001b[0;31mNameError\u001b[0m                                 Traceback (most recent call last)",
      "\u001b[0;32m<ipython-input-141-0bc506c1feb7>\u001b[0m in \u001b[0;36m<module>\u001b[0;34m\u001b[0m\n\u001b[0;32m----> 1\u001b[0;31m \u001b[0mmatrix\u001b[0m \u001b[0;34m=\u001b[0m \u001b[0mmetrics\u001b[0m\u001b[0;34m.\u001b[0m\u001b[0mconfusion_matrix\u001b[0m\u001b[0;34m(\u001b[0m\u001b[0my_test\u001b[0m\u001b[0;34m.\u001b[0m\u001b[0margmax\u001b[0m\u001b[0;34m(\u001b[0m\u001b[0maxis\u001b[0m\u001b[0;34m=\u001b[0m\u001b[0;36m1\u001b[0m\u001b[0;34m)\u001b[0m\u001b[0;34m,\u001b[0m \u001b[0my_pred\u001b[0m\u001b[0;34m.\u001b[0m\u001b[0margmax\u001b[0m\u001b[0;34m(\u001b[0m\u001b[0maxis\u001b[0m\u001b[0;34m=\u001b[0m\u001b[0;36m1\u001b[0m\u001b[0;34m)\u001b[0m\u001b[0;34m)\u001b[0m\u001b[0;34m\u001b[0m\u001b[0;34m\u001b[0m\u001b[0m\n\u001b[0m\u001b[1;32m      2\u001b[0m \u001b[0mmatrix\u001b[0m\u001b[0;34m\u001b[0m\u001b[0;34m\u001b[0m\u001b[0m\n",
      "\u001b[0;31mNameError\u001b[0m: name 'metrics' is not defined"
     ]
    }
   ],
   "source": [
    "matrix = metrics.confusion_matrix(y_test.argmax(axis=1), y_pred.argmax(axis=1))\n",
    "matrix"
   ]
  },
  {
   "cell_type": "code",
   "execution_count": null,
   "metadata": {},
   "outputs": [],
   "source": [
    "import shap\n",
    "\n",
    "explainer = shap.DeepExplainer(model, X1_train[:100])\n",
    "shap_values = explainer.shap_values(X1_test[:10])"
   ]
  },
  {
   "cell_type": "code",
   "execution_count": null,
   "metadata": {},
   "outputs": [],
   "source": [
    "f=shap.force_plot(explainer.expected_value, shap_values, X, show=False)\n",
    "shap.save_html(\"index.htm\", f)"
   ]
  },
  {
   "cell_type": "code",
   "execution_count": null,
   "metadata": {},
   "outputs": [],
   "source": [
    "auc_score"
   ]
  },
  {
   "cell_type": "code",
   "execution_count": null,
   "metadata": {},
   "outputs": [],
   "source": [
    "from matplotlib import colors as plt_colors\n",
    "import numpy as np\n",
    "import shap\n",
    "import matplotlib.pyplot as pl\n",
    "\n",
    "\n",
    "\n",
    "\n",
    "shap.summary_plot(shap_values, X, show=False)\n",
    "\n",
    "pl.savefig(\"ranks.pdf\", dpi=800,  bbox_inches = 'tight')\n",
    "pl.show()"
   ]
  },
  {
   "cell_type": "markdown",
   "metadata": {},
   "source": [
    "-------------------------------------------\n"
   ]
  },
  {
   "cell_type": "code",
   "execution_count": null,
   "metadata": {},
   "outputs": [],
   "source": [
    "from cleanlab.latent_estimation import estimate_cv_predicted_probabilities\n",
    "import cleanlab\n",
    "\n",
    "\n",
    "s = np.array(y)\n",
    "\n",
    "probabilities = estimate_cv_predicted_probabilities(\n",
    "    X, \n",
    "    s, \n",
    "    clf=model,\n",
    ")\n",
    "psx = cleanlab.latent_estimation.estimate_cv_predicted_probabilities(\n",
    "    X, s, clf=model)"
   ]
  },
  {
   "cell_type": "code",
   "execution_count": null,
   "metadata": {},
   "outputs": [],
   "source": [
    "import pandas as pd\n",
    "import numpy as np\n",
    "df=data"
   ]
  },
  {
   "cell_type": "code",
   "execution_count": null,
   "metadata": {},
   "outputs": [],
   "source": [
    "for tweet, label in df.sample(10)[[\"text\", \"result\"]].values:\n",
    "    print(label, tweet)"
   ]
  },
  {
   "cell_type": "code",
   "execution_count": null,
   "metadata": {},
   "outputs": [],
   "source": [
    "import tensorflow_hub as hub\n",
    "\n",
    "# embed = hub.load(\"https://tfhub.dev/google/universal-sentence-encoder-large/4\")"
   ]
  },
  {
   "cell_type": "code",
   "execution_count": null,
   "metadata": {},
   "outputs": [],
   "source": [
    "X_train_embeddings = embed(df.text.values)"
   ]
  },
  {
   "cell_type": "code",
   "execution_count": null,
   "metadata": {},
   "outputs": [],
   "source": [
    "from sklearn.linear_model import LogisticRegression\n",
    "from sklearn.metrics import accuracy_score, f1_score\n",
    "from sklearn.ensemble import RandomForestClassifier\n",
    "\n",
    "logistic_clf = RandomForestClassifier(n_estimators=100, max_depth= 30, max_features=.75, criterion='entropy', min_samples_split=15, class_weight='balanced')"
   ]
  },
  {
   "cell_type": "code",
   "execution_count": null,
   "metadata": {},
   "outputs": [],
   "source": [
    "logistic_clf.fit(X_train_embeddings['outputs'][:3000,:],\n",
    "                 df.result.values[:3000])"
   ]
  },
  {
   "cell_type": "code",
   "execution_count": null,
   "metadata": {},
   "outputs": [],
   "source": [
    "RandomForestClassifier(n_estimators=100, max_depth= 30, max_features=.75, criterion='entropy', min_samples_split=15, class_weight='balanced')"
   ]
  },
  {
   "cell_type": "code",
   "execution_count": null,
   "metadata": {},
   "outputs": [],
   "source": [
    "\n",
    "y_pred = logistic_clf.predict(X_train_embeddings['outputs'][3000:,:])\n",
    "y_pred_proba = logistic_clf.predict_proba(X_train_embeddings['outputs'][3000:,:])\n",
    "print(\"Accuracy: {:.1%}\".format(accuracy_score(df.result.values[3000:], y_pred)))\n",
    "print(\"F1: {:.1%}\".format(f1_score(df.result.values[3000:], y_pred)))"
   ]
  },
  {
   "cell_type": "code",
   "execution_count": null,
   "metadata": {},
   "outputs": [],
   "source": [
    "from cleanlab.pruning import get_noise_indices\n",
    "\n",
    "ordered_label_errors = get_noise_indices(\n",
    "    s=df.result.values[3000:],\n",
    "    psx=y_pred_proba,\n",
    "    sorted_index_method='normalized_margin', # Orders label errors\n",
    " )"
   ]
  },
  {
   "cell_type": "code",
   "execution_count": null,
   "metadata": {},
   "outputs": [],
   "source": [
    "\n",
    "print(\"We found {} label errors.\".format(len(ordered_label_errors)))"
   ]
  },
  {
   "cell_type": "code",
   "execution_count": null,
   "metadata": {},
   "outputs": [],
   "source": [
    "ordered_label_errors"
   ]
  },
  {
   "cell_type": "code",
   "execution_count": null,
   "metadata": {},
   "outputs": [],
   "source": [
    "df.loc[220]"
   ]
  },
  {
   "cell_type": "code",
   "execution_count": null,
   "metadata": {},
   "outputs": [],
   "source": [
    "error_df = df.loc[df.index[3000:]].loc[df.index[3000+ordered_label_errors]]\n",
    "for tweet, label in error_df[[ \"text\", \"result\"]][:30].values:\n",
    "    print(label, tweet)"
   ]
  },
  {
   "cell_type": "code",
   "execution_count": null,
   "metadata": {},
   "outputs": [],
   "source": []
  }
 ],
 "metadata": {
  "kernelspec": {
   "display_name": "Python 3",
   "language": "python",
   "name": "python3"
  },
  "language_info": {
   "codemirror_mode": {
    "name": "ipython",
    "version": 3
   },
   "file_extension": ".py",
   "mimetype": "text/x-python",
   "name": "python",
   "nbconvert_exporter": "python",
   "pygments_lexer": "ipython3",
   "version": "3.8.3"
  }
 },
 "nbformat": 4,
 "nbformat_minor": 4
}
