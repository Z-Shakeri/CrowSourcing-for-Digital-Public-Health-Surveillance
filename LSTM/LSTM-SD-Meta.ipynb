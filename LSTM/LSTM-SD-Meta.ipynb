{
 "cells": [
  {
   "cell_type": "code",
   "execution_count": 1,
   "metadata": {},
   "outputs": [],
   "source": [
    "import os\n",
    "import re\n",
    "\n",
    "import numpy as np\n",
    "import tensorflow as tf\n",
    "\n",
    "np.random.seed(1)\n",
    "tf.random.set_seed(2)\n",
    "\n",
    "import pandas as pd\n",
    "import keras\n",
    "# from tqdm import tqdm\n",
    "from tqdm import tqdm_notebook as tqdm\n",
    "from sklearn.model_selection import train_test_split\n",
    "from sklearn.preprocessing import LabelEncoder\n",
    "from sklearn.utils import class_weight\n",
    "from sklearn.metrics import f1_score, classification_report, log_loss\n",
    "\n",
    "from keras.preprocessing.text import Tokenizer\n",
    "from keras.preprocessing.sequence import pad_sequences\n",
    "from keras.utils import to_categorical\n",
    "\n",
    "from keras.models import Sequential\n",
    "from keras.layers import Embedding, LSTM, Dense, SpatialDropout1D, Bidirectional, Flatten\n",
    "from keras.layers import Dropout, Conv1D, GlobalMaxPool1D, GRU, GlobalAvgPool1D\n",
    "from keras.optimizers import Adam\n",
    "from keras.callbacks import ModelCheckpoint, EarlyStopping\n",
    "\n",
    "#print(os.listdir('../LSTM'))"
   ]
  },
  {
   "cell_type": "code",
   "execution_count": 2,
   "metadata": {},
   "outputs": [
    {
     "data": {
      "text/plain": [
       "Index(['A1', 'A2', 'A3', 'hour', 'weekday', 'truth', 'month', 'age', 'sex',\n",
       "       'org', 'RMV', 'REM', 'RGLAD', 'RLFC', 'text'],\n",
       "      dtype='object')"
      ]
     },
     "execution_count": 2,
     "metadata": {},
     "output_type": "execute_result"
    }
   ],
   "source": [
    "data = pd.read_csv('SD-multi-LSTM.csv')\n",
    "data= data[data['hour']!='dummy']\n",
    "data['A1']=data['A1'].astype(\"category\")\n",
    "data['A2']=data['A2'].astype(\"category\")\n",
    "data['A3']=data['A3'].astype(\"category\")\n",
    "data['sex']=data['sex'].astype(\"category\")\n",
    "data['age']=data['age'].astype(\"category\")\n",
    "data['org']=data['org'].astype(\"category\")\n",
    "data['weekday']=data['weekday'].astype(\"category\")\n",
    "data['RMV']=data['RMV'].astype(\"category\")\n",
    "data['hour']=data['hour'].astype(\"int\")\n",
    "data['month']=data['month'].astype(\"int\")\n",
    "data['truth']=data['truth'].astype(\"category\")\n",
    "data.head()\n",
    "\n",
    "\n",
    "\n",
    "# #data['truth']=np.where(data['truth'] ==1, 'YY', data['truth'])\n",
    "# data['truth']=np.where(data['truth'] ==2, '0', data['truth'])\n",
    "# data['truth']=np.where(data['truth'] =='3', '0', data['truth'])\n",
    "# data['truth']=np.where(data['truth'] =='4', '0', data['truth'])\n",
    "# data['truth']=np.where(data['truth'] =='5', '0', data['truth'])\n",
    "\n",
    "# #data['A1']=np.where(data['A1'] ==1, 'YY', data['A1'])\n",
    "# data['A1']=np.where(data['A1'] ==2, '0', data['A1'])\n",
    "# data['A1']=np.where(data['A1'] =='3', '0', data['A1'])\n",
    "# data['A1']=np.where(data['A1'] =='4', '0', data['A1'])\n",
    "# data['A1']=np.where(data['A1'] =='5', '0', data['A1'])\n",
    "# #data['A2']=np.where(data['A2'] ==1, 'YY', data['A2'])\n",
    "# data['A2']=np.where(data['A2'] ==2, '0', data['A2'])\n",
    "# data['A2']=np.where(data['A2'] =='3', '0', data['A2'])\n",
    "# data['A2']=np.where(data['A2'] =='4', '0', data['A2'])\n",
    "# data['A2']=np.where(data['A2'] =='5', '0', data['A2'])\n",
    "# #data['A3']=np.where(data['A3'] ==1, 'YY', data['A3'])\n",
    "# data['A3']=np.where(data['A3'] ==2, '0', data['A3'])\n",
    "# data['A3']=np.where(data['A3'] =='3', '0', data['A3'])\n",
    "# data['A3']=np.where(data['A3'] =='4', '0', data['A3'])\n",
    "# data['A3']=np.where(data['A3'] =='5', '0', data['A3'])\n",
    "\n",
    "data.columns"
   ]
  },
  {
   "cell_type": "code",
   "execution_count": 3,
   "metadata": {},
   "outputs": [],
   "source": [
    "data= data[data['truth']!=5]\n",
    "data= data[data['A1']!=5]\n",
    "data= data[data['A2']!=5]\n",
    "data= data[data['A3']!=5]\n",
    "data= data[data['RMV']!=5]\n",
    "data= data[data['REM']!=5]\n",
    "data= data[data['RGLAD']!=5]\n",
    "data= data[data['RLFC']!=5]"
   ]
  },
  {
   "cell_type": "code",
   "execution_count": 4,
   "metadata": {},
   "outputs": [
    {
     "data": {
      "text/html": [
       "<div>\n",
       "<style scoped>\n",
       "    .dataframe tbody tr th:only-of-type {\n",
       "        vertical-align: middle;\n",
       "    }\n",
       "\n",
       "    .dataframe tbody tr th {\n",
       "        vertical-align: top;\n",
       "    }\n",
       "\n",
       "    .dataframe thead th {\n",
       "        text-align: right;\n",
       "    }\n",
       "</style>\n",
       "<table border=\"1\" class=\"dataframe\">\n",
       "  <thead>\n",
       "    <tr style=\"text-align: right;\">\n",
       "      <th></th>\n",
       "      <th>hour</th>\n",
       "      <th>truth</th>\n",
       "      <th>text</th>\n",
       "      <th>A1_1</th>\n",
       "      <th>A1_2</th>\n",
       "      <th>A1_3</th>\n",
       "      <th>A1_4</th>\n",
       "      <th>A1_5</th>\n",
       "      <th>A2_1</th>\n",
       "      <th>A2_2</th>\n",
       "      <th>...</th>\n",
       "      <th>REM_3</th>\n",
       "      <th>REM_4</th>\n",
       "      <th>RGLAD_1</th>\n",
       "      <th>RGLAD_2</th>\n",
       "      <th>RGLAD_3</th>\n",
       "      <th>RGLAD_4</th>\n",
       "      <th>RLFC_1</th>\n",
       "      <th>RLFC_2</th>\n",
       "      <th>RLFC_3</th>\n",
       "      <th>RLFC_4</th>\n",
       "    </tr>\n",
       "  </thead>\n",
       "  <tbody>\n",
       "    <tr>\n",
       "      <th>0</th>\n",
       "      <td>22</td>\n",
       "      <td>2</td>\n",
       "      <td>Correct same as inverson no practice sleep giv...</td>\n",
       "      <td>0</td>\n",
       "      <td>1</td>\n",
       "      <td>0</td>\n",
       "      <td>0</td>\n",
       "      <td>0</td>\n",
       "      <td>0</td>\n",
       "      <td>0</td>\n",
       "      <td>...</td>\n",
       "      <td>0</td>\n",
       "      <td>0</td>\n",
       "      <td>0</td>\n",
       "      <td>1</td>\n",
       "      <td>0</td>\n",
       "      <td>0</td>\n",
       "      <td>0</td>\n",
       "      <td>1</td>\n",
       "      <td>0</td>\n",
       "      <td>0</td>\n",
       "    </tr>\n",
       "    <tr>\n",
       "      <th>1</th>\n",
       "      <td>12</td>\n",
       "      <td>2</td>\n",
       "      <td>i get great sleeps outside on june 18th or aro...</td>\n",
       "      <td>0</td>\n",
       "      <td>1</td>\n",
       "      <td>0</td>\n",
       "      <td>0</td>\n",
       "      <td>0</td>\n",
       "      <td>0</td>\n",
       "      <td>1</td>\n",
       "      <td>...</td>\n",
       "      <td>0</td>\n",
       "      <td>0</td>\n",
       "      <td>0</td>\n",
       "      <td>1</td>\n",
       "      <td>0</td>\n",
       "      <td>0</td>\n",
       "      <td>0</td>\n",
       "      <td>1</td>\n",
       "      <td>0</td>\n",
       "      <td>0</td>\n",
       "    </tr>\n",
       "    <tr>\n",
       "      <th>2</th>\n",
       "      <td>12</td>\n",
       "      <td>4</td>\n",
       "      <td>Justin if i could sleep 20 hours and remember ...</td>\n",
       "      <td>1</td>\n",
       "      <td>0</td>\n",
       "      <td>0</td>\n",
       "      <td>0</td>\n",
       "      <td>0</td>\n",
       "      <td>0</td>\n",
       "      <td>0</td>\n",
       "      <td>...</td>\n",
       "      <td>0</td>\n",
       "      <td>0</td>\n",
       "      <td>1</td>\n",
       "      <td>0</td>\n",
       "      <td>0</td>\n",
       "      <td>0</td>\n",
       "      <td>0</td>\n",
       "      <td>1</td>\n",
       "      <td>0</td>\n",
       "      <td>0</td>\n",
       "    </tr>\n",
       "    <tr>\n",
       "      <th>3</th>\n",
       "      <td>20</td>\n",
       "      <td>4</td>\n",
       "      <td>There is a disease where you eventually stop s...</td>\n",
       "      <td>0</td>\n",
       "      <td>1</td>\n",
       "      <td>0</td>\n",
       "      <td>0</td>\n",
       "      <td>0</td>\n",
       "      <td>0</td>\n",
       "      <td>0</td>\n",
       "      <td>...</td>\n",
       "      <td>0</td>\n",
       "      <td>1</td>\n",
       "      <td>0</td>\n",
       "      <td>0</td>\n",
       "      <td>0</td>\n",
       "      <td>1</td>\n",
       "      <td>0</td>\n",
       "      <td>0</td>\n",
       "      <td>0</td>\n",
       "      <td>1</td>\n",
       "    </tr>\n",
       "    <tr>\n",
       "      <th>4</th>\n",
       "      <td>2</td>\n",
       "      <td>4</td>\n",
       "      <td>i might be edgy saving extra pills for girlfri...</td>\n",
       "      <td>1</td>\n",
       "      <td>0</td>\n",
       "      <td>0</td>\n",
       "      <td>0</td>\n",
       "      <td>0</td>\n",
       "      <td>0</td>\n",
       "      <td>0</td>\n",
       "      <td>...</td>\n",
       "      <td>1</td>\n",
       "      <td>0</td>\n",
       "      <td>0</td>\n",
       "      <td>0</td>\n",
       "      <td>1</td>\n",
       "      <td>0</td>\n",
       "      <td>0</td>\n",
       "      <td>0</td>\n",
       "      <td>1</td>\n",
       "      <td>0</td>\n",
       "    </tr>\n",
       "  </tbody>\n",
       "</table>\n",
       "<p>5 rows × 62 columns</p>\n",
       "</div>"
      ],
      "text/plain": [
       "   hour truth                                               text  A1_1  A1_2  \\\n",
       "0    22     2  Correct same as inverson no practice sleep giv...     0     1   \n",
       "1    12     2  i get great sleeps outside on june 18th or aro...     0     1   \n",
       "2    12     4  Justin if i could sleep 20 hours and remember ...     1     0   \n",
       "3    20     4  There is a disease where you eventually stop s...     0     1   \n",
       "4     2     4  i might be edgy saving extra pills for girlfri...     1     0   \n",
       "\n",
       "   A1_3  A1_4  A1_5  A2_1  A2_2  ...  REM_3  REM_4  RGLAD_1  RGLAD_2  RGLAD_3  \\\n",
       "0     0     0     0     0     0  ...      0      0        0        1        0   \n",
       "1     0     0     0     0     1  ...      0      0        0        1        0   \n",
       "2     0     0     0     0     0  ...      0      0        1        0        0   \n",
       "3     0     0     0     0     0  ...      0      1        0        0        0   \n",
       "4     0     0     0     0     0  ...      1      0        0        0        1   \n",
       "\n",
       "   RGLAD_4  RLFC_1  RLFC_2  RLFC_3  RLFC_4  \n",
       "0        0       0       1       0       0  \n",
       "1        0       0       1       0       0  \n",
       "2        0       0       1       0       0  \n",
       "3        1       0       0       0       1  \n",
       "4        0       0       0       1       0  \n",
       "\n",
       "[5 rows x 62 columns]"
      ]
     },
     "execution_count": 4,
     "metadata": {},
     "output_type": "execute_result"
    }
   ],
   "source": [
    "\n",
    "data = pd.get_dummies(data, prefix=['A1', 'A2', 'A3', 'weekday', 'month', 'age', 'sex',\n",
    "       'org', 'RMV', 'REM', 'RGLAD', 'RLFC'], columns=['A1', 'A2', 'A3', 'weekday', 'month', 'age', 'sex',\n",
    "       'org', 'RMV', 'REM', 'RGLAD', 'RLFC'], drop_first=False)\n",
    "data.head()\n"
   ]
  },
  {
   "cell_type": "code",
   "execution_count": 5,
   "metadata": {},
   "outputs": [
    {
     "data": {
      "text/plain": [
       "Index(['hour', 'truth', 'text', 'A1_1', 'A1_2', 'A1_3', 'A1_4', 'A1_5', 'A2_1',\n",
       "       'A2_2', 'A2_3', 'A2_4', 'A2_5', 'A3_1', 'A3_2', 'A3_3', 'A3_4', 'A3_5',\n",
       "       'weekday_Fri', 'weekday_Mon', 'weekday_Sat', 'weekday_Sun',\n",
       "       'weekday_Thu', 'weekday_Tue', 'weekday_Wed', 'month_1', 'month_2',\n",
       "       'month_3', 'month_4', 'month_5', 'month_6', 'month_7', 'month_8',\n",
       "       'month_9', 'month_10', 'month_11', 'month_12', 'age_19-29', 'age_30-39',\n",
       "       'age_<=18', 'age_>=40', 'sex_female', 'sex_male', 'org_is-org',\n",
       "       'org_non-org', 'RMV_1', 'RMV_2', 'RMV_3', 'RMV_4', 'RMV_5', 'REM_1',\n",
       "       'REM_2', 'REM_3', 'REM_4', 'RGLAD_1', 'RGLAD_2', 'RGLAD_3', 'RGLAD_4',\n",
       "       'RLFC_1', 'RLFC_2', 'RLFC_3', 'RLFC_4'],\n",
       "      dtype='object')"
      ]
     },
     "execution_count": 5,
     "metadata": {},
     "output_type": "execute_result"
    }
   ],
   "source": [
    "data.columns"
   ]
  },
  {
   "cell_type": "code",
   "execution_count": null,
   "metadata": {},
   "outputs": [],
   "source": []
  },
  {
   "cell_type": "code",
   "execution_count": 6,
   "metadata": {},
   "outputs": [],
   "source": [
    "X = data.drop('truth', axis=1)\n",
    "\n",
    "y = data['truth']"
   ]
  },
  {
   "cell_type": "code",
   "execution_count": 7,
   "metadata": {},
   "outputs": [],
   "source": [
    "from sklearn import preprocessing\n",
    "from keras.utils import np_utils\n",
    "from keras.utils import to_categorical\n",
    "\n",
    "# label_encoder object knows how to understand word labels.\n",
    "# label_encoder = preprocessing.LabelEncoder()\n",
    "\n",
    "# # Encode labels in column 'species'.\n",
    "# y = label_encoder.fit_transform(y)\n",
    "# encode class values as integers\n",
    "# encoder = LabelEncoder()\n",
    "# encoder.fit(y)\n",
    "# encoded_Y = encoder.transform(y)\n",
    "# # convert integers to dummy variables (i.e. one hot encoded)\n",
    "# dummy_y = np_utils.to_categorical(encoded_Y)\n",
    "\n",
    "# label_encoder object knows how to understand word labels.\n",
    "label_encoder = preprocessing.LabelEncoder()\n",
    "\n",
    "# Encode labels in column 'species'.\n",
    "y = label_encoder.fit_transform(y)\n",
    "X_train, X_test, y_train, y_test = train_test_split(X, y, test_size=0.30, random_state=42)\n",
    "\n",
    "from keras.utils import to_categorical\n",
    "y_train = to_categorical(y_train)\n",
    "y_test = to_categorical(y_test)\n",
    "\n",
    "\n",
    "# make the model and load the training dataset.\n",
    "\n",
    "#y_train = to_categorical(y_train)"
   ]
  },
  {
   "cell_type": "code",
   "execution_count": 8,
   "metadata": {},
   "outputs": [
    {
     "data": {
      "text/plain": [
       "array([[1., 0., 0., 0.],\n",
       "       [0., 0., 0., 1.],\n",
       "       [0., 1., 0., 0.],\n",
       "       ...,\n",
       "       [0., 0., 0., 1.],\n",
       "       [1., 0., 0., 0.],\n",
       "       [0., 0., 0., 1.]], dtype=float32)"
      ]
     },
     "execution_count": 8,
     "metadata": {},
     "output_type": "execute_result"
    }
   ],
   "source": [
    "y_train"
   ]
  },
  {
   "cell_type": "code",
   "execution_count": 9,
   "metadata": {},
   "outputs": [],
   "source": [
    "dic = {\"`\":\"'\", \"’\":\"'\", \"‘\":\"'\", \"´\":\"'\",\"ain't\": \"is not\", \"aren't\": \"are not\",\"can't\": \"cannot\", \"'cause\": \"because\", \"could've\": \"could have\",\n",
    "                       \"couldn't\": \"could not\", \"didn't\": \"did not\",  \"doesn't\": \"does not\", \"don't\": \"do not\", \"hadn't\": \"had not\",\n",
    "                       \"hasn't\": \"has not\", \"haven't\": \"have not\", \"he'd\": \"he would\",\"he'll\": \"he will\", \"he's\": \"he is\", \"how'd\": \"how did\",\n",
    "                       \"how'd'y\": \"how do you\", \"how'll\": \"how will\", \"how's\": \"how is\",  \"I'd\": \"I would\", \"I'd've\": \"I would have\",\n",
    "                       \"I'll\": \"I will\", \"I'll've\": \"I will have\",\"I'm\": \"I am\", \"I've\": \"I have\", \"i'd\": \"i would\", \"i'd've\": \"i would have\",\n",
    "                       \"i'll\": \"i will\",  \"i'll've\": \"i will have\",\"i'm\": \"i am\", \"i've\": \"i have\", \"isn't\": \"is not\", \"it'd\": \"it would\",\n",
    "                       \"it'd've\": \"it would have\", \"it'll\": \"it will\", \"it'll've\": \"it will have\",\"it's\": \"it is\", \"let's\": \"let us\",\n",
    "                       \"ma'am\": \"madam\", \"mayn't\": \"may not\", \"might've\": \"might have\",\"mightn't\": \"might not\",\"mightn't've\": \"might not have\",\n",
    "                       \"must've\": \"must have\", \"mustn't\": \"must not\", \"mustn't've\": \"must not have\", \"needn't\": \"need not\",\n",
    "                       \"needn't've\": \"need not have\",\"o'clock\": \"of the clock\", \"oughtn't\": \"ought not\", \"oughtn't've\": \"ought not have\",\n",
    "                       \"shan't\": \"shall not\", \"sha'n't\": \"shall not\", \"shan't've\": \"shall not have\", \"she'd\": \"she would\",\n",
    "                       \"she'd've\": \"she would have\", \"she'll\": \"she will\", \"she'll've\": \"she will have\", \"she's\": \"she is\",\n",
    "                       \"should've\": \"should have\", \"shouldn't\": \"should not\", \"shouldn't've\": \"should not have\", \"so've\": \"so have\",\n",
    "                       \"so's\": \"so as\", \"this's\": \"this is\",\"that'd\": \"that would\", \"that'd've\": \"that would have\", \"that's\": \"that is\",\n",
    "                       \"there'd\": \"there would\", \"there'd've\": \"there would have\", \"there's\": \"there is\", \"here's\": \"here is\",\"they'd\": \"they would\",\n",
    "                       \"they'd've\": \"they would have\", \"they'll\": \"they will\", \"they'll've\": \"they will have\", \"they're\": \"they are\",\n",
    "                       \"they've\": \"they have\", \"to've\": \"to have\", \"wasn't\": \"was not\", \"we'd\": \"we would\", \"we'd've\": \"we would have\",\n",
    "                       \"we'll\": \"we will\", \"we'll've\": \"we will have\", \"we're\": \"we are\", \"we've\": \"we have\", \"weren't\": \"were not\",\n",
    "                       \"what'll\": \"what will\", \"what'll've\": \"what will have\", \"what're\": \"what are\",  \"what's\": \"what is\", \"what've\": \"what have\",\n",
    "                       \"when's\": \"when is\", \"when've\": \"when have\", \"where'd\": \"where did\", \"where's\": \"where is\", \"where've\": \"where have\",\n",
    "                       \"who'll\": \"who will\", \"who'll've\": \"who will have\", \"who's\": \"who is\", \"who've\": \"who have\", \"why's\": \"why is\",\n",
    "                       \"why've\": \"why have\", \"will've\": \"will have\", \"won't\": \"will not\", \"won't've\": \"will not have\", \"would've\": \"would have\",\n",
    "                       \"wouldn't\": \"would not\", \"wouldn't've\": \"would not have\", \"y'all\": \"you all\", \"y'all'd\": \"you all would\",\n",
    "                       \"y'all'd've\": \"you all would have\",\"y'all're\": \"you all are\",\"y'all've\": \"you all have\",\"you'd\": \"you would\",\n",
    "                       \"you'd've\": \"you would have\", \"you'll\": \"you will\", \"you'll've\": \"you will have\", \"you're\": \"you are\", \"you've\": \"you have\",\n",
    "                       \"It's\": 'It is', \"Can't\": 'Can not', \"I've\": 'I have', \"\\n\":\" \", \"—\":\"\", \".\":\"\", \"…\":\"\", \"!\":\"\", \":\":\" \",\n",
    "                       \"-\":\" \",\"•\":\"\"}\n",
    "\n",
    "#\"😍\":\"lovely\" "
   ]
  },
  {
   "cell_type": "code",
   "execution_count": 10,
   "metadata": {},
   "outputs": [],
   "source": [
    "def preprocess_text(sen):\n",
    "\n",
    "    # Remove punctuations and numbers\n",
    "    sentence = re.sub('[^a-zA-Z]', ' ', sen)\n",
    "\n",
    "    # Single character removal\n",
    "    sentence = re.sub(r\"\\s+[a-zA-Z]\\s+\", ' ', sentence)\n",
    "\n",
    "    # Removing multiple spaces\n",
    "    sentence = re.sub(r'\\s+', ' ', sentence)\n",
    "    for i, j in dic.items():\n",
    "        sentence = sentence.lower().replace(i, j)\n",
    "    sentence = re.sub(r\"http[s]?://t.co/[A-Za-z0-9]*\",\" \",sentence) #URLs\n",
    "\n",
    "    return sentence"
   ]
  },
  {
   "cell_type": "code",
   "execution_count": 11,
   "metadata": {},
   "outputs": [],
   "source": [
    "X1_train = []\n",
    "sentences = list(X_train[\"text\"])\n",
    "for sen in sentences:\n",
    "    X1_train.append(preprocess_text(sen))"
   ]
  },
  {
   "cell_type": "code",
   "execution_count": null,
   "metadata": {},
   "outputs": [],
   "source": []
  },
  {
   "cell_type": "code",
   "execution_count": 12,
   "metadata": {},
   "outputs": [],
   "source": [
    "X1_test = []\n",
    "sentences = list(X_test[\"text\"])\n",
    "for sen in sentences:\n",
    "    X1_test.append(preprocess_text(sen))"
   ]
  },
  {
   "cell_type": "code",
   "execution_count": null,
   "metadata": {},
   "outputs": [],
   "source": []
  },
  {
   "cell_type": "code",
   "execution_count": 13,
   "metadata": {},
   "outputs": [],
   "source": [
    "tokenizer = Tokenizer()\n",
    "tokenizer.fit_on_texts(X1_train)\n",
    "\n",
    "X1_train = tokenizer.texts_to_sequences(X1_train)\n",
    "X1_test = tokenizer.texts_to_sequences(X1_test)\n",
    "\n",
    "vocab_size = len(tokenizer.word_index) + 1\n",
    "\n",
    "maxlen = 27\n",
    "\n",
    "X1_train = pad_sequences(X1_train, padding='post', maxlen=maxlen)\n",
    "X1_test = pad_sequences(X1_test, padding='post', maxlen=maxlen)"
   ]
  },
  {
   "cell_type": "code",
   "execution_count": 14,
   "metadata": {},
   "outputs": [],
   "source": [
    "from numpy import array\n",
    "from numpy import asarray\n",
    "from numpy import zeros\n",
    "\n",
    "embeddings_dictionary = dict()\n",
    "\n",
    "# glove_file = open('glove.twitter.27B.200d.txt', encoding=\"utf8\")\n",
    "\n",
    "# for line in glove_file:\n",
    "#     records = line.split()\n",
    "#     word = records[0]\n",
    "#     vector_dimensions = asarray(records[1:], dtype='float32')\n",
    "#     embeddings_dictionary[word] = vector_dimensions\n",
    "\n",
    "# glove_file.close()\n",
    "\n",
    "embedding_matrix = zeros((vocab_size, 200))\n",
    "for word, index in tokenizer.word_index.items():\n",
    "    embedding_vector = embeddings_dictionary.get(word)\n",
    "    if embedding_vector is not None:\n",
    "        embedding_matrix[index] = embedding_vector"
   ]
  },
  {
   "cell_type": "code",
   "execution_count": 15,
   "metadata": {},
   "outputs": [
    {
     "data": {
      "text/plain": [
       "Index(['hour', 'text', 'A1_1', 'A1_2', 'A1_3', 'A1_4', 'A1_5', 'A2_1', 'A2_2',\n",
       "       'A2_3', 'A2_4', 'A2_5', 'A3_1', 'A3_2', 'A3_3', 'A3_4', 'A3_5',\n",
       "       'weekday_Fri', 'weekday_Mon', 'weekday_Sat', 'weekday_Sun',\n",
       "       'weekday_Thu', 'weekday_Tue', 'weekday_Wed', 'month_1', 'month_2',\n",
       "       'month_3', 'month_4', 'month_5', 'month_6', 'month_7', 'month_8',\n",
       "       'month_9', 'month_10', 'month_11', 'month_12', 'age_19-29', 'age_30-39',\n",
       "       'age_<=18', 'age_>=40', 'sex_female', 'sex_male', 'org_is-org',\n",
       "       'org_non-org', 'RMV_1', 'RMV_2', 'RMV_3', 'RMV_4', 'RMV_5', 'REM_1',\n",
       "       'REM_2', 'REM_3', 'REM_4', 'RGLAD_1', 'RGLAD_2', 'RGLAD_3', 'RGLAD_4',\n",
       "       'RLFC_1', 'RLFC_2', 'RLFC_3', 'RLFC_4'],\n",
       "      dtype='object')"
      ]
     },
     "execution_count": 15,
     "metadata": {},
     "output_type": "execute_result"
    }
   ],
   "source": [
    "X.columns"
   ]
  },
  {
   "cell_type": "code",
   "execution_count": 16,
   "metadata": {},
   "outputs": [],
   "source": [
    "X2_train = X_train[['A1_1', 'A1_2', 'A1_3', 'A1_4', 'A1_5', 'A2_1', 'A2_2',\n",
    "       'A2_3', 'A2_4', 'A2_5', 'A3_1', 'A3_2', 'A3_3', 'A3_4', 'A3_5',\n",
    "       'RMV_1', 'RMV_2', 'RMV_3', 'RMV_4', 'RMV_5', 'REM_1',\n",
    "       'REM_2', 'REM_3', 'REM_4', 'RGLAD_1', 'RGLAD_2', 'RGLAD_3', 'RGLAD_4',\n",
    "       'RLFC_1', 'RLFC_2', 'RLFC_3', 'RLFC_4']].values\n",
    "X2_test = X_test[['A1_1', 'A1_2', 'A1_3', 'A1_4', 'A1_5', 'A2_1', 'A2_2',\n",
    "       'A2_3', 'A2_4', 'A2_5', 'A3_1', 'A3_2', 'A3_3', 'A3_4', 'A3_5',\n",
    "       'RMV_1', 'RMV_2', 'RMV_3', 'RMV_4', 'RMV_5', 'REM_1',\n",
    "       'REM_2', 'REM_3', 'REM_4', 'RGLAD_1', 'RGLAD_2', 'RGLAD_3', 'RGLAD_4',\n",
    "       'RLFC_1', 'RLFC_2', 'RLFC_3', 'RLFC_4']].values\n",
    "\n",
    "ncols=X2_train.shape[1]"
   ]
  },
  {
   "cell_type": "code",
   "execution_count": 17,
   "metadata": {},
   "outputs": [
    {
     "data": {
      "text/plain": [
       "32"
      ]
     },
     "execution_count": 17,
     "metadata": {},
     "output_type": "execute_result"
    }
   ],
   "source": [
    "ncols"
   ]
  },
  {
   "cell_type": "code",
   "execution_count": 18,
   "metadata": {},
   "outputs": [],
   "source": [
    "from keras.layers import Input\n",
    "from keras.layers import Dropout, Conv1D, GlobalMaxPool1D, GRU, GlobalAvgPool1D\n",
    "input_1 = Input(shape=(maxlen,))\n",
    "\n",
    "input_2 = Input(shape=(ncols,))"
   ]
  },
  {
   "cell_type": "code",
   "execution_count": 19,
   "metadata": {},
   "outputs": [],
   "source": [
    "embedding_layer = Embedding(vocab_size, 200, weights=[embedding_matrix], trainable=False)(input_1)\n",
    "#LSTM_Layer_1 = Bidirectional(LSTM(128, dropout=0.25, recurrent_dropout=0.25))(embedding_layer)\n",
    "LSTM_Layer_1 = LSTM(128, dropout=0.25, recurrent_dropout=0.25)(embedding_layer)\n",
    "LSTM_Layer_2 = Dense(64, activation='relu')(LSTM_Layer_1)"
   ]
  },
  {
   "cell_type": "code",
   "execution_count": 20,
   "metadata": {},
   "outputs": [],
   "source": [
    "dense_layer_1 = Dense(10, activation='relu')(input_2)\n",
    "dense_layer_2 = Dense(64, activation='relu')(dense_layer_1)"
   ]
  },
  {
   "cell_type": "code",
   "execution_count": 21,
   "metadata": {},
   "outputs": [],
   "source": [
    "from keras.layers import concatenate\n",
    "from keras.models import Model\n",
    "from keras.layers import Dropout, Conv1D, GlobalMaxPool1D, GRU, GlobalAvgPool1D\n",
    "\n",
    "concat_layer = concatenate([LSTM_Layer_2, dense_layer_2])\n",
    "dense_layer_3 = Dense(10, activation='relu')(dense_layer_2)\n",
    "output = Dense(4, activation='softmax')(dense_layer_3)\n",
    "model = Model(inputs=input_2, outputs=output)"
   ]
  },
  {
   "cell_type": "code",
   "execution_count": 22,
   "metadata": {},
   "outputs": [
    {
     "name": "stdout",
     "output_type": "stream",
     "text": [
      "Model: \"functional_1\"\n",
      "_________________________________________________________________\n",
      "Layer (type)                 Output Shape              Param #   \n",
      "=================================================================\n",
      "input_2 (InputLayer)         [(None, 32)]              0         \n",
      "_________________________________________________________________\n",
      "dense_1 (Dense)              (None, 10)                330       \n",
      "_________________________________________________________________\n",
      "dense_2 (Dense)              (None, 64)                704       \n",
      "_________________________________________________________________\n",
      "dense_3 (Dense)              (None, 10)                650       \n",
      "_________________________________________________________________\n",
      "dense_4 (Dense)              (None, 4)                 44        \n",
      "=================================================================\n",
      "Total params: 1,728\n",
      "Trainable params: 1,728\n",
      "Non-trainable params: 0\n",
      "_________________________________________________________________\n",
      "None\n"
     ]
    }
   ],
   "source": [
    "from keras import backend as K\n",
    "import tensorflow as tf\n",
    "from sklearn.metrics import roc_auc_score\n",
    "\n",
    "\n",
    "def recall_m(y_true, y_pred):\n",
    "    true_positives = K.sum(K.round(K.clip(y_true * y_pred, 0, 1)))\n",
    "    possible_positives = K.sum(K.round(K.clip(y_true, 0, 1)))\n",
    "    recall = true_positives / (possible_positives + K.epsilon())\n",
    "    return recall\n",
    "\n",
    "def precision_m(y_true, y_pred):\n",
    "    true_positives = K.sum(K.round(K.clip(y_true * y_pred, 0, 1)))\n",
    "    predicted_positives = K.sum(K.round(K.clip(y_pred, 0, 1)))\n",
    "    precision = true_positives / (predicted_positives + K.epsilon())\n",
    "    return precision\n",
    "\n",
    "def f1_m(y_true, y_pred):\n",
    "    precision = precision_m(y_true, y_pred)\n",
    "    recall = recall_m(y_true, y_pred)\n",
    "    return 2*((precision*recall)/(precision+recall+K.epsilon()))\n",
    "\n",
    "def auroc(y_true, y_pred):\n",
    "    return tf.py_function(roc_auc_score, (y_true, y_pred), tf.double)\n",
    "\n",
    "\n",
    "\n",
    "\n",
    "model.compile(loss='categorical_crossentropy', optimizer='adam', metrics=['acc', f1_m,precision_m, recall_m])\n",
    "print(model.summary())"
   ]
  },
  {
   "cell_type": "code",
   "execution_count": 23,
   "metadata": {},
   "outputs": [
    {
     "data": {
      "image/png": "[encoded data removed]",
      "text/plain": [
       "<IPython.core.display.Image object>"
      ]
     },
     "execution_count": 23,
     "metadata": {},
     "output_type": "execute_result"
    }
   ],
   "source": [
    "from keras.utils import plot_model\n",
    "plot_model(model, to_file='model_plot3.png', show_shapes=True, show_layer_names=True)"
   ]
  },
  {
   "cell_type": "code",
   "execution_count": 24,
   "metadata": {
    "scrolled": true
   },
   "outputs": [
    {
     "name": "stdout",
     "output_type": "stream",
     "text": [
      "Epoch 1/50\n",
      "4/4 [==============================] - 0s 55ms/step - loss: 1.2976 - acc: 0.4048 - f1_m: 0.0000e+00 - precision_m: 0.0000e+00 - recall_m: 0.0000e+00 - val_loss: 1.2553 - val_acc: 0.4524 - val_f1_m: 0.0000e+00 - val_precision_m: 0.0000e+00 - val_recall_m: 0.0000e+00\n",
      "Epoch 2/50\n",
      "4/4 [==============================] - 0s 6ms/step - loss: 1.2605 - acc: 0.3849 - f1_m: 0.0000e+00 - precision_m: 0.0000e+00 - recall_m: 0.0000e+00 - val_loss: 1.2185 - val_acc: 0.4444 - val_f1_m: 0.0000e+00 - val_precision_m: 0.0000e+00 - val_recall_m: 0.0000e+00\n",
      "Epoch 3/50\n",
      "4/4 [==============================] - 0s 6ms/step - loss: 1.2290 - acc: 0.3790 - f1_m: 0.0041 - precision_m: 0.1250 - recall_m: 0.0021 - val_loss: 1.1842 - val_acc: 0.4444 - val_f1_m: 0.0157 - val_precision_m: 1.0000 - val_recall_m: 0.0079\n",
      "Epoch 4/50\n",
      "4/4 [==============================] - 0s 6ms/step - loss: 1.1976 - acc: 0.3869 - f1_m: 0.2403 - precision_m: 0.9301 - recall_m: 0.1510 - val_loss: 1.1511 - val_acc: 0.4524 - val_f1_m: 0.4444 - val_precision_m: 1.0000 - val_recall_m: 0.2857\n",
      "Epoch 5/50\n",
      "4/4 [==============================] - 0s 8ms/step - loss: 1.1688 - acc: 0.4127 - f1_m: 0.3942 - precision_m: 0.9077 - recall_m: 0.2531 - val_loss: 1.1172 - val_acc: 0.4683 - val_f1_m: 0.4881 - val_precision_m: 0.9762 - val_recall_m: 0.3254\n",
      "Epoch 6/50\n",
      "4/4 [==============================] - 0s 7ms/step - loss: 1.1399 - acc: 0.4306 - f1_m: 0.4399 - precision_m: 0.8781 - recall_m: 0.2936 - val_loss: 1.0841 - val_acc: 0.4762 - val_f1_m: 0.4970 - val_precision_m: 0.9767 - val_recall_m: 0.3333\n",
      "Epoch 7/50\n",
      "4/4 [==============================] - 0s 8ms/step - loss: 1.1092 - acc: 0.4583 - f1_m: 0.4461 - precision_m: 0.8739 - recall_m: 0.3004 - val_loss: 1.0494 - val_acc: 0.5397 - val_f1_m: 0.4941 - val_precision_m: 0.9545 - val_recall_m: 0.3333\n",
      "Epoch 8/50\n",
      "4/4 [==============================] - 0s 7ms/step - loss: 1.0765 - acc: 0.5337 - f1_m: 0.4453 - precision_m: 0.8447 - recall_m: 0.3044 - val_loss: 1.0142 - val_acc: 0.5556 - val_f1_m: 0.4884 - val_precision_m: 0.9130 - val_recall_m: 0.3333\n",
      "Epoch 9/50\n",
      "4/4 [==============================] - 0s 7ms/step - loss: 1.0380 - acc: 0.5556 - f1_m: 0.4569 - precision_m: 0.8321 - recall_m: 0.3151 - val_loss: 0.9799 - val_acc: 0.5635 - val_f1_m: 0.4941 - val_precision_m: 0.9545 - val_recall_m: 0.3333\n",
      "Epoch 10/50\n",
      "4/4 [==============================] - 0s 6ms/step - loss: 1.0015 - acc: 0.5813 - f1_m: 0.4533 - precision_m: 0.8537 - recall_m: 0.3095 - val_loss: 0.9481 - val_acc: 0.5556 - val_f1_m: 0.4941 - val_precision_m: 0.9545 - val_recall_m: 0.3333\n",
      "Epoch 11/50\n",
      "4/4 [==============================] - 0s 7ms/step - loss: 0.9675 - acc: 0.5893 - f1_m: 0.4529 - precision_m: 0.8520 - recall_m: 0.3098 - val_loss: 0.9203 - val_acc: 0.5556 - val_f1_m: 0.5029 - val_precision_m: 0.9556 - val_recall_m: 0.3413\n",
      "Epoch 12/50\n",
      "4/4 [==============================] - 0s 8ms/step - loss: 0.9357 - acc: 0.5913 - f1_m: 0.5055 - precision_m: 0.8463 - recall_m: 0.3652 - val_loss: 0.8926 - val_acc: 0.5556 - val_f1_m: 0.5914 - val_precision_m: 0.9167 - val_recall_m: 0.4365\n",
      "Epoch 13/50\n",
      "4/4 [==============================] - 0s 7ms/step - loss: 0.9051 - acc: 0.5913 - f1_m: 0.6219 - precision_m: 0.8578 - recall_m: 0.4885 - val_loss: 0.8673 - val_acc: 0.5556 - val_f1_m: 0.6218 - val_precision_m: 0.8955 - val_recall_m: 0.4762\n",
      "Epoch 14/50\n",
      "4/4 [==============================] - 0s 8ms/step - loss: 0.8776 - acc: 0.5913 - f1_m: 0.6412 - precision_m: 0.8489 - recall_m: 0.5154 - val_loss: 0.8453 - val_acc: 0.5556 - val_f1_m: 0.6186 - val_precision_m: 0.8824 - val_recall_m: 0.4762\n",
      "Epoch 15/50\n",
      "4/4 [==============================] - 0s 8ms/step - loss: 0.8517 - acc: 0.5893 - f1_m: 0.6484 - precision_m: 0.8478 - recall_m: 0.5253 - val_loss: 0.8256 - val_acc: 0.5556 - val_f1_m: 0.6327 - val_precision_m: 0.8857 - val_recall_m: 0.4921\n",
      "Epoch 16/50\n",
      "4/4 [==============================] - 0s 7ms/step - loss: 0.8281 - acc: 0.5952 - f1_m: 0.6520 - precision_m: 0.8505 - recall_m: 0.5307 - val_loss: 0.8073 - val_acc: 0.5873 - val_f1_m: 0.6327 - val_precision_m: 0.8857 - val_recall_m: 0.4921\n",
      "Epoch 17/50\n",
      "4/4 [==============================] - 0s 8ms/step - loss: 0.8079 - acc: 0.6429 - f1_m: 0.6519 - precision_m: 0.8477 - recall_m: 0.5301 - val_loss: 0.7922 - val_acc: 0.6111 - val_f1_m: 0.6327 - val_precision_m: 0.8857 - val_recall_m: 0.4921\n",
      "Epoch 18/50\n",
      "4/4 [==============================] - 0s 8ms/step - loss: 0.7885 - acc: 0.7004 - f1_m: 0.6521 - precision_m: 0.8475 - recall_m: 0.5302 - val_loss: 0.7768 - val_acc: 0.7222 - val_f1_m: 0.6256 - val_precision_m: 0.8841 - val_recall_m: 0.4841\n",
      "Epoch 19/50\n",
      "4/4 [==============================] - 0s 8ms/step - loss: 0.7704 - acc: 0.7440 - f1_m: 0.6514 - precision_m: 0.8523 - recall_m: 0.5275 - val_loss: 0.7622 - val_acc: 0.7460 - val_f1_m: 0.6256 - val_precision_m: 0.8841 - val_recall_m: 0.4841\n",
      "Epoch 20/50\n",
      "4/4 [==============================] - 0s 6ms/step - loss: 0.7552 - acc: 0.7500 - f1_m: 0.6512 - precision_m: 0.8522 - recall_m: 0.5275 - val_loss: 0.7473 - val_acc: 0.7698 - val_f1_m: 0.6224 - val_precision_m: 0.8714 - val_recall_m: 0.4841\n",
      "Epoch 21/50\n",
      "4/4 [==============================] - 0s 6ms/step - loss: 0.7389 - acc: 0.7520 - f1_m: 0.6527 - precision_m: 0.8501 - recall_m: 0.5297 - val_loss: 0.7342 - val_acc: 0.7698 - val_f1_m: 0.6231 - val_precision_m: 0.8493 - val_recall_m: 0.4921\n",
      "Epoch 22/50\n",
      "4/4 [==============================] - 0s 6ms/step - loss: 0.7247 - acc: 0.7520 - f1_m: 0.6817 - precision_m: 0.8491 - recall_m: 0.5704 - val_loss: 0.7222 - val_acc: 0.7698 - val_f1_m: 0.7182 - val_precision_m: 0.8404 - val_recall_m: 0.6270\n",
      "Epoch 23/50\n",
      "4/4 [==============================] - 0s 6ms/step - loss: 0.7108 - acc: 0.7599 - f1_m: 0.7526 - precision_m: 0.8333 - recall_m: 0.6870 - val_loss: 0.7088 - val_acc: 0.7698 - val_f1_m: 0.7586 - val_precision_m: 0.8302 - val_recall_m: 0.6984\n",
      "Epoch 24/50\n",
      "4/4 [==============================] - 0s 6ms/step - loss: 0.6975 - acc: 0.7599 - f1_m: 0.7603 - precision_m: 0.8223 - recall_m: 0.7072 - val_loss: 0.6985 - val_acc: 0.7698 - val_f1_m: 0.7586 - val_precision_m: 0.8302 - val_recall_m: 0.6984\n",
      "Epoch 25/50\n",
      "4/4 [==============================] - 0s 6ms/step - loss: 0.6867 - acc: 0.7599 - f1_m: 0.7648 - precision_m: 0.8240 - recall_m: 0.7138 - val_loss: 0.6901 - val_acc: 0.7698 - val_f1_m: 0.7586 - val_precision_m: 0.8302 - val_recall_m: 0.6984\n",
      "Epoch 26/50\n",
      "4/4 [==============================] - 0s 6ms/step - loss: 0.6751 - acc: 0.7599 - f1_m: 0.7663 - precision_m: 0.8206 - recall_m: 0.7190 - val_loss: 0.6814 - val_acc: 0.7698 - val_f1_m: 0.7554 - val_precision_m: 0.8224 - val_recall_m: 0.6984\n",
      "Epoch 27/50\n",
      "4/4 [==============================] - 0s 7ms/step - loss: 0.6663 - acc: 0.7599 - f1_m: 0.7672 - precision_m: 0.8177 - recall_m: 0.7230 - val_loss: 0.6759 - val_acc: 0.7857 - val_f1_m: 0.7554 - val_precision_m: 0.8224 - val_recall_m: 0.6984\n",
      "Epoch 28/50\n",
      "4/4 [==============================] - 0s 6ms/step - loss: 0.6582 - acc: 0.7639 - f1_m: 0.7704 - precision_m: 0.8175 - recall_m: 0.7285 - val_loss: 0.6699 - val_acc: 0.7857 - val_f1_m: 0.7554 - val_precision_m: 0.8224 - val_recall_m: 0.6984\n",
      "Epoch 29/50\n",
      "4/4 [==============================] - 0s 5ms/step - loss: 0.6519 - acc: 0.7639 - f1_m: 0.7694 - precision_m: 0.8157 - recall_m: 0.7283 - val_loss: 0.6657 - val_acc: 0.7857 - val_f1_m: 0.7607 - val_precision_m: 0.8241 - val_recall_m: 0.7063\n",
      "Epoch 30/50\n",
      "4/4 [==============================] - 0s 6ms/step - loss: 0.6466 - acc: 0.7679 - f1_m: 0.7685 - precision_m: 0.8108 - recall_m: 0.7305 - val_loss: 0.6642 - val_acc: 0.7778 - val_f1_m: 0.7745 - val_precision_m: 0.8349 - val_recall_m: 0.7222\n",
      "Epoch 31/50\n",
      "4/4 [==============================] - 0s 5ms/step - loss: 0.6406 - acc: 0.7679 - f1_m: 0.7715 - precision_m: 0.8102 - recall_m: 0.7363 - val_loss: 0.6605 - val_acc: 0.7857 - val_f1_m: 0.7745 - val_precision_m: 0.8349 - val_recall_m: 0.7222\n",
      "Epoch 32/50\n",
      "4/4 [==============================] - 0s 5ms/step - loss: 0.6362 - acc: 0.7659 - f1_m: 0.7740 - precision_m: 0.8118 - recall_m: 0.7401 - val_loss: 0.6589 - val_acc: 0.7857 - val_f1_m: 0.7745 - val_precision_m: 0.8349 - val_recall_m: 0.7222\n",
      "Epoch 33/50\n",
      "4/4 [==============================] - 0s 6ms/step - loss: 0.6324 - acc: 0.7679 - f1_m: 0.7735 - precision_m: 0.8105 - recall_m: 0.7398 - val_loss: 0.6552 - val_acc: 0.7857 - val_f1_m: 0.7778 - val_precision_m: 0.8426 - val_recall_m: 0.7222\n",
      "Epoch 34/50\n",
      "4/4 [==============================] - 0s 5ms/step - loss: 0.6275 - acc: 0.7679 - f1_m: 0.7767 - precision_m: 0.8140 - recall_m: 0.7427 - val_loss: 0.6543 - val_acc: 0.7857 - val_f1_m: 0.7778 - val_precision_m: 0.8426 - val_recall_m: 0.7222\n",
      "Epoch 35/50\n",
      "4/4 [==============================] - 0s 6ms/step - loss: 0.6241 - acc: 0.7698 - f1_m: 0.7789 - precision_m: 0.8156 - recall_m: 0.7456 - val_loss: 0.6526 - val_acc: 0.7857 - val_f1_m: 0.7778 - val_precision_m: 0.8426 - val_recall_m: 0.7222\n",
      "Epoch 36/50\n",
      "4/4 [==============================] - 0s 5ms/step - loss: 0.6216 - acc: 0.7758 - f1_m: 0.7788 - precision_m: 0.8149 - recall_m: 0.7460 - val_loss: 0.6522 - val_acc: 0.7778 - val_f1_m: 0.7745 - val_precision_m: 0.8349 - val_recall_m: 0.7222\n",
      "Epoch 37/50\n",
      "4/4 [==============================] - 0s 6ms/step - loss: 0.6181 - acc: 0.7798 - f1_m: 0.7795 - precision_m: 0.8160 - recall_m: 0.7464 - val_loss: 0.6511 - val_acc: 0.7778 - val_f1_m: 0.7745 - val_precision_m: 0.8349 - val_recall_m: 0.7222\n",
      "Epoch 38/50\n",
      "4/4 [==============================] - 0s 5ms/step - loss: 0.6150 - acc: 0.7778 - f1_m: 0.7797 - precision_m: 0.8162 - recall_m: 0.7465 - val_loss: 0.6498 - val_acc: 0.7698 - val_f1_m: 0.7745 - val_precision_m: 0.8349 - val_recall_m: 0.7222\n",
      "Epoch 39/50\n",
      "4/4 [==============================] - 0s 6ms/step - loss: 0.6116 - acc: 0.7798 - f1_m: 0.7811 - precision_m: 0.8180 - recall_m: 0.7475 - val_loss: 0.6480 - val_acc: 0.7619 - val_f1_m: 0.7745 - val_precision_m: 0.8349 - val_recall_m: 0.7222\n",
      "Epoch 40/50\n",
      "4/4 [==============================] - 0s 6ms/step - loss: 0.6089 - acc: 0.7798 - f1_m: 0.7818 - precision_m: 0.8188 - recall_m: 0.7482 - val_loss: 0.6465 - val_acc: 0.7619 - val_f1_m: 0.7745 - val_precision_m: 0.8349 - val_recall_m: 0.7222\n",
      "Epoch 41/50\n",
      "4/4 [==============================] - 0s 7ms/step - loss: 0.6060 - acc: 0.7798 - f1_m: 0.7828 - precision_m: 0.8194 - recall_m: 0.7495 - val_loss: 0.6460 - val_acc: 0.7460 - val_f1_m: 0.7745 - val_precision_m: 0.8349 - val_recall_m: 0.7222\n",
      "Epoch 42/50\n",
      "4/4 [==============================] - 0s 6ms/step - loss: 0.6027 - acc: 0.7837 - f1_m: 0.7828 - precision_m: 0.8184 - recall_m: 0.7504 - val_loss: 0.6478 - val_acc: 0.7460 - val_f1_m: 0.7778 - val_precision_m: 0.8426 - val_recall_m: 0.7222\n",
      "Epoch 43/50\n",
      "4/4 [==============================] - 0s 6ms/step - loss: 0.6002 - acc: 0.7857 - f1_m: 0.7829 - precision_m: 0.8184 - recall_m: 0.7505 - val_loss: 0.6466 - val_acc: 0.7540 - val_f1_m: 0.7712 - val_precision_m: 0.8273 - val_recall_m: 0.7222\n",
      "Epoch 44/50\n",
      "4/4 [==============================] - 0s 7ms/step - loss: 0.5979 - acc: 0.7857 - f1_m: 0.7887 - precision_m: 0.8219 - recall_m: 0.7582 - val_loss: 0.6441 - val_acc: 0.7540 - val_f1_m: 0.7797 - val_precision_m: 0.8364 - val_recall_m: 0.7302\n",
      "Epoch 45/50\n",
      "4/4 [==============================] - 0s 6ms/step - loss: 0.5945 - acc: 0.7857 - f1_m: 0.7849 - precision_m: 0.8184 - recall_m: 0.7544 - val_loss: 0.6447 - val_acc: 0.7698 - val_f1_m: 0.7745 - val_precision_m: 0.8349 - val_recall_m: 0.7222\n",
      "Epoch 46/50\n",
      "4/4 [==============================] - 0s 6ms/step - loss: 0.5924 - acc: 0.7877 - f1_m: 0.7843 - precision_m: 0.8172 - recall_m: 0.7540 - val_loss: 0.6466 - val_acc: 0.7698 - val_f1_m: 0.7712 - val_precision_m: 0.8273 - val_recall_m: 0.7222\n",
      "Epoch 47/50\n",
      "4/4 [==============================] - 0s 7ms/step - loss: 0.5901 - acc: 0.7877 - f1_m: 0.7866 - precision_m: 0.8195 - recall_m: 0.7563 - val_loss: 0.6476 - val_acc: 0.7698 - val_f1_m: 0.7712 - val_precision_m: 0.8273 - val_recall_m: 0.7222\n",
      "Epoch 48/50\n",
      "4/4 [==============================] - 0s 8ms/step - loss: 0.5878 - acc: 0.7877 - f1_m: 0.7866 - precision_m: 0.8208 - recall_m: 0.7555 - val_loss: 0.6466 - val_acc: 0.7619 - val_f1_m: 0.7745 - val_precision_m: 0.8349 - val_recall_m: 0.7222\n",
      "Epoch 49/50\n",
      "4/4 [==============================] - 0s 6ms/step - loss: 0.5857 - acc: 0.7877 - f1_m: 0.7856 - precision_m: 0.8223 - recall_m: 0.7521 - val_loss: 0.6453 - val_acc: 0.7698 - val_f1_m: 0.7712 - val_precision_m: 0.8273 - val_recall_m: 0.7222\n",
      "Epoch 50/50\n",
      "4/4 [==============================] - 0s 7ms/step - loss: 0.5834 - acc: 0.7877 - f1_m: 0.7894 - precision_m: 0.8261 - recall_m: 0.7560 - val_loss: 0.6437 - val_acc: 0.7698 - val_f1_m: 0.7745 - val_precision_m: 0.8349 - val_recall_m: 0.7222\n"
     ]
    }
   ],
   "source": [
    "history = model.fit(x=X2_train, y=y_train, batch_size=128, epochs=50, verbose=1, validation_split=0.2)"
   ]
  },
  {
   "cell_type": "code",
   "execution_count": 25,
   "metadata": {},
   "outputs": [
    {
     "name": "stdout",
     "output_type": "stream",
     "text": [
      "9/9 [==============================] - 0s 803us/step - loss: 0.6508 - acc: 0.7565 - f1_m: 0.7674 - precision_m: 0.8182 - recall_m: 0.7238\n"
     ]
    }
   ],
   "source": [
    "loss, accuracy, f1_score, precision, recall  = model.evaluate(x=X2_test, y=y_test, verbose=1)\n",
    "\n"
   ]
  },
  {
   "cell_type": "code",
   "execution_count": 26,
   "metadata": {},
   "outputs": [
    {
     "data": {
      "image/png": "[encoded data removed]",
      "text/plain": [
       "<Figure size 432x288 with 1 Axes>"
      ]
     },
     "metadata": {
      "needs_background": "light"
     },
     "output_type": "display_data"
    },
    {
     "data": {
      "image/png": "[encoded data removed]",
      "text/plain": [
       "<Figure size 432x288 with 1 Axes>"
      ]
     },
     "metadata": {
      "needs_background": "light"
     },
     "output_type": "display_data"
    }
   ],
   "source": [
    "import matplotlib.pyplot as plt\n",
    "\n",
    "plt.plot(history.history['acc'])\n",
    "plt.plot(history.history['val_acc'])\n",
    "\n",
    "plt.title('model accuracy')\n",
    "plt.ylabel('accuracy')\n",
    "plt.xlabel('epoch')\n",
    "plt.legend(['train','test'], loc='upper left')\n",
    "plt.show()\n",
    "\n",
    "plt.plot(history.history['loss'])\n",
    "plt.plot(history.history['val_loss'])\n",
    "\n",
    "plt.title('model loss')\n",
    "plt.ylabel('loss')\n",
    "plt.xlabel('epoch')\n",
    "plt.legend(['train','test'], loc='upper left')\n",
    "plt.show()"
   ]
  },
  {
   "cell_type": "code",
   "execution_count": 27,
   "metadata": {},
   "outputs": [
    {
     "name": "stdout",
     "output_type": "stream",
     "text": [
      "Automatically created module for IPython interactive environment\n"
     ]
    },
    {
     "data": {
      "image/png": "[encoded data removed]",
      "text/plain": [
       "<Figure size 432x288 with 1 Axes>"
      ]
     },
     "metadata": {
      "needs_background": "light"
     },
     "output_type": "display_data"
    },
    {
     "data": {
      "image/png": "[encoded data removed]",
      "text/plain": [
       "<Figure size 432x288 with 1 Axes>"
      ]
     },
     "metadata": {
      "needs_background": "light"
     },
     "output_type": "display_data"
    }
   ],
   "source": [
    "print(__doc__)\n",
    "\n",
    "import matplotlib.pyplot as plt\n",
    "import numpy as np\n",
    "from sklearn import svm, datasets\n",
    "from sklearn.metrics import precision_recall_curve\n",
    "from sklearn.metrics import average_precision_score\n",
    "from sklearn.preprocessing import label_binarize\n",
    "from sklearn.multiclass import OneVsRestClassifier\n",
    "from sklearn.model_selection import train_test_split\n",
    "\n",
    "predictions = model.predict(X2_test)\n",
    "y_pred = (predictions > 0.7)\n",
    "y_test = label_binarize(y_test, classes=['YY','YN','NY','NN'])\n",
    "y_pred = label_binarize(y_pred, classes=['YY','YN','NY','NN'])\n",
    "n_classes = 4\n",
    "\n",
    "\n",
    "\n",
    "# Compute Precision-Recall and plot curve\n",
    "precision = dict()\n",
    "recall = dict()\n",
    "average_precision = dict()\n",
    "for i in range(n_classes):\n",
    "    precision[i], recall[i], _ = precision_recall_curve(y_test[:, i],\n",
    "                                                        y_pred[:, i])\n",
    "    average_precision[i] = average_precision_score(y_test[:, i], y_pred[:, i])\n",
    "    \n",
    "\n",
    "# Compute micro-average ROC curve and ROC area\n",
    "precision[\"micro\"], recall[\"micro\"], _ = precision_recall_curve(y_test.ravel(),\n",
    "    y_pred.ravel())\n",
    "average_precision[\"micro\"] = average_precision_score(y_test, y_pred,\n",
    "                                                     average=\"micro\")\n",
    "\n",
    "  \n",
    "# Plot Precision-Recall curve\n",
    "plt.clf()\n",
    "plt.plot(recall[0], precision[0], label='Precision-Recall curve')\n",
    "plt.xlabel('Recall')\n",
    "plt.ylabel('Precision')\n",
    "plt.ylim([0.0, 1.05])\n",
    "plt.xlim([0.0, 1.0])\n",
    "plt.title('Precision-Recall example: AUC={0:0.2f}'.format(average_precision[0]))\n",
    "plt.legend(loc=\"lower left\")\n",
    "plt.show()\n",
    "\n",
    "# Plot Precision-Recall curve for each class\n",
    "plt.clf()\n",
    "plt.plot(recall[\"micro\"], precision[\"micro\"],\n",
    "         label='micro-average Precision-recall curve (area = {0:0.2f})'\n",
    "               ''.format(average_precision[\"micro\"]))\n",
    "for i in range(n_classes):\n",
    "    plt.plot(recall[i], precision[i],\n",
    "             label='Precision-recall curve of class {0} (area = {1:0.2f})'\n",
    "                   ''.format(i, average_precision[i]))\n",
    "\n",
    "plt.xlim([0.0, 1.0])\n",
    "plt.ylim([0.0, 1.05])\n",
    "plt.xlabel('Recall')\n",
    "plt.ylabel('Precision')\n",
    "plt.title('Extension of Precision-Recall curve to multi-class')\n",
    "plt.legend(loc=\"lower right\")\n",
    "plt.show()"
   ]
  },
  {
   "cell_type": "code",
   "execution_count": 28,
   "metadata": {},
   "outputs": [
    {
     "ename": "NameError",
     "evalue": "name 'metrics' is not defined",
     "output_type": "error",
     "traceback": [
      "\u001b[0;31m---------------------------------------------------------------------------\u001b[0m",
      "\u001b[0;31mNameError\u001b[0m                                 Traceback (most recent call last)",
      "\u001b[0;32m<ipython-input-28-0bc506c1feb7>\u001b[0m in \u001b[0;36m<module>\u001b[0;34m\u001b[0m\n\u001b[0;32m----> 1\u001b[0;31m \u001b[0mmatrix\u001b[0m \u001b[0;34m=\u001b[0m \u001b[0mmetrics\u001b[0m\u001b[0;34m.\u001b[0m\u001b[0mconfusion_matrix\u001b[0m\u001b[0;34m(\u001b[0m\u001b[0my_test\u001b[0m\u001b[0;34m.\u001b[0m\u001b[0margmax\u001b[0m\u001b[0;34m(\u001b[0m\u001b[0maxis\u001b[0m\u001b[0;34m=\u001b[0m\u001b[0;36m1\u001b[0m\u001b[0;34m)\u001b[0m\u001b[0;34m,\u001b[0m \u001b[0my_pred\u001b[0m\u001b[0;34m.\u001b[0m\u001b[0margmax\u001b[0m\u001b[0;34m(\u001b[0m\u001b[0maxis\u001b[0m\u001b[0;34m=\u001b[0m\u001b[0;36m1\u001b[0m\u001b[0;34m)\u001b[0m\u001b[0;34m)\u001b[0m\u001b[0;34m\u001b[0m\u001b[0;34m\u001b[0m\u001b[0m\n\u001b[0m\u001b[1;32m      2\u001b[0m \u001b[0mmatrix\u001b[0m\u001b[0;34m\u001b[0m\u001b[0;34m\u001b[0m\u001b[0m\n",
      "\u001b[0;31mNameError\u001b[0m: name 'metrics' is not defined"
     ]
    }
   ],
   "source": [
    "matrix = metrics.confusion_matrix(y_test.argmax(axis=1), y_pred.argmax(axis=1))\n",
    "matrix"
   ]
  },
  {
   "cell_type": "code",
   "execution_count": 29,
   "metadata": {},
   "outputs": [
    {
     "name": "stderr",
     "output_type": "stream",
     "text": [
      "keras is no longer supported, please use tf.keras instead.\n"
     ]
    },
    {
     "ename": "InvalidArgumentError",
     "evalue": "Matrix size-incompatible: In[0]: [100,27], In[1]: [32,10] [Op:MatMul]",
     "output_type": "error",
     "traceback": [
      "\u001b[0;31m---------------------------------------------------------------------------\u001b[0m",
      "\u001b[0;31mInvalidArgumentError\u001b[0m                      Traceback (most recent call last)",
      "\u001b[0;32m<ipython-input-29-9ae0d0fbeb6c>\u001b[0m in \u001b[0;36m<module>\u001b[0;34m\u001b[0m\n\u001b[1;32m      1\u001b[0m \u001b[0;32mimport\u001b[0m \u001b[0mshap\u001b[0m\u001b[0;34m\u001b[0m\u001b[0;34m\u001b[0m\u001b[0m\n\u001b[1;32m      2\u001b[0m \u001b[0;34m\u001b[0m\u001b[0m\n\u001b[0;32m----> 3\u001b[0;31m \u001b[0mexplainer\u001b[0m \u001b[0;34m=\u001b[0m \u001b[0mshap\u001b[0m\u001b[0;34m.\u001b[0m\u001b[0mDeepExplainer\u001b[0m\u001b[0;34m(\u001b[0m\u001b[0mmodel\u001b[0m\u001b[0;34m,\u001b[0m \u001b[0mX1_train\u001b[0m\u001b[0;34m[\u001b[0m\u001b[0;34m:\u001b[0m\u001b[0;36m100\u001b[0m\u001b[0;34m]\u001b[0m\u001b[0;34m)\u001b[0m\u001b[0;34m\u001b[0m\u001b[0;34m\u001b[0m\u001b[0m\n\u001b[0m\u001b[1;32m      4\u001b[0m \u001b[0mshap_values\u001b[0m \u001b[0;34m=\u001b[0m \u001b[0mexplainer\u001b[0m\u001b[0;34m.\u001b[0m\u001b[0mshap_values\u001b[0m\u001b[0;34m(\u001b[0m\u001b[0mX1_test\u001b[0m\u001b[0;34m[\u001b[0m\u001b[0;34m:\u001b[0m\u001b[0;36m10\u001b[0m\u001b[0;34m]\u001b[0m\u001b[0;34m)\u001b[0m\u001b[0;34m\u001b[0m\u001b[0;34m\u001b[0m\u001b[0m\n",
      "\u001b[0;32m~/opt/anaconda3/lib/python3.8/site-packages/shap/explainers/_deep/__init__.py\u001b[0m in \u001b[0;36m__init__\u001b[0;34m(self, model, data, session, learning_phase_flags)\u001b[0m\n\u001b[1;32m     78\u001b[0m \u001b[0;34m\u001b[0m\u001b[0m\n\u001b[1;32m     79\u001b[0m         \u001b[0;32mif\u001b[0m \u001b[0mframework\u001b[0m \u001b[0;34m==\u001b[0m \u001b[0;34m'tensorflow'\u001b[0m\u001b[0;34m:\u001b[0m\u001b[0;34m\u001b[0m\u001b[0;34m\u001b[0m\u001b[0m\n\u001b[0;32m---> 80\u001b[0;31m             \u001b[0mself\u001b[0m\u001b[0;34m.\u001b[0m\u001b[0mexplainer\u001b[0m \u001b[0;34m=\u001b[0m \u001b[0mTFDeep\u001b[0m\u001b[0;34m(\u001b[0m\u001b[0mmodel\u001b[0m\u001b[0;34m,\u001b[0m \u001b[0mdata\u001b[0m\u001b[0;34m,\u001b[0m \u001b[0msession\u001b[0m\u001b[0;34m,\u001b[0m \u001b[0mlearning_phase_flags\u001b[0m\u001b[0;34m)\u001b[0m\u001b[0;34m\u001b[0m\u001b[0;34m\u001b[0m\u001b[0m\n\u001b[0m\u001b[1;32m     81\u001b[0m         \u001b[0;32melif\u001b[0m \u001b[0mframework\u001b[0m \u001b[0;34m==\u001b[0m \u001b[0;34m'pytorch'\u001b[0m\u001b[0;34m:\u001b[0m\u001b[0;34m\u001b[0m\u001b[0;34m\u001b[0m\u001b[0m\n\u001b[1;32m     82\u001b[0m             \u001b[0mself\u001b[0m\u001b[0;34m.\u001b[0m\u001b[0mexplainer\u001b[0m \u001b[0;34m=\u001b[0m \u001b[0mPyTorchDeep\u001b[0m\u001b[0;34m(\u001b[0m\u001b[0mmodel\u001b[0m\u001b[0;34m,\u001b[0m \u001b[0mdata\u001b[0m\u001b[0;34m)\u001b[0m\u001b[0;34m\u001b[0m\u001b[0;34m\u001b[0m\u001b[0m\n",
      "\u001b[0;32m~/opt/anaconda3/lib/python3.8/site-packages/shap/explainers/_deep/deep_tf.py\u001b[0m in \u001b[0;36m__init__\u001b[0;34m(self, model, data, session, learning_phase_flags)\u001b[0m\n\u001b[1;32m    152\u001b[0m                 \u001b[0;32mif\u001b[0m \u001b[0mtype\u001b[0m\u001b[0;34m(\u001b[0m\u001b[0mself\u001b[0m\u001b[0;34m.\u001b[0m\u001b[0mmodel\u001b[0m\u001b[0;34m)\u001b[0m\u001b[0;32mis\u001b[0m \u001b[0mtuple\u001b[0m\u001b[0;34m:\u001b[0m\u001b[0;34m\u001b[0m\u001b[0;34m\u001b[0m\u001b[0m\n\u001b[1;32m    153\u001b[0m                     \u001b[0msel\u001b[0m\u001b[0;34m.\u001b[0m\u001b[0mfModel\u001b[0m\u001b[0;34m(\u001b[0m\u001b[0mcnn\u001b[0m\u001b[0;34m.\u001b[0m\u001b[0minputs\u001b[0m\u001b[0;34m,\u001b[0m \u001b[0mcnn\u001b[0m\u001b[0;34m.\u001b[0m\u001b[0mget_layer\u001b[0m\u001b[0;34m(\u001b[0m\u001b[0mtheNameYouWant\u001b[0m\u001b[0;34m)\u001b[0m\u001b[0;34m.\u001b[0m\u001b[0moutputs\u001b[0m\u001b[0;34m)\u001b[0m\u001b[0;34m\u001b[0m\u001b[0;34m\u001b[0m\u001b[0m\n\u001b[0;32m--> 154\u001b[0;31m                 \u001b[0mself\u001b[0m\u001b[0;34m.\u001b[0m\u001b[0mexpected_value\u001b[0m \u001b[0;34m=\u001b[0m \u001b[0mtf\u001b[0m\u001b[0;34m.\u001b[0m\u001b[0mreduce_mean\u001b[0m\u001b[0;34m(\u001b[0m\u001b[0mself\u001b[0m\u001b[0;34m.\u001b[0m\u001b[0mmodel\u001b[0m\u001b[0;34m(\u001b[0m\u001b[0mself\u001b[0m\u001b[0;34m.\u001b[0m\u001b[0mdata\u001b[0m\u001b[0;34m)\u001b[0m\u001b[0;34m,\u001b[0m \u001b[0;36m0\u001b[0m\u001b[0;34m)\u001b[0m\u001b[0;34m\u001b[0m\u001b[0;34m\u001b[0m\u001b[0m\n\u001b[0m\u001b[1;32m    155\u001b[0m \u001b[0;34m\u001b[0m\u001b[0m\n\u001b[1;32m    156\u001b[0m         \u001b[0;32mif\u001b[0m \u001b[0;32mnot\u001b[0m \u001b[0mtf\u001b[0m\u001b[0;34m.\u001b[0m\u001b[0mexecuting_eagerly\u001b[0m\u001b[0;34m(\u001b[0m\u001b[0;34m)\u001b[0m\u001b[0;34m:\u001b[0m\u001b[0;34m\u001b[0m\u001b[0;34m\u001b[0m\u001b[0m\n",
      "\u001b[0;32m~/opt/anaconda3/lib/python3.8/site-packages/tensorflow/python/keras/engine/base_layer.py\u001b[0m in \u001b[0;36m__call__\u001b[0;34m(self, *args, **kwargs)\u001b[0m\n\u001b[1;32m    983\u001b[0m \u001b[0;34m\u001b[0m\u001b[0m\n\u001b[1;32m    984\u001b[0m         \u001b[0;32mwith\u001b[0m \u001b[0mops\u001b[0m\u001b[0;34m.\u001b[0m\u001b[0menable_auto_cast_variables\u001b[0m\u001b[0;34m(\u001b[0m\u001b[0mself\u001b[0m\u001b[0;34m.\u001b[0m\u001b[0m_compute_dtype_object\u001b[0m\u001b[0;34m)\u001b[0m\u001b[0;34m:\u001b[0m\u001b[0;34m\u001b[0m\u001b[0;34m\u001b[0m\u001b[0m\n\u001b[0;32m--> 985\u001b[0;31m           \u001b[0moutputs\u001b[0m \u001b[0;34m=\u001b[0m \u001b[0mcall_fn\u001b[0m\u001b[0;34m(\u001b[0m\u001b[0minputs\u001b[0m\u001b[0;34m,\u001b[0m \u001b[0;34m*\u001b[0m\u001b[0margs\u001b[0m\u001b[0;34m,\u001b[0m \u001b[0;34m**\u001b[0m\u001b[0mkwargs\u001b[0m\u001b[0;34m)\u001b[0m\u001b[0;34m\u001b[0m\u001b[0;34m\u001b[0m\u001b[0m\n\u001b[0m\u001b[1;32m    986\u001b[0m \u001b[0;34m\u001b[0m\u001b[0m\n\u001b[1;32m    987\u001b[0m         \u001b[0;32mif\u001b[0m \u001b[0mself\u001b[0m\u001b[0;34m.\u001b[0m\u001b[0m_activity_regularizer\u001b[0m\u001b[0;34m:\u001b[0m\u001b[0;34m\u001b[0m\u001b[0;34m\u001b[0m\u001b[0m\n",
      "\u001b[0;32m~/opt/anaconda3/lib/python3.8/site-packages/tensorflow/python/keras/engine/functional.py\u001b[0m in \u001b[0;36mcall\u001b[0;34m(self, inputs, training, mask)\u001b[0m\n\u001b[1;32m    383\u001b[0m         \u001b[0ma\u001b[0m \u001b[0mlist\u001b[0m \u001b[0mof\u001b[0m \u001b[0mtensors\u001b[0m \u001b[0;32mif\u001b[0m \u001b[0mthere\u001b[0m \u001b[0mare\u001b[0m \u001b[0mmore\u001b[0m \u001b[0mthan\u001b[0m \u001b[0mone\u001b[0m \u001b[0moutputs\u001b[0m\u001b[0;34m.\u001b[0m\u001b[0;34m\u001b[0m\u001b[0;34m\u001b[0m\u001b[0m\n\u001b[1;32m    384\u001b[0m     \"\"\"\n\u001b[0;32m--> 385\u001b[0;31m     return self._run_internal_graph(\n\u001b[0m\u001b[1;32m    386\u001b[0m         inputs, training=training, mask=mask)\n\u001b[1;32m    387\u001b[0m \u001b[0;34m\u001b[0m\u001b[0m\n",
      "\u001b[0;32m~/opt/anaconda3/lib/python3.8/site-packages/tensorflow/python/keras/engine/functional.py\u001b[0m in \u001b[0;36m_run_internal_graph\u001b[0;34m(self, inputs, training, mask)\u001b[0m\n\u001b[1;32m    506\u001b[0m \u001b[0;34m\u001b[0m\u001b[0m\n\u001b[1;32m    507\u001b[0m         \u001b[0margs\u001b[0m\u001b[0;34m,\u001b[0m \u001b[0mkwargs\u001b[0m \u001b[0;34m=\u001b[0m \u001b[0mnode\u001b[0m\u001b[0;34m.\u001b[0m\u001b[0mmap_arguments\u001b[0m\u001b[0;34m(\u001b[0m\u001b[0mtensor_dict\u001b[0m\u001b[0;34m)\u001b[0m\u001b[0;34m\u001b[0m\u001b[0;34m\u001b[0m\u001b[0m\n\u001b[0;32m--> 508\u001b[0;31m         \u001b[0moutputs\u001b[0m \u001b[0;34m=\u001b[0m \u001b[0mnode\u001b[0m\u001b[0;34m.\u001b[0m\u001b[0mlayer\u001b[0m\u001b[0;34m(\u001b[0m\u001b[0;34m*\u001b[0m\u001b[0margs\u001b[0m\u001b[0;34m,\u001b[0m \u001b[0;34m**\u001b[0m\u001b[0mkwargs\u001b[0m\u001b[0;34m)\u001b[0m\u001b[0;34m\u001b[0m\u001b[0;34m\u001b[0m\u001b[0m\n\u001b[0m\u001b[1;32m    509\u001b[0m \u001b[0;34m\u001b[0m\u001b[0m\n\u001b[1;32m    510\u001b[0m         \u001b[0;31m# Update tensor_dict.\u001b[0m\u001b[0;34m\u001b[0m\u001b[0;34m\u001b[0m\u001b[0;34m\u001b[0m\u001b[0m\n",
      "\u001b[0;32m~/opt/anaconda3/lib/python3.8/site-packages/tensorflow/python/keras/engine/base_layer.py\u001b[0m in \u001b[0;36m__call__\u001b[0;34m(self, *args, **kwargs)\u001b[0m\n\u001b[1;32m    983\u001b[0m \u001b[0;34m\u001b[0m\u001b[0m\n\u001b[1;32m    984\u001b[0m         \u001b[0;32mwith\u001b[0m \u001b[0mops\u001b[0m\u001b[0;34m.\u001b[0m\u001b[0menable_auto_cast_variables\u001b[0m\u001b[0;34m(\u001b[0m\u001b[0mself\u001b[0m\u001b[0;34m.\u001b[0m\u001b[0m_compute_dtype_object\u001b[0m\u001b[0;34m)\u001b[0m\u001b[0;34m:\u001b[0m\u001b[0;34m\u001b[0m\u001b[0;34m\u001b[0m\u001b[0m\n\u001b[0;32m--> 985\u001b[0;31m           \u001b[0moutputs\u001b[0m \u001b[0;34m=\u001b[0m \u001b[0mcall_fn\u001b[0m\u001b[0;34m(\u001b[0m\u001b[0minputs\u001b[0m\u001b[0;34m,\u001b[0m \u001b[0;34m*\u001b[0m\u001b[0margs\u001b[0m\u001b[0;34m,\u001b[0m \u001b[0;34m**\u001b[0m\u001b[0mkwargs\u001b[0m\u001b[0;34m)\u001b[0m\u001b[0;34m\u001b[0m\u001b[0;34m\u001b[0m\u001b[0m\n\u001b[0m\u001b[1;32m    986\u001b[0m \u001b[0;34m\u001b[0m\u001b[0m\n\u001b[1;32m    987\u001b[0m         \u001b[0;32mif\u001b[0m \u001b[0mself\u001b[0m\u001b[0;34m.\u001b[0m\u001b[0m_activity_regularizer\u001b[0m\u001b[0;34m:\u001b[0m\u001b[0;34m\u001b[0m\u001b[0;34m\u001b[0m\u001b[0m\n",
      "\u001b[0;32m~/opt/anaconda3/lib/python3.8/site-packages/tensorflow/python/keras/layers/core.py\u001b[0m in \u001b[0;36mcall\u001b[0;34m(self, inputs)\u001b[0m\n\u001b[1;32m   1191\u001b[0m \u001b[0;34m\u001b[0m\u001b[0m\n\u001b[1;32m   1192\u001b[0m   \u001b[0;32mdef\u001b[0m \u001b[0mcall\u001b[0m\u001b[0;34m(\u001b[0m\u001b[0mself\u001b[0m\u001b[0;34m,\u001b[0m \u001b[0minputs\u001b[0m\u001b[0;34m)\u001b[0m\u001b[0;34m:\u001b[0m\u001b[0;34m\u001b[0m\u001b[0;34m\u001b[0m\u001b[0m\n\u001b[0;32m-> 1193\u001b[0;31m     return core_ops.dense(\n\u001b[0m\u001b[1;32m   1194\u001b[0m         \u001b[0minputs\u001b[0m\u001b[0;34m,\u001b[0m\u001b[0;34m\u001b[0m\u001b[0;34m\u001b[0m\u001b[0m\n\u001b[1;32m   1195\u001b[0m         \u001b[0mself\u001b[0m\u001b[0;34m.\u001b[0m\u001b[0mkernel\u001b[0m\u001b[0;34m,\u001b[0m\u001b[0;34m\u001b[0m\u001b[0;34m\u001b[0m\u001b[0m\n",
      "\u001b[0;32m~/opt/anaconda3/lib/python3.8/site-packages/tensorflow/python/keras/layers/ops/core.py\u001b[0m in \u001b[0;36mdense\u001b[0;34m(inputs, kernel, bias, activation, dtype)\u001b[0m\n\u001b[1;32m     51\u001b[0m       \u001b[0moutputs\u001b[0m \u001b[0;34m=\u001b[0m \u001b[0msparse_ops\u001b[0m\u001b[0;34m.\u001b[0m\u001b[0msparse_tensor_dense_matmul\u001b[0m\u001b[0;34m(\u001b[0m\u001b[0minputs\u001b[0m\u001b[0;34m,\u001b[0m \u001b[0mkernel\u001b[0m\u001b[0;34m)\u001b[0m\u001b[0;34m\u001b[0m\u001b[0;34m\u001b[0m\u001b[0m\n\u001b[1;32m     52\u001b[0m     \u001b[0;32melse\u001b[0m\u001b[0;34m:\u001b[0m\u001b[0;34m\u001b[0m\u001b[0;34m\u001b[0m\u001b[0m\n\u001b[0;32m---> 53\u001b[0;31m       \u001b[0moutputs\u001b[0m \u001b[0;34m=\u001b[0m \u001b[0mgen_math_ops\u001b[0m\u001b[0;34m.\u001b[0m\u001b[0mmat_mul\u001b[0m\u001b[0;34m(\u001b[0m\u001b[0minputs\u001b[0m\u001b[0;34m,\u001b[0m \u001b[0mkernel\u001b[0m\u001b[0;34m)\u001b[0m\u001b[0;34m\u001b[0m\u001b[0;34m\u001b[0m\u001b[0m\n\u001b[0m\u001b[1;32m     54\u001b[0m   \u001b[0;31m# Broadcast kernel to inputs.\u001b[0m\u001b[0;34m\u001b[0m\u001b[0;34m\u001b[0m\u001b[0;34m\u001b[0m\u001b[0m\n\u001b[1;32m     55\u001b[0m   \u001b[0;32melse\u001b[0m\u001b[0;34m:\u001b[0m\u001b[0;34m\u001b[0m\u001b[0;34m\u001b[0m\u001b[0m\n",
      "\u001b[0;32m~/opt/anaconda3/lib/python3.8/site-packages/tensorflow/python/ops/gen_math_ops.py\u001b[0m in \u001b[0;36mmat_mul\u001b[0;34m(a, b, transpose_a, transpose_b, name)\u001b[0m\n\u001b[1;32m   5622\u001b[0m       \u001b[0;32mreturn\u001b[0m \u001b[0m_result\u001b[0m\u001b[0;34m\u001b[0m\u001b[0;34m\u001b[0m\u001b[0m\n\u001b[1;32m   5623\u001b[0m     \u001b[0;32mexcept\u001b[0m \u001b[0m_core\u001b[0m\u001b[0;34m.\u001b[0m\u001b[0m_NotOkStatusException\u001b[0m \u001b[0;32mas\u001b[0m \u001b[0me\u001b[0m\u001b[0;34m:\u001b[0m\u001b[0;34m\u001b[0m\u001b[0;34m\u001b[0m\u001b[0m\n\u001b[0;32m-> 5624\u001b[0;31m       \u001b[0m_ops\u001b[0m\u001b[0;34m.\u001b[0m\u001b[0mraise_from_not_ok_status\u001b[0m\u001b[0;34m(\u001b[0m\u001b[0me\u001b[0m\u001b[0;34m,\u001b[0m \u001b[0mname\u001b[0m\u001b[0;34m)\u001b[0m\u001b[0;34m\u001b[0m\u001b[0;34m\u001b[0m\u001b[0m\n\u001b[0m\u001b[1;32m   5625\u001b[0m     \u001b[0;32mexcept\u001b[0m \u001b[0m_core\u001b[0m\u001b[0;34m.\u001b[0m\u001b[0m_FallbackException\u001b[0m\u001b[0;34m:\u001b[0m\u001b[0;34m\u001b[0m\u001b[0;34m\u001b[0m\u001b[0m\n\u001b[1;32m   5626\u001b[0m       \u001b[0;32mpass\u001b[0m\u001b[0;34m\u001b[0m\u001b[0;34m\u001b[0m\u001b[0m\n",
      "\u001b[0;32m~/opt/anaconda3/lib/python3.8/site-packages/tensorflow/python/framework/ops.py\u001b[0m in \u001b[0;36mraise_from_not_ok_status\u001b[0;34m(e, name)\u001b[0m\n\u001b[1;32m   6841\u001b[0m   \u001b[0mmessage\u001b[0m \u001b[0;34m=\u001b[0m \u001b[0me\u001b[0m\u001b[0;34m.\u001b[0m\u001b[0mmessage\u001b[0m \u001b[0;34m+\u001b[0m \u001b[0;34m(\u001b[0m\u001b[0;34m\" name: \"\u001b[0m \u001b[0;34m+\u001b[0m \u001b[0mname\u001b[0m \u001b[0;32mif\u001b[0m \u001b[0mname\u001b[0m \u001b[0;32mis\u001b[0m \u001b[0;32mnot\u001b[0m \u001b[0;32mNone\u001b[0m \u001b[0;32melse\u001b[0m \u001b[0;34m\"\"\u001b[0m\u001b[0;34m)\u001b[0m\u001b[0;34m\u001b[0m\u001b[0;34m\u001b[0m\u001b[0m\n\u001b[1;32m   6842\u001b[0m   \u001b[0;31m# pylint: disable=protected-access\u001b[0m\u001b[0;34m\u001b[0m\u001b[0;34m\u001b[0m\u001b[0;34m\u001b[0m\u001b[0m\n\u001b[0;32m-> 6843\u001b[0;31m   \u001b[0msix\u001b[0m\u001b[0;34m.\u001b[0m\u001b[0mraise_from\u001b[0m\u001b[0;34m(\u001b[0m\u001b[0mcore\u001b[0m\u001b[0;34m.\u001b[0m\u001b[0m_status_to_exception\u001b[0m\u001b[0;34m(\u001b[0m\u001b[0me\u001b[0m\u001b[0;34m.\u001b[0m\u001b[0mcode\u001b[0m\u001b[0;34m,\u001b[0m \u001b[0mmessage\u001b[0m\u001b[0;34m)\u001b[0m\u001b[0;34m,\u001b[0m \u001b[0;32mNone\u001b[0m\u001b[0;34m)\u001b[0m\u001b[0;34m\u001b[0m\u001b[0;34m\u001b[0m\u001b[0m\n\u001b[0m\u001b[1;32m   6844\u001b[0m   \u001b[0;31m# pylint: enable=protected-access\u001b[0m\u001b[0;34m\u001b[0m\u001b[0;34m\u001b[0m\u001b[0;34m\u001b[0m\u001b[0m\n\u001b[1;32m   6845\u001b[0m \u001b[0;34m\u001b[0m\u001b[0m\n",
      "\u001b[0;32m~/opt/anaconda3/lib/python3.8/site-packages/six.py\u001b[0m in \u001b[0;36mraise_from\u001b[0;34m(value, from_value)\u001b[0m\n",
      "\u001b[0;31mInvalidArgumentError\u001b[0m: Matrix size-incompatible: In[0]: [100,27], In[1]: [32,10] [Op:MatMul]"
     ]
    }
   ],
   "source": [
    "import shap\n",
    "\n",
    "explainer = shap.DeepExplainer(model, X1_train[:100])\n",
    "shap_values = explainer.shap_values(X1_test[:10])"
   ]
  },
  {
   "cell_type": "code",
   "execution_count": null,
   "metadata": {},
   "outputs": [],
   "source": [
    "f=shap.force_plot(explainer.expected_value, shap_values, X, show=False)\n",
    "shap.save_html(\"index.htm\", f)"
   ]
  },
  {
   "cell_type": "code",
   "execution_count": null,
   "metadata": {},
   "outputs": [],
   "source": [
    "auc_score"
   ]
  },
  {
   "cell_type": "code",
   "execution_count": null,
   "metadata": {},
   "outputs": [],
   "source": [
    "from matplotlib import colors as plt_colors\n",
    "import numpy as np\n",
    "import shap\n",
    "import matplotlib.pyplot as pl\n",
    "\n",
    "\n",
    "\n",
    "\n",
    "shap.summary_plot(shap_values, X, show=False)\n",
    "\n",
    "pl.savefig(\"ranks.pdf\", dpi=800,  bbox_inches = 'tight')\n",
    "pl.show()"
   ]
  },
  {
   "cell_type": "markdown",
   "metadata": {},
   "source": [
    "-------------------------------------------\n"
   ]
  },
  {
   "cell_type": "code",
   "execution_count": null,
   "metadata": {},
   "outputs": [],
   "source": [
    "from cleanlab.latent_estimation import estimate_cv_predicted_probabilities\n",
    "import cleanlab\n",
    "\n",
    "\n",
    "s = np.array(y)\n",
    "\n",
    "probabilities = estimate_cv_predicted_probabilities(\n",
    "    X, \n",
    "    s, \n",
    "    clf=model,\n",
    ")\n",
    "psx = cleanlab.latent_estimation.estimate_cv_predicted_probabilities(\n",
    "    X, s, clf=model)"
   ]
  },
  {
   "cell_type": "code",
   "execution_count": null,
   "metadata": {},
   "outputs": [],
   "source": [
    "import pandas as pd\n",
    "import numpy as np\n",
    "df=data"
   ]
  },
  {
   "cell_type": "code",
   "execution_count": null,
   "metadata": {},
   "outputs": [],
   "source": [
    "for tweet, label in df.sample(10)[[\"text\", \"result\"]].values:\n",
    "    print(label, tweet)"
   ]
  },
  {
   "cell_type": "code",
   "execution_count": null,
   "metadata": {},
   "outputs": [],
   "source": [
    "import tensorflow_hub as hub\n",
    "\n",
    "# embed = hub.load(\"https://tfhub.dev/google/universal-sentence-encoder-large/4\")"
   ]
  },
  {
   "cell_type": "code",
   "execution_count": null,
   "metadata": {},
   "outputs": [],
   "source": [
    "X_train_embeddings = embed(df.text.values)"
   ]
  },
  {
   "cell_type": "code",
   "execution_count": null,
   "metadata": {},
   "outputs": [],
   "source": [
    "from sklearn.linear_model import LogisticRegression\n",
    "from sklearn.metrics import accuracy_score, f1_score\n",
    "from sklearn.ensemble import RandomForestClassifier\n",
    "\n",
    "logistic_clf = RandomForestClassifier(n_estimators=100, max_depth= 30, max_features=.75, criterion='entropy', min_samples_split=15, class_weight='balanced')"
   ]
  },
  {
   "cell_type": "code",
   "execution_count": null,
   "metadata": {},
   "outputs": [],
   "source": [
    "logistic_clf.fit(X_train_embeddings['outputs'][:3000,:],\n",
    "                 df.result.values[:3000])"
   ]
  },
  {
   "cell_type": "code",
   "execution_count": null,
   "metadata": {},
   "outputs": [],
   "source": [
    "RandomForestClassifier(n_estimators=100, max_depth= 30, max_features=.75, criterion='entropy', min_samples_split=15, class_weight='balanced')"
   ]
  },
  {
   "cell_type": "code",
   "execution_count": null,
   "metadata": {},
   "outputs": [],
   "source": [
    "\n",
    "y_pred = logistic_clf.predict(X_train_embeddings['outputs'][3000:,:])\n",
    "y_pred_proba = logistic_clf.predict_proba(X_train_embeddings['outputs'][3000:,:])\n",
    "print(\"Accuracy: {:.1%}\".format(accuracy_score(df.result.values[3000:], y_pred)))\n",
    "print(\"F1: {:.1%}\".format(f1_score(df.result.values[3000:], y_pred)))"
   ]
  },
  {
   "cell_type": "code",
   "execution_count": null,
   "metadata": {},
   "outputs": [],
   "source": [
    "from cleanlab.pruning import get_noise_indices\n",
    "\n",
    "ordered_label_errors = get_noise_indices(\n",
    "    s=df.result.values[3000:],\n",
    "    psx=y_pred_proba,\n",
    "    sorted_index_method='normalized_margin', # Orders label errors\n",
    " )"
   ]
  },
  {
   "cell_type": "code",
   "execution_count": null,
   "metadata": {},
   "outputs": [],
   "source": [
    "\n",
    "print(\"We found {} label errors.\".format(len(ordered_label_errors)))"
   ]
  },
  {
   "cell_type": "code",
   "execution_count": null,
   "metadata": {},
   "outputs": [],
   "source": [
    "ordered_label_errors"
   ]
  },
  {
   "cell_type": "code",
   "execution_count": null,
   "metadata": {},
   "outputs": [],
   "source": [
    "df.loc[220]"
   ]
  },
  {
   "cell_type": "code",
   "execution_count": null,
   "metadata": {},
   "outputs": [],
   "source": [
    "error_df = df.loc[df.index[3000:]].loc[df.index[3000+ordered_label_errors]]\n",
    "for tweet, label in error_df[[ \"text\", \"result\"]][:30].values:\n",
    "    print(label, tweet)"
   ]
  },
  {
   "cell_type": "code",
   "execution_count": null,
   "metadata": {},
   "outputs": [],
   "source": []
  }
 ],
 "metadata": {
  "kernelspec": {
   "display_name": "Python 3",
   "language": "python",
   "name": "python3"
  },
  "language_info": {
   "codemirror_mode": {
    "name": "ipython",
    "version": 3
   },
   "file_extension": ".py",
   "mimetype": "text/x-python",
   "name": "python",
   "nbconvert_exporter": "python",
   "pygments_lexer": "ipython3",
   "version": "3.8.3"
  }
 },
 "nbformat": 4,
 "nbformat_minor": 4
}
