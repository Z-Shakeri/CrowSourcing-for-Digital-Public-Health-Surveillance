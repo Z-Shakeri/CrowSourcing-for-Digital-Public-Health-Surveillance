{
 "cells": [
  {
   "cell_type": "code",
   "execution_count": 33,
   "metadata": {},
   "outputs": [],
   "source": [
    "import os\n",
    "import re\n",
    "\n",
    "import numpy as np\n",
    "import tensorflow as tf\n",
    "\n",
    "np.random.seed(1)\n",
    "tf.random.set_seed(2)\n",
    "\n",
    "import pandas as pd\n",
    "import keras\n",
    "# from tqdm import tqdm\n",
    "from tqdm import tqdm_notebook as tqdm\n",
    "from sklearn.model_selection import train_test_split\n",
    "from sklearn.preprocessing import LabelEncoder\n",
    "from sklearn.utils import class_weight\n",
    "from sklearn.metrics import f1_score, classification_report, log_loss\n",
    "\n",
    "from keras.preprocessing.text import Tokenizer\n",
    "from keras.preprocessing.sequence import pad_sequences\n",
    "from keras.utils import to_categorical\n",
    "\n",
    "from keras.models import Sequential\n",
    "from keras.layers import Embedding, LSTM, Dense, SpatialDropout1D, Bidirectional, Flatten\n",
    "from keras.layers import Dropout, Conv1D, GlobalMaxPool1D, GRU, GlobalAvgPool1D\n",
    "from keras.optimizers import Adam\n",
    "from keras.callbacks import ModelCheckpoint, EarlyStopping\n",
    "\n",
    "#print(os.listdir('../LSTM'))"
   ]
  },
  {
   "cell_type": "code",
   "execution_count": 34,
   "metadata": {},
   "outputs": [
    {
     "data": {
      "text/plain": [
       "Index(['A1', 'A2', 'A3', 'hour', 'weekday', 'truth', 'month', 'age', 'sex',\n",
       "       'org', 'RMV', 'REM', 'RGLAD', 'RLFC', 'text'],\n",
       "      dtype='object')"
      ]
     },
     "execution_count": 34,
     "metadata": {},
     "output_type": "execute_result"
    }
   ],
   "source": [
    "data = pd.read_csv('SD-multi-LSTM.csv')\n",
    "data= data[data['hour']!='dummy']\n",
    "data['A1']=data['A1'].astype(\"category\")\n",
    "data['A2']=data['A2'].astype(\"category\")\n",
    "data['A3']=data['A3'].astype(\"category\")\n",
    "data['sex']=data['sex'].astype(\"category\")\n",
    "data['age']=data['age'].astype(\"category\")\n",
    "data['org']=data['org'].astype(\"category\")\n",
    "data['weekday']=data['weekday'].astype(\"category\")\n",
    "data['RMV']=data['RMV'].astype(\"category\")\n",
    "data['hour']=data['hour'].astype(\"int\")\n",
    "data['month']=data['month'].astype(\"int\")\n",
    "data['truth']=data['truth'].astype(\"category\")\n",
    "data.head()\n",
    "\n",
    "\n",
    "\n",
    "# #data['truth']=np.where(data['truth'] ==1, 'YY', data['truth'])\n",
    "# data['truth']=np.where(data['truth'] ==2, '0', data['truth'])\n",
    "# data['truth']=np.where(data['truth'] =='3', '0', data['truth'])\n",
    "# data['truth']=np.where(data['truth'] =='4', '0', data['truth'])\n",
    "# data['truth']=np.where(data['truth'] =='5', '0', data['truth'])\n",
    "\n",
    "# #data['A1']=np.where(data['A1'] ==1, 'YY', data['A1'])\n",
    "# data['A1']=np.where(data['A1'] ==2, '0', data['A1'])\n",
    "# data['A1']=np.where(data['A1'] =='3', '0', data['A1'])\n",
    "# data['A1']=np.where(data['A1'] =='4', '0', data['A1'])\n",
    "# data['A1']=np.where(data['A1'] =='5', '0', data['A1'])\n",
    "# #data['A2']=np.where(data['A2'] ==1, 'YY', data['A2'])\n",
    "# data['A2']=np.where(data['A2'] ==2, '0', data['A2'])\n",
    "# data['A2']=np.where(data['A2'] =='3', '0', data['A2'])\n",
    "# data['A2']=np.where(data['A2'] =='4', '0', data['A2'])\n",
    "# data['A2']=np.where(data['A2'] =='5', '0', data['A2'])\n",
    "# #data['A3']=np.where(data['A3'] ==1, 'YY', data['A3'])\n",
    "# data['A3']=np.where(data['A3'] ==2, '0', data['A3'])\n",
    "# data['A3']=np.where(data['A3'] =='3', '0', data['A3'])\n",
    "# data['A3']=np.where(data['A3'] =='4', '0', data['A3'])\n",
    "# data['A3']=np.where(data['A3'] =='5', '0', data['A3'])\n",
    "\n",
    "data.columns"
   ]
  },
  {
   "cell_type": "code",
   "execution_count": 35,
   "metadata": {},
   "outputs": [],
   "source": [
    "data= data[data['truth']!=5]\n",
    "data= data[data['A1']!=5]\n",
    "data= data[data['A2']!=5]\n",
    "data= data[data['A3']!=5]\n",
    "data= data[data['RMV']!=5]\n",
    "data= data[data['REM']!=5]\n",
    "data= data[data['RGLAD']!=5]\n",
    "data= data[data['RLFC']!=5]"
   ]
  },
  {
   "cell_type": "code",
   "execution_count": 36,
   "metadata": {},
   "outputs": [
    {
     "data": {
      "text/html": [
       "<div>\n",
       "<style scoped>\n",
       "    .dataframe tbody tr th:only-of-type {\n",
       "        vertical-align: middle;\n",
       "    }\n",
       "\n",
       "    .dataframe tbody tr th {\n",
       "        vertical-align: top;\n",
       "    }\n",
       "\n",
       "    .dataframe thead th {\n",
       "        text-align: right;\n",
       "    }\n",
       "</style>\n",
       "<table border=\"1\" class=\"dataframe\">\n",
       "  <thead>\n",
       "    <tr style=\"text-align: right;\">\n",
       "      <th></th>\n",
       "      <th>hour</th>\n",
       "      <th>truth</th>\n",
       "      <th>text</th>\n",
       "      <th>A1_1</th>\n",
       "      <th>A1_2</th>\n",
       "      <th>A1_3</th>\n",
       "      <th>A1_4</th>\n",
       "      <th>A1_5</th>\n",
       "      <th>A2_1</th>\n",
       "      <th>A2_2</th>\n",
       "      <th>...</th>\n",
       "      <th>REM_3</th>\n",
       "      <th>REM_4</th>\n",
       "      <th>RGLAD_1</th>\n",
       "      <th>RGLAD_2</th>\n",
       "      <th>RGLAD_3</th>\n",
       "      <th>RGLAD_4</th>\n",
       "      <th>RLFC_1</th>\n",
       "      <th>RLFC_2</th>\n",
       "      <th>RLFC_3</th>\n",
       "      <th>RLFC_4</th>\n",
       "    </tr>\n",
       "  </thead>\n",
       "  <tbody>\n",
       "    <tr>\n",
       "      <th>0</th>\n",
       "      <td>22</td>\n",
       "      <td>2</td>\n",
       "      <td>Correct same as inverson no practice sleep giv...</td>\n",
       "      <td>0</td>\n",
       "      <td>1</td>\n",
       "      <td>0</td>\n",
       "      <td>0</td>\n",
       "      <td>0</td>\n",
       "      <td>0</td>\n",
       "      <td>0</td>\n",
       "      <td>...</td>\n",
       "      <td>0</td>\n",
       "      <td>0</td>\n",
       "      <td>0</td>\n",
       "      <td>1</td>\n",
       "      <td>0</td>\n",
       "      <td>0</td>\n",
       "      <td>0</td>\n",
       "      <td>1</td>\n",
       "      <td>0</td>\n",
       "      <td>0</td>\n",
       "    </tr>\n",
       "    <tr>\n",
       "      <th>1</th>\n",
       "      <td>12</td>\n",
       "      <td>2</td>\n",
       "      <td>i get great sleeps outside on june 18th or aro...</td>\n",
       "      <td>0</td>\n",
       "      <td>1</td>\n",
       "      <td>0</td>\n",
       "      <td>0</td>\n",
       "      <td>0</td>\n",
       "      <td>0</td>\n",
       "      <td>1</td>\n",
       "      <td>...</td>\n",
       "      <td>0</td>\n",
       "      <td>0</td>\n",
       "      <td>0</td>\n",
       "      <td>1</td>\n",
       "      <td>0</td>\n",
       "      <td>0</td>\n",
       "      <td>0</td>\n",
       "      <td>1</td>\n",
       "      <td>0</td>\n",
       "      <td>0</td>\n",
       "    </tr>\n",
       "    <tr>\n",
       "      <th>2</th>\n",
       "      <td>12</td>\n",
       "      <td>4</td>\n",
       "      <td>Justin if i could sleep 20 hours and remember ...</td>\n",
       "      <td>1</td>\n",
       "      <td>0</td>\n",
       "      <td>0</td>\n",
       "      <td>0</td>\n",
       "      <td>0</td>\n",
       "      <td>0</td>\n",
       "      <td>0</td>\n",
       "      <td>...</td>\n",
       "      <td>0</td>\n",
       "      <td>0</td>\n",
       "      <td>1</td>\n",
       "      <td>0</td>\n",
       "      <td>0</td>\n",
       "      <td>0</td>\n",
       "      <td>0</td>\n",
       "      <td>1</td>\n",
       "      <td>0</td>\n",
       "      <td>0</td>\n",
       "    </tr>\n",
       "    <tr>\n",
       "      <th>3</th>\n",
       "      <td>20</td>\n",
       "      <td>4</td>\n",
       "      <td>There is a disease where you eventually stop s...</td>\n",
       "      <td>0</td>\n",
       "      <td>1</td>\n",
       "      <td>0</td>\n",
       "      <td>0</td>\n",
       "      <td>0</td>\n",
       "      <td>0</td>\n",
       "      <td>0</td>\n",
       "      <td>...</td>\n",
       "      <td>0</td>\n",
       "      <td>1</td>\n",
       "      <td>0</td>\n",
       "      <td>0</td>\n",
       "      <td>0</td>\n",
       "      <td>1</td>\n",
       "      <td>0</td>\n",
       "      <td>0</td>\n",
       "      <td>0</td>\n",
       "      <td>1</td>\n",
       "    </tr>\n",
       "    <tr>\n",
       "      <th>4</th>\n",
       "      <td>2</td>\n",
       "      <td>4</td>\n",
       "      <td>i might be edgy saving extra pills for girlfri...</td>\n",
       "      <td>1</td>\n",
       "      <td>0</td>\n",
       "      <td>0</td>\n",
       "      <td>0</td>\n",
       "      <td>0</td>\n",
       "      <td>0</td>\n",
       "      <td>0</td>\n",
       "      <td>...</td>\n",
       "      <td>1</td>\n",
       "      <td>0</td>\n",
       "      <td>0</td>\n",
       "      <td>0</td>\n",
       "      <td>1</td>\n",
       "      <td>0</td>\n",
       "      <td>0</td>\n",
       "      <td>0</td>\n",
       "      <td>1</td>\n",
       "      <td>0</td>\n",
       "    </tr>\n",
       "  </tbody>\n",
       "</table>\n",
       "<p>5 rows × 62 columns</p>\n",
       "</div>"
      ],
      "text/plain": [
       "   hour truth                                               text  A1_1  A1_2  \\\n",
       "0    22     2  Correct same as inverson no practice sleep giv...     0     1   \n",
       "1    12     2  i get great sleeps outside on june 18th or aro...     0     1   \n",
       "2    12     4  Justin if i could sleep 20 hours and remember ...     1     0   \n",
       "3    20     4  There is a disease where you eventually stop s...     0     1   \n",
       "4     2     4  i might be edgy saving extra pills for girlfri...     1     0   \n",
       "\n",
       "   A1_3  A1_4  A1_5  A2_1  A2_2  ...  REM_3  REM_4  RGLAD_1  RGLAD_2  RGLAD_3  \\\n",
       "0     0     0     0     0     0  ...      0      0        0        1        0   \n",
       "1     0     0     0     0     1  ...      0      0        0        1        0   \n",
       "2     0     0     0     0     0  ...      0      0        1        0        0   \n",
       "3     0     0     0     0     0  ...      0      1        0        0        0   \n",
       "4     0     0     0     0     0  ...      1      0        0        0        1   \n",
       "\n",
       "   RGLAD_4  RLFC_1  RLFC_2  RLFC_3  RLFC_4  \n",
       "0        0       0       1       0       0  \n",
       "1        0       0       1       0       0  \n",
       "2        0       0       1       0       0  \n",
       "3        1       0       0       0       1  \n",
       "4        0       0       0       1       0  \n",
       "\n",
       "[5 rows x 62 columns]"
      ]
     },
     "execution_count": 36,
     "metadata": {},
     "output_type": "execute_result"
    }
   ],
   "source": [
    "\n",
    "data = pd.get_dummies(data, prefix=['A1', 'A2', 'A3', 'weekday', 'month', 'age', 'sex',\n",
    "       'org', 'RMV', 'REM', 'RGLAD', 'RLFC'], columns=['A1', 'A2', 'A3', 'weekday', 'month', 'age', 'sex',\n",
    "       'org', 'RMV', 'REM', 'RGLAD', 'RLFC'], drop_first=False)\n",
    "data.head()\n"
   ]
  },
  {
   "cell_type": "code",
   "execution_count": 37,
   "metadata": {},
   "outputs": [
    {
     "data": {
      "text/plain": [
       "Index(['hour', 'truth', 'text', 'A1_1', 'A1_2', 'A1_3', 'A1_4', 'A1_5', 'A2_1',\n",
       "       'A2_2', 'A2_3', 'A2_4', 'A2_5', 'A3_1', 'A3_2', 'A3_3', 'A3_4', 'A3_5',\n",
       "       'weekday_Fri', 'weekday_Mon', 'weekday_Sat', 'weekday_Sun',\n",
       "       'weekday_Thu', 'weekday_Tue', 'weekday_Wed', 'month_1', 'month_2',\n",
       "       'month_3', 'month_4', 'month_5', 'month_6', 'month_7', 'month_8',\n",
       "       'month_9', 'month_10', 'month_11', 'month_12', 'age_19-29', 'age_30-39',\n",
       "       'age_<=18', 'age_>=40', 'sex_female', 'sex_male', 'org_is-org',\n",
       "       'org_non-org', 'RMV_1', 'RMV_2', 'RMV_3', 'RMV_4', 'RMV_5', 'REM_1',\n",
       "       'REM_2', 'REM_3', 'REM_4', 'RGLAD_1', 'RGLAD_2', 'RGLAD_3', 'RGLAD_4',\n",
       "       'RLFC_1', 'RLFC_2', 'RLFC_3', 'RLFC_4'],\n",
       "      dtype='object')"
      ]
     },
     "execution_count": 37,
     "metadata": {},
     "output_type": "execute_result"
    }
   ],
   "source": [
    "data.columns"
   ]
  },
  {
   "cell_type": "code",
   "execution_count": null,
   "metadata": {},
   "outputs": [],
   "source": []
  },
  {
   "cell_type": "code",
   "execution_count": 38,
   "metadata": {},
   "outputs": [],
   "source": [
    "X = data.drop('truth', axis=1)\n",
    "\n",
    "y = data['truth']"
   ]
  },
  {
   "cell_type": "code",
   "execution_count": 39,
   "metadata": {},
   "outputs": [],
   "source": [
    "from sklearn import preprocessing\n",
    "from keras.utils import np_utils\n",
    "from keras.utils import to_categorical\n",
    "\n",
    "# label_encoder object knows how to understand word labels.\n",
    "# label_encoder = preprocessing.LabelEncoder()\n",
    "\n",
    "# # Encode labels in column 'species'.\n",
    "# y = label_encoder.fit_transform(y)\n",
    "# encode class values as integers\n",
    "# encoder = LabelEncoder()\n",
    "# encoder.fit(y)\n",
    "# encoded_Y = encoder.transform(y)\n",
    "# # convert integers to dummy variables (i.e. one hot encoded)\n",
    "# dummy_y = np_utils.to_categorical(encoded_Y)\n",
    "\n",
    "# label_encoder object knows how to understand word labels.\n",
    "label_encoder = preprocessing.LabelEncoder()\n",
    "\n",
    "# Encode labels in column 'species'.\n",
    "y = label_encoder.fit_transform(y)\n",
    "X_train, X_test, y_train, y_test = train_test_split(X, y, test_size=0.30, random_state=42)\n",
    "\n",
    "from keras.utils import to_categorical\n",
    "y_train = to_categorical(y_train)\n",
    "y_test = to_categorical(y_test)\n",
    "\n",
    "\n",
    "# make the model and load the training dataset.\n",
    "\n",
    "#y_train = to_categorical(y_train)"
   ]
  },
  {
   "cell_type": "code",
   "execution_count": 40,
   "metadata": {},
   "outputs": [
    {
     "data": {
      "text/plain": [
       "array([[1., 0., 0., 0.],\n",
       "       [0., 0., 0., 1.],\n",
       "       [0., 1., 0., 0.],\n",
       "       ...,\n",
       "       [0., 0., 0., 1.],\n",
       "       [1., 0., 0., 0.],\n",
       "       [0., 0., 0., 1.]], dtype=float32)"
      ]
     },
     "execution_count": 40,
     "metadata": {},
     "output_type": "execute_result"
    }
   ],
   "source": [
    "y_train"
   ]
  },
  {
   "cell_type": "code",
   "execution_count": 41,
   "metadata": {},
   "outputs": [],
   "source": [
    "dic = {\"`\":\"'\", \"’\":\"'\", \"‘\":\"'\", \"´\":\"'\",\"ain't\": \"is not\", \"aren't\": \"are not\",\"can't\": \"cannot\", \"'cause\": \"because\", \"could've\": \"could have\",\n",
    "                       \"couldn't\": \"could not\", \"didn't\": \"did not\",  \"doesn't\": \"does not\", \"don't\": \"do not\", \"hadn't\": \"had not\",\n",
    "                       \"hasn't\": \"has not\", \"haven't\": \"have not\", \"he'd\": \"he would\",\"he'll\": \"he will\", \"he's\": \"he is\", \"how'd\": \"how did\",\n",
    "                       \"how'd'y\": \"how do you\", \"how'll\": \"how will\", \"how's\": \"how is\",  \"I'd\": \"I would\", \"I'd've\": \"I would have\",\n",
    "                       \"I'll\": \"I will\", \"I'll've\": \"I will have\",\"I'm\": \"I am\", \"I've\": \"I have\", \"i'd\": \"i would\", \"i'd've\": \"i would have\",\n",
    "                       \"i'll\": \"i will\",  \"i'll've\": \"i will have\",\"i'm\": \"i am\", \"i've\": \"i have\", \"isn't\": \"is not\", \"it'd\": \"it would\",\n",
    "                       \"it'd've\": \"it would have\", \"it'll\": \"it will\", \"it'll've\": \"it will have\",\"it's\": \"it is\", \"let's\": \"let us\",\n",
    "                       \"ma'am\": \"madam\", \"mayn't\": \"may not\", \"might've\": \"might have\",\"mightn't\": \"might not\",\"mightn't've\": \"might not have\",\n",
    "                       \"must've\": \"must have\", \"mustn't\": \"must not\", \"mustn't've\": \"must not have\", \"needn't\": \"need not\",\n",
    "                       \"needn't've\": \"need not have\",\"o'clock\": \"of the clock\", \"oughtn't\": \"ought not\", \"oughtn't've\": \"ought not have\",\n",
    "                       \"shan't\": \"shall not\", \"sha'n't\": \"shall not\", \"shan't've\": \"shall not have\", \"she'd\": \"she would\",\n",
    "                       \"she'd've\": \"she would have\", \"she'll\": \"she will\", \"she'll've\": \"she will have\", \"she's\": \"she is\",\n",
    "                       \"should've\": \"should have\", \"shouldn't\": \"should not\", \"shouldn't've\": \"should not have\", \"so've\": \"so have\",\n",
    "                       \"so's\": \"so as\", \"this's\": \"this is\",\"that'd\": \"that would\", \"that'd've\": \"that would have\", \"that's\": \"that is\",\n",
    "                       \"there'd\": \"there would\", \"there'd've\": \"there would have\", \"there's\": \"there is\", \"here's\": \"here is\",\"they'd\": \"they would\",\n",
    "                       \"they'd've\": \"they would have\", \"they'll\": \"they will\", \"they'll've\": \"they will have\", \"they're\": \"they are\",\n",
    "                       \"they've\": \"they have\", \"to've\": \"to have\", \"wasn't\": \"was not\", \"we'd\": \"we would\", \"we'd've\": \"we would have\",\n",
    "                       \"we'll\": \"we will\", \"we'll've\": \"we will have\", \"we're\": \"we are\", \"we've\": \"we have\", \"weren't\": \"were not\",\n",
    "                       \"what'll\": \"what will\", \"what'll've\": \"what will have\", \"what're\": \"what are\",  \"what's\": \"what is\", \"what've\": \"what have\",\n",
    "                       \"when's\": \"when is\", \"when've\": \"when have\", \"where'd\": \"where did\", \"where's\": \"where is\", \"where've\": \"where have\",\n",
    "                       \"who'll\": \"who will\", \"who'll've\": \"who will have\", \"who's\": \"who is\", \"who've\": \"who have\", \"why's\": \"why is\",\n",
    "                       \"why've\": \"why have\", \"will've\": \"will have\", \"won't\": \"will not\", \"won't've\": \"will not have\", \"would've\": \"would have\",\n",
    "                       \"wouldn't\": \"would not\", \"wouldn't've\": \"would not have\", \"y'all\": \"you all\", \"y'all'd\": \"you all would\",\n",
    "                       \"y'all'd've\": \"you all would have\",\"y'all're\": \"you all are\",\"y'all've\": \"you all have\",\"you'd\": \"you would\",\n",
    "                       \"you'd've\": \"you would have\", \"you'll\": \"you will\", \"you'll've\": \"you will have\", \"you're\": \"you are\", \"you've\": \"you have\",\n",
    "                       \"It's\": 'It is', \"Can't\": 'Can not', \"I've\": 'I have', \"\\n\":\" \", \"—\":\"\", \".\":\"\", \"…\":\"\", \"!\":\"\", \":\":\" \",\n",
    "                       \"-\":\" \",\"•\":\"\"}\n",
    "\n",
    "#\"😍\":\"lovely\" "
   ]
  },
  {
   "cell_type": "code",
   "execution_count": 42,
   "metadata": {},
   "outputs": [],
   "source": [
    "def preprocess_text(sen):\n",
    "\n",
    "    # Remove punctuations and numbers\n",
    "    sentence = re.sub('[^a-zA-Z]', ' ', sen)\n",
    "\n",
    "    # Single character removal\n",
    "    sentence = re.sub(r\"\\s+[a-zA-Z]\\s+\", ' ', sentence)\n",
    "\n",
    "    # Removing multiple spaces\n",
    "    sentence = re.sub(r'\\s+', ' ', sentence)\n",
    "    for i, j in dic.items():\n",
    "        sentence = sentence.lower().replace(i, j)\n",
    "    sentence = re.sub(r\"http[s]?://t.co/[A-Za-z0-9]*\",\" \",sentence) #URLs\n",
    "\n",
    "    return sentence"
   ]
  },
  {
   "cell_type": "code",
   "execution_count": 43,
   "metadata": {},
   "outputs": [],
   "source": [
    "X1_train = []\n",
    "sentences = list(X_train[\"text\"])\n",
    "for sen in sentences:\n",
    "    X1_train.append(preprocess_text(sen))"
   ]
  },
  {
   "cell_type": "code",
   "execution_count": null,
   "metadata": {},
   "outputs": [],
   "source": []
  },
  {
   "cell_type": "code",
   "execution_count": 44,
   "metadata": {},
   "outputs": [],
   "source": [
    "X1_test = []\n",
    "sentences = list(X_test[\"text\"])\n",
    "for sen in sentences:\n",
    "    X1_test.append(preprocess_text(sen))"
   ]
  },
  {
   "cell_type": "code",
   "execution_count": null,
   "metadata": {},
   "outputs": [],
   "source": []
  },
  {
   "cell_type": "code",
   "execution_count": 45,
   "metadata": {},
   "outputs": [],
   "source": [
    "tokenizer = Tokenizer()\n",
    "tokenizer.fit_on_texts(X1_train)\n",
    "\n",
    "X1_train = tokenizer.texts_to_sequences(X1_train)\n",
    "X1_test = tokenizer.texts_to_sequences(X1_test)\n",
    "\n",
    "vocab_size = len(tokenizer.word_index) + 1\n",
    "\n",
    "maxlen = 27\n",
    "\n",
    "X1_train = pad_sequences(X1_train, padding='post', maxlen=maxlen)\n",
    "X1_test = pad_sequences(X1_test, padding='post', maxlen=maxlen)"
   ]
  },
  {
   "cell_type": "code",
   "execution_count": 46,
   "metadata": {},
   "outputs": [],
   "source": [
    "from numpy import array\n",
    "from numpy import asarray\n",
    "from numpy import zeros\n",
    "\n",
    "embeddings_dictionary = dict()\n",
    "\n",
    "# glove_file = open('glove.twitter.27B.200d.txt', encoding=\"utf8\")\n",
    "\n",
    "# for line in glove_file:\n",
    "#     records = line.split()\n",
    "#     word = records[0]\n",
    "#     vector_dimensions = asarray(records[1:], dtype='float32')\n",
    "#     embeddings_dictionary[word] = vector_dimensions\n",
    "\n",
    "# glove_file.close()\n",
    "\n",
    "embedding_matrix = zeros((vocab_size, 200))\n",
    "for word, index in tokenizer.word_index.items():\n",
    "    embedding_vector = embeddings_dictionary.get(word)\n",
    "    if embedding_vector is not None:\n",
    "        embedding_matrix[index] = embedding_vector"
   ]
  },
  {
   "cell_type": "code",
   "execution_count": 47,
   "metadata": {},
   "outputs": [
    {
     "data": {
      "text/plain": [
       "Index(['hour', 'text', 'A1_1', 'A1_2', 'A1_3', 'A1_4', 'A1_5', 'A2_1', 'A2_2',\n",
       "       'A2_3', 'A2_4', 'A2_5', 'A3_1', 'A3_2', 'A3_3', 'A3_4', 'A3_5',\n",
       "       'weekday_Fri', 'weekday_Mon', 'weekday_Sat', 'weekday_Sun',\n",
       "       'weekday_Thu', 'weekday_Tue', 'weekday_Wed', 'month_1', 'month_2',\n",
       "       'month_3', 'month_4', 'month_5', 'month_6', 'month_7', 'month_8',\n",
       "       'month_9', 'month_10', 'month_11', 'month_12', 'age_19-29', 'age_30-39',\n",
       "       'age_<=18', 'age_>=40', 'sex_female', 'sex_male', 'org_is-org',\n",
       "       'org_non-org', 'RMV_1', 'RMV_2', 'RMV_3', 'RMV_4', 'RMV_5', 'REM_1',\n",
       "       'REM_2', 'REM_3', 'REM_4', 'RGLAD_1', 'RGLAD_2', 'RGLAD_3', 'RGLAD_4',\n",
       "       'RLFC_1', 'RLFC_2', 'RLFC_3', 'RLFC_4'],\n",
       "      dtype='object')"
      ]
     },
     "execution_count": 47,
     "metadata": {},
     "output_type": "execute_result"
    }
   ],
   "source": [
    "X.columns"
   ]
  },
  {
   "cell_type": "code",
   "execution_count": 48,
   "metadata": {},
   "outputs": [],
   "source": [
    "X2_train = X_train[['hour', 'A1_1', 'A1_2', 'A1_3', 'A1_4', 'A1_5', 'A2_1', 'A2_2',\n",
    "       'A2_3', 'A2_4', 'A2_5', 'A3_1', 'A3_2', 'A3_3', 'A3_4', 'A3_5',\n",
    "       'RMV_1', 'RMV_2', 'RMV_3', 'RMV_4', 'RMV_5', 'REM_1',\n",
    "       'REM_2', 'REM_3', 'REM_4', 'RGLAD_1', 'RGLAD_2', 'RGLAD_3', 'RGLAD_4',\n",
    "       'RLFC_1', 'RLFC_2', 'RLFC_3', 'RLFC_4']].values\n",
    "X2_test = X_test[['hour', 'A1_1', 'A1_2', 'A1_3', 'A1_4', 'A1_5', 'A2_1', 'A2_2',\n",
    "       'A2_3', 'A2_4', 'A2_5', 'A3_1', 'A3_2', 'A3_3', 'A3_4', 'A3_5',\n",
    "       'RMV_1', 'RMV_2', 'RMV_3', 'RMV_4', 'RMV_5', 'REM_1',\n",
    "       'REM_2', 'REM_3', 'REM_4', 'RGLAD_1', 'RGLAD_2', 'RGLAD_3', 'RGLAD_4',\n",
    "       'RLFC_1', 'RLFC_2', 'RLFC_3', 'RLFC_4']].values\n",
    "\n",
    "ncols=X2_train.shape[1]"
   ]
  },
  {
   "cell_type": "code",
   "execution_count": 49,
   "metadata": {},
   "outputs": [
    {
     "data": {
      "text/plain": [
       "33"
      ]
     },
     "execution_count": 49,
     "metadata": {},
     "output_type": "execute_result"
    }
   ],
   "source": [
    "ncols"
   ]
  },
  {
   "cell_type": "code",
   "execution_count": 50,
   "metadata": {},
   "outputs": [],
   "source": [
    "from keras.layers import Input\n",
    "from keras.layers import Dropout, Conv1D, GlobalMaxPool1D, GRU, GlobalAvgPool1D\n",
    "input_1 = Input(shape=(maxlen,))\n",
    "\n",
    "input_2 = Input(shape=(ncols,))"
   ]
  },
  {
   "cell_type": "code",
   "execution_count": 51,
   "metadata": {},
   "outputs": [],
   "source": [
    "embedding_layer = Embedding(vocab_size, 200, weights=[embedding_matrix], trainable=False)(input_1)\n",
    "#LSTM_Layer_1 = Bidirectional(LSTM(128, dropout=0.25, recurrent_dropout=0.25))(embedding_layer)\n",
    "LSTM_Layer_1 = LSTM(128, dropout=0.25, recurrent_dropout=0.25)(embedding_layer)\n",
    "LSTM_Layer_2 = Dense(64, activation='relu')(LSTM_Layer_1)"
   ]
  },
  {
   "cell_type": "code",
   "execution_count": 52,
   "metadata": {},
   "outputs": [],
   "source": [
    "dense_layer_1 = Dense(10, activation='relu')(input_2)\n",
    "dense_layer_2 = Dense(64, activation='relu')(dense_layer_1)"
   ]
  },
  {
   "cell_type": "code",
   "execution_count": 53,
   "metadata": {},
   "outputs": [],
   "source": [
    "from keras.layers import concatenate\n",
    "from keras.models import Model\n",
    "from keras.layers import Dropout, Conv1D, GlobalMaxPool1D, GRU, GlobalAvgPool1D\n",
    "\n",
    "concat_layer = concatenate([LSTM_Layer_2, dense_layer_2])\n",
    "dense_layer_3 = Dense(10, activation='relu')(concat_layer)\n",
    "output = Dense(4, activation='softmax')(dense_layer_3)\n",
    "model = Model(inputs=[input_1, input_2], outputs=output)"
   ]
  },
  {
   "cell_type": "code",
   "execution_count": 54,
   "metadata": {},
   "outputs": [
    {
     "name": "stdout",
     "output_type": "stream",
     "text": [
      "Model: \"functional_1\"\n",
      "__________________________________________________________________________________________________\n",
      "Layer (type)                    Output Shape         Param #     Connected to                     \n",
      "==================================================================================================\n",
      "input_1 (InputLayer)            [(None, 27)]         0                                            \n",
      "__________________________________________________________________________________________________\n",
      "embedding (Embedding)           (None, 27, 200)      539400      input_1[0][0]                    \n",
      "__________________________________________________________________________________________________\n",
      "input_2 (InputLayer)            [(None, 33)]         0                                            \n",
      "__________________________________________________________________________________________________\n",
      "lstm (LSTM)                     (None, 128)          168448      embedding[0][0]                  \n",
      "__________________________________________________________________________________________________\n",
      "dense_1 (Dense)                 (None, 10)           340         input_2[0][0]                    \n",
      "__________________________________________________________________________________________________\n",
      "dense (Dense)                   (None, 64)           8256        lstm[0][0]                       \n",
      "__________________________________________________________________________________________________\n",
      "dense_2 (Dense)                 (None, 64)           704         dense_1[0][0]                    \n",
      "__________________________________________________________________________________________________\n",
      "concatenate (Concatenate)       (None, 128)          0           dense[0][0]                      \n",
      "                                                                 dense_2[0][0]                    \n",
      "__________________________________________________________________________________________________\n",
      "dense_3 (Dense)                 (None, 10)           1290        concatenate[0][0]                \n",
      "__________________________________________________________________________________________________\n",
      "dense_4 (Dense)                 (None, 4)            44          dense_3[0][0]                    \n",
      "==================================================================================================\n",
      "Total params: 718,482\n",
      "Trainable params: 179,082\n",
      "Non-trainable params: 539,400\n",
      "__________________________________________________________________________________________________\n",
      "None\n"
     ]
    }
   ],
   "source": [
    "from keras import backend as K\n",
    "import tensorflow as tf\n",
    "from sklearn.metrics import roc_auc_score\n",
    "\n",
    "\n",
    "def recall_m(y_true, y_pred):\n",
    "    true_positives = K.sum(K.round(K.clip(y_true * y_pred, 0, 1)))\n",
    "    possible_positives = K.sum(K.round(K.clip(y_true, 0, 1)))\n",
    "    recall = true_positives / (possible_positives + K.epsilon())\n",
    "    return recall\n",
    "\n",
    "def precision_m(y_true, y_pred):\n",
    "    true_positives = K.sum(K.round(K.clip(y_true * y_pred, 0, 1)))\n",
    "    predicted_positives = K.sum(K.round(K.clip(y_pred, 0, 1)))\n",
    "    precision = true_positives / (predicted_positives + K.epsilon())\n",
    "    return precision\n",
    "\n",
    "def f1_m(y_true, y_pred):\n",
    "    precision = precision_m(y_true, y_pred)\n",
    "    recall = recall_m(y_true, y_pred)\n",
    "    return 2*((precision*recall)/(precision+recall+K.epsilon()))\n",
    "\n",
    "def auroc(y_true, y_pred):\n",
    "    return tf.py_function(roc_auc_score, (y_true, y_pred), tf.double)\n",
    "\n",
    "\n",
    "\n",
    "\n",
    "model.compile(loss='categorical_crossentropy', optimizer='adam', metrics=['acc', f1_m,precision_m, recall_m])\n",
    "print(model.summary())"
   ]
  },
  {
   "cell_type": "code",
   "execution_count": 55,
   "metadata": {},
   "outputs": [
    {
     "data": {
      "image/png": "[encoded data removed]",
      "text/plain": [
       "<IPython.core.display.Image object>"
      ]
     },
     "execution_count": 55,
     "metadata": {},
     "output_type": "execute_result"
    }
   ],
   "source": [
    "from keras.utils import plot_model\n",
    "plot_model(model, to_file='model_plot3.png', show_shapes=True, show_layer_names=True)"
   ]
  },
  {
   "cell_type": "code",
   "execution_count": 56,
   "metadata": {
    "scrolled": true
   },
   "outputs": [
    {
     "name": "stdout",
     "output_type": "stream",
     "text": [
      "Epoch 1/50\n",
      "4/4 [==============================] - 1s 167ms/step - loss: 1.3577 - acc: 0.3988 - f1_m: 0.2012 - precision_m: 0.3702 - recall_m: 0.1404 - val_loss: 1.3367 - val_acc: 0.3889 - val_f1_m: 0.1081 - val_precision_m: 0.3636 - val_recall_m: 0.0635\n",
      "Epoch 2/50\n",
      "4/4 [==============================] - 0s 83ms/step - loss: 1.2949 - acc: 0.4544 - f1_m: 0.1316 - precision_m: 0.5882 - recall_m: 0.0755 - val_loss: 1.3020 - val_acc: 0.4365 - val_f1_m: 0.0156 - val_precision_m: 0.5000 - val_recall_m: 0.0079\n",
      "Epoch 3/50\n",
      "4/4 [==============================] - 0s 87ms/step - loss: 1.2676 - acc: 0.5040 - f1_m: 0.0709 - precision_m: 0.7540 - recall_m: 0.0374 - val_loss: 1.2757 - val_acc: 0.4365 - val_f1_m: 0.0157 - val_precision_m: 1.0000 - val_recall_m: 0.0079\n",
      "Epoch 4/50\n",
      "4/4 [==============================] - 0s 76ms/step - loss: 1.2425 - acc: 0.5179 - f1_m: 0.0532 - precision_m: 0.7542 - recall_m: 0.0277 - val_loss: 1.2507 - val_acc: 0.4365 - val_f1_m: 0.0157 - val_precision_m: 1.0000 - val_recall_m: 0.0079\n",
      "Epoch 5/50\n",
      "4/4 [==============================] - 0s 77ms/step - loss: 1.2165 - acc: 0.5179 - f1_m: 0.0794 - precision_m: 0.7785 - recall_m: 0.0421 - val_loss: 1.2243 - val_acc: 0.4444 - val_f1_m: 0.0157 - val_precision_m: 1.0000 - val_recall_m: 0.0079\n",
      "Epoch 6/50\n",
      "4/4 [==============================] - 0s 74ms/step - loss: 1.1886 - acc: 0.5337 - f1_m: 0.0901 - precision_m: 0.7639 - recall_m: 0.0479 - val_loss: 1.1953 - val_acc: 0.4841 - val_f1_m: 0.0310 - val_precision_m: 0.6667 - val_recall_m: 0.0159\n",
      "Epoch 7/50\n",
      "4/4 [==============================] - 0s 76ms/step - loss: 1.1582 - acc: 0.5456 - f1_m: 0.1341 - precision_m: 0.7979 - recall_m: 0.0736 - val_loss: 1.1636 - val_acc: 0.5238 - val_f1_m: 0.0902 - val_precision_m: 0.8571 - val_recall_m: 0.0476\n",
      "Epoch 8/50\n",
      "4/4 [==============================] - 0s 81ms/step - loss: 1.1269 - acc: 0.5873 - f1_m: 0.1729 - precision_m: 0.7879 - recall_m: 0.0971 - val_loss: 1.1287 - val_acc: 0.5635 - val_f1_m: 0.1176 - val_precision_m: 0.8000 - val_recall_m: 0.0635\n",
      "Epoch 9/50\n",
      "4/4 [==============================] - 0s 73ms/step - loss: 1.0909 - acc: 0.6131 - f1_m: 0.2045 - precision_m: 0.8000 - recall_m: 0.1180 - val_loss: 1.0900 - val_acc: 0.5794 - val_f1_m: 0.1571 - val_precision_m: 0.7857 - val_recall_m: 0.0873\n",
      "Epoch 10/50\n",
      "4/4 [==============================] - 0s 82ms/step - loss: 1.0548 - acc: 0.6488 - f1_m: 0.3020 - precision_m: 0.8706 - recall_m: 0.1832 - val_loss: 1.0487 - val_acc: 0.6429 - val_f1_m: 0.3046 - val_precision_m: 0.9200 - val_recall_m: 0.1825\n",
      "Epoch 11/50\n",
      "4/4 [==============================] - 0s 80ms/step - loss: 1.0172 - acc: 0.6766 - f1_m: 0.3734 - precision_m: 0.8877 - recall_m: 0.2366 - val_loss: 1.0090 - val_acc: 0.6905 - val_f1_m: 0.3899 - val_precision_m: 0.9394 - val_recall_m: 0.2460\n",
      "Epoch 12/50\n",
      "4/4 [==============================] - 0s 83ms/step - loss: 0.9809 - acc: 0.7103 - f1_m: 0.4666 - precision_m: 0.8828 - recall_m: 0.3185 - val_loss: 0.9702 - val_acc: 0.7381 - val_f1_m: 0.4762 - val_precision_m: 0.9524 - val_recall_m: 0.3175\n",
      "Epoch 13/50\n",
      "4/4 [==============================] - 0s 77ms/step - loss: 0.9449 - acc: 0.7381 - f1_m: 0.5247 - precision_m: 0.8849 - recall_m: 0.3736 - val_loss: 0.9325 - val_acc: 0.7381 - val_f1_m: 0.5287 - val_precision_m: 0.9583 - val_recall_m: 0.3651\n",
      "Epoch 14/50\n",
      "4/4 [==============================] - 0s 72ms/step - loss: 0.9111 - acc: 0.7500 - f1_m: 0.5654 - precision_m: 0.8692 - recall_m: 0.4197 - val_loss: 0.8987 - val_acc: 0.7302 - val_f1_m: 0.5746 - val_precision_m: 0.9455 - val_recall_m: 0.4127\n",
      "Epoch 15/50\n",
      "4/4 [==============================] - 0s 73ms/step - loss: 0.8799 - acc: 0.7579 - f1_m: 0.5868 - precision_m: 0.8435 - recall_m: 0.4504 - val_loss: 0.8671 - val_acc: 0.7381 - val_f1_m: 0.6054 - val_precision_m: 0.9492 - val_recall_m: 0.4444\n",
      "Epoch 16/50\n",
      "4/4 [==============================] - 0s 85ms/step - loss: 0.8503 - acc: 0.7599 - f1_m: 0.6344 - precision_m: 0.8501 - recall_m: 0.5060 - val_loss: 0.8392 - val_acc: 0.7381 - val_f1_m: 0.6733 - val_precision_m: 0.8947 - val_recall_m: 0.5397\n",
      "Epoch 17/50\n",
      "4/4 [==============================] - 0s 81ms/step - loss: 0.8243 - acc: 0.7619 - f1_m: 0.6642 - precision_m: 0.8348 - recall_m: 0.5516 - val_loss: 0.8169 - val_acc: 0.7460 - val_f1_m: 0.6957 - val_precision_m: 0.8889 - val_recall_m: 0.5714\n",
      "Epoch 18/50\n",
      "4/4 [==============================] - 0s 81ms/step - loss: 0.8012 - acc: 0.7639 - f1_m: 0.6856 - precision_m: 0.8307 - recall_m: 0.5842 - val_loss: 0.7941 - val_acc: 0.7540 - val_f1_m: 0.7075 - val_precision_m: 0.8721 - val_recall_m: 0.5952\n",
      "Epoch 19/50\n",
      "4/4 [==============================] - 0s 75ms/step - loss: 0.7787 - acc: 0.7599 - f1_m: 0.7105 - precision_m: 0.8310 - recall_m: 0.6210 - val_loss: 0.7737 - val_acc: 0.7381 - val_f1_m: 0.7163 - val_precision_m: 0.8652 - val_recall_m: 0.6111\n",
      "Epoch 20/50\n",
      "4/4 [==============================] - 0s 79ms/step - loss: 0.7609 - acc: 0.7599 - f1_m: 0.7173 - precision_m: 0.8259 - recall_m: 0.6346 - val_loss: 0.7565 - val_acc: 0.7460 - val_f1_m: 0.7207 - val_precision_m: 0.8333 - val_recall_m: 0.6349\n",
      "Epoch 21/50\n",
      "4/4 [==============================] - 0s 72ms/step - loss: 0.7423 - acc: 0.7579 - f1_m: 0.7317 - precision_m: 0.8240 - recall_m: 0.6583 - val_loss: 0.7442 - val_acc: 0.7540 - val_f1_m: 0.7378 - val_precision_m: 0.8384 - val_recall_m: 0.6587\n",
      "Epoch 22/50\n",
      "4/4 [==============================] - 0s 68ms/step - loss: 0.7284 - acc: 0.7599 - f1_m: 0.7383 - precision_m: 0.8165 - recall_m: 0.6750 - val_loss: 0.7370 - val_acc: 0.7460 - val_f1_m: 0.7391 - val_precision_m: 0.8173 - val_recall_m: 0.6746\n",
      "Epoch 23/50\n",
      "4/4 [==============================] - 0s 70ms/step - loss: 0.7128 - acc: 0.7639 - f1_m: 0.7452 - precision_m: 0.8206 - recall_m: 0.6829 - val_loss: 0.7236 - val_acc: 0.7540 - val_f1_m: 0.7368 - val_precision_m: 0.8235 - val_recall_m: 0.6667\n",
      "Epoch 24/50\n",
      "4/4 [==============================] - 0s 78ms/step - loss: 0.6995 - acc: 0.7639 - f1_m: 0.7431 - precision_m: 0.8150 - recall_m: 0.6832 - val_loss: 0.7149 - val_acc: 0.7540 - val_f1_m: 0.7304 - val_precision_m: 0.8077 - val_recall_m: 0.6667\n",
      "Epoch 25/50\n",
      "4/4 [==============================] - 0s 67ms/step - loss: 0.6894 - acc: 0.7639 - f1_m: 0.7420 - precision_m: 0.8090 - recall_m: 0.6859 - val_loss: 0.7063 - val_acc: 0.7619 - val_f1_m: 0.7328 - val_precision_m: 0.8019 - val_recall_m: 0.6746\n",
      "Epoch 26/50\n",
      "4/4 [==============================] - 0s 76ms/step - loss: 0.6783 - acc: 0.7698 - f1_m: 0.7429 - precision_m: 0.8068 - recall_m: 0.6891 - val_loss: 0.6982 - val_acc: 0.7460 - val_f1_m: 0.7468 - val_precision_m: 0.8131 - val_recall_m: 0.6905\n",
      "Epoch 27/50\n",
      "4/4 [==============================] - 0s 71ms/step - loss: 0.6683 - acc: 0.7698 - f1_m: 0.7440 - precision_m: 0.8086 - recall_m: 0.6895 - val_loss: 0.6932 - val_acc: 0.7540 - val_f1_m: 0.7500 - val_precision_m: 0.8208 - val_recall_m: 0.6905\n",
      "Epoch 28/50\n",
      "4/4 [==============================] - 0s 67ms/step - loss: 0.6596 - acc: 0.7718 - f1_m: 0.7432 - precision_m: 0.8022 - recall_m: 0.6923 - val_loss: 0.6881 - val_acc: 0.7619 - val_f1_m: 0.7436 - val_precision_m: 0.8056 - val_recall_m: 0.6905\n",
      "Epoch 29/50\n",
      "4/4 [==============================] - 0s 66ms/step - loss: 0.6533 - acc: 0.7718 - f1_m: 0.7500 - precision_m: 0.8048 - recall_m: 0.7022 - val_loss: 0.6834 - val_acc: 0.7540 - val_f1_m: 0.7595 - val_precision_m: 0.8108 - val_recall_m: 0.7143\n",
      "Epoch 30/50\n",
      "4/4 [==============================] - 0s 68ms/step - loss: 0.6481 - acc: 0.7718 - f1_m: 0.7562 - precision_m: 0.8065 - recall_m: 0.7125 - val_loss: 0.6798 - val_acc: 0.7540 - val_f1_m: 0.7647 - val_precision_m: 0.8125 - val_recall_m: 0.7222\n",
      "Epoch 31/50\n",
      "4/4 [==============================] - 0s 64ms/step - loss: 0.6410 - acc: 0.7738 - f1_m: 0.7582 - precision_m: 0.8074 - recall_m: 0.7147 - val_loss: 0.6750 - val_acc: 0.7460 - val_f1_m: 0.7627 - val_precision_m: 0.8182 - val_recall_m: 0.7143\n",
      "Epoch 32/50\n",
      "4/4 [==============================] - 0s 71ms/step - loss: 0.6359 - acc: 0.7778 - f1_m: 0.7613 - precision_m: 0.8101 - recall_m: 0.7182 - val_loss: 0.6727 - val_acc: 0.7460 - val_f1_m: 0.7615 - val_precision_m: 0.8053 - val_recall_m: 0.7222\n",
      "Epoch 33/50\n",
      "4/4 [==============================] - 0s 73ms/step - loss: 0.6318 - acc: 0.7679 - f1_m: 0.7570 - precision_m: 0.8034 - recall_m: 0.7159 - val_loss: 0.6701 - val_acc: 0.7460 - val_f1_m: 0.7635 - val_precision_m: 0.8000 - val_recall_m: 0.7302\n",
      "Epoch 34/50\n",
      "4/4 [==============================] - 0s 67ms/step - loss: 0.6258 - acc: 0.7679 - f1_m: 0.7643 - precision_m: 0.8085 - recall_m: 0.7247 - val_loss: 0.6675 - val_acc: 0.7460 - val_f1_m: 0.7654 - val_precision_m: 0.7949 - val_recall_m: 0.7381\n",
      "Epoch 35/50\n",
      "4/4 [==============================] - 0s 73ms/step - loss: 0.6222 - acc: 0.7718 - f1_m: 0.7625 - precision_m: 0.8056 - recall_m: 0.7241 - val_loss: 0.6646 - val_acc: 0.7460 - val_f1_m: 0.7654 - val_precision_m: 0.7949 - val_recall_m: 0.7381\n",
      "Epoch 36/50\n",
      "4/4 [==============================] - 0s 75ms/step - loss: 0.6187 - acc: 0.7758 - f1_m: 0.7627 - precision_m: 0.8058 - recall_m: 0.7241 - val_loss: 0.6612 - val_acc: 0.7460 - val_f1_m: 0.7686 - val_precision_m: 0.8017 - val_recall_m: 0.7381\n",
      "Epoch 37/50\n",
      "4/4 [==============================] - 0s 75ms/step - loss: 0.6141 - acc: 0.7738 - f1_m: 0.7618 - precision_m: 0.8039 - recall_m: 0.7245 - val_loss: 0.6589 - val_acc: 0.7460 - val_f1_m: 0.7686 - val_precision_m: 0.8017 - val_recall_m: 0.7381\n",
      "Epoch 38/50\n",
      "4/4 [==============================] - 0s 69ms/step - loss: 0.6102 - acc: 0.7718 - f1_m: 0.7624 - precision_m: 0.8043 - recall_m: 0.7246 - val_loss: 0.6563 - val_acc: 0.7460 - val_f1_m: 0.7686 - val_precision_m: 0.8017 - val_recall_m: 0.7381\n",
      "Epoch 39/50\n",
      "4/4 [==============================] - 0s 74ms/step - loss: 0.6072 - acc: 0.7718 - f1_m: 0.7628 - precision_m: 0.8048 - recall_m: 0.7254 - val_loss: 0.6545 - val_acc: 0.7460 - val_f1_m: 0.7686 - val_precision_m: 0.8017 - val_recall_m: 0.7381\n",
      "Epoch 40/50\n",
      "4/4 [==============================] - 0s 73ms/step - loss: 0.6042 - acc: 0.7758 - f1_m: 0.7640 - precision_m: 0.8036 - recall_m: 0.7286 - val_loss: 0.6513 - val_acc: 0.7460 - val_f1_m: 0.7686 - val_precision_m: 0.8017 - val_recall_m: 0.7381\n",
      "Epoch 41/50\n",
      "4/4 [==============================] - 0s 66ms/step - loss: 0.6010 - acc: 0.7758 - f1_m: 0.7652 - precision_m: 0.8028 - recall_m: 0.7314 - val_loss: 0.6499 - val_acc: 0.7460 - val_f1_m: 0.7686 - val_precision_m: 0.8017 - val_recall_m: 0.7381\n",
      "Epoch 42/50\n",
      "4/4 [==============================] - 0s 70ms/step - loss: 0.5985 - acc: 0.7698 - f1_m: 0.7713 - precision_m: 0.8077 - recall_m: 0.7383 - val_loss: 0.6492 - val_acc: 0.7540 - val_f1_m: 0.7686 - val_precision_m: 0.8017 - val_recall_m: 0.7381\n",
      "Epoch 43/50\n",
      "4/4 [==============================] - 0s 68ms/step - loss: 0.5957 - acc: 0.7698 - f1_m: 0.7707 - precision_m: 0.8055 - recall_m: 0.7391 - val_loss: 0.6458 - val_acc: 0.7381 - val_f1_m: 0.7686 - val_precision_m: 0.8017 - val_recall_m: 0.7381\n",
      "Epoch 44/50\n",
      "4/4 [==============================] - 0s 65ms/step - loss: 0.5948 - acc: 0.7718 - f1_m: 0.7709 - precision_m: 0.8070 - recall_m: 0.7380 - val_loss: 0.6434 - val_acc: 0.7381 - val_f1_m: 0.7718 - val_precision_m: 0.8087 - val_recall_m: 0.7381\n",
      "Epoch 45/50\n",
      "4/4 [==============================] - 0s 71ms/step - loss: 0.5905 - acc: 0.7698 - f1_m: 0.7707 - precision_m: 0.8062 - recall_m: 0.7387 - val_loss: 0.6439 - val_acc: 0.7460 - val_f1_m: 0.7718 - val_precision_m: 0.8087 - val_recall_m: 0.7381\n",
      "Epoch 46/50\n",
      "4/4 [==============================] - 0s 67ms/step - loss: 0.5901 - acc: 0.7698 - f1_m: 0.7768 - precision_m: 0.8101 - recall_m: 0.7464 - val_loss: 0.6442 - val_acc: 0.7460 - val_f1_m: 0.7583 - val_precision_m: 0.7982 - val_recall_m: 0.7222\n",
      "Epoch 47/50\n",
      "4/4 [==============================] - 0s 67ms/step - loss: 0.5873 - acc: 0.7679 - f1_m: 0.7743 - precision_m: 0.8093 - recall_m: 0.7423 - val_loss: 0.6417 - val_acc: 0.7460 - val_f1_m: 0.7583 - val_precision_m: 0.7982 - val_recall_m: 0.7222\n",
      "Epoch 48/50\n",
      "4/4 [==============================] - 0s 67ms/step - loss: 0.5846 - acc: 0.7698 - f1_m: 0.7763 - precision_m: 0.8101 - recall_m: 0.7457 - val_loss: 0.6407 - val_acc: 0.7460 - val_f1_m: 0.7583 - val_precision_m: 0.7982 - val_recall_m: 0.7222\n",
      "Epoch 49/50\n",
      "4/4 [==============================] - 0s 70ms/step - loss: 0.5824 - acc: 0.7698 - f1_m: 0.7771 - precision_m: 0.8133 - recall_m: 0.7440 - val_loss: 0.6397 - val_acc: 0.7460 - val_f1_m: 0.7615 - val_precision_m: 0.8053 - val_recall_m: 0.7222\n",
      "Epoch 50/50\n",
      "4/4 [==============================] - 0s 71ms/step - loss: 0.5807 - acc: 0.7698 - f1_m: 0.7752 - precision_m: 0.8095 - recall_m: 0.7437 - val_loss: 0.6385 - val_acc: 0.7381 - val_f1_m: 0.7563 - val_precision_m: 0.8036 - val_recall_m: 0.7143\n"
     ]
    }
   ],
   "source": [
    "history = model.fit(x=[X1_train, X2_train], y=y_train, batch_size=128, epochs=50, verbose=1, validation_split=0.2)"
   ]
  },
  {
   "cell_type": "code",
   "execution_count": 57,
   "metadata": {},
   "outputs": [
    {
     "name": "stdout",
     "output_type": "stream",
     "text": [
      "9/9 [==============================] - 0s 6ms/step - loss: 0.6473 - acc: 0.7601 - f1_m: 0.7595 - precision_m: 0.8094 - recall_m: 0.7164\n"
     ]
    }
   ],
   "source": [
    "loss, accuracy, f1_score, precision, recall  = model.evaluate(x=[X1_test, X2_test], y=y_test, verbose=1)\n",
    "\n"
   ]
  },
  {
   "cell_type": "code",
   "execution_count": 58,
   "metadata": {},
   "outputs": [
    {
     "data": {
      "image/png": "[encoded data removed]",
      "text/plain": [
       "<Figure size 432x288 with 1 Axes>"
      ]
     },
     "metadata": {
      "needs_background": "light"
     },
     "output_type": "display_data"
    },
    {
     "data": {
      "image/png": "[encoded data removed]",
      "text/plain": [
       "<Figure size 432x288 with 1 Axes>"
      ]
     },
     "metadata": {
      "needs_background": "light"
     },
     "output_type": "display_data"
    }
   ],
   "source": [
    "import matplotlib.pyplot as plt\n",
    "\n",
    "plt.plot(history.history['acc'])\n",
    "plt.plot(history.history['val_acc'])\n",
    "\n",
    "plt.title('model accuracy')\n",
    "plt.ylabel('accuracy')\n",
    "plt.xlabel('epoch')\n",
    "plt.legend(['train','test'], loc='upper left')\n",
    "plt.show()\n",
    "\n",
    "plt.plot(history.history['loss'])\n",
    "plt.plot(history.history['val_loss'])\n",
    "\n",
    "plt.title('model loss')\n",
    "plt.ylabel('loss')\n",
    "plt.xlabel('epoch')\n",
    "plt.legend(['train','test'], loc='upper left')\n",
    "plt.show()"
   ]
  },
  {
   "cell_type": "code",
   "execution_count": 59,
   "metadata": {},
   "outputs": [
    {
     "name": "stdout",
     "output_type": "stream",
     "text": [
      "Automatically created module for IPython interactive environment\n"
     ]
    },
    {
     "data": {
      "image/png": "[encoded data removed]",
      "text/plain": [
       "<Figure size 432x288 with 1 Axes>"
      ]
     },
     "metadata": {
      "needs_background": "light"
     },
     "output_type": "display_data"
    },
    {
     "data": {
      "image/png": "[encoded data removed]",
      "text/plain": [
       "<Figure size 432x288 with 1 Axes>"
      ]
     },
     "metadata": {
      "needs_background": "light"
     },
     "output_type": "display_data"
    }
   ],
   "source": [
    "print(__doc__)\n",
    "\n",
    "import matplotlib.pyplot as plt\n",
    "import numpy as np\n",
    "from sklearn import svm, datasets\n",
    "from sklearn.metrics import precision_recall_curve\n",
    "from sklearn.metrics import average_precision_score\n",
    "from sklearn.preprocessing import label_binarize\n",
    "from sklearn.multiclass import OneVsRestClassifier\n",
    "from sklearn.model_selection import train_test_split\n",
    "\n",
    "predictions = model.predict([X1_test, X2_test])\n",
    "y_pred = (predictions > 0.6)\n",
    "y_test = label_binarize(y_test, classes=['YY','YN','NY','NN'])\n",
    "y_pred = label_binarize(y_pred, classes=['YY','YN','NY','NN'])\n",
    "n_classes = 4\n",
    "\n",
    "\n",
    "\n",
    "# Compute Precision-Recall and plot curve\n",
    "precision = dict()\n",
    "recall = dict()\n",
    "average_precision = dict()\n",
    "for i in range(n_classes):\n",
    "    precision[i], recall[i], _ = precision_recall_curve(y_test[:, i],\n",
    "                                                        y_pred[:, i])\n",
    "    average_precision[i] = average_precision_score(y_test[:, i], y_pred[:, i])\n",
    "    \n",
    "\n",
    "# Compute micro-average ROC curve and ROC area\n",
    "precision[\"micro\"], recall[\"micro\"], _ = precision_recall_curve(y_test.ravel(),\n",
    "    y_pred.ravel())\n",
    "average_precision[\"micro\"] = average_precision_score(y_test, y_pred,\n",
    "                                                     average=\"micro\")\n",
    "\n",
    "  \n",
    "# Plot Precision-Recall curve\n",
    "plt.clf()\n",
    "plt.plot(recall[0], precision[0], label='Precision-Recall curve')\n",
    "plt.xlabel('Recall')\n",
    "plt.ylabel('Precision')\n",
    "plt.ylim([0.0, 1.05])\n",
    "plt.xlim([0.0, 1.0])\n",
    "plt.title('Precision-Recall example: AUC={0:0.2f}'.format(average_precision[0]))\n",
    "plt.legend(loc=\"lower left\")\n",
    "plt.show()\n",
    "\n",
    "# Plot Precision-Recall curve for each class\n",
    "plt.clf()\n",
    "plt.plot(recall[\"micro\"], precision[\"micro\"],\n",
    "         label='micro-average Precision-recall curve (area = {0:0.2f})'\n",
    "               ''.format(average_precision[\"micro\"]))\n",
    "for i in range(n_classes):\n",
    "    plt.plot(recall[i], precision[i],\n",
    "             label='Precision-recall curve of class {0} (area = {1:0.2f})'\n",
    "                   ''.format(i, average_precision[i]))\n",
    "\n",
    "plt.xlim([0.0, 1.0])\n",
    "plt.ylim([0.0, 1.05])\n",
    "plt.xlabel('Recall')\n",
    "plt.ylabel('Precision')\n",
    "plt.title('Extension of Precision-Recall curve to multi-class')\n",
    "plt.legend(loc=\"lower right\")\n",
    "plt.show()"
   ]
  },
  {
   "cell_type": "code",
   "execution_count": 60,
   "metadata": {},
   "outputs": [
    {
     "ename": "NameError",
     "evalue": "name 'metrics' is not defined",
     "output_type": "error",
     "traceback": [
      "\u001b[0;31m---------------------------------------------------------------------------\u001b[0m",
      "\u001b[0;31mNameError\u001b[0m                                 Traceback (most recent call last)",
      "\u001b[0;32m<ipython-input-60-0bc506c1feb7>\u001b[0m in \u001b[0;36m<module>\u001b[0;34m\u001b[0m\n\u001b[0;32m----> 1\u001b[0;31m \u001b[0mmatrix\u001b[0m \u001b[0;34m=\u001b[0m \u001b[0mmetrics\u001b[0m\u001b[0;34m.\u001b[0m\u001b[0mconfusion_matrix\u001b[0m\u001b[0;34m(\u001b[0m\u001b[0my_test\u001b[0m\u001b[0;34m.\u001b[0m\u001b[0margmax\u001b[0m\u001b[0;34m(\u001b[0m\u001b[0maxis\u001b[0m\u001b[0;34m=\u001b[0m\u001b[0;36m1\u001b[0m\u001b[0;34m)\u001b[0m\u001b[0;34m,\u001b[0m \u001b[0my_pred\u001b[0m\u001b[0;34m.\u001b[0m\u001b[0margmax\u001b[0m\u001b[0;34m(\u001b[0m\u001b[0maxis\u001b[0m\u001b[0;34m=\u001b[0m\u001b[0;36m1\u001b[0m\u001b[0;34m)\u001b[0m\u001b[0;34m)\u001b[0m\u001b[0;34m\u001b[0m\u001b[0;34m\u001b[0m\u001b[0m\n\u001b[0m\u001b[1;32m      2\u001b[0m \u001b[0mmatrix\u001b[0m\u001b[0;34m\u001b[0m\u001b[0;34m\u001b[0m\u001b[0m\n",
      "\u001b[0;31mNameError\u001b[0m: name 'metrics' is not defined"
     ]
    }
   ],
   "source": [
    "matrix = metrics.confusion_matrix(y_test.argmax(axis=1), y_pred.argmax(axis=1))\n",
    "matrix"
   ]
  },
  {
   "cell_type": "code",
   "execution_count": null,
   "metadata": {},
   "outputs": [],
   "source": [
    "import shap\n",
    "\n",
    "explainer = shap.DeepExplainer(model, X1_train[:100])\n",
    "shap_values = explainer.shap_values(X1_test[:10])"
   ]
  },
  {
   "cell_type": "code",
   "execution_count": null,
   "metadata": {},
   "outputs": [],
   "source": [
    "f=shap.force_plot(explainer.expected_value, shap_values, X, show=False)\n",
    "shap.save_html(\"index.htm\", f)"
   ]
  },
  {
   "cell_type": "code",
   "execution_count": null,
   "metadata": {},
   "outputs": [],
   "source": [
    "auc_score"
   ]
  },
  {
   "cell_type": "code",
   "execution_count": null,
   "metadata": {},
   "outputs": [],
   "source": [
    "from matplotlib import colors as plt_colors\n",
    "import numpy as np\n",
    "import shap\n",
    "import matplotlib.pyplot as pl\n",
    "\n",
    "\n",
    "\n",
    "\n",
    "shap.summary_plot(shap_values, X, show=False)\n",
    "\n",
    "pl.savefig(\"ranks.pdf\", dpi=800,  bbox_inches = 'tight')\n",
    "pl.show()"
   ]
  },
  {
   "cell_type": "markdown",
   "metadata": {},
   "source": [
    "-------------------------------------------\n"
   ]
  },
  {
   "cell_type": "code",
   "execution_count": null,
   "metadata": {},
   "outputs": [],
   "source": [
    "from cleanlab.latent_estimation import estimate_cv_predicted_probabilities\n",
    "import cleanlab\n",
    "\n",
    "\n",
    "s = np.array(y)\n",
    "\n",
    "probabilities = estimate_cv_predicted_probabilities(\n",
    "    X, \n",
    "    s, \n",
    "    clf=model,\n",
    ")\n",
    "psx = cleanlab.latent_estimation.estimate_cv_predicted_probabilities(\n",
    "    X, s, clf=model)"
   ]
  },
  {
   "cell_type": "code",
   "execution_count": null,
   "metadata": {},
   "outputs": [],
   "source": [
    "import pandas as pd\n",
    "import numpy as np\n",
    "df=data"
   ]
  },
  {
   "cell_type": "code",
   "execution_count": null,
   "metadata": {},
   "outputs": [],
   "source": [
    "for tweet, label in df.sample(10)[[\"text\", \"result\"]].values:\n",
    "    print(label, tweet)"
   ]
  },
  {
   "cell_type": "code",
   "execution_count": null,
   "metadata": {},
   "outputs": [],
   "source": [
    "import tensorflow_hub as hub\n",
    "\n",
    "# embed = hub.load(\"https://tfhub.dev/google/universal-sentence-encoder-large/4\")"
   ]
  },
  {
   "cell_type": "code",
   "execution_count": null,
   "metadata": {},
   "outputs": [],
   "source": [
    "X_train_embeddings = embed(df.text.values)"
   ]
  },
  {
   "cell_type": "code",
   "execution_count": null,
   "metadata": {},
   "outputs": [],
   "source": [
    "from sklearn.linear_model import LogisticRegression\n",
    "from sklearn.metrics import accuracy_score, f1_score\n",
    "from sklearn.ensemble import RandomForestClassifier\n",
    "\n",
    "logistic_clf = RandomForestClassifier(n_estimators=100, max_depth= 30, max_features=.75, criterion='entropy', min_samples_split=15, class_weight='balanced')"
   ]
  },
  {
   "cell_type": "code",
   "execution_count": null,
   "metadata": {},
   "outputs": [],
   "source": [
    "logistic_clf.fit(X_train_embeddings['outputs'][:3000,:],\n",
    "                 df.result.values[:3000])"
   ]
  },
  {
   "cell_type": "code",
   "execution_count": null,
   "metadata": {},
   "outputs": [],
   "source": [
    "RandomForestClassifier(n_estimators=100, max_depth= 30, max_features=.75, criterion='entropy', min_samples_split=15, class_weight='balanced')"
   ]
  },
  {
   "cell_type": "code",
   "execution_count": null,
   "metadata": {},
   "outputs": [],
   "source": [
    "\n",
    "y_pred = logistic_clf.predict(X_train_embeddings['outputs'][3000:,:])\n",
    "y_pred_proba = logistic_clf.predict_proba(X_train_embeddings['outputs'][3000:,:])\n",
    "print(\"Accuracy: {:.1%}\".format(accuracy_score(df.result.values[3000:], y_pred)))\n",
    "print(\"F1: {:.1%}\".format(f1_score(df.result.values[3000:], y_pred)))"
   ]
  },
  {
   "cell_type": "code",
   "execution_count": null,
   "metadata": {},
   "outputs": [],
   "source": [
    "from cleanlab.pruning import get_noise_indices\n",
    "\n",
    "ordered_label_errors = get_noise_indices(\n",
    "    s=df.result.values[3000:],\n",
    "    psx=y_pred_proba,\n",
    "    sorted_index_method='normalized_margin', # Orders label errors\n",
    " )"
   ]
  },
  {
   "cell_type": "code",
   "execution_count": null,
   "metadata": {},
   "outputs": [],
   "source": [
    "\n",
    "print(\"We found {} label errors.\".format(len(ordered_label_errors)))"
   ]
  },
  {
   "cell_type": "code",
   "execution_count": null,
   "metadata": {},
   "outputs": [],
   "source": [
    "ordered_label_errors"
   ]
  },
  {
   "cell_type": "code",
   "execution_count": null,
   "metadata": {},
   "outputs": [],
   "source": [
    "df.loc[220]"
   ]
  },
  {
   "cell_type": "code",
   "execution_count": null,
   "metadata": {},
   "outputs": [],
   "source": [
    "error_df = df.loc[df.index[3000:]].loc[df.index[3000+ordered_label_errors]]\n",
    "for tweet, label in error_df[[ \"text\", \"result\"]][:30].values:\n",
    "    print(label, tweet)"
   ]
  },
  {
   "cell_type": "code",
   "execution_count": null,
   "metadata": {},
   "outputs": [],
   "source": []
  }
 ],
 "metadata": {
  "kernelspec": {
   "display_name": "Python 3",
   "language": "python",
   "name": "python3"
  },
  "language_info": {
   "codemirror_mode": {
    "name": "ipython",
    "version": 3
   },
   "file_extension": ".py",
   "mimetype": "text/x-python",
   "name": "python",
   "nbconvert_exporter": "python",
   "pygments_lexer": "ipython3",
   "version": "3.8.3"
  }
 },
 "nbformat": 4,
 "nbformat_minor": 4
}
