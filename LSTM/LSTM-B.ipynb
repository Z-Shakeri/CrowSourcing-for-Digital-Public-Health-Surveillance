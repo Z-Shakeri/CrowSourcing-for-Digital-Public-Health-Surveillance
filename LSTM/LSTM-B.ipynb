{
 "cells": [
  {
   "cell_type": "code",
   "execution_count": 45,
   "metadata": {},
   "outputs": [
    {
     "name": "stdout",
     "output_type": "stream",
     "text": [
      "['model_1b.h5', 'model_1c.h5', 'text.csv', 'Sentiment.csv', 'LSTM-B-OnlyText.ipynb', 'LearnPipeline.ipynb', 'model_1.h5', 'glove.840B.300d.txt', 'PA-all.csv', 'model_2.h5', 'LSTM-B.ipynb', 'model.hdf5', 'glove.twitter.27B.200d.txt', '.ipynb_checkpoints', 'LSTM-B-AllFeatures.ipynb', 'PA-Truth.csv', 'model_1d.h5']\n"
     ]
    }
   ],
   "source": [
    "import os\n",
    "import re\n",
    "\n",
    "import numpy as np\n",
    "import tensorflow as tf\n",
    "\n",
    "np.random.seed(1)\n",
    "tf.random.set_seed(2)\n",
    "\n",
    "import pandas as pd\n",
    "import keras\n",
    "# from tqdm import tqdm\n",
    "from tqdm import tqdm_notebook as tqdm\n",
    "from sklearn.model_selection import train_test_split\n",
    "from sklearn.preprocessing import LabelEncoder\n",
    "from sklearn.utils import class_weight\n",
    "from sklearn.metrics import f1_score, classification_report, log_loss\n",
    "\n",
    "from keras.preprocessing.text import Tokenizer\n",
    "from keras.preprocessing.sequence import pad_sequences\n",
    "from keras.utils import to_categorical\n",
    "\n",
    "from keras.models import Sequential\n",
    "from keras.layers import Embedding, LSTM, Dense, SpatialDropout1D, Bidirectional, Flatten\n",
    "from keras.layers import Dropout, Conv1D, GlobalMaxPool1D, GRU, GlobalAvgPool1D\n",
    "from keras.optimizers import Adam\n",
    "from keras.callbacks import ModelCheckpoint, EarlyStopping\n",
    "\n",
    "print(os.listdir('../LSTM'))"
   ]
  },
  {
   "cell_type": "code",
   "execution_count": 46,
   "metadata": {},
   "outputs": [],
   "source": [
    "MAX_SEQ_LEN = 25 #this is based on a quick analysis of the len of sequences train['text'].apply(lambda x : len(x.split(' '))).quantile(0.95)\n",
    "DEFAULT_BATCH_SIZE = 64"
   ]
  },
  {
   "cell_type": "code",
   "execution_count": 47,
   "metadata": {},
   "outputs": [
    {
     "name": "stdout",
     "output_type": "stream",
     "text": [
      "(2662, 8)\n",
      "(666, 8)\n"
     ]
    }
   ],
   "source": [
    "data = pd.read_csv('PA-all.csv')\n",
    "\n",
    "data['A1']=data['A1'].astype(\"category\")\n",
    "data['A2']=data['A2'].astype(\"category\")\n",
    "data['A3']=data['A3'].astype(\"category\")\n",
    "data['sex']=data['sex'].astype(\"category\")\n",
    "data['age']=data['age'].astype(\"category\")\n",
    "data['org']=data['org'].astype(\"category\")\n",
    "data['truth']=data['truth'].astype(\"category\")\n",
    "data.head()\n",
    "\n",
    "\n",
    "#data['truth']=np.where(data['truth'] ==1, 'YY', data['truth'])\n",
    "data['truth']=np.where(data['truth'] ==2, '0', data['truth'])\n",
    "data['truth']=np.where(data['truth'] =='3', '0', data['truth'])\n",
    "data['truth']=np.where(data['truth'] =='4', '0', data['truth'])\n",
    "data['truth']=np.where(data['truth'] =='5', '0', data['truth'])\n",
    "\n",
    "data.head()\n",
    "# data = data[data['sentiment'] != 'Neutral']\n",
    "train, test = train_test_split(data, random_state = 42, test_size=0.2)\n",
    "print(train.shape)\n",
    "print(test.shape)"
   ]
  },
  {
   "cell_type": "code",
   "execution_count": 48,
   "metadata": {},
   "outputs": [],
   "source": [
    "CONTRACTION_MAPPING = {\"ain't\": \"is not\", \"aren't\": \"are not\",\"can't\": \"cannot\", \"'cause\": \"because\", \"could've\": \"could have\",\n",
    "                       \"couldn't\": \"could not\", \"didn't\": \"did not\",  \"doesn't\": \"does not\", \"don't\": \"do not\", \"hadn't\": \"had not\",\n",
    "                       \"hasn't\": \"has not\", \"haven't\": \"have not\", \"he'd\": \"he would\",\"he'll\": \"he will\", \"he's\": \"he is\", \"how'd\": \"how did\",\n",
    "                       \"how'd'y\": \"how do you\", \"how'll\": \"how will\", \"how's\": \"how is\",  \"I'd\": \"I would\", \"I'd've\": \"I would have\",\n",
    "                       \"I'll\": \"I will\", \"I'll've\": \"I will have\",\"I'm\": \"I am\", \"I've\": \"I have\", \"i'd\": \"i would\", \"i'd've\": \"i would have\",\n",
    "                       \"i'll\": \"i will\",  \"i'll've\": \"i will have\",\"i'm\": \"i am\", \"i've\": \"i have\", \"isn't\": \"is not\", \"it'd\": \"it would\",\n",
    "                       \"it'd've\": \"it would have\", \"it'll\": \"it will\", \"it'll've\": \"it will have\",\"it's\": \"it is\", \"let's\": \"let us\",\n",
    "                       \"ma'am\": \"madam\", \"mayn't\": \"may not\", \"might've\": \"might have\",\"mightn't\": \"might not\",\"mightn't've\": \"might not have\",\n",
    "                       \"must've\": \"must have\", \"mustn't\": \"must not\", \"mustn't've\": \"must not have\", \"needn't\": \"need not\",\n",
    "                       \"needn't've\": \"need not have\",\"o'clock\": \"of the clock\", \"oughtn't\": \"ought not\", \"oughtn't've\": \"ought not have\",\n",
    "                       \"shan't\": \"shall not\", \"sha'n't\": \"shall not\", \"shan't've\": \"shall not have\", \"she'd\": \"she would\",\n",
    "                       \"she'd've\": \"she would have\", \"she'll\": \"she will\", \"she'll've\": \"she will have\", \"she's\": \"she is\",\n",
    "                       \"should've\": \"should have\", \"shouldn't\": \"should not\", \"shouldn't've\": \"should not have\", \"so've\": \"so have\",\n",
    "                       \"so's\": \"so as\", \"this's\": \"this is\",\"that'd\": \"that would\", \"that'd've\": \"that would have\", \"that's\": \"that is\",\n",
    "                       \"there'd\": \"there would\", \"there'd've\": \"there would have\", \"there's\": \"there is\", \"here's\": \"here is\",\"they'd\": \"they would\",\n",
    "                       \"they'd've\": \"they would have\", \"they'll\": \"they will\", \"they'll've\": \"they will have\", \"they're\": \"they are\",\n",
    "                       \"they've\": \"they have\", \"to've\": \"to have\", \"wasn't\": \"was not\", \"we'd\": \"we would\", \"we'd've\": \"we would have\",\n",
    "                       \"we'll\": \"we will\", \"we'll've\": \"we will have\", \"we're\": \"we are\", \"we've\": \"we have\", \"weren't\": \"were not\",\n",
    "                       \"what'll\": \"what will\", \"what'll've\": \"what will have\", \"what're\": \"what are\",  \"what's\": \"what is\", \"what've\": \"what have\",\n",
    "                       \"when's\": \"when is\", \"when've\": \"when have\", \"where'd\": \"where did\", \"where's\": \"where is\", \"where've\": \"where have\",\n",
    "                       \"who'll\": \"who will\", \"who'll've\": \"who will have\", \"who's\": \"who is\", \"who've\": \"who have\", \"why's\": \"why is\",\n",
    "                       \"why've\": \"why have\", \"will've\": \"will have\", \"won't\": \"will not\", \"won't've\": \"will not have\", \"would've\": \"would have\",\n",
    "                       \"wouldn't\": \"would not\", \"wouldn't've\": \"would not have\", \"y'all\": \"you all\", \"y'all'd\": \"you all would\",\n",
    "                       \"y'all'd've\": \"you all would have\",\"y'all're\": \"you all are\",\"y'all've\": \"you all have\",\"you'd\": \"you would\",\n",
    "                       \"you'd've\": \"you would have\", \"you'll\": \"you will\", \"you'll've\": \"you will have\", \"you're\": \"you are\", \"you've\": \"you have\",\n",
    "                       \"It's\": 'It is', \"Can't\": 'Can not', \"I've\": 'I have' }"
   ]
  },
  {
   "cell_type": "code",
   "execution_count": 49,
   "metadata": {},
   "outputs": [
    {
     "data": {
      "text/html": [
       "<div>\n",
       "<style scoped>\n",
       "    .dataframe tbody tr th:only-of-type {\n",
       "        vertical-align: middle;\n",
       "    }\n",
       "\n",
       "    .dataframe tbody tr th {\n",
       "        vertical-align: top;\n",
       "    }\n",
       "\n",
       "    .dataframe thead th {\n",
       "        text-align: right;\n",
       "    }\n",
       "</style>\n",
       "<table border=\"1\" class=\"dataframe\">\n",
       "  <thead>\n",
       "    <tr style=\"text-align: right;\">\n",
       "      <th></th>\n",
       "      <th>A1</th>\n",
       "      <th>A2</th>\n",
       "      <th>A3</th>\n",
       "      <th>truth</th>\n",
       "      <th>age</th>\n",
       "      <th>sex</th>\n",
       "      <th>org</th>\n",
       "      <th>text</th>\n",
       "    </tr>\n",
       "  </thead>\n",
       "  <tbody>\n",
       "    <tr>\n",
       "      <th>0</th>\n",
       "      <td>3</td>\n",
       "      <td>4</td>\n",
       "      <td>4</td>\n",
       "      <td>0</td>\n",
       "      <td>&gt;=40</td>\n",
       "      <td>female</td>\n",
       "      <td>non-org</td>\n",
       "      <td>I ran out of coffee. Is it socially acceptable...</td>\n",
       "    </tr>\n",
       "    <tr>\n",
       "      <th>1</th>\n",
       "      <td>1</td>\n",
       "      <td>4</td>\n",
       "      <td>4</td>\n",
       "      <td>1</td>\n",
       "      <td>19-29</td>\n",
       "      <td>male</td>\n",
       "      <td>non-org</td>\n",
       "      <td>For anyone who doesn't think golf is a real sp...</td>\n",
       "    </tr>\n",
       "    <tr>\n",
       "      <th>2</th>\n",
       "      <td>1</td>\n",
       "      <td>1</td>\n",
       "      <td>4</td>\n",
       "      <td>1</td>\n",
       "      <td>19-29</td>\n",
       "      <td>male</td>\n",
       "      <td>non-org</td>\n",
       "      <td>This hurts to read. I've had to snowline chase...</td>\n",
       "    </tr>\n",
       "    <tr>\n",
       "      <th>3</th>\n",
       "      <td>3</td>\n",
       "      <td>3</td>\n",
       "      <td>3</td>\n",
       "      <td>0</td>\n",
       "      <td>19-29</td>\n",
       "      <td>male</td>\n",
       "      <td>non-org</td>\n",
       "      <td>There is an elderly couple cross country skiin...</td>\n",
       "    </tr>\n",
       "    <tr>\n",
       "      <th>4</th>\n",
       "      <td>1</td>\n",
       "      <td>1</td>\n",
       "      <td>1</td>\n",
       "      <td>1</td>\n",
       "      <td>30-39</td>\n",
       "      <td>female</td>\n",
       "      <td>non-org</td>\n",
       "      <td>Morning workout at PureFX @purefxfitness I rea...</td>\n",
       "    </tr>\n",
       "  </tbody>\n",
       "</table>\n",
       "</div>"
      ],
      "text/plain": [
       "  A1 A2 A3 truth    age     sex      org  \\\n",
       "0  3  4  4     0   >=40  female  non-org   \n",
       "1  1  4  4     1  19-29    male  non-org   \n",
       "2  1  1  4     1  19-29    male  non-org   \n",
       "3  3  3  3     0  19-29    male  non-org   \n",
       "4  1  1  1     1  30-39  female  non-org   \n",
       "\n",
       "                                                text  \n",
       "0  I ran out of coffee. Is it socially acceptable...  \n",
       "1  For anyone who doesn't think golf is a real sp...  \n",
       "2  This hurts to read. I've had to snowline chase...  \n",
       "3  There is an elderly couple cross country skiin...  \n",
       "4  Morning workout at PureFX @purefxfitness I rea...  "
      ]
     },
     "execution_count": 49,
     "metadata": {},
     "output_type": "execute_result"
    }
   ],
   "source": [
    "data.head()"
   ]
  },
  {
   "cell_type": "code",
   "execution_count": 50,
   "metadata": {},
   "outputs": [],
   "source": [
    "def clean_text(text, mapping):\n",
    "    replace_white_space = [\"\\n\"]\n",
    "    for s in replace_white_space:\n",
    "        text = text.replace(s, \" \")\n",
    "    replace_punctuation = [\"’\", \"‘\", \"´\", \"`\", \"\\'\", r\"\\'\"]\n",
    "    for s in replace_punctuation:\n",
    "        text = text.replace(s, \"'\")\n",
    "    \n",
    "    # Random note: removing the URL's slightly degraded performance, it's possible the model learned that certain URLs were positive/negative\n",
    "    # And was able to extrapolate that to retweets. Could also explain why re-training the Embeddings improves performance.\n",
    "    # remove twitter url's\n",
    "#     text = re.sub(r\"http[s]?://t.co/[A-Za-z0-9]*\",\"TWITTERURL\",text)\n",
    "    mapped_string = []\n",
    "    for t in text.split(\" \"):\n",
    "        if t in mapping:\n",
    "            mapped_string.append(mapping[t])\n",
    "        elif t.lower() in mapping:\n",
    "            mapped_string.append(mapping[t.lower()])\n",
    "        else:\n",
    "            mapped_string.append(t)\n",
    "    return ' '.join(mapped_string)"
   ]
  },
  {
   "cell_type": "code",
   "execution_count": 51,
   "metadata": {},
   "outputs": [
    {
     "name": "stdout",
     "output_type": "stream",
     "text": [
      "Number of Tokens: 13064\n",
      "Max Token Index: 13064 \n",
      "\n",
      "Sample Tweet Before Processing: I finished my first half marathon, now what are you going to do?!?! 🏃🏽‍♀️💨Rollerskate!!!! That’s what! ⛸🤩🛹… https://t.co/ao7LbQ7hOz\n",
      "Sample Tweet After Processing: ['I finished my first half marathon now what are you going to do 🏃🏽\\u200d♀️💨Rollerskate that is what ⛸🤩🛹… https t co ao7LbQ7hOz'] \n",
      "\n",
      "What the model will interpret: [0, 0, 0, 7, 228, 13, 48, 342, 732, 29, 111, 31, 19, 66, 6, 34, 3430, 33, 9, 111, 3431, 3, 1, 2, 3432]\n"
     ]
    }
   ],
   "source": [
    "\n",
    "# CONTRACTION_MAPPING is a map of common contractions(e.g don't => do not)\n",
    "train_text_vec = [clean_text(text, CONTRACTION_MAPPING) for text in train['text'].values]\n",
    "test_text_vec = [clean_text(text, CONTRACTION_MAPPING) for text in test['text'].values]\n",
    "\n",
    "\n",
    "# tokenize the sentences\n",
    "tokenizer = Tokenizer(lower=False)\n",
    "tokenizer.fit_on_texts(train_text_vec)\n",
    "train_text_vec = tokenizer.texts_to_sequences(train_text_vec)\n",
    "test_text_vec = tokenizer.texts_to_sequences(test_text_vec)\n",
    "\n",
    "# pad the sequences\n",
    "train_text_vec = pad_sequences(train_text_vec, maxlen=MAX_SEQ_LEN)\n",
    "test_text_vec = pad_sequences(test_text_vec, maxlen=MAX_SEQ_LEN)\n",
    "\n",
    "print('Number of Tokens:', len(tokenizer.word_index))\n",
    "print(\"Max Token Index:\", train_text_vec.max(), \"\\n\")\n",
    "\n",
    "print('Sample Tweet Before Processing:', train[\"text\"].values[0])\n",
    "print('Sample Tweet After Processing:', tokenizer.sequences_to_texts([train_text_vec[0]]), '\\n')\n",
    "\n",
    "print('What the model will interpret:', train_text_vec[0].tolist())"
   ]
  },
  {
   "cell_type": "code",
   "execution_count": 52,
   "metadata": {},
   "outputs": [
    {
     "data": {
      "text/html": [
       "<div>\n",
       "<style scoped>\n",
       "    .dataframe tbody tr th:only-of-type {\n",
       "        vertical-align: middle;\n",
       "    }\n",
       "\n",
       "    .dataframe tbody tr th {\n",
       "        vertical-align: top;\n",
       "    }\n",
       "\n",
       "    .dataframe thead th {\n",
       "        text-align: right;\n",
       "    }\n",
       "</style>\n",
       "<table border=\"1\" class=\"dataframe\">\n",
       "  <thead>\n",
       "    <tr style=\"text-align: right;\">\n",
       "      <th></th>\n",
       "      <th>text</th>\n",
       "      <th>A1</th>\n",
       "    </tr>\n",
       "  </thead>\n",
       "  <tbody>\n",
       "    <tr>\n",
       "      <th>3125</th>\n",
       "      <td>I finished my first half marathon, now what ar...</td>\n",
       "      <td>4</td>\n",
       "    </tr>\n",
       "    <tr>\n",
       "      <th>2328</th>\n",
       "      <td>I’m a technical wrestler now💁🏻‍♀️\\n\\nfemmesfat...</td>\n",
       "      <td>1</td>\n",
       "    </tr>\n",
       "    <tr>\n",
       "      <th>56</th>\n",
       "      <td>@shay7t Thank you for teaching me everything t...</td>\n",
       "      <td>4</td>\n",
       "    </tr>\n",
       "    <tr>\n",
       "      <th>1988</th>\n",
       "      <td>Nov 18 - 2017\\n\\nOpening\\n\\nThe first cheque I...</td>\n",
       "      <td>2</td>\n",
       "    </tr>\n",
       "    <tr>\n",
       "      <th>1814</th>\n",
       "      <td>Fighting Stigma : Irish boy dies after Spanish...</td>\n",
       "      <td>4</td>\n",
       "    </tr>\n",
       "    <tr>\n",
       "      <th>...</th>\n",
       "      <td>...</td>\n",
       "      <td>...</td>\n",
       "    </tr>\n",
       "    <tr>\n",
       "      <th>1095</th>\n",
       "      <td>Started today with a fantastic #strength worko...</td>\n",
       "      <td>1</td>\n",
       "    </tr>\n",
       "    <tr>\n",
       "      <th>1130</th>\n",
       "      <td>#lastday15x5workout for 4-6 weeks (depends on ...</td>\n",
       "      <td>1</td>\n",
       "    </tr>\n",
       "    <tr>\n",
       "      <th>1294</th>\n",
       "      <td>Staying active during covid.  In home workouts...</td>\n",
       "      <td>1</td>\n",
       "    </tr>\n",
       "    <tr>\n",
       "      <th>860</th>\n",
       "      <td>Hoping to run 32-36km tomorrow and can’t see m...</td>\n",
       "      <td>1</td>\n",
       "    </tr>\n",
       "    <tr>\n",
       "      <th>3174</th>\n",
       "      <td>I do not feel like working out today</td>\n",
       "      <td>1</td>\n",
       "    </tr>\n",
       "  </tbody>\n",
       "</table>\n",
       "<p>2662 rows × 2 columns</p>\n",
       "</div>"
      ],
      "text/plain": [
       "                                                   text A1\n",
       "3125  I finished my first half marathon, now what ar...  4\n",
       "2328  I’m a technical wrestler now💁🏻‍♀️\\n\\nfemmesfat...  1\n",
       "56    @shay7t Thank you for teaching me everything t...  4\n",
       "1988  Nov 18 - 2017\\n\\nOpening\\n\\nThe first cheque I...  2\n",
       "1814  Fighting Stigma : Irish boy dies after Spanish...  4\n",
       "...                                                 ... ..\n",
       "1095  Started today with a fantastic #strength worko...  1\n",
       "1130  #lastday15x5workout for 4-6 weeks (depends on ...  1\n",
       "1294  Staying active during covid.  In home workouts...  1\n",
       "860   Hoping to run 32-36km tomorrow and can’t see m...  1\n",
       "3174               I do not feel like working out today  1\n",
       "\n",
       "[2662 rows x 2 columns]"
      ]
     },
     "execution_count": 52,
     "metadata": {},
     "output_type": "execute_result"
    }
   ],
   "source": [
    "train[['text', 'A1']]"
   ]
  },
  {
   "cell_type": "code",
   "execution_count": null,
   "metadata": {},
   "outputs": [],
   "source": []
  },
  {
   "cell_type": "code",
   "execution_count": null,
   "metadata": {},
   "outputs": [],
   "source": []
  },
  {
   "cell_type": "code",
   "execution_count": 53,
   "metadata": {},
   "outputs": [],
   "source": [
    "encoder = LabelEncoder()\n",
    "\n",
    "y_train = encoder.fit_transform(train['truth'].values)\n",
    "y_train = to_categorical(y_train) \n",
    "\n",
    "y_test = encoder.fit_transform(test['truth'].values)\n",
    "y_test = to_categorical(y_test) "
   ]
  },
  {
   "cell_type": "code",
   "execution_count": 54,
   "metadata": {},
   "outputs": [
    {
     "name": "stdout",
     "output_type": "stream",
     "text": [
      "Distribution of Classes: Counter({'0': 1604, '1': 1058})\n",
      "[0.8298 1.258 ]\n"
     ]
    },
    {
     "name": "stderr",
     "output_type": "stream",
     "text": [
      "/Users/zahrashakeri/opt/anaconda3/lib/python3.8/site-packages/sklearn/utils/validation.py:68: FutureWarning: Pass classes=[0 1], y=[1 1 1 ... 1 1 1] as keyword args. From version 0.25 passing these as positional arguments will result in an error\n",
      "  warnings.warn(\"Pass {} as keyword args. From version 0.25 \"\n"
     ]
    }
   ],
   "source": [
    "# get an idea of the distribution of the text values\n",
    "from collections import Counter\n",
    "ctr = Counter(train['truth'].values)\n",
    "print('Distribution of Classes:', ctr)\n",
    "\n",
    "# get class weights for the training data, this will be used data\n",
    "y_train_int = np.argmax(y_train,axis=1)\n",
    "cws = class_weight.compute_class_weight('balanced', np.unique(y_train_int), y_train_int)\n",
    "print(cws)"
   ]
  },
  {
   "cell_type": "code",
   "execution_count": 55,
   "metadata": {},
   "outputs": [
    {
     "name": "stdout",
     "output_type": "stream",
     "text": [
      "Dominant Class:  0\n",
      "Baseline Accuracy Dominant Class 0.5645645645645646\n",
      "F1 Score: 0.41043275303322385\n"
     ]
    }
   ],
   "source": [
    "# \n",
    "print('Dominant Class: ', ctr.most_common(n = 1)[0][0])\n",
    "print('Baseline Accuracy Dominant Class', (ctr.most_common(n = 1)[0][0] == test['truth'].values).mean())\n",
    "\n",
    "preds = np.zeros_like(y_test)\n",
    "preds[:, 0] = 1\n",
    "preds[0] = 1 #done to suppress warning from numpy for f1 score\n",
    "print('F1 Score:', f1_score(y_test, preds, average='weighted'))"
   ]
  },
  {
   "cell_type": "code",
   "execution_count": 56,
   "metadata": {},
   "outputs": [],
   "source": [
    "import matplotlib.pyplot as plt\n",
    "from sklearn.metrics import confusion_matrix\n",
    "from sklearn.utils.multiclass import unique_labels\n",
    "\n",
    "np.set_printoptions(precision=4)\n",
    "def plot_confusion_matrix(y_true, y_pred, classes,\n",
    "                          normalize=False,\n",
    "                          title=None,\n",
    "                          cmap=plt.cm.Blues):\n",
    "    \"\"\"\n",
    "    This function prints and plots the confusion matrix.\n",
    "    Normalization can be applied by setting `normalize=True`.\n",
    "    \"\"\"\n",
    "\n",
    "    # Compute confusion matrix\n",
    "    classes = classes[unique_labels(y_true, y_pred)]\n",
    "    _cm = confusion_matrix(y_true, y_pred)\n",
    "\n",
    "    print(classification_report(y_true, y_pred, target_names=classes))\n",
    "        \n",
    "    def _build_matrix(fig, ax, cm, normalize = False):\n",
    "        if normalize:\n",
    "            title = 'Normalized confusion matrix'\n",
    "        else:\n",
    "            title = 'Confusion matrix, without normalization'\n",
    "        \n",
    "        if normalize:\n",
    "            cm = cm.astype('float') / cm.sum(axis=1)[:, np.newaxis]\n",
    "\n",
    "        im = ax.imshow(cm, cmap=cmap)\n",
    "#         fig.colorbar(im, ax=ax)\n",
    "        \n",
    "        # We want to show all ticks...\n",
    "        ax.set(xticks=np.arange(cm.shape[1]),\n",
    "               yticks=np.arange(cm.shape[0]),\n",
    "               # ... and label them with the respective list entries\n",
    "               xticklabels=classes, \n",
    "               yticklabels=classes,\n",
    "               title=title,\n",
    "               ylabel='True label',\n",
    "               xlabel='Predicted label')\n",
    "\n",
    "        # Rotate the tick labels and set their alignment.\n",
    "        plt.setp(ax.get_xticklabels(), rotation=45, ha=\"right\", rotation_mode=\"anchor\")\n",
    "\n",
    "        # Loop over data dimensions and create text annotations.\n",
    "        fmt = '.2f' if normalize else 'd'\n",
    "        thresh = cm.max() / 2.\n",
    "        for i in range(cm.shape[0]):\n",
    "            for j in range(cm.shape[1]):\n",
    "                ax.text(j, i, format(cm[i, j], fmt),\n",
    "                        ha=\"center\", va=\"center\",\n",
    "                        color=\"white\" if cm[i, j] > thresh else \"black\")\n",
    "        \n",
    "    fig, [ax1, ax2] = plt.subplots(nrows = 1, ncols = 2, figsize=(8, 4))\n",
    "    _build_matrix(fig, ax1, cm = _cm, normalize=False)\n",
    "    _build_matrix(fig, ax2, cm = _cm, normalize=True)\n",
    "    fig.tight_layout()"
   ]
  },
  {
   "cell_type": "code",
   "execution_count": 57,
   "metadata": {},
   "outputs": [
    {
     "name": "stdout",
     "output_type": "stream",
     "text": [
      "Baseline Accuracy Using Naive Bayes:  0.6666666666666666\n",
      "F1 Score: 0.6107048627004418\n",
      "              precision    recall  f1-score   support\n",
      "\n",
      "           0       0.63      0.98      0.77       376\n",
      "           1       0.90      0.26      0.41       290\n",
      "\n",
      "    accuracy                           0.67       666\n",
      "   macro avg       0.77      0.62      0.59       666\n",
      "weighted avg       0.75      0.67      0.61       666\n",
      "\n"
     ]
    },
    {
     "data": {
      "image/png": "[encoded data removed]",
      "text/plain": [
       "<Figure size 576x288 with 2 Axes>"
      ]
     },
     "metadata": {
      "needs_background": "light"
     },
     "output_type": "display_data"
    }
   ],
   "source": [
    "from sklearn.feature_extraction.text import CountVectorizer\n",
    "from sklearn.feature_extraction.text import TfidfTransformer\n",
    "from sklearn.naive_bayes import MultinomialNB\n",
    "from sklearn.pipeline import Pipeline\n",
    "\n",
    "text_clf = Pipeline([\n",
    "    ('vect', CountVectorizer()),\n",
    "    ('tfidf', TfidfTransformer()),\n",
    "    ('clf', MultinomialNB()),\n",
    "])\n",
    "text_clf.fit(tokenizer.sequences_to_texts_generator(train_text_vec), y_train.argmax(axis=1))\n",
    "predictions = text_clf.predict(tokenizer.sequences_to_texts_generator(test_text_vec)) \n",
    "print('Baseline Accuracy Using Naive Bayes: ', (predictions == y_test.argmax(axis = 1)).mean())\n",
    "print('F1 Score:', f1_score(y_test.argmax(axis = 1), predictions, average='weighted'))\n",
    "\n",
    "_ = plot_confusion_matrix(y_test.argmax(axis = 1), predictions, classes=encoder.classes_, title='Confusion matrix, without normalization')"
   ]
  },
  {
   "cell_type": "code",
   "execution_count": null,
   "metadata": {},
   "outputs": [],
   "source": []
  },
  {
   "cell_type": "code",
   "execution_count": 58,
   "metadata": {},
   "outputs": [],
   "source": [
    "def threshold_search(y_true, y_proba, average = None):\n",
    "    best_threshold = 0\n",
    "    best_score = 0\n",
    "    for threshold in [i * 0.01 for i in range(100)]:\n",
    "        score = f1_score(y_true=y_true, y_pred=y_proba > threshold, average=average)\n",
    "        if score > best_score:\n",
    "            best_threshold = threshold\n",
    "            best_score = score\n",
    "    search_result = {'threshold': best_threshold, 'f1': best_score}\n",
    "    return search_result\n",
    "\n",
    "\n",
    "def train(model, \n",
    "          X_train, y_train, X_test, y_test, \n",
    "          \n",
    "          checkpoint_path='model.hdf5', \n",
    "          epcohs = 25, \n",
    "          batch_size = DEFAULT_BATCH_SIZE, \n",
    "          class_weights = None, \n",
    "          fit_verbose=2,\n",
    "          print_summary = True\n",
    "         ):\n",
    "    m = model()\n",
    "    if print_summary:\n",
    "        print(m.summary())\n",
    "    m.fit(\n",
    "        X_train, \n",
    "        y_train, \n",
    "        #this is bad practice using test data for validation, in a real case would use a seperate validation set\n",
    "        validation_data=(X_test, y_test),  \n",
    "        epochs=epcohs, \n",
    "        batch_size=batch_size,\n",
    "        class_weight=class_weights,\n",
    "         #saves the most accurate model, usually you would save the one with the lowest loss\n",
    "        callbacks= [\n",
    "            ModelCheckpoint(checkpoint_path, monitor='val_accuracy', verbose=1, save_best_only=True),\n",
    "            EarlyStopping(patience = 2)\n",
    "        ],\n",
    "        verbose=fit_verbose\n",
    "    ) \n",
    "    print(\"\\n\\n****************************\\n\\n\")\n",
    "    print('Loading Best Model...')\n",
    "    m.load_weights(checkpoint_path)\n",
    "    predictions = m.predict(X_test, verbose=1)\n",
    "    print('Validation Loss:', log_loss(y_test, predictions))\n",
    "    print('Test Accuracy', (predictions.argmax(axis = 1) == y_test.argmax(axis = 1)).mean())\n",
    "    print('F1 Score:', f1_score(y_test.argmax(axis = 1), predictions.argmax(axis = 1), average='weighted'))\n",
    "    plot_confusion_matrix(y_test.argmax(axis = 1), predictions.argmax(axis = 1), classes=encoder.classes_)\n",
    "    plt.show()    \n",
    "    return m #returns best performing model"
   ]
  },
  {
   "cell_type": "code",
   "execution_count": 59,
   "metadata": {},
   "outputs": [
    {
     "name": "stdout",
     "output_type": "stream",
     "text": [
      "-*******-- <class 'numpy.ndarray'>\n",
      "Model: \"sequential\"\n",
      "_________________________________________________________________\n",
      "Layer (type)                 Output Shape              Param #   \n",
      "=================================================================\n",
      "embedding (Embedding)        (None, 25, 128)           1672320   \n",
      "_________________________________________________________________\n",
      "lstm (LSTM)                  (None, 128)               131584    \n",
      "_________________________________________________________________\n",
      "dense (Dense)                (None, 64)                8256      \n",
      "_________________________________________________________________\n",
      "dense_1 (Dense)              (None, 2)                 130       \n",
      "=================================================================\n",
      "Total params: 1,812,290\n",
      "Trainable params: 1,812,290\n",
      "Non-trainable params: 0\n",
      "_________________________________________________________________\n",
      "None\n",
      "Epoch 1/25\n",
      "\n",
      "Epoch 00001: val_accuracy improved from -inf to 0.72823, saving model to model_1.h5\n",
      "42/42 - 3s - loss: 0.6633 - accuracy: 0.5808 - val_loss: 0.5795 - val_accuracy: 0.7282\n",
      "Epoch 2/25\n",
      "\n",
      "Epoch 00002: val_accuracy did not improve from 0.72823\n",
      "42/42 - 2s - loss: 0.3571 - accuracy: 0.8606 - val_loss: 0.6966 - val_accuracy: 0.7042\n",
      "Epoch 3/25\n",
      "\n",
      "Epoch 00003: val_accuracy improved from 0.72823 to 0.73874, saving model to model_1.h5\n",
      "42/42 - 2s - loss: 0.0916 - accuracy: 0.9684 - val_loss: 0.7146 - val_accuracy: 0.7387\n",
      "\n",
      "\n",
      "****************************\n",
      "\n",
      "\n",
      "Loading Best Model...\n",
      "21/21 [==============================] - 0s 6ms/step\n",
      "Validation Loss: 0.7145756384713314\n",
      "Test Accuracy 0.7387387387387387\n",
      "F1 Score: 0.7385227489394157\n",
      "              precision    recall  f1-score   support\n",
      "\n",
      "           0       0.77      0.77      0.77       376\n",
      "           1       0.70      0.69      0.70       290\n",
      "\n",
      "    accuracy                           0.74       666\n",
      "   macro avg       0.73      0.73      0.73       666\n",
      "weighted avg       0.74      0.74      0.74       666\n",
      "\n"
     ]
    },
    {
     "data": {
      "image/png": "[encoded data removed]",
      "text/plain": [
       "<Figure size 576x288 with 2 Axes>"
      ]
     },
     "metadata": {
      "needs_background": "light"
     },
     "output_type": "display_data"
    }
   ],
   "source": [
    "def model_1():\n",
    "    model = Sequential()\n",
    "    model.add(Embedding(input_dim = (len(tokenizer.word_counts) + 1), output_dim = 128, input_length = MAX_SEQ_LEN))\n",
    "    model.add(LSTM(128))\n",
    "    model.add(Dense(64, activation='relu'))\n",
    "    model.add(Dense(2, activation='softmax'))\n",
    "    model.compile(loss='categorical_crossentropy', optimizer='adam', metrics=['accuracy'])\n",
    "    return model\n",
    "print(\"-*******--\",type(cws))\n",
    "m1 = train(model_1, \n",
    "           train_text_vec,\n",
    "           y_train,\n",
    "           test_text_vec,\n",
    "           y_test,\n",
    "           checkpoint_path='model_1.h5',\n",
    "           class_weights={i : cws[i] for i in range(2)}\n",
    "          )"
   ]
  },
  {
   "cell_type": "code",
   "execution_count": 60,
   "metadata": {},
   "outputs": [
    {
     "data": {
      "text/plain": [
       "array([[    0,     0,     0, ...,     1,     2,  3432],\n",
       "       [    0,     0,     0, ...,     1,     2,  3439],\n",
       "       [    0,     0,     0, ...,  3442,  3443,  3444],\n",
       "       ...,\n",
       "       [    0,     0,     0, ...,    13,   257,   662],\n",
       "       [    0,     0,  3369, ...,  1065, 13063, 13064],\n",
       "       [    0,     0,     0, ...,   138,    27,    20]], dtype=int32)"
      ]
     },
     "execution_count": 60,
     "metadata": {},
     "output_type": "execute_result"
    }
   ],
   "source": [
    "train_text_vec"
   ]
  },
  {
   "cell_type": "code",
   "execution_count": null,
   "metadata": {},
   "outputs": [],
   "source": [
    "def model_1():\n",
    "    model = Sequential()\n",
    "    model.add(Embedding(input_dim = (len(tokenizer.word_counts) + 1), output_dim = 128, input_length = MAX_SEQ_LEN))\n",
    "    model.add(LSTM(128))\n",
    "    model.add(Dense(64, activation='relu'))\n",
    "    model.add(Dense(2, activation='softmax'))\n",
    "    model.compile(loss='categorical_crossentropy', optimizer='adam', metrics=['accuracy'])\n",
    "    return model\n",
    "\n",
    "m1 = train(model_1, \n",
    "           train_text_vec,\n",
    "           y_train,\n",
    "           test_text_vec,\n",
    "           y_test,\n",
    "           checkpoint_path='model_1.h5',\n",
    "           class_weights={i : cws[i] for i in range(2)}\n",
    "          )"
   ]
  },
  {
   "cell_type": "code",
   "execution_count": 62,
   "metadata": {},
   "outputs": [
    {
     "name": "stdout",
     "output_type": "stream",
     "text": [
      "Model: \"sequential_2\"\n",
      "_________________________________________________________________\n",
      "Layer (type)                 Output Shape              Param #   \n",
      "=================================================================\n",
      "embedding_2 (Embedding)      (None, 25, 128)           1672320   \n",
      "_________________________________________________________________\n",
      "dropout (Dropout)            (None, 25, 128)           0         \n",
      "_________________________________________________________________\n",
      "bidirectional (Bidirectional (None, 256)               263168    \n",
      "_________________________________________________________________\n",
      "dense_2 (Dense)              (None, 64)                16448     \n",
      "_________________________________________________________________\n",
      "dense_3 (Dense)              (None, 2)                 130       \n",
      "=================================================================\n",
      "Total params: 1,952,066\n",
      "Trainable params: 1,952,066\n",
      "Non-trainable params: 0\n",
      "_________________________________________________________________\n",
      "None\n",
      "Epoch 1/25\n",
      "\n",
      "Epoch 00001: val_accuracy improved from -inf to 0.73874, saving model to model_1b.h5\n",
      "42/42 - 4s - loss: 0.6715 - accuracy: 0.5579 - val_loss: 0.5355 - val_accuracy: 0.7387\n",
      "Epoch 2/25\n",
      "\n",
      "Epoch 00002: val_accuracy did not improve from 0.73874\n",
      "42/42 - 3s - loss: 0.3878 - accuracy: 0.8373 - val_loss: 0.6812 - val_accuracy: 0.7267\n",
      "Epoch 3/25\n",
      "\n",
      "Epoch 00003: val_accuracy did not improve from 0.73874\n",
      "42/42 - 3s - loss: 0.1281 - accuracy: 0.9523 - val_loss: 0.6958 - val_accuracy: 0.7057\n",
      "\n",
      "\n",
      "****************************\n",
      "\n",
      "\n",
      "Loading Best Model...\n",
      "21/21 [==============================] - 0s 6ms/step\n",
      "Validation Loss: 0.5355114972683134\n",
      "Test Accuracy 0.7387387387387387\n",
      "F1 Score: 0.7362549194610263\n",
      "              precision    recall  f1-score   support\n",
      "\n",
      "           0       0.75      0.81      0.78       376\n",
      "           1       0.73      0.64      0.68       290\n",
      "\n",
      "    accuracy                           0.74       666\n",
      "   macro avg       0.74      0.73      0.73       666\n",
      "weighted avg       0.74      0.74      0.74       666\n",
      "\n"
     ]
    },
    {
     "data": {
      "image/png": "[encoded data removed]",
      "text/plain": [
       "<Figure size 576x288 with 2 Axes>"
      ]
     },
     "metadata": {
      "needs_background": "light"
     },
     "output_type": "display_data"
    }
   ],
   "source": [
    "  def model_1b():\n",
    "    \"\"\"\n",
    "    Using a Bidiretional LSTM. \n",
    "    \"\"\"\n",
    "    model = Sequential()\n",
    "    model.add(Embedding(input_dim = (len(tokenizer.word_counts) + 1), output_dim = 128, input_length = MAX_SEQ_LEN))\n",
    "    model.add(Dropout(0.3))\n",
    "    model.add(Bidirectional(LSTM(128, dropout=0.25, recurrent_dropout=0.25)))\n",
    "    model.add(Dense(64, activation='relu'))\n",
    "#     model.add(Dropout(0.3))\n",
    "    model.add(Dense(2, activation='softmax'))\n",
    "    model.compile(loss='categorical_crossentropy', optimizer='adam', metrics=['accuracy'])\n",
    "    return model\n",
    "\n",
    "_ = train(model_1b, \n",
    "           train_text_vec,\n",
    "           y_train,\n",
    "           test_text_vec,\n",
    "           y_test,\n",
    "           checkpoint_path='model_1b.h5',\n",
    "           class_weights={i : cws[i] for i in range(2)},\n",
    "           print_summary = True\n",
    "          )"
   ]
  },
  {
   "cell_type": "code",
   "execution_count": 63,
   "metadata": {},
   "outputs": [
    {
     "name": "stdout",
     "output_type": "stream",
     "text": [
      "Model: \"sequential_3\"\n",
      "_________________________________________________________________\n",
      "Layer (type)                 Output Shape              Param #   \n",
      "=================================================================\n",
      "embedding_3 (Embedding)      (None, 25, 128)           1672320   \n",
      "_________________________________________________________________\n",
      "spatial_dropout1d (SpatialDr (None, 25, 128)           0         \n",
      "_________________________________________________________________\n",
      "bidirectional_1 (Bidirection (None, 25, 256)           263168    \n",
      "_________________________________________________________________\n",
      "conv1d (Conv1D)              (None, 22, 64)            65600     \n",
      "_________________________________________________________________\n",
      "global_max_pooling1d (Global (None, 64)                0         \n",
      "_________________________________________________________________\n",
      "dense_4 (Dense)              (None, 64)                4160      \n",
      "_________________________________________________________________\n",
      "dense_5 (Dense)              (None, 2)                 130       \n",
      "=================================================================\n",
      "Total params: 2,005,378\n",
      "Trainable params: 2,005,378\n",
      "Non-trainable params: 0\n",
      "_________________________________________________________________\n",
      "None\n",
      "Epoch 1/25\n",
      "\n",
      "Epoch 00001: val_accuracy improved from -inf to 0.70120, saving model to model_1c.h5\n",
      "42/42 - 4s - loss: 0.6657 - accuracy: 0.5612 - val_loss: 0.5844 - val_accuracy: 0.7012\n",
      "Epoch 2/25\n",
      "\n",
      "Epoch 00002: val_accuracy improved from 0.70120 to 0.72072, saving model to model_1c.h5\n",
      "42/42 - 4s - loss: 0.4084 - accuracy: 0.8238 - val_loss: 0.5920 - val_accuracy: 0.7207\n",
      "Epoch 3/25\n",
      "\n",
      "Epoch 00003: val_accuracy did not improve from 0.72072\n",
      "42/42 - 4s - loss: 0.1521 - accuracy: 0.9429 - val_loss: 0.6567 - val_accuracy: 0.7072\n",
      "\n",
      "\n",
      "****************************\n",
      "\n",
      "\n",
      "Loading Best Model...\n",
      "21/21 [==============================] - 0s 8ms/step\n",
      "Validation Loss: 0.5920124021040656\n",
      "Test Accuracy 0.7207207207207207\n",
      "F1 Score: 0.7199800271165051\n",
      "              precision    recall  f1-score   support\n",
      "\n",
      "           0       0.84      0.62      0.72       376\n",
      "           1       0.63      0.85      0.73       290\n",
      "\n",
      "    accuracy                           0.72       666\n",
      "   macro avg       0.74      0.74      0.72       666\n",
      "weighted avg       0.75      0.72      0.72       666\n",
      "\n"
     ]
    },
    {
     "data": {
      "image/png": "[encoded data removed]",
      "text/plain": [
       "<Figure size 576x288 with 2 Axes>"
      ]
     },
     "metadata": {
      "needs_background": "light"
     },
     "output_type": "display_data"
    }
   ],
   "source": [
    "def model_1c():\n",
    "    \"\"\"\n",
    "    Adding dropout to reduce overfitting using a bidiretional LSTM\n",
    "    \"\"\"\n",
    "    model = Sequential()\n",
    "    model.add(Embedding(input_dim = (len(tokenizer.word_counts) + 1), output_dim = 128, input_length = MAX_SEQ_LEN))\n",
    "    model.add(SpatialDropout1D(0.3))\n",
    "    model.add(Bidirectional(LSTM(128, dropout=0.25, recurrent_dropout=0.25, return_sequences=True)))\n",
    "    model.add(Conv1D(64, 4))\n",
    "#     model.add(Flatten())\n",
    "    model.add(GlobalMaxPool1D())\n",
    "    model.add(Dense(64, activation='relu'))\n",
    "    model.add(Dense(2, activation='softmax'))\n",
    "    model.compile(loss='categorical_crossentropy', optimizer='adam', metrics=['accuracy'])\n",
    "#     print(model.summary())\n",
    "    return model\n",
    "\n",
    "\n",
    "_ = train(model_1c, \n",
    "           train_text_vec,\n",
    "           y_train,\n",
    "           test_text_vec,\n",
    "           y_test,\n",
    "           checkpoint_path='model_1c.h5',\n",
    "           class_weights={i : cws[i] for i in range(2)},\n",
    "           print_summary = True\n",
    "          )"
   ]
  },
  {
   "cell_type": "code",
   "execution_count": 64,
   "metadata": {},
   "outputs": [
    {
     "name": "stdout",
     "output_type": "stream",
     "text": [
      "Model: \"sequential_4\"\n",
      "_________________________________________________________________\n",
      "Layer (type)                 Output Shape              Param #   \n",
      "=================================================================\n",
      "embedding_4 (Embedding)      (None, 25, 128)           1672320   \n",
      "_________________________________________________________________\n",
      "spatial_dropout1d_1 (Spatial (None, 25, 128)           0         \n",
      "_________________________________________________________________\n",
      "conv1d_1 (Conv1D)            (None, 21, 64)            41024     \n",
      "_________________________________________________________________\n",
      "conv1d_2 (Conv1D)            (None, 19, 64)            12352     \n",
      "_________________________________________________________________\n",
      "conv1d_3 (Conv1D)            (None, 18, 64)            8256      \n",
      "_________________________________________________________________\n",
      "global_max_pooling1d_1 (Glob (None, 64)                0         \n",
      "_________________________________________________________________\n",
      "dense_6 (Dense)              (None, 64)                4160      \n",
      "_________________________________________________________________\n",
      "dense_7 (Dense)              (None, 2)                 130       \n",
      "=================================================================\n",
      "Total params: 1,738,242\n",
      "Trainable params: 1,738,242\n",
      "Non-trainable params: 0\n",
      "_________________________________________________________________\n",
      "None\n",
      "Epoch 1/25\n",
      "\n",
      "Epoch 00001: val_accuracy improved from -inf to 0.72072, saving model to model_1d.h5\n",
      "42/42 - 1s - loss: 0.6727 - accuracy: 0.5751 - val_loss: 0.5766 - val_accuracy: 0.7207\n",
      "Epoch 2/25\n",
      "\n",
      "Epoch 00002: val_accuracy improved from 0.72072 to 0.75225, saving model to model_1d.h5\n",
      "42/42 - 1s - loss: 0.4419 - accuracy: 0.8017 - val_loss: 0.5414 - val_accuracy: 0.7523\n",
      "Epoch 3/25\n",
      "\n",
      "Epoch 00003: val_accuracy did not improve from 0.75225\n",
      "42/42 - 1s - loss: 0.1800 - accuracy: 0.9324 - val_loss: 0.7096 - val_accuracy: 0.7147\n",
      "Epoch 4/25\n",
      "\n",
      "Epoch 00004: val_accuracy did not improve from 0.75225\n",
      "42/42 - 1s - loss: 0.0614 - accuracy: 0.9771 - val_loss: 1.0584 - val_accuracy: 0.7147\n",
      "\n",
      "\n",
      "****************************\n",
      "\n",
      "\n",
      "Loading Best Model...\n",
      "21/21 [==============================] - 0s 2ms/step\n",
      "Validation Loss: 0.5414351418589216\n",
      "Test Accuracy 0.7522522522522522\n",
      "F1 Score: 0.7532551430908406\n",
      "              precision    recall  f1-score   support\n",
      "\n",
      "           0       0.81      0.73      0.77       376\n",
      "           1       0.69      0.78      0.73       290\n",
      "\n",
      "    accuracy                           0.75       666\n",
      "   macro avg       0.75      0.75      0.75       666\n",
      "weighted avg       0.76      0.75      0.75       666\n",
      "\n"
     ]
    },
    {
     "data": {
      "image/png": "[encoded data removed]",
      "text/plain": [
       "<Figure size 576x288 with 2 Axes>"
      ]
     },
     "metadata": {
      "needs_background": "light"
     },
     "output_type": "display_data"
    }
   ],
   "source": [
    "def model_1d():\n",
    "    \"\"\"\n",
    "    Just for fun below is a model only using covolutions. This is pretty good and also trains very quickly(and predictions would also likely be fast) compared to the LSTM...\n",
    "    It's equivalent to using an n-gram based approach.\n",
    "    Usually in practice you would use a more complex architecture with multiple parallel convolutions that are combined before pooling(and usually both max and avg).\n",
    "    Pure Convolutional NLP is definitely a solution worth exploring further.\n",
    "    \"\"\"\n",
    "    model = Sequential()\n",
    "    model.add(Embedding(input_dim = (len(tokenizer.word_counts) + 1), output_dim = 128, input_length = MAX_SEQ_LEN))\n",
    "    model.add(SpatialDropout1D(0.3))\n",
    "    model.add(Conv1D(64, 5))\n",
    "    model.add(Conv1D(64, 3))\n",
    "    model.add(Conv1D(64, 2))\n",
    "    model.add(GlobalMaxPool1D())\n",
    "    model.add(Dense(64, activation='relu'))\n",
    "    model.add(Dense(2, activation='softmax'))\n",
    "    model.compile(loss='categorical_crossentropy', optimizer='adam', metrics=['accuracy'])\n",
    "    return model\n",
    "\n",
    "\n",
    "_ = train(model_1d, \n",
    "           train_text_vec,\n",
    "           y_train,\n",
    "           test_text_vec,\n",
    "           y_test,\n",
    "           checkpoint_path='model_1d.h5',\n",
    "           class_weights={i : cws[i] for i in range(2)},\n",
    "           print_summary = True\n",
    "          )"
   ]
  },
  {
   "cell_type": "code",
   "execution_count": 65,
   "metadata": {},
   "outputs": [],
   "source": [
    "def get_coefs(word,*arr): \n",
    "    return word, np.asarray(arr, dtype='float32')\n",
    "\n",
    "def get_embdedings_matrix(embeddings_index, word_index, nb_words = None):\n",
    "    all_embs = np.stack(embeddings_index.values())\n",
    "    print('Shape of Full Embeddding Matrix', all_embs.shape)\n",
    "    embed_dims = all_embs.shape[1]\n",
    "    emb_mean,emb_std = all_embs.mean(), all_embs.std()\n",
    "\n",
    "    #best to free up memory, given the size, which is usually ~3-4GB in memory\n",
    "    del all_embs\n",
    "    if nb_words is None:\n",
    "        nb_words = len(word_index)\n",
    "    else:\n",
    "        nb_words = min(nb_words, len(word_index))\n",
    "    \n",
    "    embedding_matrix = np.random.normal(emb_mean, emb_std, (nb_words, embed_dims))\n",
    "    found_vectors = 0\n",
    "    words_not_found = []\n",
    "    for word, i in tqdm(word_index.items()):\n",
    "        if i >= nb_words: \n",
    "            continue\n",
    "        embedding_vector = None\n",
    "        if word in embeddings_index:\n",
    "            embedding_vector = embeddings_index.get(word,0)\n",
    "        elif word.lower() in embeddings_index:\n",
    "            embedding_vector = embeddings_index.get(word.lower(),0)\n",
    "        # for twitter check if the key is a hashtag\n",
    "        elif '#'+word.lower() in embeddings_index:\n",
    "            embedding_vector = embeddings_index.get('#'+word.lower(),0)\n",
    "            \n",
    "        if embedding_vector is not None: \n",
    "            found_vectors += 1\n",
    "            embedding_matrix[i] = embedding_vector\n",
    "        else:\n",
    "            words_not_found.append((word, i))\n",
    "\n",
    "    print(\"% of Vectors found in Corpus\", found_vectors / nb_words)\n",
    "    return embedding_matrix, words_not_found"
   ]
  },
  {
   "cell_type": "code",
   "execution_count": 66,
   "metadata": {},
   "outputs": [],
   "source": [
    "def load_glove(word_index):\n",
    "#     print('Loading Glove')\n",
    "    embed_file_path = 'glove.840B.300d.txt'\n",
    "    embeddings_index = dict(get_coefs(*o.split(\" \")) for o in tqdm(open(embed_file_path)))\n",
    "    print(\"Built Embedding Index:\", len(embeddings_index))\n",
    "    return get_embdedings_matrix(embeddings_index, word_index)\n",
    "\n",
    "def load_twitter(word_index):\n",
    "#     print('Loading Twitter')\n",
    "    embed_file_path = 'glove.twitter.27B.200d.txt'\n",
    "    embeddings_index = dict(get_coefs(*o.split(\" \")) for o in tqdm(open(embed_file_path)))\n",
    "    print(\"Built Embedding Index:\", len(embeddings_index))\n",
    "    return get_embdedings_matrix(embeddings_index, word_index)"
   ]
  },
  {
   "cell_type": "code",
   "execution_count": 67,
   "metadata": {},
   "outputs": [
    {
     "name": "stdout",
     "output_type": "stream",
     "text": [
      "Loading Glove Model...\n"
     ]
    },
    {
     "name": "stderr",
     "output_type": "stream",
     "text": [
      "<ipython-input-66-c1d80730e2f0>:4: TqdmDeprecationWarning: This function will be removed in tqdm==5.0.0\n",
      "Please use `tqdm.notebook.tqdm` instead of `tqdm.tqdm_notebook`\n",
      "  embeddings_index = dict(get_coefs(*o.split(\" \")) for o in tqdm(open(embed_file_path)))\n"
     ]
    },
    {
     "data": {
      "application/vnd.jupyter.widget-view+json": {
       "model_id": "4329dacb295440329e269a3d3d1420be",
       "version_major": 2,
       "version_minor": 0
      },
      "text/plain": [
       "HBox(children=(FloatProgress(value=1.0, bar_style='info', max=1.0), HTML(value='')))"
      ]
     },
     "metadata": {},
     "output_type": "display_data"
    },
    {
     "name": "stdout",
     "output_type": "stream",
     "text": [
      "\n",
      "Built Embedding Index: 2196017\n"
     ]
    },
    {
     "name": "stderr",
     "output_type": "stream",
     "text": [
      "<ipython-input-67-a0dcb852b153>:2: FutureWarning: arrays to stack must be passed as a \"sequence\" type such as list or tuple. Support for non-sequence iterables such as generators is deprecated as of NumPy 1.16 and will raise an error in the future.\n",
      "  glove_embed_matrix, words_not_found = load_glove(tokenizer.word_index)\n"
     ]
    },
    {
     "name": "stdout",
     "output_type": "stream",
     "text": [
      "Shape of Full Embeddding Matrix (2196017, 300)\n"
     ]
    },
    {
     "name": "stderr",
     "output_type": "stream",
     "text": [
      "<ipython-input-65-8aec52e4eae0>:20: TqdmDeprecationWarning: This function will be removed in tqdm==5.0.0\n",
      "Please use `tqdm.notebook.tqdm` instead of `tqdm.tqdm_notebook`\n",
      "  for word, i in tqdm(word_index.items()):\n"
     ]
    },
    {
     "data": {
      "application/vnd.jupyter.widget-view+json": {
       "model_id": "6b45e8e996a244cca41018f84ece212c",
       "version_major": 2,
       "version_minor": 0
      },
      "text/plain": [
       "HBox(children=(FloatProgress(value=0.0, max=13064.0), HTML(value='')))"
      ]
     },
     "metadata": {},
     "output_type": "display_data"
    },
    {
     "name": "stdout",
     "output_type": "stream",
     "text": [
      "\n",
      "% of Vectors found in Corpus 0.5858848744641764\n"
     ]
    }
   ],
   "source": [
    "print('Loading Glove Model...')\n",
    "glove_embed_matrix, words_not_found = load_glove(tokenizer.word_index)"
   ]
  },
  {
   "cell_type": "code",
   "execution_count": 68,
   "metadata": {},
   "outputs": [
    {
     "name": "stdout",
     "output_type": "stream",
     "text": [
      "Loading Twitter Model...\n"
     ]
    },
    {
     "name": "stderr",
     "output_type": "stream",
     "text": [
      "<ipython-input-66-c1d80730e2f0>:11: TqdmDeprecationWarning: This function will be removed in tqdm==5.0.0\n",
      "Please use `tqdm.notebook.tqdm` instead of `tqdm.tqdm_notebook`\n",
      "  embeddings_index = dict(get_coefs(*o.split(\" \")) for o in tqdm(open(embed_file_path)))\n"
     ]
    },
    {
     "data": {
      "application/vnd.jupyter.widget-view+json": {
       "model_id": "9dfac1ced2ce4be3b51bc18685d47161",
       "version_major": 2,
       "version_minor": 0
      },
      "text/plain": [
       "HBox(children=(FloatProgress(value=1.0, bar_style='info', max=1.0), HTML(value='')))"
      ]
     },
     "metadata": {},
     "output_type": "display_data"
    },
    {
     "name": "stdout",
     "output_type": "stream",
     "text": [
      "\n",
      "Built Embedding Index: 1193514\n"
     ]
    },
    {
     "name": "stderr",
     "output_type": "stream",
     "text": [
      "<ipython-input-68-350421a27190>:2: FutureWarning: arrays to stack must be passed as a \"sequence\" type such as list or tuple. Support for non-sequence iterables such as generators is deprecated as of NumPy 1.16 and will raise an error in the future.\n",
      "  twitter_embed_matrix, words_not_found =  load_twitter(tokenizer.word_index)\n"
     ]
    },
    {
     "name": "stdout",
     "output_type": "stream",
     "text": [
      "Shape of Full Embeddding Matrix (1193514, 200)\n"
     ]
    },
    {
     "name": "stderr",
     "output_type": "stream",
     "text": [
      "<ipython-input-65-8aec52e4eae0>:20: TqdmDeprecationWarning: This function will be removed in tqdm==5.0.0\n",
      "Please use `tqdm.notebook.tqdm` instead of `tqdm.tqdm_notebook`\n",
      "  for word, i in tqdm(word_index.items()):\n"
     ]
    },
    {
     "data": {
      "application/vnd.jupyter.widget-view+json": {
       "model_id": "6d006d74b5904bff85e57542fd25c5d1",
       "version_major": 2,
       "version_minor": 0
      },
      "text/plain": [
       "HBox(children=(FloatProgress(value=0.0, max=13064.0), HTML(value='')))"
      ]
     },
     "metadata": {},
     "output_type": "display_data"
    },
    {
     "name": "stdout",
     "output_type": "stream",
     "text": [
      "\n",
      "% of Vectors found in Corpus 0.558175137783221\n"
     ]
    }
   ],
   "source": [
    "print('Loading Twitter Model...')\n",
    "twitter_embed_matrix, words_not_found =  load_twitter(tokenizer.word_index)"
   ]
  },
  {
   "cell_type": "code",
   "execution_count": 69,
   "metadata": {},
   "outputs": [
    {
     "name": "stdout",
     "output_type": "stream",
     "text": [
      "13064\n",
      "300\n",
      "Epoch 1/25\n",
      "\n",
      "Epoch 00001: val_accuracy improved from -inf to 0.49550, saving model to model_2.h5\n",
      "42/42 - 2s - loss: 0.6846 - accuracy: 0.5173 - val_loss: 0.7702 - val_accuracy: 0.4955\n",
      "Epoch 2/25\n",
      "\n",
      "Epoch 00002: val_accuracy improved from 0.49550 to 0.59459, saving model to model_2.h5\n",
      "42/42 - 1s - loss: 0.6289 - accuracy: 0.6540 - val_loss: 0.6814 - val_accuracy: 0.5946\n",
      "Epoch 3/25\n",
      "\n",
      "Epoch 00003: val_accuracy improved from 0.59459 to 0.63363, saving model to model_2.h5\n",
      "42/42 - 1s - loss: 0.5840 - accuracy: 0.6931 - val_loss: 0.6378 - val_accuracy: 0.6336\n",
      "Epoch 4/25\n",
      "\n",
      "Epoch 00004: val_accuracy improved from 0.63363 to 0.64565, saving model to model_2.h5\n",
      "42/42 - 1s - loss: 0.5552 - accuracy: 0.7137 - val_loss: 0.6095 - val_accuracy: 0.6456\n",
      "Epoch 5/25\n",
      "\n",
      "Epoch 00005: val_accuracy did not improve from 0.64565\n",
      "42/42 - 1s - loss: 0.5295 - accuracy: 0.7370 - val_loss: 0.6789 - val_accuracy: 0.6036\n",
      "Epoch 6/25\n",
      "\n",
      "Epoch 00006: val_accuracy did not improve from 0.64565\n",
      "42/42 - 1s - loss: 0.5069 - accuracy: 0.7566 - val_loss: 0.8187 - val_accuracy: 0.5465\n",
      "\n",
      "\n",
      "****************************\n",
      "\n",
      "\n",
      "Loading Best Model...\n",
      "21/21 [==============================] - 0s 7ms/step\n",
      "Validation Loss: 0.6094617924454423\n",
      "Test Accuracy 0.6456456456456456\n",
      "F1 Score: 0.6466242070530569\n",
      "              precision    recall  f1-score   support\n",
      "\n",
      "           0       0.73      0.60      0.65       376\n",
      "           1       0.58      0.71      0.64       290\n",
      "\n",
      "    accuracy                           0.65       666\n",
      "   macro avg       0.65      0.65      0.65       666\n",
      "weighted avg       0.66      0.65      0.65       666\n",
      "\n"
     ]
    },
    {
     "data": {
      "image/png": "[encoded data removed]",
      "text/plain": [
       "<Figure size 576x288 with 2 Axes>"
      ]
     },
     "metadata": {
      "needs_background": "light"
     },
     "output_type": "display_data"
    }
   ],
   "source": [
    "def model_2(embed_matrix):\n",
    "    print(embed_matrix.shape[0])\n",
    "    print(embed_matrix.shape[1])\n",
    "    \"\"\"\n",
    "    Extends model_1 with a glove embedding\n",
    "    \"\"\"\n",
    "    model = Sequential()\n",
    "    model.add(Embedding(input_dim = embed_matrix.shape[0]+1, output_dim = embed_matrix.shape[1], input_length = MAX_SEQ_LEN,  trainable=False))\n",
    "    model.add(LSTM(128))\n",
    "    model.add(Dense(64, activation='relu'))\n",
    "    model.add(Dense(2, activation='softmax'))\n",
    "    model.compile(loss='categorical_crossentropy', optimizer='adam', metrics=['accuracy'])\n",
    "    return model\n",
    "\n",
    "\n",
    "m2 = train(lambda : model_2(glove_embed_matrix), \n",
    "           train_text_vec,\n",
    "           y_train,\n",
    "           test_text_vec,\n",
    "           y_test,\n",
    "           checkpoint_path='model_2.h5',\n",
    "           class_weights={i : cws[i] for i in range(2)},\n",
    "           fit_verbose = 2,\n",
    "           print_summary = False\n",
    "          )"
   ]
  },
  {
   "cell_type": "code",
   "execution_count": 70,
   "metadata": {},
   "outputs": [],
   "source": [
    "def model_3(embed_matrix):\n",
    "    \"\"\"\n",
    "    Extends model 1c, will be trained with multiple embeddings\n",
    "    \"\"\"\n",
    "    model = Sequential()\n",
    "    model.add(Embedding(input_dim = embed_matrix.shape[0]+1, output_dim = embed_matrix.shape[1], input_length = MAX_SEQ_LEN,  trainable=False))\n",
    "    model.add(SpatialDropout1D(0.3))\n",
    "    model.add(Bidirectional(LSTM(128, dropout=0.25, recurrent_dropout=0.25, return_sequences=True)))\n",
    "    model.add(Conv1D(64, 4))\n",
    "    model.add(GlobalMaxPool1D())\n",
    "    model.add(Dense(64, activation='relu'))\n",
    "    model.add(Dense(2, activation='softmax'))\n",
    "    model.compile(loss='categorical_crossentropy', optimizer='adam', metrics=['accuracy'])\n",
    "    return model"
   ]
  },
  {
   "cell_type": "code",
   "execution_count": 71,
   "metadata": {},
   "outputs": [
    {
     "name": "stdout",
     "output_type": "stream",
     "text": [
      "\n",
      "Epoch 00001: val_accuracy improved from -inf to 0.63063, saving model to model.hdf5\n",
      "\n",
      "Epoch 00002: val_accuracy did not improve from 0.63063\n",
      "\n",
      "Epoch 00003: val_accuracy improved from 0.63063 to 0.69520, saving model to model.hdf5\n",
      "\n",
      "Epoch 00004: val_accuracy did not improve from 0.69520\n",
      "\n",
      "Epoch 00005: val_accuracy improved from 0.69520 to 0.71171, saving model to model.hdf5\n",
      "\n",
      "Epoch 00006: val_accuracy did not improve from 0.71171\n",
      "\n",
      "Epoch 00007: val_accuracy did not improve from 0.71171\n",
      "\n",
      "\n",
      "****************************\n",
      "\n",
      "\n",
      "Loading Best Model...\n",
      "21/21 [==============================] - 0s 12ms/step\n",
      "Validation Loss: 0.583285242889647\n",
      "Test Accuracy 0.7117117117117117\n",
      "F1 Score: 0.7118226680288535\n",
      "              precision    recall  f1-score   support\n",
      "\n",
      "           0       0.75      0.74      0.74       376\n",
      "           1       0.67      0.67      0.67       290\n",
      "\n",
      "    accuracy                           0.71       666\n",
      "   macro avg       0.71      0.71      0.71       666\n",
      "weighted avg       0.71      0.71      0.71       666\n",
      "\n"
     ]
    },
    {
     "data": {
      "image/png": "[encoded data removed]",
      "text/plain": [
       "<Figure size 576x288 with 2 Axes>"
      ]
     },
     "metadata": {
      "needs_background": "light"
     },
     "output_type": "display_data"
    },
    {
     "name": "stdout",
     "output_type": "stream",
     "text": [
      "\n",
      "++++++++++++++++++++++++++++++++++++++++++\n",
      "\n",
      "Model 3 w/ Twitter Embedding\n",
      "\n",
      "Epoch 00001: val_accuracy improved from -inf to 0.55255, saving model to model.hdf5\n",
      "\n",
      "Epoch 00002: val_accuracy did not improve from 0.55255\n",
      "\n",
      "Epoch 00003: val_accuracy improved from 0.55255 to 0.66366, saving model to model.hdf5\n",
      "\n",
      "Epoch 00004: val_accuracy improved from 0.66366 to 0.68619, saving model to model.hdf5\n",
      "\n",
      "Epoch 00005: val_accuracy improved from 0.68619 to 0.69369, saving model to model.hdf5\n",
      "\n",
      "Epoch 00006: val_accuracy did not improve from 0.69369\n",
      "\n",
      "Epoch 00007: val_accuracy did not improve from 0.69369\n",
      "\n",
      "\n",
      "****************************\n",
      "\n",
      "\n",
      "Loading Best Model...\n",
      "21/21 [==============================] - 0s 11ms/step\n",
      "Validation Loss: 0.5799949386411601\n",
      "Test Accuracy 0.6936936936936937\n",
      "F1 Score: 0.6946750783004367\n",
      "              precision    recall  f1-score   support\n",
      "\n",
      "           0       0.74      0.70      0.72       376\n",
      "           1       0.64      0.69      0.66       290\n",
      "\n",
      "    accuracy                           0.69       666\n",
      "   macro avg       0.69      0.69      0.69       666\n",
      "weighted avg       0.70      0.69      0.69       666\n",
      "\n"
     ]
    },
    {
     "data": {
      "image/png": "[encoded data removed]",
      "text/plain": [
       "<Figure size 576x288 with 2 Axes>"
      ]
     },
     "metadata": {
      "needs_background": "light"
     },
     "output_type": "display_data"
    },
    {
     "name": "stdout",
     "output_type": "stream",
     "text": [
      "\n",
      "++++++++++++++++++++++++++++++++++++++++++\n",
      "\n",
      "Model 3 w/ Stacked Embedding\n",
      "\n",
      "Epoch 00001: val_accuracy improved from -inf to 0.66667, saving model to model.hdf5\n",
      "\n",
      "Epoch 00002: val_accuracy did not improve from 0.66667\n",
      "\n",
      "Epoch 00003: val_accuracy improved from 0.66667 to 0.71622, saving model to model.hdf5\n",
      "\n",
      "Epoch 00004: val_accuracy did not improve from 0.71622\n",
      "\n",
      "Epoch 00005: val_accuracy improved from 0.71622 to 0.73423, saving model to model.hdf5\n",
      "\n",
      "Epoch 00006: val_accuracy did not improve from 0.73423\n",
      "\n",
      "Epoch 00007: val_accuracy did not improve from 0.73423\n",
      "\n",
      "\n",
      "****************************\n",
      "\n",
      "\n",
      "Loading Best Model...\n",
      "21/21 [==============================] - 0s 20ms/step\n",
      "Validation Loss: 0.5483771948837437\n",
      "Test Accuracy 0.7342342342342343\n",
      "F1 Score: 0.7352847630292051\n",
      "              precision    recall  f1-score   support\n",
      "\n",
      "           0       0.81      0.69      0.75       376\n",
      "           1       0.66      0.79      0.72       290\n",
      "\n",
      "    accuracy                           0.73       666\n",
      "   macro avg       0.74      0.74      0.73       666\n",
      "weighted avg       0.75      0.73      0.74       666\n",
      "\n"
     ]
    },
    {
     "data": {
      "image/png": "[encoded data removed]",
      "text/plain": [
       "<Figure size 576x288 with 2 Axes>"
      ]
     },
     "metadata": {
      "needs_background": "light"
     },
     "output_type": "display_data"
    }
   ],
   "source": [
    "_ = train(lambda : model_3(glove_embed_matrix), \n",
    "           train_text_vec,\n",
    "           y_train,\n",
    "           test_text_vec,\n",
    "           y_test,\n",
    "           class_weights={i : cws[i] for i in range(2)},\n",
    "           fit_verbose=0,\n",
    "           print_summary = False\n",
    "\n",
    "          )\n",
    "\n",
    "print(\"\\n++++++++++++++++++++++++++++++++++++++++++\\n\")\n",
    "\n",
    "print(\"Model 3 w/ Twitter Embedding\")\n",
    "_ = train(lambda : model_3(twitter_embed_matrix), \n",
    "           train_text_vec,\n",
    "           y_train,\n",
    "           test_text_vec,\n",
    "           y_test,\n",
    "           class_weights={i : cws[i] for i in range(2)},\n",
    "           fit_verbose=0,\n",
    "           print_summary = False\n",
    "\n",
    "          )\n",
    "\n",
    "print(\"\\n++++++++++++++++++++++++++++++++++++++++++\\n\")\n",
    "\n",
    "print(\"Model 3 w/ Stacked Embedding\")\n",
    "_ = train(lambda : model_3(np.hstack((twitter_embed_matrix, glove_embed_matrix))), \n",
    "           train_text_vec,\n",
    "           y_train,\n",
    "           test_text_vec,\n",
    "           y_test,\n",
    "           class_weights={i : cws[i] for i in range(2)},\n",
    "           fit_verbose=0,\n",
    "           print_summary = False\n",
    "\n",
    "          )"
   ]
  },
  {
   "cell_type": "code",
   "execution_count": null,
   "metadata": {},
   "outputs": [],
   "source": []
  },
  {
   "cell_type": "code",
   "execution_count": null,
   "metadata": {},
   "outputs": [],
   "source": []
  }
 ],
 "metadata": {
  "kernelspec": {
   "display_name": "Python 3",
   "language": "python",
   "name": "python3"
  },
  "language_info": {
   "codemirror_mode": {
    "name": "ipython",
    "version": 3
   },
   "file_extension": ".py",
   "mimetype": "text/x-python",
   "name": "python",
   "nbconvert_exporter": "python",
   "pygments_lexer": "ipython3",
   "version": "3.8.3"
  }
 },
 "nbformat": 4,
 "nbformat_minor": 4
}
