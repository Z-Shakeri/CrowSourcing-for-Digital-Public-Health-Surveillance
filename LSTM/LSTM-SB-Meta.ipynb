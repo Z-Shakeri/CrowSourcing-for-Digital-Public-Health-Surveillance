{
 "cells": [
  {
   "cell_type": "code",
   "execution_count": 83,
   "metadata": {},
   "outputs": [],
   "source": [
    "import os\n",
    "import re\n",
    "\n",
    "import numpy as np\n",
    "import tensorflow as tf\n",
    "\n",
    "np.random.seed(1)\n",
    "tf.random.set_seed(2)\n",
    "\n",
    "import pandas as pd\n",
    "import keras\n",
    "# from tqdm import tqdm\n",
    "from tqdm import tqdm_notebook as tqdm\n",
    "from sklearn.model_selection import train_test_split\n",
    "from sklearn.preprocessing import LabelEncoder\n",
    "from sklearn.utils import class_weight\n",
    "from sklearn.metrics import f1_score, classification_report, log_loss\n",
    "\n",
    "from keras.preprocessing.text import Tokenizer\n",
    "from keras.preprocessing.sequence import pad_sequences\n",
    "from keras.utils import to_categorical\n",
    "\n",
    "from keras.models import Sequential\n",
    "from keras.layers import Embedding, LSTM, Dense, SpatialDropout1D, Bidirectional, Flatten\n",
    "from keras.layers import Dropout, Conv1D, GlobalMaxPool1D, GRU, GlobalAvgPool1D\n",
    "from keras.optimizers import Adam\n",
    "from keras.callbacks import ModelCheckpoint, EarlyStopping\n",
    "\n",
    "#print(os.listdir('../LSTM'))"
   ]
  },
  {
   "cell_type": "code",
   "execution_count": 84,
   "metadata": {},
   "outputs": [
    {
     "data": {
      "text/plain": [
       "Index(['A1', 'A2', 'A3', 'hour', 'weekday', 'truth', 'month', 'age', 'sex',\n",
       "       'org', 'RMV', 'REM', 'RGLAD', 'RLFC', 'text'],\n",
       "      dtype='object')"
      ]
     },
     "execution_count": 84,
     "metadata": {},
     "output_type": "execute_result"
    }
   ],
   "source": [
    "data = pd.read_csv('SB-multi-LSTM.csv')\n",
    "data= data[data['hour']!='dummy']\n",
    "data['A1']=data['A1'].astype(\"category\")\n",
    "data['A2']=data['A2'].astype(\"category\")\n",
    "data['A3']=data['A3'].astype(\"category\")\n",
    "data['sex']=data['sex'].astype(\"category\")\n",
    "data['age']=data['age'].astype(\"category\")\n",
    "data['org']=data['org'].astype(\"category\")\n",
    "data['weekday']=data['weekday'].astype(\"category\")\n",
    "data['RMV']=data['RMV'].astype(\"category\")\n",
    "data['hour']=data['hour'].astype(\"int\")\n",
    "data['month']=data['month'].astype(\"int\")\n",
    "data['truth']=data['truth'].astype(\"category\")\n",
    "data.head()\n",
    "\n",
    "\n",
    "\n",
    "# #data['truth']=np.where(data['truth'] ==1, 'YY', data['truth'])\n",
    "# data['truth']=np.where(data['truth'] ==2, '0', data['truth'])\n",
    "# data['truth']=np.where(data['truth'] =='3', '0', data['truth'])\n",
    "# data['truth']=np.where(data['truth'] =='4', '0', data['truth'])\n",
    "# data['truth']=np.where(data['truth'] =='5', '0', data['truth'])\n",
    "\n",
    "# #data['A1']=np.where(data['A1'] ==1, 'YY', data['A1'])\n",
    "# data['A1']=np.where(data['A1'] ==2, '0', data['A1'])\n",
    "# data['A1']=np.where(data['A1'] =='3', '0', data['A1'])\n",
    "# data['A1']=np.where(data['A1'] =='4', '0', data['A1'])\n",
    "# data['A1']=np.where(data['A1'] =='5', '0', data['A1'])\n",
    "# #data['A2']=np.where(data['A2'] ==1, 'YY', data['A2'])\n",
    "# data['A2']=np.where(data['A2'] ==2, '0', data['A2'])\n",
    "# data['A2']=np.where(data['A2'] =='3', '0', data['A2'])\n",
    "# data['A2']=np.where(data['A2'] =='4', '0', data['A2'])\n",
    "# data['A2']=np.where(data['A2'] =='5', '0', data['A2'])\n",
    "# #data['A3']=np.where(data['A3'] ==1, 'YY', data['A3'])\n",
    "# data['A3']=np.where(data['A3'] ==2, '0', data['A3'])\n",
    "# data['A3']=np.where(data['A3'] =='3', '0', data['A3'])\n",
    "# data['A3']=np.where(data['A3'] =='4', '0', data['A3'])\n",
    "# data['A3']=np.where(data['A3'] =='5', '0', data['A3'])\n",
    "\n",
    "data.columns"
   ]
  },
  {
   "cell_type": "code",
   "execution_count": 85,
   "metadata": {},
   "outputs": [],
   "source": [
    "data= data[data['truth']!=5]\n",
    "data= data[data['A1']!=5]\n",
    "data= data[data['A2']!=5]\n",
    "data= data[data['A3']!=5]\n",
    "data= data[data['RMV']!=5]\n",
    "data= data[data['REM']!=5]\n",
    "data= data[data['RGLAD']!=5]\n",
    "data= data[data['RLFC']!=5]"
   ]
  },
  {
   "cell_type": "code",
   "execution_count": 86,
   "metadata": {},
   "outputs": [
    {
     "data": {
      "text/html": [
       "<div>\n",
       "<style scoped>\n",
       "    .dataframe tbody tr th:only-of-type {\n",
       "        vertical-align: middle;\n",
       "    }\n",
       "\n",
       "    .dataframe tbody tr th {\n",
       "        vertical-align: top;\n",
       "    }\n",
       "\n",
       "    .dataframe thead th {\n",
       "        text-align: right;\n",
       "    }\n",
       "</style>\n",
       "<table border=\"1\" class=\"dataframe\">\n",
       "  <thead>\n",
       "    <tr style=\"text-align: right;\">\n",
       "      <th></th>\n",
       "      <th>hour</th>\n",
       "      <th>truth</th>\n",
       "      <th>text</th>\n",
       "      <th>A1_1</th>\n",
       "      <th>A1_2</th>\n",
       "      <th>A1_3</th>\n",
       "      <th>A1_4</th>\n",
       "      <th>A1_5</th>\n",
       "      <th>A2_1</th>\n",
       "      <th>A2_2</th>\n",
       "      <th>...</th>\n",
       "      <th>REM_3</th>\n",
       "      <th>REM_4</th>\n",
       "      <th>RGLAD_1</th>\n",
       "      <th>RGLAD_2</th>\n",
       "      <th>RGLAD_3</th>\n",
       "      <th>RGLAD_4</th>\n",
       "      <th>RLFC_1</th>\n",
       "      <th>RLFC_2</th>\n",
       "      <th>RLFC_3</th>\n",
       "      <th>RLFC_4</th>\n",
       "    </tr>\n",
       "  </thead>\n",
       "  <tbody>\n",
       "    <tr>\n",
       "      <th>0</th>\n",
       "      <td>9</td>\n",
       "      <td>1</td>\n",
       "      <td>@courtneymrod @travisyost Shoulda checked twit...</td>\n",
       "      <td>1</td>\n",
       "      <td>0</td>\n",
       "      <td>0</td>\n",
       "      <td>0</td>\n",
       "      <td>0</td>\n",
       "      <td>1</td>\n",
       "      <td>0</td>\n",
       "      <td>...</td>\n",
       "      <td>0</td>\n",
       "      <td>0</td>\n",
       "      <td>1</td>\n",
       "      <td>0</td>\n",
       "      <td>0</td>\n",
       "      <td>0</td>\n",
       "      <td>1</td>\n",
       "      <td>0</td>\n",
       "      <td>0</td>\n",
       "      <td>0</td>\n",
       "    </tr>\n",
       "    <tr>\n",
       "      <th>1</th>\n",
       "      <td>16</td>\n",
       "      <td>2</td>\n",
       "      <td>I ate too much. Thank goodness the game isn't ...</td>\n",
       "      <td>1</td>\n",
       "      <td>0</td>\n",
       "      <td>0</td>\n",
       "      <td>0</td>\n",
       "      <td>0</td>\n",
       "      <td>0</td>\n",
       "      <td>1</td>\n",
       "      <td>...</td>\n",
       "      <td>0</td>\n",
       "      <td>0</td>\n",
       "      <td>0</td>\n",
       "      <td>1</td>\n",
       "      <td>0</td>\n",
       "      <td>0</td>\n",
       "      <td>0</td>\n",
       "      <td>1</td>\n",
       "      <td>0</td>\n",
       "      <td>0</td>\n",
       "    </tr>\n",
       "    <tr>\n",
       "      <th>2</th>\n",
       "      <td>16</td>\n",
       "      <td>1</td>\n",
       "      <td>I ate too much. Thank goodness the game isn't ...</td>\n",
       "      <td>1</td>\n",
       "      <td>0</td>\n",
       "      <td>0</td>\n",
       "      <td>0</td>\n",
       "      <td>0</td>\n",
       "      <td>1</td>\n",
       "      <td>0</td>\n",
       "      <td>...</td>\n",
       "      <td>0</td>\n",
       "      <td>0</td>\n",
       "      <td>1</td>\n",
       "      <td>0</td>\n",
       "      <td>0</td>\n",
       "      <td>0</td>\n",
       "      <td>0</td>\n",
       "      <td>1</td>\n",
       "      <td>0</td>\n",
       "      <td>0</td>\n",
       "    </tr>\n",
       "    <tr>\n",
       "      <th>3</th>\n",
       "      <td>15</td>\n",
       "      <td>4</td>\n",
       "      <td>Over 100,000 views on Facebook in its first 24...</td>\n",
       "      <td>0</td>\n",
       "      <td>0</td>\n",
       "      <td>1</td>\n",
       "      <td>0</td>\n",
       "      <td>0</td>\n",
       "      <td>0</td>\n",
       "      <td>0</td>\n",
       "      <td>...</td>\n",
       "      <td>0</td>\n",
       "      <td>1</td>\n",
       "      <td>0</td>\n",
       "      <td>0</td>\n",
       "      <td>0</td>\n",
       "      <td>1</td>\n",
       "      <td>0</td>\n",
       "      <td>0</td>\n",
       "      <td>0</td>\n",
       "      <td>1</td>\n",
       "    </tr>\n",
       "    <tr>\n",
       "      <th>4</th>\n",
       "      <td>18</td>\n",
       "      <td>4</td>\n",
       "      <td>Congratulations! Boys played outstanding all w...</td>\n",
       "      <td>0</td>\n",
       "      <td>0</td>\n",
       "      <td>1</td>\n",
       "      <td>0</td>\n",
       "      <td>0</td>\n",
       "      <td>1</td>\n",
       "      <td>0</td>\n",
       "      <td>...</td>\n",
       "      <td>1</td>\n",
       "      <td>0</td>\n",
       "      <td>1</td>\n",
       "      <td>0</td>\n",
       "      <td>0</td>\n",
       "      <td>0</td>\n",
       "      <td>0</td>\n",
       "      <td>0</td>\n",
       "      <td>1</td>\n",
       "      <td>0</td>\n",
       "    </tr>\n",
       "  </tbody>\n",
       "</table>\n",
       "<p>5 rows × 62 columns</p>\n",
       "</div>"
      ],
      "text/plain": [
       "   hour truth                                               text  A1_1  A1_2  \\\n",
       "0     9     1  @courtneymrod @travisyost Shoulda checked twit...     1     0   \n",
       "1    16     2  I ate too much. Thank goodness the game isn't ...     1     0   \n",
       "2    16     1  I ate too much. Thank goodness the game isn't ...     1     0   \n",
       "3    15     4  Over 100,000 views on Facebook in its first 24...     0     0   \n",
       "4    18     4  Congratulations! Boys played outstanding all w...     0     0   \n",
       "\n",
       "   A1_3  A1_4  A1_5  A2_1  A2_2  ...  REM_3  REM_4  RGLAD_1  RGLAD_2  RGLAD_3  \\\n",
       "0     0     0     0     1     0  ...      0      0        1        0        0   \n",
       "1     0     0     0     0     1  ...      0      0        0        1        0   \n",
       "2     0     0     0     1     0  ...      0      0        1        0        0   \n",
       "3     1     0     0     0     0  ...      0      1        0        0        0   \n",
       "4     1     0     0     1     0  ...      1      0        1        0        0   \n",
       "\n",
       "   RGLAD_4  RLFC_1  RLFC_2  RLFC_3  RLFC_4  \n",
       "0        0       1       0       0       0  \n",
       "1        0       0       1       0       0  \n",
       "2        0       0       1       0       0  \n",
       "3        1       0       0       0       1  \n",
       "4        0       0       0       1       0  \n",
       "\n",
       "[5 rows x 62 columns]"
      ]
     },
     "execution_count": 86,
     "metadata": {},
     "output_type": "execute_result"
    }
   ],
   "source": [
    "\n",
    "data = pd.get_dummies(data, prefix=['A1', 'A2', 'A3', 'weekday', 'month', 'age', 'sex',\n",
    "       'org', 'RMV', 'REM', 'RGLAD', 'RLFC'], columns=['A1', 'A2', 'A3', 'weekday', 'month', 'age', 'sex',\n",
    "       'org', 'RMV', 'REM', 'RGLAD', 'RLFC'], drop_first=False)\n",
    "data.head()\n"
   ]
  },
  {
   "cell_type": "code",
   "execution_count": 87,
   "metadata": {},
   "outputs": [
    {
     "data": {
      "text/plain": [
       "Index(['hour', 'truth', 'text', 'A1_1', 'A1_2', 'A1_3', 'A1_4', 'A1_5', 'A2_1',\n",
       "       'A2_2', 'A2_3', 'A2_4', 'A2_5', 'A3_1', 'A3_2', 'A3_3', 'A3_4', 'A3_5',\n",
       "       'weekday_Fri', 'weekday_Mon', 'weekday_Sat', 'weekday_Sun',\n",
       "       'weekday_Thu', 'weekday_Tue', 'weekday_Wed', 'month_1', 'month_2',\n",
       "       'month_3', 'month_4', 'month_5', 'month_6', 'month_7', 'month_8',\n",
       "       'month_9', 'month_10', 'month_11', 'month_12', 'age_19-29', 'age_30-39',\n",
       "       'age_<=18', 'age_>=40', 'sex_female', 'sex_male', 'org_is-org',\n",
       "       'org_non-org', 'RMV_1', 'RMV_2', 'RMV_3', 'RMV_4', 'RMV_5', 'REM_1',\n",
       "       'REM_2', 'REM_3', 'REM_4', 'RGLAD_1', 'RGLAD_2', 'RGLAD_3', 'RGLAD_4',\n",
       "       'RLFC_1', 'RLFC_2', 'RLFC_3', 'RLFC_4'],\n",
       "      dtype='object')"
      ]
     },
     "execution_count": 87,
     "metadata": {},
     "output_type": "execute_result"
    }
   ],
   "source": [
    "data.columns"
   ]
  },
  {
   "cell_type": "code",
   "execution_count": null,
   "metadata": {},
   "outputs": [],
   "source": []
  },
  {
   "cell_type": "code",
   "execution_count": 88,
   "metadata": {},
   "outputs": [],
   "source": [
    "X = data.drop('truth', axis=1)\n",
    "\n",
    "y = data['truth']"
   ]
  },
  {
   "cell_type": "code",
   "execution_count": 89,
   "metadata": {},
   "outputs": [],
   "source": [
    "from sklearn import preprocessing\n",
    "from keras.utils import np_utils\n",
    "from keras.utils import to_categorical\n",
    "\n",
    "# label_encoder object knows how to understand word labels.\n",
    "# label_encoder = preprocessing.LabelEncoder()\n",
    "\n",
    "# # Encode labels in column 'species'.\n",
    "# y = label_encoder.fit_transform(y)\n",
    "# encode class values as integers\n",
    "# encoder = LabelEncoder()\n",
    "# encoder.fit(y)\n",
    "# encoded_Y = encoder.transform(y)\n",
    "# # convert integers to dummy variables (i.e. one hot encoded)\n",
    "# dummy_y = np_utils.to_categorical(encoded_Y)\n",
    "\n",
    "# label_encoder object knows how to understand word labels.\n",
    "label_encoder = preprocessing.LabelEncoder()\n",
    "\n",
    "# Encode labels in column 'species'.\n",
    "y = label_encoder.fit_transform(y)\n",
    "X_train, X_test, y_train, y_test = train_test_split(X, y, test_size=0.30, random_state=42)\n",
    "\n",
    "from keras.utils import to_categorical\n",
    "y_train = to_categorical(y_train)\n",
    "y_test = to_categorical(y_test)\n",
    "\n",
    "\n",
    "# make the model and load the training dataset.\n",
    "\n",
    "#y_train = to_categorical(y_train)"
   ]
  },
  {
   "cell_type": "code",
   "execution_count": 90,
   "metadata": {},
   "outputs": [
    {
     "data": {
      "text/plain": [
       "array([[1., 0., 0., 0.],\n",
       "       [0., 0., 0., 1.],\n",
       "       [1., 0., 0., 0.],\n",
       "       ...,\n",
       "       [1., 0., 0., 0.],\n",
       "       [0., 0., 0., 1.],\n",
       "       [0., 0., 0., 1.]], dtype=float32)"
      ]
     },
     "execution_count": 90,
     "metadata": {},
     "output_type": "execute_result"
    }
   ],
   "source": [
    "y_train"
   ]
  },
  {
   "cell_type": "code",
   "execution_count": 91,
   "metadata": {},
   "outputs": [],
   "source": [
    "dic = {\"`\":\"'\", \"’\":\"'\", \"‘\":\"'\", \"´\":\"'\",\"ain't\": \"is not\", \"aren't\": \"are not\",\"can't\": \"cannot\", \"'cause\": \"because\", \"could've\": \"could have\",\n",
    "                       \"couldn't\": \"could not\", \"didn't\": \"did not\",  \"doesn't\": \"does not\", \"don't\": \"do not\", \"hadn't\": \"had not\",\n",
    "                       \"hasn't\": \"has not\", \"haven't\": \"have not\", \"he'd\": \"he would\",\"he'll\": \"he will\", \"he's\": \"he is\", \"how'd\": \"how did\",\n",
    "                       \"how'd'y\": \"how do you\", \"how'll\": \"how will\", \"how's\": \"how is\",  \"I'd\": \"I would\", \"I'd've\": \"I would have\",\n",
    "                       \"I'll\": \"I will\", \"I'll've\": \"I will have\",\"I'm\": \"I am\", \"I've\": \"I have\", \"i'd\": \"i would\", \"i'd've\": \"i would have\",\n",
    "                       \"i'll\": \"i will\",  \"i'll've\": \"i will have\",\"i'm\": \"i am\", \"i've\": \"i have\", \"isn't\": \"is not\", \"it'd\": \"it would\",\n",
    "                       \"it'd've\": \"it would have\", \"it'll\": \"it will\", \"it'll've\": \"it will have\",\"it's\": \"it is\", \"let's\": \"let us\",\n",
    "                       \"ma'am\": \"madam\", \"mayn't\": \"may not\", \"might've\": \"might have\",\"mightn't\": \"might not\",\"mightn't've\": \"might not have\",\n",
    "                       \"must've\": \"must have\", \"mustn't\": \"must not\", \"mustn't've\": \"must not have\", \"needn't\": \"need not\",\n",
    "                       \"needn't've\": \"need not have\",\"o'clock\": \"of the clock\", \"oughtn't\": \"ought not\", \"oughtn't've\": \"ought not have\",\n",
    "                       \"shan't\": \"shall not\", \"sha'n't\": \"shall not\", \"shan't've\": \"shall not have\", \"she'd\": \"she would\",\n",
    "                       \"she'd've\": \"she would have\", \"she'll\": \"she will\", \"she'll've\": \"she will have\", \"she's\": \"she is\",\n",
    "                       \"should've\": \"should have\", \"shouldn't\": \"should not\", \"shouldn't've\": \"should not have\", \"so've\": \"so have\",\n",
    "                       \"so's\": \"so as\", \"this's\": \"this is\",\"that'd\": \"that would\", \"that'd've\": \"that would have\", \"that's\": \"that is\",\n",
    "                       \"there'd\": \"there would\", \"there'd've\": \"there would have\", \"there's\": \"there is\", \"here's\": \"here is\",\"they'd\": \"they would\",\n",
    "                       \"they'd've\": \"they would have\", \"they'll\": \"they will\", \"they'll've\": \"they will have\", \"they're\": \"they are\",\n",
    "                       \"they've\": \"they have\", \"to've\": \"to have\", \"wasn't\": \"was not\", \"we'd\": \"we would\", \"we'd've\": \"we would have\",\n",
    "                       \"we'll\": \"we will\", \"we'll've\": \"we will have\", \"we're\": \"we are\", \"we've\": \"we have\", \"weren't\": \"were not\",\n",
    "                       \"what'll\": \"what will\", \"what'll've\": \"what will have\", \"what're\": \"what are\",  \"what's\": \"what is\", \"what've\": \"what have\",\n",
    "                       \"when's\": \"when is\", \"when've\": \"when have\", \"where'd\": \"where did\", \"where's\": \"where is\", \"where've\": \"where have\",\n",
    "                       \"who'll\": \"who will\", \"who'll've\": \"who will have\", \"who's\": \"who is\", \"who've\": \"who have\", \"why's\": \"why is\",\n",
    "                       \"why've\": \"why have\", \"will've\": \"will have\", \"won't\": \"will not\", \"won't've\": \"will not have\", \"would've\": \"would have\",\n",
    "                       \"wouldn't\": \"would not\", \"wouldn't've\": \"would not have\", \"y'all\": \"you all\", \"y'all'd\": \"you all would\",\n",
    "                       \"y'all'd've\": \"you all would have\",\"y'all're\": \"you all are\",\"y'all've\": \"you all have\",\"you'd\": \"you would\",\n",
    "                       \"you'd've\": \"you would have\", \"you'll\": \"you will\", \"you'll've\": \"you will have\", \"you're\": \"you are\", \"you've\": \"you have\",\n",
    "                       \"It's\": 'It is', \"Can't\": 'Can not', \"I've\": 'I have', \"\\n\":\" \", \"—\":\"\", \".\":\"\", \"…\":\"\", \"!\":\"\", \":\":\" \",\n",
    "                       \"-\":\" \",\"•\":\"\"}\n",
    "\n",
    "#\"😍\":\"lovely\" "
   ]
  },
  {
   "cell_type": "code",
   "execution_count": 92,
   "metadata": {},
   "outputs": [],
   "source": [
    "def preprocess_text(sen):\n",
    "\n",
    "    # Remove punctuations and numbers\n",
    "    sentence = re.sub('[^a-zA-Z]', ' ', sen)\n",
    "\n",
    "    # Single character removal\n",
    "    sentence = re.sub(r\"\\s+[a-zA-Z]\\s+\", ' ', sentence)\n",
    "\n",
    "    # Removing multiple spaces\n",
    "    sentence = re.sub(r'\\s+', ' ', sentence)\n",
    "    for i, j in dic.items():\n",
    "        sentence = sentence.lower().replace(i, j)\n",
    "    sentence = re.sub(r\"http[s]?://t.co/[A-Za-z0-9]*\",\" \",sentence) #URLs\n",
    "\n",
    "    return sentence"
   ]
  },
  {
   "cell_type": "code",
   "execution_count": 93,
   "metadata": {},
   "outputs": [],
   "source": [
    "X1_train = []\n",
    "sentences = list(X_train[\"text\"])\n",
    "for sen in sentences:\n",
    "    X1_train.append(preprocess_text(sen))"
   ]
  },
  {
   "cell_type": "code",
   "execution_count": null,
   "metadata": {},
   "outputs": [],
   "source": []
  },
  {
   "cell_type": "code",
   "execution_count": 94,
   "metadata": {},
   "outputs": [],
   "source": [
    "X1_test = []\n",
    "sentences = list(X_test[\"text\"])\n",
    "for sen in sentences:\n",
    "    X1_test.append(preprocess_text(sen))"
   ]
  },
  {
   "cell_type": "code",
   "execution_count": null,
   "metadata": {},
   "outputs": [],
   "source": []
  },
  {
   "cell_type": "code",
   "execution_count": 95,
   "metadata": {},
   "outputs": [],
   "source": [
    "tokenizer = Tokenizer()\n",
    "tokenizer.fit_on_texts(X1_train)\n",
    "\n",
    "X1_train = tokenizer.texts_to_sequences(X1_train)\n",
    "X1_test = tokenizer.texts_to_sequences(X1_test)\n",
    "\n",
    "vocab_size = len(tokenizer.word_index) + 1\n",
    "\n",
    "maxlen = 27\n",
    "\n",
    "X1_train = pad_sequences(X1_train, padding='post', maxlen=maxlen)\n",
    "X1_test = pad_sequences(X1_test, padding='post', maxlen=maxlen)"
   ]
  },
  {
   "cell_type": "code",
   "execution_count": 96,
   "metadata": {},
   "outputs": [],
   "source": [
    "from numpy import array\n",
    "from numpy import asarray\n",
    "from numpy import zeros\n",
    "\n",
    "embeddings_dictionary = dict()\n",
    "\n",
    "# glove_file = open('glove.twitter.27B.200d.txt', encoding=\"utf8\")\n",
    "\n",
    "# for line in glove_file:\n",
    "#     records = line.split()\n",
    "#     word = records[0]\n",
    "#     vector_dimensions = asarray(records[1:], dtype='float32')\n",
    "#     embeddings_dictionary[word] = vector_dimensions\n",
    "\n",
    "# glove_file.close()\n",
    "\n",
    "embedding_matrix = zeros((vocab_size, 200))\n",
    "for word, index in tokenizer.word_index.items():\n",
    "    embedding_vector = embeddings_dictionary.get(word)\n",
    "    if embedding_vector is not None:\n",
    "        embedding_matrix[index] = embedding_vector"
   ]
  },
  {
   "cell_type": "code",
   "execution_count": 97,
   "metadata": {},
   "outputs": [
    {
     "data": {
      "text/plain": [
       "Index(['hour', 'text', 'A1_1', 'A1_2', 'A1_3', 'A1_4', 'A1_5', 'A2_1', 'A2_2',\n",
       "       'A2_3', 'A2_4', 'A2_5', 'A3_1', 'A3_2', 'A3_3', 'A3_4', 'A3_5',\n",
       "       'weekday_Fri', 'weekday_Mon', 'weekday_Sat', 'weekday_Sun',\n",
       "       'weekday_Thu', 'weekday_Tue', 'weekday_Wed', 'month_1', 'month_2',\n",
       "       'month_3', 'month_4', 'month_5', 'month_6', 'month_7', 'month_8',\n",
       "       'month_9', 'month_10', 'month_11', 'month_12', 'age_19-29', 'age_30-39',\n",
       "       'age_<=18', 'age_>=40', 'sex_female', 'sex_male', 'org_is-org',\n",
       "       'org_non-org', 'RMV_1', 'RMV_2', 'RMV_3', 'RMV_4', 'RMV_5', 'REM_1',\n",
       "       'REM_2', 'REM_3', 'REM_4', 'RGLAD_1', 'RGLAD_2', 'RGLAD_3', 'RGLAD_4',\n",
       "       'RLFC_1', 'RLFC_2', 'RLFC_3', 'RLFC_4'],\n",
       "      dtype='object')"
      ]
     },
     "execution_count": 97,
     "metadata": {},
     "output_type": "execute_result"
    }
   ],
   "source": [
    "X.columns"
   ]
  },
  {
   "cell_type": "code",
   "execution_count": 98,
   "metadata": {},
   "outputs": [],
   "source": [
    "X2_train = X_train[['A1_1', 'A1_2', 'A1_3', 'A1_4', 'A1_5', 'A2_1', 'A2_2',\n",
    "       'A2_3', 'A2_4', 'A2_5', 'A3_1', 'A3_2', 'A3_3', 'A3_4', 'A3_5',\n",
    "       'RMV_1', 'RMV_2', 'RMV_3', 'RMV_4', 'RMV_5', 'REM_1',\n",
    "       'REM_2', 'REM_3', 'REM_4', 'RGLAD_1', 'RGLAD_2', 'RGLAD_3', 'RGLAD_4',\n",
    "       'RLFC_1', 'RLFC_2', 'RLFC_3', 'RLFC_4']].values\n",
    "X2_test = X_test[['A1_1', 'A1_2', 'A1_3', 'A1_4', 'A1_5', 'A2_1', 'A2_2',\n",
    "       'A2_3', 'A2_4', 'A2_5', 'A3_1', 'A3_2', 'A3_3', 'A3_4', 'A3_5',\n",
    "       'RMV_1', 'RMV_2', 'RMV_3', 'RMV_4', 'RMV_5', 'REM_1',\n",
    "       'REM_2', 'REM_3', 'REM_4', 'RGLAD_1', 'RGLAD_2', 'RGLAD_3', 'RGLAD_4',\n",
    "       'RLFC_1', 'RLFC_2', 'RLFC_3', 'RLFC_4']].values\n",
    "\n",
    "ncols=X2_train.shape[1]"
   ]
  },
  {
   "cell_type": "code",
   "execution_count": 99,
   "metadata": {},
   "outputs": [
    {
     "data": {
      "text/plain": [
       "32"
      ]
     },
     "execution_count": 99,
     "metadata": {},
     "output_type": "execute_result"
    }
   ],
   "source": [
    "ncols"
   ]
  },
  {
   "cell_type": "code",
   "execution_count": 100,
   "metadata": {},
   "outputs": [],
   "source": [
    "from keras.layers import Input\n",
    "from keras.layers import Dropout, Conv1D, GlobalMaxPool1D, GRU, GlobalAvgPool1D\n",
    "input_1 = Input(shape=(maxlen,))\n",
    "\n",
    "input_2 = Input(shape=(ncols,))"
   ]
  },
  {
   "cell_type": "code",
   "execution_count": 101,
   "metadata": {},
   "outputs": [],
   "source": [
    "embedding_layer = Embedding(vocab_size, 200, weights=[embedding_matrix], trainable=False)(input_1)\n",
    "#LSTM_Layer_1 = Bidirectional(LSTM(128, dropout=0.25, recurrent_dropout=0.25))(embedding_layer)\n",
    "LSTM_Layer_1 = LSTM(128, dropout=0.25, recurrent_dropout=0.25)(embedding_layer)\n",
    "LSTM_Layer_2 = Dense(64, activation='relu')(LSTM_Layer_1)"
   ]
  },
  {
   "cell_type": "code",
   "execution_count": 102,
   "metadata": {},
   "outputs": [],
   "source": [
    "dense_layer_1 = Dense(10, activation='relu')(input_2)\n",
    "dense_layer_2 = Dense(64, activation='relu')(dense_layer_1)"
   ]
  },
  {
   "cell_type": "code",
   "execution_count": 103,
   "metadata": {},
   "outputs": [],
   "source": [
    "from keras.layers import concatenate\n",
    "from keras.models import Model\n",
    "from keras.layers import Dropout, Conv1D, GlobalMaxPool1D, GRU, GlobalAvgPool1D\n",
    "\n",
    "concat_layer = concatenate([LSTM_Layer_2, dense_layer_2])\n",
    "dense_layer_3 = Dense(10, activation='relu')(dense_layer_2)\n",
    "output = Dense(4, activation='softmax')(dense_layer_3)\n",
    "model = Model(inputs=input_2, outputs=output)"
   ]
  },
  {
   "cell_type": "code",
   "execution_count": 104,
   "metadata": {},
   "outputs": [
    {
     "name": "stdout",
     "output_type": "stream",
     "text": [
      "Model: \"functional_7\"\n",
      "_________________________________________________________________\n",
      "Layer (type)                 Output Shape              Param #   \n",
      "=================================================================\n",
      "input_8 (InputLayer)         [(None, 32)]              0         \n",
      "_________________________________________________________________\n",
      "dense_16 (Dense)             (None, 10)                330       \n",
      "_________________________________________________________________\n",
      "dense_17 (Dense)             (None, 64)                704       \n",
      "_________________________________________________________________\n",
      "dense_18 (Dense)             (None, 10)                650       \n",
      "_________________________________________________________________\n",
      "dense_19 (Dense)             (None, 4)                 44        \n",
      "=================================================================\n",
      "Total params: 1,728\n",
      "Trainable params: 1,728\n",
      "Non-trainable params: 0\n",
      "_________________________________________________________________\n",
      "None\n"
     ]
    }
   ],
   "source": [
    "from keras import backend as K\n",
    "import tensorflow as tf\n",
    "from sklearn.metrics import roc_auc_score\n",
    "\n",
    "\n",
    "def recall_m(y_true, y_pred):\n",
    "    true_positives = K.sum(K.round(K.clip(y_true * y_pred, 0, 1)))\n",
    "    possible_positives = K.sum(K.round(K.clip(y_true, 0, 1)))\n",
    "    recall = true_positives / (possible_positives + K.epsilon())\n",
    "    return recall\n",
    "\n",
    "def precision_m(y_true, y_pred):\n",
    "    true_positives = K.sum(K.round(K.clip(y_true * y_pred, 0, 1)))\n",
    "    predicted_positives = K.sum(K.round(K.clip(y_pred, 0, 1)))\n",
    "    precision = true_positives / (predicted_positives + K.epsilon())\n",
    "    return precision\n",
    "\n",
    "def f1_m(y_true, y_pred):\n",
    "    precision = precision_m(y_true, y_pred)\n",
    "    recall = recall_m(y_true, y_pred)\n",
    "    return 2*((precision*recall)/(precision+recall+K.epsilon()))\n",
    "\n",
    "def auroc(y_true, y_pred):\n",
    "    return tf.py_function(roc_auc_score, (y_true, y_pred), tf.double)\n",
    "\n",
    "\n",
    "\n",
    "\n",
    "model.compile(loss='categorical_crossentropy', optimizer='adam', metrics=['acc', f1_m,precision_m, recall_m])\n",
    "print(model.summary())"
   ]
  },
  {
   "cell_type": "code",
   "execution_count": 105,
   "metadata": {},
   "outputs": [
    {
     "data": {
      "image/png": "[encoded data removed]",
      "text/plain": [
       "<IPython.core.display.Image object>"
      ]
     },
     "execution_count": 105,
     "metadata": {},
     "output_type": "execute_result"
    }
   ],
   "source": [
    "from keras.utils import plot_model\n",
    "plot_model(model, to_file='model_plot3.png', show_shapes=True, show_layer_names=True)"
   ]
  },
  {
   "cell_type": "code",
   "execution_count": 106,
   "metadata": {},
   "outputs": [
    {
     "name": "stdout",
     "output_type": "stream",
     "text": [
      "Epoch 1/50\n",
      "6/6 [==============================] - 0s 31ms/step - loss: 1.2831 - acc: 0.4040 - f1_m: 0.0000e+00 - precision_m: 0.0000e+00 - recall_m: 0.0000e+00 - val_loss: 1.2230 - val_acc: 0.4255 - val_f1_m: 0.0000e+00 - val_precision_m: 0.0000e+00 - val_recall_m: 0.0000e+00\n",
      "Epoch 2/50\n",
      "6/6 [==============================] - 0s 4ms/step - loss: 1.2266 - acc: 0.4067 - f1_m: 0.0059 - precision_m: 0.1111 - recall_m: 0.0030 - val_loss: 1.1699 - val_acc: 0.4415 - val_f1_m: 0.0619 - val_precision_m: 0.7857 - val_recall_m: 0.0323\n",
      "Epoch 3/50\n",
      "6/6 [==============================] - 0s 3ms/step - loss: 1.1791 - acc: 0.4387 - f1_m: 0.2137 - precision_m: 0.7344 - recall_m: 0.1332 - val_loss: 1.1213 - val_acc: 0.6064 - val_f1_m: 0.2741 - val_precision_m: 0.7386 - val_recall_m: 0.1688\n",
      "Epoch 4/50\n",
      "6/6 [==============================] - 0s 4ms/step - loss: 1.1323 - acc: 0.6093 - f1_m: 0.3267 - precision_m: 0.7237 - recall_m: 0.2117 - val_loss: 1.0721 - val_acc: 0.6170 - val_f1_m: 0.3452 - val_precision_m: 0.7361 - val_recall_m: 0.2255\n",
      "Epoch 5/50\n",
      "6/6 [==============================] - 0s 4ms/step - loss: 1.0840 - acc: 0.6413 - f1_m: 0.3728 - precision_m: 0.7129 - recall_m: 0.2525 - val_loss: 1.0189 - val_acc: 0.6596 - val_f1_m: 0.4281 - val_precision_m: 0.7278 - val_recall_m: 0.3034\n",
      "Epoch 6/50\n",
      "6/6 [==============================] - 0s 4ms/step - loss: 1.0297 - acc: 0.6627 - f1_m: 0.5184 - precision_m: 0.7343 - recall_m: 0.4084 - val_loss: 0.9699 - val_acc: 0.6649 - val_f1_m: 0.6463 - val_precision_m: 0.7470 - val_recall_m: 0.5695\n",
      "Epoch 7/50\n",
      "6/6 [==============================] - 0s 4ms/step - loss: 0.9781 - acc: 0.6613 - f1_m: 0.6382 - precision_m: 0.7285 - recall_m: 0.5690 - val_loss: 0.9310 - val_acc: 0.6649 - val_f1_m: 0.6602 - val_precision_m: 0.7378 - val_recall_m: 0.5974\n",
      "Epoch 8/50\n",
      "6/6 [==============================] - 0s 3ms/step - loss: 0.9362 - acc: 0.6640 - f1_m: 0.6522 - precision_m: 0.7265 - recall_m: 0.5920 - val_loss: 0.9026 - val_acc: 0.6702 - val_f1_m: 0.6735 - val_precision_m: 0.7458 - val_recall_m: 0.6141\n",
      "Epoch 9/50\n",
      "6/6 [==============================] - 0s 4ms/step - loss: 0.9016 - acc: 0.6693 - f1_m: 0.6556 - precision_m: 0.7279 - recall_m: 0.5965 - val_loss: 0.8846 - val_acc: 0.6702 - val_f1_m: 0.6751 - val_precision_m: 0.7438 - val_recall_m: 0.6180\n",
      "Epoch 10/50\n",
      "6/6 [==============================] - 0s 4ms/step - loss: 0.8757 - acc: 0.6733 - f1_m: 0.6615 - precision_m: 0.7237 - recall_m: 0.6095 - val_loss: 0.8740 - val_acc: 0.6755 - val_f1_m: 0.6839 - val_precision_m: 0.7422 - val_recall_m: 0.6341\n",
      "Epoch 11/50\n",
      "6/6 [==============================] - 0s 4ms/step - loss: 0.8571 - acc: 0.6707 - f1_m: 0.6671 - precision_m: 0.7233 - recall_m: 0.6195 - val_loss: 0.8682 - val_acc: 0.6755 - val_f1_m: 0.6838 - val_precision_m: 0.7473 - val_recall_m: 0.6302\n",
      "Epoch 12/50\n",
      "6/6 [==============================] - 0s 4ms/step - loss: 0.8421 - acc: 0.6693 - f1_m: 0.6747 - precision_m: 0.7458 - recall_m: 0.6163 - val_loss: 0.8637 - val_acc: 0.6702 - val_f1_m: 0.6962 - val_precision_m: 0.7590 - val_recall_m: 0.6430\n",
      "Epoch 13/50\n",
      "6/6 [==============================] - 0s 3ms/step - loss: 0.8291 - acc: 0.6693 - f1_m: 0.6764 - precision_m: 0.7486 - recall_m: 0.6176 - val_loss: 0.8582 - val_acc: 0.6649 - val_f1_m: 0.6861 - val_precision_m: 0.7586 - val_recall_m: 0.6263\n",
      "Epoch 14/50\n",
      "6/6 [==============================] - 0s 4ms/step - loss: 0.8193 - acc: 0.6827 - f1_m: 0.6785 - precision_m: 0.7541 - recall_m: 0.6169 - val_loss: 0.8557 - val_acc: 0.6702 - val_f1_m: 0.6846 - val_precision_m: 0.7605 - val_recall_m: 0.6224\n",
      "Epoch 15/50\n",
      "6/6 [==============================] - 0s 4ms/step - loss: 0.8111 - acc: 0.6893 - f1_m: 0.6780 - precision_m: 0.7578 - recall_m: 0.6141 - val_loss: 0.8537 - val_acc: 0.6702 - val_f1_m: 0.6787 - val_precision_m: 0.7586 - val_recall_m: 0.6141\n",
      "Epoch 16/50\n",
      "6/6 [==============================] - 0s 4ms/step - loss: 0.8021 - acc: 0.6907 - f1_m: 0.6806 - precision_m: 0.7591 - recall_m: 0.6171 - val_loss: 0.8491 - val_acc: 0.6649 - val_f1_m: 0.6846 - val_precision_m: 0.7605 - val_recall_m: 0.6224\n",
      "Epoch 17/50\n",
      "6/6 [==============================] - 0s 4ms/step - loss: 0.7945 - acc: 0.7000 - f1_m: 0.6818 - precision_m: 0.7604 - recall_m: 0.6182 - val_loss: 0.8456 - val_acc: 0.6809 - val_f1_m: 0.6816 - val_precision_m: 0.7591 - val_recall_m: 0.6185\n",
      "Epoch 18/50\n",
      "6/6 [==============================] - 0s 5ms/step - loss: 0.7885 - acc: 0.7187 - f1_m: 0.6813 - precision_m: 0.7596 - recall_m: 0.6180 - val_loss: 0.8436 - val_acc: 0.6809 - val_f1_m: 0.6816 - val_precision_m: 0.7591 - val_recall_m: 0.6185\n",
      "Epoch 19/50\n",
      "6/6 [==============================] - 0s 4ms/step - loss: 0.7835 - acc: 0.7133 - f1_m: 0.6790 - precision_m: 0.7574 - recall_m: 0.6156 - val_loss: 0.8427 - val_acc: 0.6862 - val_f1_m: 0.6803 - val_precision_m: 0.7558 - val_recall_m: 0.6185\n",
      "Epoch 20/50\n",
      "6/6 [==============================] - 0s 4ms/step - loss: 0.7787 - acc: 0.7133 - f1_m: 0.6803 - precision_m: 0.7577 - recall_m: 0.6178 - val_loss: 0.8421 - val_acc: 0.6862 - val_f1_m: 0.6789 - val_precision_m: 0.7525 - val_recall_m: 0.6185\n",
      "Epoch 21/50\n",
      "6/6 [==============================] - 0s 4ms/step - loss: 0.7741 - acc: 0.7133 - f1_m: 0.6852 - precision_m: 0.7564 - recall_m: 0.6264 - val_loss: 0.8392 - val_acc: 0.6862 - val_f1_m: 0.6876 - val_precision_m: 0.7568 - val_recall_m: 0.6302\n",
      "Epoch 22/50\n",
      "6/6 [==============================] - 0s 4ms/step - loss: 0.7706 - acc: 0.7120 - f1_m: 0.7012 - precision_m: 0.7594 - recall_m: 0.6514 - val_loss: 0.8375 - val_acc: 0.6809 - val_f1_m: 0.6797 - val_precision_m: 0.7376 - val_recall_m: 0.6302\n",
      "Epoch 23/50\n",
      "6/6 [==============================] - 0s 3ms/step - loss: 0.7666 - acc: 0.7107 - f1_m: 0.7012 - precision_m: 0.7628 - recall_m: 0.6495 - val_loss: 0.8367 - val_acc: 0.6809 - val_f1_m: 0.6840 - val_precision_m: 0.7373 - val_recall_m: 0.6380\n",
      "Epoch 24/50\n",
      "6/6 [==============================] - 0s 4ms/step - loss: 0.7626 - acc: 0.7120 - f1_m: 0.7100 - precision_m: 0.7582 - recall_m: 0.6683 - val_loss: 0.8338 - val_acc: 0.6809 - val_f1_m: 0.6855 - val_precision_m: 0.7356 - val_recall_m: 0.6419\n",
      "Epoch 25/50\n",
      "6/6 [==============================] - 0s 4ms/step - loss: 0.7609 - acc: 0.7133 - f1_m: 0.7093 - precision_m: 0.7527 - recall_m: 0.6709 - val_loss: 0.8348 - val_acc: 0.6809 - val_f1_m: 0.6855 - val_precision_m: 0.7356 - val_recall_m: 0.6419\n",
      "Epoch 26/50\n",
      "6/6 [==============================] - 0s 5ms/step - loss: 0.7598 - acc: 0.7120 - f1_m: 0.7091 - precision_m: 0.7502 - recall_m: 0.6729 - val_loss: 0.8340 - val_acc: 0.6755 - val_f1_m: 0.6851 - val_precision_m: 0.7289 - val_recall_m: 0.6464\n",
      "Epoch 27/50\n",
      "6/6 [==============================] - 0s 4ms/step - loss: 0.7562 - acc: 0.7147 - f1_m: 0.7084 - precision_m: 0.7505 - recall_m: 0.6712 - val_loss: 0.8371 - val_acc: 0.6755 - val_f1_m: 0.6788 - val_precision_m: 0.7371 - val_recall_m: 0.6297\n",
      "Epoch 28/50\n",
      "6/6 [==============================] - 0s 4ms/step - loss: 0.7540 - acc: 0.7173 - f1_m: 0.7111 - precision_m: 0.7571 - recall_m: 0.6707 - val_loss: 0.8367 - val_acc: 0.6649 - val_f1_m: 0.6788 - val_precision_m: 0.7371 - val_recall_m: 0.6297\n",
      "Epoch 29/50\n",
      "6/6 [==============================] - 0s 4ms/step - loss: 0.7525 - acc: 0.7160 - f1_m: 0.7080 - precision_m: 0.7491 - recall_m: 0.6712 - val_loss: 0.8328 - val_acc: 0.6702 - val_f1_m: 0.6813 - val_precision_m: 0.7313 - val_recall_m: 0.6380\n",
      "Epoch 30/50\n",
      "6/6 [==============================] - 0s 4ms/step - loss: 0.7495 - acc: 0.7173 - f1_m: 0.7072 - precision_m: 0.7415 - recall_m: 0.6762 - val_loss: 0.8333 - val_acc: 0.6702 - val_f1_m: 0.6816 - val_precision_m: 0.7385 - val_recall_m: 0.6336\n",
      "Epoch 31/50\n",
      "6/6 [==============================] - 0s 4ms/step - loss: 0.7465 - acc: 0.7173 - f1_m: 0.7108 - precision_m: 0.7530 - recall_m: 0.6731 - val_loss: 0.8363 - val_acc: 0.6702 - val_f1_m: 0.6747 - val_precision_m: 0.7327 - val_recall_m: 0.6258\n",
      "Epoch 32/50\n",
      "6/6 [==============================] - 0s 4ms/step - loss: 0.7452 - acc: 0.7173 - f1_m: 0.7134 - precision_m: 0.7560 - recall_m: 0.6755 - val_loss: 0.8363 - val_acc: 0.6596 - val_f1_m: 0.6687 - val_precision_m: 0.7306 - val_recall_m: 0.6174\n",
      "Epoch 33/50\n",
      "6/6 [==============================] - 0s 4ms/step - loss: 0.7446 - acc: 0.7173 - f1_m: 0.7123 - precision_m: 0.7557 - recall_m: 0.6742 - val_loss: 0.8329 - val_acc: 0.6702 - val_f1_m: 0.6788 - val_precision_m: 0.7371 - val_recall_m: 0.6297\n",
      "Epoch 34/50\n",
      "6/6 [==============================] - 0s 3ms/step - loss: 0.7418 - acc: 0.7173 - f1_m: 0.7128 - precision_m: 0.7562 - recall_m: 0.6744 - val_loss: 0.8346 - val_acc: 0.6596 - val_f1_m: 0.6687 - val_precision_m: 0.7306 - val_recall_m: 0.6174\n",
      "Epoch 35/50\n",
      "6/6 [==============================] - 0s 4ms/step - loss: 0.7402 - acc: 0.7160 - f1_m: 0.7122 - precision_m: 0.7558 - recall_m: 0.6733 - val_loss: 0.8332 - val_acc: 0.6702 - val_f1_m: 0.6700 - val_precision_m: 0.7336 - val_recall_m: 0.6174\n",
      "Epoch 36/50\n",
      "6/6 [==============================] - 0s 4ms/step - loss: 0.7389 - acc: 0.7200 - f1_m: 0.7140 - precision_m: 0.7586 - recall_m: 0.6744 - val_loss: 0.8335 - val_acc: 0.6702 - val_f1_m: 0.6788 - val_precision_m: 0.7371 - val_recall_m: 0.6297\n",
      "Epoch 37/50\n",
      "6/6 [==============================] - 0s 4ms/step - loss: 0.7372 - acc: 0.7227 - f1_m: 0.7117 - precision_m: 0.7564 - recall_m: 0.6725 - val_loss: 0.8342 - val_acc: 0.6755 - val_f1_m: 0.6788 - val_precision_m: 0.7371 - val_recall_m: 0.6297\n",
      "Epoch 38/50\n",
      "6/6 [==============================] - 0s 4ms/step - loss: 0.7363 - acc: 0.7227 - f1_m: 0.7126 - precision_m: 0.7589 - recall_m: 0.6720 - val_loss: 0.8364 - val_acc: 0.6702 - val_f1_m: 0.6700 - val_precision_m: 0.7336 - val_recall_m: 0.6174\n",
      "Epoch 39/50\n",
      "6/6 [==============================] - 0s 5ms/step - loss: 0.7344 - acc: 0.7227 - f1_m: 0.7112 - precision_m: 0.7583 - recall_m: 0.6699 - val_loss: 0.8330 - val_acc: 0.6702 - val_f1_m: 0.6801 - val_precision_m: 0.7401 - val_recall_m: 0.6297\n",
      "Epoch 40/50\n",
      "6/6 [==============================] - 0s 4ms/step - loss: 0.7332 - acc: 0.7267 - f1_m: 0.7132 - precision_m: 0.7657 - recall_m: 0.6674 - val_loss: 0.8346 - val_acc: 0.6755 - val_f1_m: 0.6801 - val_precision_m: 0.7401 - val_recall_m: 0.6297\n",
      "Epoch 41/50\n",
      "6/6 [==============================] - 0s 4ms/step - loss: 0.7316 - acc: 0.7253 - f1_m: 0.7132 - precision_m: 0.7655 - recall_m: 0.6677 - val_loss: 0.8352 - val_acc: 0.6702 - val_f1_m: 0.6801 - val_precision_m: 0.7401 - val_recall_m: 0.6297\n",
      "Epoch 42/50\n",
      "6/6 [==============================] - 0s 4ms/step - loss: 0.7312 - acc: 0.7253 - f1_m: 0.7151 - precision_m: 0.7625 - recall_m: 0.6737 - val_loss: 0.8322 - val_acc: 0.6755 - val_f1_m: 0.6814 - val_precision_m: 0.7431 - val_recall_m: 0.6297\n",
      "Epoch 43/50\n",
      "6/6 [==============================] - 0s 3ms/step - loss: 0.7284 - acc: 0.7267 - f1_m: 0.7146 - precision_m: 0.7672 - recall_m: 0.6690 - val_loss: 0.8343 - val_acc: 0.6649 - val_f1_m: 0.6782 - val_precision_m: 0.7351 - val_recall_m: 0.6297\n",
      "Epoch 44/50\n",
      "6/6 [==============================] - 0s 3ms/step - loss: 0.7278 - acc: 0.7307 - f1_m: 0.7163 - precision_m: 0.7689 - recall_m: 0.6705 - val_loss: 0.8334 - val_acc: 0.6596 - val_f1_m: 0.6769 - val_precision_m: 0.7321 - val_recall_m: 0.6297\n",
      "Epoch 45/50\n",
      "6/6 [==============================] - 0s 4ms/step - loss: 0.7275 - acc: 0.7320 - f1_m: 0.7117 - precision_m: 0.7611 - recall_m: 0.6688 - val_loss: 0.8306 - val_acc: 0.6755 - val_f1_m: 0.6842 - val_precision_m: 0.7445 - val_recall_m: 0.6336\n",
      "Epoch 46/50\n",
      "6/6 [==============================] - 0s 4ms/step - loss: 0.7255 - acc: 0.7307 - f1_m: 0.7145 - precision_m: 0.7641 - recall_m: 0.6714 - val_loss: 0.8350 - val_acc: 0.6596 - val_f1_m: 0.6827 - val_precision_m: 0.7343 - val_recall_m: 0.6380\n",
      "Epoch 47/50\n",
      "6/6 [==============================] - 0s 4ms/step - loss: 0.7245 - acc: 0.7307 - f1_m: 0.7165 - precision_m: 0.7680 - recall_m: 0.6716 - val_loss: 0.8365 - val_acc: 0.6596 - val_f1_m: 0.6840 - val_precision_m: 0.7373 - val_recall_m: 0.6380\n",
      "Epoch 48/50\n",
      "6/6 [==============================] - 0s 4ms/step - loss: 0.7223 - acc: 0.7360 - f1_m: 0.7196 - precision_m: 0.7699 - recall_m: 0.6757 - val_loss: 0.8340 - val_acc: 0.6649 - val_f1_m: 0.6769 - val_precision_m: 0.7321 - val_recall_m: 0.6297\n",
      "Epoch 49/50\n",
      "6/6 [==============================] - 0s 4ms/step - loss: 0.7231 - acc: 0.7373 - f1_m: 0.7180 - precision_m: 0.7678 - recall_m: 0.6746 - val_loss: 0.8319 - val_acc: 0.6702 - val_f1_m: 0.6842 - val_precision_m: 0.7445 - val_recall_m: 0.6336\n",
      "Epoch 50/50\n",
      "6/6 [==============================] - 0s 4ms/step - loss: 0.7219 - acc: 0.7320 - f1_m: 0.7213 - precision_m: 0.7657 - recall_m: 0.6820 - val_loss: 0.8315 - val_acc: 0.6596 - val_f1_m: 0.6827 - val_precision_m: 0.7343 - val_recall_m: 0.6380\n"
     ]
    }
   ],
   "source": [
    "history = model.fit(x=X2_train, y=y_train, batch_size=128, epochs=50, verbose=1, validation_split=0.2)"
   ]
  },
  {
   "cell_type": "code",
   "execution_count": 107,
   "metadata": {},
   "outputs": [
    {
     "name": "stdout",
     "output_type": "stream",
     "text": [
      "13/13 [==============================] - 0s 667us/step - loss: 0.7886 - acc: 0.6692 - f1_m: 0.6985 - precision_m: 0.7649 - recall_m: 0.6440\n"
     ]
    }
   ],
   "source": [
    "loss, accuracy, f1_score, precision, recall  = model.evaluate(x=X2_test, y=y_test, verbose=1)\n",
    "\n"
   ]
  },
  {
   "cell_type": "code",
   "execution_count": 108,
   "metadata": {},
   "outputs": [
    {
     "data": {
      "image/png": "[encoded data removed]",
      "text/plain": [
       "<Figure size 432x288 with 1 Axes>"
      ]
     },
     "metadata": {
      "needs_background": "light"
     },
     "output_type": "display_data"
    },
    {
     "data": {
      "image/png": "[encoded data removed]",
      "text/plain": [
       "<Figure size 432x288 with 1 Axes>"
      ]
     },
     "metadata": {
      "needs_background": "light"
     },
     "output_type": "display_data"
    }
   ],
   "source": [
    "import matplotlib.pyplot as plt\n",
    "\n",
    "plt.plot(history.history['acc'])\n",
    "plt.plot(history.history['val_acc'])\n",
    "\n",
    "plt.title('model accuracy')\n",
    "plt.ylabel('accuracy')\n",
    "plt.xlabel('epoch')\n",
    "plt.legend(['train','test'], loc='upper left')\n",
    "plt.show()\n",
    "\n",
    "plt.plot(history.history['loss'])\n",
    "plt.plot(history.history['val_loss'])\n",
    "\n",
    "plt.title('model loss')\n",
    "plt.ylabel('loss')\n",
    "plt.xlabel('epoch')\n",
    "plt.legend(['train','test'], loc='upper left')\n",
    "plt.show()"
   ]
  },
  {
   "cell_type": "code",
   "execution_count": 82,
   "metadata": {},
   "outputs": [
    {
     "name": "stdout",
     "output_type": "stream",
     "text": [
      "Automatically created module for IPython interactive environment\n"
     ]
    },
    {
     "data": {
      "image/png": "[encoded data removed]",
      "text/plain": [
       "<Figure size 432x288 with 1 Axes>"
      ]
     },
     "metadata": {
      "needs_background": "light"
     },
     "output_type": "display_data"
    },
    {
     "data": {
      "image/png": "[encoded data removed]",
      "text/plain": [
       "<Figure size 432x288 with 1 Axes>"
      ]
     },
     "metadata": {
      "needs_background": "light"
     },
     "output_type": "display_data"
    }
   ],
   "source": [
    "print(__doc__)\n",
    "\n",
    "import matplotlib.pyplot as plt\n",
    "import numpy as np\n",
    "from sklearn import svm, datasets\n",
    "from sklearn.metrics import precision_recall_curve\n",
    "from sklearn.metrics import average_precision_score\n",
    "from sklearn.preprocessing import label_binarize\n",
    "from sklearn.multiclass import OneVsRestClassifier\n",
    "from sklearn.model_selection import train_test_split\n",
    "\n",
    "predictions = model.predict(X2_test)\n",
    "y_pred = (predictions > 0.7)\n",
    "y_test = label_binarize(y_test, classes=['YY','YN','NY','NN'])\n",
    "y_pred = label_binarize(y_pred, classes=['YY','YN','NY','NN'])\n",
    "n_classes = 4\n",
    "\n",
    "\n",
    "\n",
    "# Compute Precision-Recall and plot curve\n",
    "precision = dict()\n",
    "recall = dict()\n",
    "average_precision = dict()\n",
    "for i in range(n_classes):\n",
    "    precision[i], recall[i], _ = precision_recall_curve(y_test[:, i],\n",
    "                                                        y_pred[:, i])\n",
    "    average_precision[i] = average_precision_score(y_test[:, i], y_pred[:, i])\n",
    "    \n",
    "\n",
    "# Compute micro-average ROC curve and ROC area\n",
    "precision[\"micro\"], recall[\"micro\"], _ = precision_recall_curve(y_test.ravel(),\n",
    "    y_pred.ravel())\n",
    "average_precision[\"micro\"] = average_precision_score(y_test, y_pred,\n",
    "                                                     average=\"micro\")\n",
    "\n",
    "  \n",
    "# Plot Precision-Recall curve\n",
    "plt.clf()\n",
    "plt.plot(recall[0], precision[0], label='Precision-Recall curve')\n",
    "plt.xlabel('Recall')\n",
    "plt.ylabel('Precision')\n",
    "plt.ylim([0.0, 1.05])\n",
    "plt.xlim([0.0, 1.0])\n",
    "plt.title('Precision-Recall example: AUC={0:0.2f}'.format(average_precision[0]))\n",
    "plt.legend(loc=\"lower left\")\n",
    "plt.show()\n",
    "\n",
    "# Plot Precision-Recall curve for each class\n",
    "plt.clf()\n",
    "plt.plot(recall[\"micro\"], precision[\"micro\"],\n",
    "         label='micro-average Precision-recall curve (area = {0:0.2f})'\n",
    "               ''.format(average_precision[\"micro\"]))\n",
    "for i in range(n_classes):\n",
    "    plt.plot(recall[i], precision[i],\n",
    "             label='Precision-recall curve of class {0} (area = {1:0.2f})'\n",
    "                   ''.format(i, average_precision[i]))\n",
    "\n",
    "plt.xlim([0.0, 1.0])\n",
    "plt.ylim([0.0, 1.05])\n",
    "plt.xlabel('Recall')\n",
    "plt.ylabel('Precision')\n",
    "plt.title('Extension of Precision-Recall curve to multi-class')\n",
    "plt.legend(loc=\"lower right\")\n",
    "plt.show()"
   ]
  },
  {
   "cell_type": "code",
   "execution_count": null,
   "metadata": {},
   "outputs": [],
   "source": [
    "matrix = metrics.confusion_matrix(y_test.argmax(axis=1), y_pred.argmax(axis=1))\n",
    "matrix"
   ]
  },
  {
   "cell_type": "code",
   "execution_count": null,
   "metadata": {},
   "outputs": [],
   "source": [
    "import shap\n",
    "\n",
    "explainer = shap.DeepExplainer(model, X1_train[:100])\n",
    "shap_values = explainer.shap_values(X1_test[:10])"
   ]
  },
  {
   "cell_type": "code",
   "execution_count": null,
   "metadata": {},
   "outputs": [],
   "source": [
    "f=shap.force_plot(explainer.expected_value, shap_values, X, show=False)\n",
    "shap.save_html(\"index.htm\", f)"
   ]
  },
  {
   "cell_type": "code",
   "execution_count": null,
   "metadata": {},
   "outputs": [],
   "source": [
    "auc_score"
   ]
  },
  {
   "cell_type": "code",
   "execution_count": null,
   "metadata": {},
   "outputs": [],
   "source": [
    "from matplotlib import colors as plt_colors\n",
    "import numpy as np\n",
    "import shap\n",
    "import matplotlib.pyplot as pl\n",
    "\n",
    "\n",
    "\n",
    "\n",
    "shap.summary_plot(shap_values, X, show=False)\n",
    "\n",
    "pl.savefig(\"ranks.pdf\", dpi=800,  bbox_inches = 'tight')\n",
    "pl.show()"
   ]
  },
  {
   "cell_type": "markdown",
   "metadata": {},
   "source": [
    "-------------------------------------------\n"
   ]
  },
  {
   "cell_type": "code",
   "execution_count": null,
   "metadata": {},
   "outputs": [],
   "source": [
    "from cleanlab.latent_estimation import estimate_cv_predicted_probabilities\n",
    "import cleanlab\n",
    "\n",
    "\n",
    "s = np.array(y)\n",
    "\n",
    "probabilities = estimate_cv_predicted_probabilities(\n",
    "    X, \n",
    "    s, \n",
    "    clf=model,\n",
    ")\n",
    "psx = cleanlab.latent_estimation.estimate_cv_predicted_probabilities(\n",
    "    X, s, clf=model)"
   ]
  },
  {
   "cell_type": "code",
   "execution_count": null,
   "metadata": {},
   "outputs": [],
   "source": [
    "import pandas as pd\n",
    "import numpy as np\n",
    "df=data"
   ]
  },
  {
   "cell_type": "code",
   "execution_count": null,
   "metadata": {},
   "outputs": [],
   "source": [
    "for tweet, label in df.sample(10)[[\"text\", \"result\"]].values:\n",
    "    print(label, tweet)"
   ]
  },
  {
   "cell_type": "code",
   "execution_count": null,
   "metadata": {},
   "outputs": [],
   "source": [
    "import tensorflow_hub as hub\n",
    "\n",
    "# embed = hub.load(\"https://tfhub.dev/google/universal-sentence-encoder-large/4\")"
   ]
  },
  {
   "cell_type": "code",
   "execution_count": null,
   "metadata": {},
   "outputs": [],
   "source": [
    "X_train_embeddings = embed(df.text.values)"
   ]
  },
  {
   "cell_type": "code",
   "execution_count": null,
   "metadata": {},
   "outputs": [],
   "source": [
    "from sklearn.linear_model import LogisticRegression\n",
    "from sklearn.metrics import accuracy_score, f1_score\n",
    "from sklearn.ensemble import RandomForestClassifier\n",
    "\n",
    "logistic_clf = RandomForestClassifier(n_estimators=100, max_depth= 30, max_features=.75, criterion='entropy', min_samples_split=15, class_weight='balanced')"
   ]
  },
  {
   "cell_type": "code",
   "execution_count": null,
   "metadata": {},
   "outputs": [],
   "source": [
    "logistic_clf.fit(X_train_embeddings['outputs'][:3000,:],\n",
    "                 df.result.values[:3000])"
   ]
  },
  {
   "cell_type": "code",
   "execution_count": null,
   "metadata": {},
   "outputs": [],
   "source": [
    "RandomForestClassifier(n_estimators=100, max_depth= 30, max_features=.75, criterion='entropy', min_samples_split=15, class_weight='balanced')"
   ]
  },
  {
   "cell_type": "code",
   "execution_count": null,
   "metadata": {},
   "outputs": [],
   "source": [
    "\n",
    "y_pred = logistic_clf.predict(X_train_embeddings['outputs'][3000:,:])\n",
    "y_pred_proba = logistic_clf.predict_proba(X_train_embeddings['outputs'][3000:,:])\n",
    "print(\"Accuracy: {:.1%}\".format(accuracy_score(df.result.values[3000:], y_pred)))\n",
    "print(\"F1: {:.1%}\".format(f1_score(df.result.values[3000:], y_pred)))"
   ]
  },
  {
   "cell_type": "code",
   "execution_count": null,
   "metadata": {},
   "outputs": [],
   "source": [
    "from cleanlab.pruning import get_noise_indices\n",
    "\n",
    "ordered_label_errors = get_noise_indices(\n",
    "    s=df.result.values[3000:],\n",
    "    psx=y_pred_proba,\n",
    "    sorted_index_method='normalized_margin', # Orders label errors\n",
    " )"
   ]
  },
  {
   "cell_type": "code",
   "execution_count": null,
   "metadata": {},
   "outputs": [],
   "source": [
    "\n",
    "print(\"We found {} label errors.\".format(len(ordered_label_errors)))"
   ]
  },
  {
   "cell_type": "code",
   "execution_count": null,
   "metadata": {},
   "outputs": [],
   "source": [
    "ordered_label_errors"
   ]
  },
  {
   "cell_type": "code",
   "execution_count": null,
   "metadata": {},
   "outputs": [],
   "source": [
    "df.loc[220]"
   ]
  },
  {
   "cell_type": "code",
   "execution_count": null,
   "metadata": {},
   "outputs": [],
   "source": [
    "error_df = df.loc[df.index[3000:]].loc[df.index[3000+ordered_label_errors]]\n",
    "for tweet, label in error_df[[ \"text\", \"result\"]][:30].values:\n",
    "    print(label, tweet)"
   ]
  },
  {
   "cell_type": "code",
   "execution_count": null,
   "metadata": {},
   "outputs": [],
   "source": []
  }
 ],
 "metadata": {
  "kernelspec": {
   "display_name": "Python 3",
   "language": "python",
   "name": "python3"
  },
  "language_info": {
   "codemirror_mode": {
    "name": "ipython",
    "version": 3
   },
   "file_extension": ".py",
   "mimetype": "text/x-python",
   "name": "python",
   "nbconvert_exporter": "python",
   "pygments_lexer": "ipython3",
   "version": "3.8.3"
  }
 },
 "nbformat": 4,
 "nbformat_minor": 4
}
