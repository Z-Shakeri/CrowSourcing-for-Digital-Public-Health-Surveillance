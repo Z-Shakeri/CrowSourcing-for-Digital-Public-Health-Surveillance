{
 "cells": [
  {
   "cell_type": "code",
   "execution_count": 99,
   "metadata": {},
   "outputs": [],
   "source": [
    "import os\n",
    "import sys\n",
    "import pandas as pd\n",
    "import numpy as np\n",
    "sys.path.append(os.getcwd() + '/ML')"
   ]
  },
  {
   "cell_type": "code",
   "execution_count": 100,
   "metadata": {},
   "outputs": [
    {
     "name": "stderr",
     "output_type": "stream",
     "text": [
      "/Users/zahrashakeri/opt/anaconda3/lib/python3.8/site-packages/IPython/core/interactiveshell.py:3071: DtypeWarning:\n",
      "\n",
      "Columns (398,497,498,503,504,506,509,512,515,517,518,519,520,525,526,528,531,534,537,539,540,541,542,547,548,550,553,556,559,561,562,592,593,598,599,601,604,607,610,612,613,614,615,620,621,623,626,629,632,634,635,636,637,642,643,645,648,651,654,656,657,662,672,681,682,683,684,685,686,687,688,711,762) have mixed types.Specify dtype option on import or set low_memory=False.\n",
      "\n"
     ]
    }
   ],
   "source": [
    "df= pd.read_csv(r\"./timezone-PA-B.csv\", sep=',')\n",
    "df = df.drop_duplicates(subset=['iid'])\n",
    "dfg= pd.read_csv(r\"./PA-AgeGender-Predicted.csv\", sep=',')\n",
    "dfg = dfg.drop_duplicates(subset=['iid'])\n",
    "main= pd.read_csv(r\"./PA2.csv\", sep=',')\n",
    "main = main.drop_duplicates(subset=['iid'])"
   ]
  },
  {
   "cell_type": "code",
   "execution_count": 101,
   "metadata": {},
   "outputs": [
    {
     "data": {
      "text/plain": [
       "(3999, 37)"
      ]
     },
     "execution_count": 101,
     "metadata": {},
     "output_type": "execute_result"
    }
   ],
   "source": [
    "df.shape"
   ]
  },
  {
   "cell_type": "code",
   "execution_count": 102,
   "metadata": {},
   "outputs": [],
   "source": [
    "R1= df[['iid', 'A1', 'A2', 'A3', 'truth', 'text', 'hour']]\n",
    "R2= df[['iid', 'user.id']]"
   ]
  },
  {
   "cell_type": "code",
   "execution_count": 103,
   "metadata": {},
   "outputs": [],
   "source": [
    "M=pd.merge(R2, R1, on='iid', how='inner')"
   ]
  },
  {
   "cell_type": "code",
   "execution_count": 104,
   "metadata": {},
   "outputs": [
    {
     "data": {
      "text/plain": [
       "(3999, 8)"
      ]
     },
     "execution_count": 104,
     "metadata": {},
     "output_type": "execute_result"
    }
   ],
   "source": [
    "M.shape"
   ]
  },
  {
   "cell_type": "code",
   "execution_count": 105,
   "metadata": {},
   "outputs": [],
   "source": [
    "M2=pd.merge(M, dfg, on='user.id', how='inner')"
   ]
  },
  {
   "cell_type": "code",
   "execution_count": 106,
   "metadata": {},
   "outputs": [],
   "source": [
    "M2=M2[['A1', 'A2', 'A3', 'truth', 'age', 'sex', 'org']]"
   ]
  },
  {
   "cell_type": "code",
   "execution_count": 107,
   "metadata": {},
   "outputs": [
    {
     "data": {
      "text/html": [
       "<div>\n",
       "<style scoped>\n",
       "    .dataframe tbody tr th:only-of-type {\n",
       "        vertical-align: middle;\n",
       "    }\n",
       "\n",
       "    .dataframe tbody tr th {\n",
       "        vertical-align: top;\n",
       "    }\n",
       "\n",
       "    .dataframe thead th {\n",
       "        text-align: right;\n",
       "    }\n",
       "</style>\n",
       "<table border=\"1\" class=\"dataframe\">\n",
       "  <thead>\n",
       "    <tr style=\"text-align: right;\">\n",
       "      <th></th>\n",
       "      <th>A1</th>\n",
       "      <th>A2</th>\n",
       "      <th>A3</th>\n",
       "      <th>truth</th>\n",
       "      <th>age</th>\n",
       "      <th>sex</th>\n",
       "      <th>org</th>\n",
       "    </tr>\n",
       "  </thead>\n",
       "  <tbody>\n",
       "    <tr>\n",
       "      <th>0</th>\n",
       "      <td>0</td>\n",
       "      <td>0</td>\n",
       "      <td>0</td>\n",
       "      <td>0</td>\n",
       "      <td>&gt;=40</td>\n",
       "      <td>female</td>\n",
       "      <td>non-org</td>\n",
       "    </tr>\n",
       "    <tr>\n",
       "      <th>1</th>\n",
       "      <td>1</td>\n",
       "      <td>0</td>\n",
       "      <td>0</td>\n",
       "      <td>1</td>\n",
       "      <td>19-29</td>\n",
       "      <td>male</td>\n",
       "      <td>non-org</td>\n",
       "    </tr>\n",
       "    <tr>\n",
       "      <th>2</th>\n",
       "      <td>1</td>\n",
       "      <td>1</td>\n",
       "      <td>0</td>\n",
       "      <td>1</td>\n",
       "      <td>19-29</td>\n",
       "      <td>male</td>\n",
       "      <td>non-org</td>\n",
       "    </tr>\n",
       "    <tr>\n",
       "      <th>3</th>\n",
       "      <td>0</td>\n",
       "      <td>0</td>\n",
       "      <td>0</td>\n",
       "      <td>0</td>\n",
       "      <td>19-29</td>\n",
       "      <td>male</td>\n",
       "      <td>non-org</td>\n",
       "    </tr>\n",
       "    <tr>\n",
       "      <th>4</th>\n",
       "      <td>1</td>\n",
       "      <td>1</td>\n",
       "      <td>1</td>\n",
       "      <td>1</td>\n",
       "      <td>30-39</td>\n",
       "      <td>female</td>\n",
       "      <td>non-org</td>\n",
       "    </tr>\n",
       "  </tbody>\n",
       "</table>\n",
       "</div>"
      ],
      "text/plain": [
       "   A1  A2  A3  truth    age     sex      org\n",
       "0   0   0   0      0   >=40  female  non-org\n",
       "1   1   0   0      1  19-29    male  non-org\n",
       "2   1   1   0      1  19-29    male  non-org\n",
       "3   0   0   0      0  19-29    male  non-org\n",
       "4   1   1   1      1  30-39  female  non-org"
      ]
     },
     "execution_count": 107,
     "metadata": {},
     "output_type": "execute_result"
    }
   ],
   "source": [
    "M2.head()"
   ]
  },
  {
   "cell_type": "markdown",
   "metadata": {},
   "source": [
    "-----------------------------------------------------------------------------------"
   ]
  },
  {
   "cell_type": "code",
   "execution_count": 108,
   "metadata": {},
   "outputs": [
    {
     "data": {
      "text/html": [
       "        <script type=\"text/javascript\">\n",
       "        window.PlotlyConfig = {MathJaxConfig: 'local'};\n",
       "        if (window.MathJax) {MathJax.Hub.Config({SVG: {font: \"STIX-Web\"}});}\n",
       "        if (typeof require !== 'undefined') {\n",
       "        require.undef(\"plotly\");\n",
       "        requirejs.config({\n",
       "            paths: {\n",
       "                'plotly': ['https://cdn.plot.ly/plotly-latest.min']\n",
       "            }\n",
       "        });\n",
       "        require(['plotly'], function(Plotly) {\n",
       "            window._Plotly = Plotly;\n",
       "        });\n",
       "        }\n",
       "        </script>\n",
       "        "
      ]
     },
     "metadata": {},
     "output_type": "display_data"
    }
   ],
   "source": [
    "# Import libraries\n",
    "import numpy as np\n",
    "import pandas as pd\n",
    "import matplotlib.pyplot as plt\n",
    "import getpass\n",
    "import plotly.graph_objs as go\n",
    "from plotly.offline import iplot, init_notebook_mode\n",
    "import plotly.io as pio\n",
    "from plotly.graph_objs import *\n",
    "\n",
    "# for configuring connection \n",
    "import os\n",
    "\n",
    "%matplotlib inline\n",
    "\n",
    "\n",
    "import os\n",
    "\n",
    "\n",
    "from sklearn import linear_model\n",
    "from sklearn import metrics\n",
    "from sklearn.model_selection import train_test_split\n",
    "\n",
    "#configure the notebook for use in offline mode\n",
    "init_notebook_mode(connected=True)"
   ]
  },
  {
   "cell_type": "code",
   "execution_count": 109,
   "metadata": {},
   "outputs": [
    {
     "data": {
      "text/plain": [
       "A1       0\n",
       "A2       0\n",
       "A3       0\n",
       "truth    0\n",
       "age      0\n",
       "sex      0\n",
       "org      0\n",
       "dtype: int64"
      ]
     },
     "execution_count": 109,
     "metadata": {},
     "output_type": "execute_result"
    }
   ],
   "source": [
    "df=M2\n",
    "missing_values_count = df.isnull().sum()\n",
    "missing_values_count"
   ]
  },
  {
   "cell_type": "code",
   "execution_count": 110,
   "metadata": {},
   "outputs": [
    {
     "data": {
      "text/html": [
       "<div>\n",
       "<style scoped>\n",
       "    .dataframe tbody tr th:only-of-type {\n",
       "        vertical-align: middle;\n",
       "    }\n",
       "\n",
       "    .dataframe tbody tr th {\n",
       "        vertical-align: top;\n",
       "    }\n",
       "\n",
       "    .dataframe thead th {\n",
       "        text-align: right;\n",
       "    }\n",
       "</style>\n",
       "<table border=\"1\" class=\"dataframe\">\n",
       "  <thead>\n",
       "    <tr style=\"text-align: right;\">\n",
       "      <th></th>\n",
       "      <th>A1</th>\n",
       "      <th>A2</th>\n",
       "      <th>A3</th>\n",
       "      <th>truth</th>\n",
       "      <th>age</th>\n",
       "      <th>sex</th>\n",
       "      <th>org</th>\n",
       "    </tr>\n",
       "  </thead>\n",
       "  <tbody>\n",
       "    <tr>\n",
       "      <th>0</th>\n",
       "      <td>0</td>\n",
       "      <td>0</td>\n",
       "      <td>0</td>\n",
       "      <td>0</td>\n",
       "      <td>&gt;=40</td>\n",
       "      <td>female</td>\n",
       "      <td>non-org</td>\n",
       "    </tr>\n",
       "    <tr>\n",
       "      <th>1</th>\n",
       "      <td>1</td>\n",
       "      <td>0</td>\n",
       "      <td>0</td>\n",
       "      <td>1</td>\n",
       "      <td>19-29</td>\n",
       "      <td>male</td>\n",
       "      <td>non-org</td>\n",
       "    </tr>\n",
       "    <tr>\n",
       "      <th>2</th>\n",
       "      <td>1</td>\n",
       "      <td>1</td>\n",
       "      <td>0</td>\n",
       "      <td>1</td>\n",
       "      <td>19-29</td>\n",
       "      <td>male</td>\n",
       "      <td>non-org</td>\n",
       "    </tr>\n",
       "    <tr>\n",
       "      <th>3</th>\n",
       "      <td>0</td>\n",
       "      <td>0</td>\n",
       "      <td>0</td>\n",
       "      <td>0</td>\n",
       "      <td>19-29</td>\n",
       "      <td>male</td>\n",
       "      <td>non-org</td>\n",
       "    </tr>\n",
       "    <tr>\n",
       "      <th>4</th>\n",
       "      <td>1</td>\n",
       "      <td>1</td>\n",
       "      <td>1</td>\n",
       "      <td>1</td>\n",
       "      <td>30-39</td>\n",
       "      <td>female</td>\n",
       "      <td>non-org</td>\n",
       "    </tr>\n",
       "  </tbody>\n",
       "</table>\n",
       "</div>"
      ],
      "text/plain": [
       "  A1 A2 A3 truth    age     sex      org\n",
       "0  0  0  0     0   >=40  female  non-org\n",
       "1  1  0  0     1  19-29    male  non-org\n",
       "2  1  1  0     1  19-29    male  non-org\n",
       "3  0  0  0     0  19-29    male  non-org\n",
       "4  1  1  1     1  30-39  female  non-org"
      ]
     },
     "execution_count": 110,
     "metadata": {},
     "output_type": "execute_result"
    }
   ],
   "source": [
    "#df= df[df['hour']!='dummy']\n",
    "df['A1']=df['A1'].astype(\"category\")\n",
    "df['A2']=df['A2'].astype(\"category\")\n",
    "df['A3']=df['A3'].astype(\"category\")\n",
    "df['sex']=df['sex'].astype(\"category\")\n",
    "df['age']=df['age'].astype(\"category\")\n",
    "df['org']=df['org'].astype(\"category\")\n",
    "df['truth']=df['truth'].astype(\"category\")\n",
    "#df['hour']=df['hour'].astype(\"int\")\n",
    "df.head()"
   ]
  },
  {
   "cell_type": "code",
   "execution_count": 111,
   "metadata": {},
   "outputs": [],
   "source": [
    "df= df[df['truth']!=5]\n",
    "df= df[df['A1']!=5]\n",
    "df= df[df['A2']!=5]\n",
    "df= df[df['A3']!=5]\n"
   ]
  },
  {
   "cell_type": "code",
   "execution_count": 112,
   "metadata": {},
   "outputs": [
    {
     "data": {
      "text/plain": [
       "[0, 1]\n",
       "Categories (2, int64): [0, 1]"
      ]
     },
     "execution_count": 112,
     "metadata": {},
     "output_type": "execute_result"
    }
   ],
   "source": [
    "df['truth'].unique()"
   ]
  },
  {
   "cell_type": "code",
   "execution_count": 113,
   "metadata": {},
   "outputs": [],
   "source": [
    "df['truth']=np.where(df['truth'] ==1, 'YY', df['truth'])\n",
    "df['truth']=np.where(df['truth'] =='2', 'YN', df['truth'])\n",
    "df['truth']=np.where(df['truth'] =='3', 'NY', df['truth'])\n",
    "df['truth']=np.where(df['truth'] =='4', 'NN', df['truth'])\n",
    "#df['truth']=np.where(df['truth'] =='5', 'NC', df['truth'])"
   ]
  },
  {
   "cell_type": "code",
   "execution_count": 114,
   "metadata": {},
   "outputs": [
    {
     "data": {
      "text/html": [
       "<div>\n",
       "<style scoped>\n",
       "    .dataframe tbody tr th:only-of-type {\n",
       "        vertical-align: middle;\n",
       "    }\n",
       "\n",
       "    .dataframe tbody tr th {\n",
       "        vertical-align: top;\n",
       "    }\n",
       "\n",
       "    .dataframe thead th {\n",
       "        text-align: right;\n",
       "    }\n",
       "</style>\n",
       "<table border=\"1\" class=\"dataframe\">\n",
       "  <thead>\n",
       "    <tr style=\"text-align: right;\">\n",
       "      <th></th>\n",
       "      <th>truth</th>\n",
       "      <th>A1_0</th>\n",
       "      <th>A1_1</th>\n",
       "      <th>A2_0</th>\n",
       "      <th>A2_1</th>\n",
       "      <th>A3_0</th>\n",
       "      <th>A3_1</th>\n",
       "      <th>age_19-29</th>\n",
       "      <th>age_30-39</th>\n",
       "      <th>age_&lt;=18</th>\n",
       "      <th>age_&gt;=40</th>\n",
       "      <th>sex_female</th>\n",
       "      <th>sex_male</th>\n",
       "      <th>org_is-org</th>\n",
       "      <th>org_non-org</th>\n",
       "    </tr>\n",
       "  </thead>\n",
       "  <tbody>\n",
       "    <tr>\n",
       "      <th>0</th>\n",
       "      <td>0</td>\n",
       "      <td>1</td>\n",
       "      <td>0</td>\n",
       "      <td>1</td>\n",
       "      <td>0</td>\n",
       "      <td>1</td>\n",
       "      <td>0</td>\n",
       "      <td>0</td>\n",
       "      <td>0</td>\n",
       "      <td>0</td>\n",
       "      <td>1</td>\n",
       "      <td>1</td>\n",
       "      <td>0</td>\n",
       "      <td>0</td>\n",
       "      <td>1</td>\n",
       "    </tr>\n",
       "    <tr>\n",
       "      <th>1</th>\n",
       "      <td>YY</td>\n",
       "      <td>0</td>\n",
       "      <td>1</td>\n",
       "      <td>1</td>\n",
       "      <td>0</td>\n",
       "      <td>1</td>\n",
       "      <td>0</td>\n",
       "      <td>1</td>\n",
       "      <td>0</td>\n",
       "      <td>0</td>\n",
       "      <td>0</td>\n",
       "      <td>0</td>\n",
       "      <td>1</td>\n",
       "      <td>0</td>\n",
       "      <td>1</td>\n",
       "    </tr>\n",
       "    <tr>\n",
       "      <th>2</th>\n",
       "      <td>YY</td>\n",
       "      <td>0</td>\n",
       "      <td>1</td>\n",
       "      <td>0</td>\n",
       "      <td>1</td>\n",
       "      <td>1</td>\n",
       "      <td>0</td>\n",
       "      <td>1</td>\n",
       "      <td>0</td>\n",
       "      <td>0</td>\n",
       "      <td>0</td>\n",
       "      <td>0</td>\n",
       "      <td>1</td>\n",
       "      <td>0</td>\n",
       "      <td>1</td>\n",
       "    </tr>\n",
       "    <tr>\n",
       "      <th>3</th>\n",
       "      <td>0</td>\n",
       "      <td>1</td>\n",
       "      <td>0</td>\n",
       "      <td>1</td>\n",
       "      <td>0</td>\n",
       "      <td>1</td>\n",
       "      <td>0</td>\n",
       "      <td>1</td>\n",
       "      <td>0</td>\n",
       "      <td>0</td>\n",
       "      <td>0</td>\n",
       "      <td>0</td>\n",
       "      <td>1</td>\n",
       "      <td>0</td>\n",
       "      <td>1</td>\n",
       "    </tr>\n",
       "    <tr>\n",
       "      <th>4</th>\n",
       "      <td>YY</td>\n",
       "      <td>0</td>\n",
       "      <td>1</td>\n",
       "      <td>0</td>\n",
       "      <td>1</td>\n",
       "      <td>0</td>\n",
       "      <td>1</td>\n",
       "      <td>0</td>\n",
       "      <td>1</td>\n",
       "      <td>0</td>\n",
       "      <td>0</td>\n",
       "      <td>1</td>\n",
       "      <td>0</td>\n",
       "      <td>0</td>\n",
       "      <td>1</td>\n",
       "    </tr>\n",
       "  </tbody>\n",
       "</table>\n",
       "</div>"
      ],
      "text/plain": [
       "  truth  A1_0  A1_1  A2_0  A2_1  A3_0  A3_1  age_19-29  age_30-39  age_<=18  \\\n",
       "0     0     1     0     1     0     1     0          0          0         0   \n",
       "1    YY     0     1     1     0     1     0          1          0         0   \n",
       "2    YY     0     1     0     1     1     0          1          0         0   \n",
       "3     0     1     0     1     0     1     0          1          0         0   \n",
       "4    YY     0     1     0     1     0     1          0          1         0   \n",
       "\n",
       "   age_>=40  sex_female  sex_male  org_is-org  org_non-org  \n",
       "0         1           1         0           0            1  \n",
       "1         0           0         1           0            1  \n",
       "2         0           0         1           0            1  \n",
       "3         0           0         1           0            1  \n",
       "4         0           1         0           0            1  "
      ]
     },
     "execution_count": 114,
     "metadata": {},
     "output_type": "execute_result"
    }
   ],
   "source": [
    "df = pd.get_dummies(df, prefix=['A1', 'A2', 'A3',  'age', 'sex', 'org'], columns=['A1', 'A2', 'A3', 'age', 'sex', 'org'], drop_first=False)\n",
    "df.head()"
   ]
  },
  {
   "cell_type": "code",
   "execution_count": 115,
   "metadata": {},
   "outputs": [],
   "source": [
    "import re\n",
    "regex = re.compile(r\"\\[|\\]|<|>\", re.IGNORECASE)\n",
    " \n",
    "df.columns = [regex.sub(\"_\", col) if any(x in str(col) for x in set(('[', ']', '<', '>'))) else col for col in df.columns.values]\n",
    "X=df.drop('truth', 1)\n",
    "y=df['truth']\n",
    "df_cols = list(X)"
   ]
  },
  {
   "cell_type": "code",
   "execution_count": 116,
   "metadata": {},
   "outputs": [
    {
     "data": {
      "text/plain": [
       "Index(['truth', 'A1_0', 'A1_1', 'A2_0', 'A2_1', 'A3_0', 'A3_1', 'age_19-29',\n",
       "       'age_30-39', 'age__=18', 'age__=40', 'sex_female', 'sex_male',\n",
       "       'org_is-org', 'org_non-org'],\n",
       "      dtype='object')"
      ]
     },
     "execution_count": 116,
     "metadata": {},
     "output_type": "execute_result"
    }
   ],
   "source": [
    "df.columns"
   ]
  },
  {
   "cell_type": "code",
   "execution_count": 117,
   "metadata": {},
   "outputs": [
    {
     "data": {
      "text/plain": [
       "0"
      ]
     },
     "execution_count": 117,
     "metadata": {},
     "output_type": "execute_result"
    }
   ],
   "source": [
    "df.isnull().values.sum()"
   ]
  },
  {
   "cell_type": "code",
   "execution_count": 121,
   "metadata": {},
   "outputs": [
    {
     "name": "stderr",
     "output_type": "stream",
     "text": [
      "/Users/zahrashakeri/opt/anaconda3/lib/python3.8/site-packages/sklearn/base.py:209: FutureWarning:\n",
      "\n",
      "From version 0.24, get_params will raise an AttributeError if a parameter cannot be retrieved as an instance attribute. Previously it would return None.\n",
      "\n"
     ]
    },
    {
     "data": {
      "image/png": "[encoded data removed]",
      "text/plain": [
       "<Figure size 432x288 with 1 Axes>"
      ]
     },
     "metadata": {
      "needs_background": "light"
     },
     "output_type": "display_data"
    },
    {
     "name": "stdout",
     "output_type": "stream",
     "text": [
      "For fold 1:\n",
      "Accuracy: 0.8353365384615384\n",
      "f-score: 0.8353365384615385\n",
      "                   pre       rec       spe        f1       geo       iba       sup\n",
      "\n",
      "          0       0.81      0.93      0.71      0.87      0.81      0.67       957\n",
      "         YY       0.88      0.71      0.93      0.79      0.81      0.64       707\n",
      "\n",
      "avg / total       0.84      0.84      0.80      0.83      0.81      0.66      1664\n",
      "\n"
     ]
    },
    {
     "name": "stderr",
     "output_type": "stream",
     "text": [
      "/Users/zahrashakeri/opt/anaconda3/lib/python3.8/site-packages/sklearn/base.py:209: FutureWarning:\n",
      "\n",
      "From version 0.24, get_params will raise an AttributeError if a parameter cannot be retrieved as an instance attribute. Previously it would return None.\n",
      "\n"
     ]
    },
    {
     "data": {
      "image/png": "[encoded data removed]",
      "text/plain": [
       "<Figure size 432x288 with 1 Axes>"
      ]
     },
     "metadata": {
      "needs_background": "light"
     },
     "output_type": "display_data"
    },
    {
     "name": "stdout",
     "output_type": "stream",
     "text": [
      "For fold 2:\n",
      "Accuracy: 0.8509615384615384\n",
      "f-score: 0.8509615384615384\n",
      "                   pre       rec       spe        f1       geo       iba       sup\n",
      "\n",
      "          0       0.83      0.95      0.70      0.89      0.81      0.68      1023\n",
      "         YY       0.89      0.70      0.95      0.78      0.81      0.64       641\n",
      "\n",
      "avg / total       0.86      0.85      0.79      0.85      0.81      0.66      1664\n",
      "\n"
     ]
    }
   ],
   "source": [
    "from sklearn.model_selection import KFold\n",
    "from sklearn import preprocessing\n",
    "from sklearn.metrics import f1_score\n",
    "from yellowbrick.classifier import ROCAUC\n",
    "from sklearn.linear_model import LogisticRegression\n",
    "from imblearn.metrics import classification_report_imbalanced\n",
    "classes=['Y','N']\n",
    "\n",
    "\n",
    "kf = KFold(n_splits=2)\n",
    "\n",
    "for fold, (train_index, test_index) in enumerate(kf.split(X), 1):\n",
    "    X_train = X.iloc[train_index]\n",
    "    y_train = y.iloc[train_index]  # Based on your code, you might need a ravel call here, but I would look into how you're generating your y\n",
    "    X_test = X.iloc[test_index]\n",
    "    y_test = y.iloc[test_index]  # See comment on ravel and  y_train\n",
    "    \n",
    "    \n",
    "    model = linear_model.LogisticRegression(C= 2.5,max_iter= 66,tol= 6.75e-05) \n",
    "    model.fit(X_train, y_train)  \n",
    "    y_pred = model.predict(X_test)\n",
    "    visualizer = ROCAUC(model, classes=classes)\n",
    "    visualizer.fit(X_train, y_train)  # Fit the training data to the visualizer\n",
    "    visualizer.score(X_test, y_test)  # Evaluate the model on the test data\n",
    "    visualizer.poof() \n",
    "    print(f'For fold {fold}:')\n",
    "    print(f'Accuracy: {model.score(X_test, y_test)}')\n",
    "    f1=f1_score(y_test, y_pred, average='micro')\n",
    "    print(f'f-score: {f1}')\n",
    "    print(classification_report_imbalanced(y_test, y_pred))\n",
    "       "
   ]
  },
  {
   "cell_type": "code",
   "execution_count": 122,
   "metadata": {},
   "outputs": [
    {
     "data": {
      "image/png": "[encoded data removed]",
      "text/plain": [
       "<Figure size 432x288 with 2 Axes>"
      ]
     },
     "metadata": {
      "needs_background": "light"
     },
     "output_type": "display_data"
    }
   ],
   "source": [
    "from sklearn.metrics import confusion_matrix\n",
    "import matplotlib.pyplot as plt\n",
    "import itertools\n",
    "matrix = confusion_matrix(y_test,y_pred)\n",
    "class_names=['N','Y']\n",
    "\n",
    "plt.clf()\n",
    "\n",
    "# place labels at the top\n",
    "plt.gca().xaxis.tick_top()\n",
    "plt.gca().xaxis.set_label_position('top')\n",
    "\n",
    "# plot the matrix per se\n",
    "plt.imshow(matrix, interpolation='nearest', cmap=plt.cm.Blues)\n",
    "\n",
    "# plot colorbar to the right\n",
    "plt.colorbar()\n",
    "\n",
    "fmt = 'd'\n",
    "\n",
    "# write the number of predictions in each bucket\n",
    "thresh = matrix.max() / 2.\n",
    "for i, j in itertools.product(range(matrix.shape[0]), range(matrix.shape[1])):\n",
    "\n",
    "    # if background is dark, use a white number, and vice-versa\n",
    "    plt.text(j, i, format(matrix[i, j], fmt),\n",
    "         horizontalalignment=\"center\",\n",
    "         color=\"white\" if matrix[i, j] > thresh else \"black\")\n",
    "\n",
    "tick_marks = np.arange(len(class_names))\n",
    "plt.xticks(tick_marks, class_names, rotation=45)\n",
    "plt.yticks(tick_marks, class_names)\n",
    "plt.tight_layout()\n",
    "plt.ylabel('True label',size=14)\n",
    "plt.xlabel('Predicted label',size=14)\n",
    "plt.show()"
   ]
  },
  {
   "cell_type": "markdown",
   "metadata": {},
   "source": [
    "---------------------------------------"
   ]
  },
  {
   "cell_type": "markdown",
   "metadata": {},
   "source": [
    "## Random Forest"
   ]
  },
  {
   "cell_type": "code",
   "execution_count": 96,
   "metadata": {},
   "outputs": [
    {
     "name": "stderr",
     "output_type": "stream",
     "text": [
      "/Users/zahrashakeri/opt/anaconda3/lib/python3.8/site-packages/sklearn/base.py:209: FutureWarning:\n",
      "\n",
      "From version 0.24, get_params will raise an AttributeError if a parameter cannot be retrieved as an instance attribute. Previously it would return None.\n",
      "\n"
     ]
    },
    {
     "name": "stdout",
     "output_type": "stream",
     "text": [
      "For fold 1:\n",
      "Accuracy: 0.8245192307692307\n",
      "f-score: 0.8245192307692307\n",
      "                   pre       rec       spe        f1       geo       iba       sup\n",
      "\n",
      "          0       0.81      0.91      0.71      0.86      0.80      0.66       957\n",
      "         YY       0.85      0.71      0.91      0.77      0.80      0.63       707\n",
      "\n",
      "avg / total       0.83      0.82      0.79      0.82      0.80      0.65      1664\n",
      "\n"
     ]
    },
    {
     "name": "stderr",
     "output_type": "stream",
     "text": [
      "/Users/zahrashakeri/opt/anaconda3/lib/python3.8/site-packages/sklearn/base.py:209: FutureWarning:\n",
      "\n",
      "From version 0.24, get_params will raise an AttributeError if a parameter cannot be retrieved as an instance attribute. Previously it would return None.\n",
      "\n"
     ]
    },
    {
     "name": "stdout",
     "output_type": "stream",
     "text": [
      "For fold 2:\n",
      "Accuracy: 0.8395432692307693\n",
      "f-score: 0.8395432692307693\n",
      "                   pre       rec       spe        f1       geo       iba       sup\n",
      "\n",
      "          0       0.85      0.90      0.74      0.87      0.82      0.68      1023\n",
      "         YY       0.82      0.74      0.90      0.78      0.82      0.66       641\n",
      "\n",
      "avg / total       0.84      0.84      0.80      0.84      0.82      0.67      1664\n",
      "\n"
     ]
    },
    {
     "data": {
      "text/plain": [
       "<Figure size 432x288 with 0 Axes>"
      ]
     },
     "metadata": {},
     "output_type": "display_data"
    }
   ],
   "source": [
    "from sklearn.model_selection import KFold\n",
    "from sklearn import preprocessing\n",
    "from sklearn.metrics import f1_score\n",
    "from yellowbrick.classifier import ROCAUC\n",
    "from sklearn.linear_model import LogisticRegression\n",
    "from imblearn.metrics import classification_report_imbalanced\n",
    "from sklearn.ensemble import RandomForestClassifier\n",
    "classes=['N','Y']\n",
    "\n",
    "\n",
    "kf = KFold(n_splits=2)\n",
    "\n",
    "for fold, (train_index, test_index) in enumerate(kf.split(X), 1):\n",
    "    X_train = X.iloc[train_index]\n",
    "    y_train = y.iloc[train_index]  # Based on your code, you might need a ravel call here, but I would look into how you're generating your y\n",
    "    X_test = X.iloc[test_index]\n",
    "    y_test = y.iloc[test_index]  # See comment on ravel and  y_train\n",
    "\n",
    "\n",
    "\n",
    "    model = RandomForestClassifier(n_estimators=400, max_depth= 30, max_features=0.5, criterion='gini', min_samples_split=20) \n",
    "    model.fit(X_train, y_train)  \n",
    "    y_pred = model.predict(X_test)\n",
    "    visualizer = ROCAUC(model, classes=classes)\n",
    "    visualizer.fit(X_train, y_train)  # Fit the training data to the visualizer\n",
    "    visualizer.score(X_test, y_test)  # Evaluate the model on the test data\n",
    "    visualizer.poof(\"RF_Unbalanced_{}.pdf\".format(fold), clear_figure=True) \n",
    "    print(f'For fold {fold}:')\n",
    "    print(f'Accuracy: {model.score(X_test, y_test)}')\n",
    "    f1=f1_score(y_test, y_pred, average='micro')\n",
    "    print(f'f-score: {f1}')\n",
    "    print(classification_report_imbalanced(y_test, y_pred))"
   ]
  },
  {
   "cell_type": "code",
   "execution_count": 97,
   "metadata": {},
   "outputs": [
    {
     "data": {
      "text/plain": [
       "Index(['truth', 'A1_0', 'A1_1', 'A2_0', 'A2_1', 'A3_0', 'A3_1', 'age_19-29',\n",
       "       'age_30-39', 'age__=18', 'age__=40', 'sex_female', 'sex_male',\n",
       "       'org_is-org', 'org_non-org'],\n",
       "      dtype='object')"
      ]
     },
     "execution_count": 97,
     "metadata": {},
     "output_type": "execute_result"
    }
   ],
   "source": [
    "df.columns"
   ]
  },
  {
   "cell_type": "markdown",
   "metadata": {},
   "source": [
    "------------------\n",
    "\n",
    "## XGBoost"
   ]
  },
  {
   "cell_type": "code",
   "execution_count": 98,
   "metadata": {},
   "outputs": [
    {
     "name": "stderr",
     "output_type": "stream",
     "text": [
      "/Users/zahrashakeri/opt/anaconda3/lib/python3.8/site-packages/sklearn/base.py:209: FutureWarning:\n",
      "\n",
      "From version 0.24, get_params will raise an AttributeError if a parameter cannot be retrieved as an instance attribute. Previously it would return None.\n",
      "\n"
     ]
    },
    {
     "name": "stdout",
     "output_type": "stream",
     "text": [
      "For fold 1:\n",
      "Accuracy: 0.8293269230769231\n",
      "f-score: 0.8293269230769231\n",
      "                   pre       rec       spe        f1       geo       iba       sup\n",
      "\n",
      "          0       0.81      0.91      0.72      0.86      0.81      0.67       957\n",
      "         YY       0.86      0.72      0.91      0.78      0.81      0.64       707\n",
      "\n",
      "avg / total       0.83      0.83      0.80      0.83      0.81      0.66      1664\n",
      "\n"
     ]
    },
    {
     "name": "stderr",
     "output_type": "stream",
     "text": [
      "/Users/zahrashakeri/opt/anaconda3/lib/python3.8/site-packages/sklearn/base.py:209: FutureWarning:\n",
      "\n",
      "From version 0.24, get_params will raise an AttributeError if a parameter cannot be retrieved as an instance attribute. Previously it would return None.\n",
      "\n"
     ]
    },
    {
     "name": "stdout",
     "output_type": "stream",
     "text": [
      "For fold 2:\n",
      "Accuracy: 0.8347355769230769\n",
      "f-score: 0.8347355769230769\n",
      "                   pre       rec       spe        f1       geo       iba       sup\n",
      "\n",
      "          0       0.84      0.90      0.73      0.87      0.81      0.67      1023\n",
      "         YY       0.82      0.73      0.90      0.77      0.81      0.65       641\n",
      "\n",
      "avg / total       0.83      0.83      0.80      0.83      0.81      0.66      1664\n",
      "\n"
     ]
    },
    {
     "data": {
      "text/plain": [
       "<Figure size 432x288 with 0 Axes>"
      ]
     },
     "metadata": {},
     "output_type": "display_data"
    }
   ],
   "source": [
    "from sklearn.model_selection import KFold\n",
    "from sklearn import preprocessing\n",
    "from sklearn.metrics import f1_score\n",
    "from yellowbrick.classifier import ROCAUC\n",
    "from xgboost import XGBClassifier\n",
    "from imblearn.metrics import classification_report_imbalanced\n",
    "from sklearn.ensemble import RandomForestClassifier\n",
    "classes=['Y','N']\n",
    "\n",
    "\n",
    "kf = KFold(n_splits=2)\n",
    "\n",
    "for fold, (train_index, test_index) in enumerate(kf.split(X), 1):\n",
    "    X_train = X.iloc[train_index]\n",
    "    y_train = y.iloc[train_index]  # Based on your code, you might need a ravel call here, but I would look into how you're generating your y\n",
    "    X_test = X.iloc[test_index]\n",
    "    y_test = y.iloc[test_index]  # See comment on ravel and  y_train\n",
    "\n",
    "    model = XGBClassifier(max_depth=8, gamma=0.063, colsample_bytree=0.71)\n",
    "    model.fit(X_train, y_train)  \n",
    "    y_pred = model.predict(X_test)\n",
    "    visualizer = ROCAUC(model, classes=classes)\n",
    "    visualizer.fit(X_train, y_train)  # Fit the training data to the visualizer\n",
    "    visualizer.score(X_test, y_test)  # Evaluate the model on the test data\n",
    "    visualizer.poof(\"XGB_Unbalanced_{}.pdf\".format(fold), clear_figure=True) \n",
    "    print(f'For fold {fold}:')\n",
    "    print(f'Accuracy: {model.score(X_test, y_test)}')\n",
    "    f1=f1_score(y_test, y_pred, average='micro')\n",
    "    print(f'f-score: {f1}')\n",
    "    print(classification_report_imbalanced(y_test, y_pred))"
   ]
  },
  {
   "cell_type": "code",
   "execution_count": null,
   "metadata": {},
   "outputs": [],
   "source": []
  }
 ],
 "metadata": {
  "kernelspec": {
   "display_name": "Python 3",
   "language": "python",
   "name": "python3"
  },
  "language_info": {
   "codemirror_mode": {
    "name": "ipython",
    "version": 3
   },
   "file_extension": ".py",
   "mimetype": "text/x-python",
   "name": "python",
   "nbconvert_exporter": "python",
   "pygments_lexer": "ipython3",
   "version": "3.8.10"
  }
 },
 "nbformat": 4,
 "nbformat_minor": 4
}
